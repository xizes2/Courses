{
 "cells": [
  {
   "cell_type": "markdown",
   "metadata": {},
   "source": [
    "# The Data"
   ]
  },
  {
   "cell_type": "markdown",
   "metadata": {},
   "source": [
    "## We´ll be using mainly 3 data sources: "
   ]
  },
  {
   "cell_type": "markdown",
   "metadata": {},
   "source": [
    "### -The foursquare API\n",
    "\n",
    "#### Description:\n",
    "The foursquare API will provide us with the neighborhoods´ venues, their category and location. \n",
    "\n",
    "#### Use:\n",
    "\n",
    "We´ll use that information to cluster a number of neighborhoods together. After that we´ll separate the clusters into different dataframes so it´s clear and easy for the stakeholders to make their decisions.\n",
    "\n",
    "We´ll also plot the clusters´ labels on the map so anyone can rapidly identify the similarity between neighborhoods."
   ]
  },
  {
   "cell_type": "markdown",
   "metadata": {},
   "source": [
    "### -https://www.bcn.cat/estadistica/castella/dades/timm/ipreus/habllo/a2020/tbarris2.htm\n",
    "\n",
    "#### Description:\n",
    "\n",
    "This table, provided by the statstics´ city hall website, have the monthly average prices per square meter. This will be our source in order to get the rental prices for each neighborhood in Barcelona city.\n",
    "\n",
    "#### Use:\n",
    "\n",
    "We´ll be using this table to plot the prices on the map, so the stakeholders can easily see it."
   ]
  },
  {
   "cell_type": "markdown",
   "metadata": {},
   "source": [
    "### -http://www.bcn.cat/estadistica/catala/dades/anuari/Anuari2020_AAFF.pdf\n",
    "\n",
    "#### Description:\n",
    "This pdf is the Annual Statistics Report for the city of Barcelona. It encompasses many different information about the city. \n",
    "\n",
    "The one we´re after is on page 213, where we have the criminality rates for the boroughs of the city. The numbers we´ll be using are the \"whole\" numbers of criminality rates. That means that we won´t explode the numbers into the specific crimes, because, in our opinion, it would prejudice visualization and comprehensiveness of the work.\n",
    "\n",
    "#### Use:\n",
    "\n",
    "We´ll also use these numbers on our final dataframe as well as plot them onto the map."
   ]
  }
 ],
 "metadata": {
  "kernelspec": {
   "display_name": "Python 3",
   "language": "python",
   "name": "python3"
  },
  "language_info": {
   "codemirror_mode": {
    "name": "ipython",
    "version": 3
   },
   "file_extension": ".py",
   "mimetype": "text/x-python",
   "name": "python",
   "nbconvert_exporter": "python",
   "pygments_lexer": "ipython3",
   "version": "3.8.3"
  }
 },
 "nbformat": 4,
 "nbformat_minor": 4
}
