{
 "cells": [
  {
   "cell_type": "markdown",
   "metadata": {},
   "source": [
    "# Introduction / Problem / Proposal"
   ]
  },
  {
   "cell_type": "markdown",
   "metadata": {},
   "source": [
    "## How can the public administration guide Barcelona city towards a more equal and pleasant city for it´s citizens?"
   ]
  },
  {
   "cell_type": "markdown",
   "metadata": {},
   "source": [
    "We know that cities are not all the same. Their configuration is unequal, the number and types of venues, the public spaces for leisure activities, the criminality rates, the rental prices all of these aspects are different and in some part that represents a better or worse quality of live for the individuals and families as well as for the comunity as a whole.\n",
    "\n",
    "If the public authority have up-to-date information about how the neighborhoods are configured and the metrics that are relevant in order to orient the public policies it can make the best decisions aiming to provide a better distributed city to all.\n",
    "\n",
    "A more equally distributed city would improve the general quality of life. People wouldn´t need to go far away from their homes to work, to entertainment, to shop, to have family time, in short, to live. And that would reflect on smaller traffic jams, better air quality, healthier ways of transportation, growth of the local neighborhood economy, less time on the way and more time doing the things you like/need."
   ]
  },
  {
   "cell_type": "markdown",
   "metadata": {},
   "source": [
    "### Possible stakeholders: "
   ]
  },
  {
   "cell_type": "markdown",
   "metadata": {},
   "source": [
    "- Public administration\n",
    "- Civil society groups who are interested in different aspects of the city and it´s relations\n",
    "- Individuals who are considering buying an appartment or opening a business in Barcelona"
   ]
  },
  {
   "cell_type": "markdown",
   "metadata": {},
   "source": [
    "### Metrics that will be raised:"
   ]
  },
  {
   "cell_type": "markdown",
   "metadata": {},
   "source": [
    "- Venues quantity and categories per neighborhood.\n",
    "- Appartments rental prices per neighborhood.\n",
    "- Criminality rates per borough."
   ]
  },
  {
   "cell_type": "markdown",
   "metadata": {},
   "source": [
    "### Methodology:"
   ]
  },
  {
   "cell_type": "markdown",
   "metadata": {},
   "source": [
    "The final work will have 2 parts.\n",
    "\n",
    "One part will compare the neighborhoods´ venues using clustering and show it on a dataframe format.\n",
    "\n",
    "The other part will consist on plotting on Barcelona´s map the similar neighborhood clusters, as well as the rental prices per sq. meter and the criminality rates for the borough that contains the neighborhood.\n",
    "\n",
    "Extra: we´ll also try to use machine learning in order to predict the future prices and crimilaity rates."
   ]
  },
  {
   "cell_type": "markdown",
   "metadata": {},
   "source": [
    "### Objectives:"
   ]
  },
  {
   "cell_type": "markdown",
   "metadata": {},
   "source": [
    "The main objective of this work is to provide the stakeholders with relevant information to decision making.\n",
    "\n",
    "Practical examples:\n",
    "- Public Power - explore the final result in order to see what are the neighborhoods with fewer number os public squares (green area) in order to plan the construction of new ones.\n",
    "- Civil Society Groups - know what areas of the city are under real state speculation in order to plan actions against it.\n",
    "- Individuals - to someone that might be studying where to buy an appartment, he´d be able to visualize various aspects of the city in one map."
   ]
  }
 ],
 "metadata": {
  "kernelspec": {
   "display_name": "Python 3",
   "language": "python",
   "name": "python3"
  },
  "language_info": {
   "codemirror_mode": {
    "name": "ipython",
    "version": 3
   },
   "file_extension": ".py",
   "mimetype": "text/x-python",
   "name": "python",
   "nbconvert_exporter": "python",
   "pygments_lexer": "ipython3",
   "version": "3.8.3"
  }
 },
 "nbformat": 4,
 "nbformat_minor": 4
}
