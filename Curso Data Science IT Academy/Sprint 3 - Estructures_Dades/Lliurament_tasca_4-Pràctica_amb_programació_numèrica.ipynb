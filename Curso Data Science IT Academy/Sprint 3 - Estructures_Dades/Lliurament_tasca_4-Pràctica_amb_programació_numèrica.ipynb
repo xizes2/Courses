{
 "cells": [
  {
   "cell_type": "markdown",
   "metadata": {},
   "source": [
    "# Nivell 1"
   ]
  },
  {
   "cell_type": "markdown",
   "metadata": {},
   "source": [
    "## Exercici 1"
   ]
  },
  {
   "cell_type": "markdown",
   "metadata": {},
   "source": [
    "#### Crea una funció que donat un Array d’una dimensió, et faci un resum estadístic bàsic de les dades. Si detecta que l’array té més d’una dimensió, ha de mostrar un missatge d’error."
   ]
  },
  {
   "cell_type": "code",
   "execution_count": 1,
   "metadata": {
    "ExecuteTime": {
     "end_time": "2021-04-15T07:11:43.456323Z",
     "start_time": "2021-04-15T07:11:42.384529Z"
    }
   },
   "outputs": [],
   "source": [
    "import numpy as np\n",
    "import random"
   ]
  },
  {
   "cell_type": "code",
   "execution_count": 2,
   "metadata": {
    "ExecuteTime": {
     "end_time": "2021-04-15T07:11:43.495330Z",
     "start_time": "2021-04-15T07:11:43.472324Z"
    }
   },
   "outputs": [],
   "source": [
    "def basicStat(array):\n",
    "    if len(array.shape) > 1:\n",
    "        print(f'Error. This array is multidimension: \\n{array}\\nshape: {array.shape}')\n",
    "    else:\n",
    "        print(f'This is your array: {array}. \\nHere´s the min: {array.min()}, \\nmean: {array.mean()}, \\nmax: {array.max()}, \\nstd: {array.std()}, \\nvar: {array.var()}')"
   ]
  },
  {
   "cell_type": "code",
   "execution_count": 3,
   "metadata": {
    "ExecuteTime": {
     "end_time": "2021-04-15T07:11:43.557346Z",
     "start_time": "2021-04-15T07:11:43.521337Z"
    }
   },
   "outputs": [],
   "source": [
    "arr_1 = np.random.randint(0, 50, 12)\n",
    "arr_2 = np.random.randint(0, 50, 12) \n",
    "arr_3 = np.random.randint(0, 50, 12).reshape(4, 3)"
   ]
  },
  {
   "cell_type": "code",
   "execution_count": 4,
   "metadata": {
    "ExecuteTime": {
     "end_time": "2021-04-15T07:11:43.633366Z",
     "start_time": "2021-04-15T07:11:43.571350Z"
    }
   },
   "outputs": [
    {
     "data": {
      "text/plain": [
       "array([[28, 25, 11],\n",
       "       [26, 42, 26],\n",
       "       [23, 16,  7],\n",
       "       [30, 42, 33]])"
      ]
     },
     "execution_count": 4,
     "metadata": {},
     "output_type": "execute_result"
    }
   ],
   "source": [
    "arr_3"
   ]
  },
  {
   "cell_type": "code",
   "execution_count": 5,
   "metadata": {
    "ExecuteTime": {
     "end_time": "2021-04-15T07:11:43.883542Z",
     "start_time": "2021-04-15T07:11:43.642367Z"
    }
   },
   "outputs": [
    {
     "name": "stdout",
     "output_type": "stream",
     "text": [
      "This is your array: [13 23 21 37 23 34 36 25 21 21 26 37]. \n",
      "Here´s the min: 13, \n",
      "mean: 26.416666666666668, \n",
      "max: 37, \n",
      "std: 7.454957336490189, \n",
      "var: 55.57638888888889\n"
     ]
    }
   ],
   "source": [
    "basicStat(arr_1)"
   ]
  },
  {
   "cell_type": "code",
   "execution_count": 6,
   "metadata": {
    "ExecuteTime": {
     "end_time": "2021-04-15T07:11:44.087289Z",
     "start_time": "2021-04-15T07:11:43.897637Z"
    }
   },
   "outputs": [
    {
     "name": "stdout",
     "output_type": "stream",
     "text": [
      "This is your array: [25 46 31 42 49 22  0 45 14 17 30 47]. \n",
      "Here´s the min: 0, \n",
      "mean: 30.666666666666668, \n",
      "max: 49, \n",
      "std: 14.957346764123049, \n",
      "var: 223.72222222222226\n"
     ]
    }
   ],
   "source": [
    "basicStat(arr_2)"
   ]
  },
  {
   "cell_type": "code",
   "execution_count": 7,
   "metadata": {
    "ExecuteTime": {
     "end_time": "2021-04-15T07:11:44.133300Z",
     "start_time": "2021-04-15T07:11:44.104293Z"
    }
   },
   "outputs": [
    {
     "name": "stdout",
     "output_type": "stream",
     "text": [
      "Error. This array is multidimension: \n",
      "[[28 25 11]\n",
      " [26 42 26]\n",
      " [23 16  7]\n",
      " [30 42 33]]\n",
      "shape: (4, 3)\n"
     ]
    }
   ],
   "source": [
    "basicStat(arr_3)"
   ]
  },
  {
   "cell_type": "markdown",
   "metadata": {},
   "source": [
    "## Exercici 2"
   ]
  },
  {
   "cell_type": "markdown",
   "metadata": {},
   "source": [
    "#### Crea una funció que et generi un quadrat NxN de nombres aleatoris entre el 0 i el 100."
   ]
  },
  {
   "cell_type": "code",
   "execution_count": 8,
   "metadata": {
    "ExecuteTime": {
     "end_time": "2021-04-15T07:11:44.164306Z",
     "start_time": "2021-04-15T07:11:44.150307Z"
    }
   },
   "outputs": [],
   "source": [
    "def matrixGenerator(num):\n",
    "    return np.random.randint(0, 100, num*num).reshape(num, num)"
   ]
  },
  {
   "cell_type": "code",
   "execution_count": 9,
   "metadata": {
    "ExecuteTime": {
     "end_time": "2021-04-15T07:11:44.330348Z",
     "start_time": "2021-04-15T07:11:44.191313Z"
    }
   },
   "outputs": [
    {
     "data": {
      "text/plain": [
       "array([[29, 10, 92, 80, 28],\n",
       "       [92, 32, 46, 69, 64],\n",
       "       [96, 98,  9, 24, 54],\n",
       "       [47, 79, 66, 65, 56],\n",
       "       [10, 29, 19, 31, 38]])"
      ]
     },
     "execution_count": 9,
     "metadata": {},
     "output_type": "execute_result"
    }
   ],
   "source": [
    "matrixGenerator(5)"
   ]
  },
  {
   "cell_type": "code",
   "execution_count": 10,
   "metadata": {
    "ExecuteTime": {
     "end_time": "2021-04-15T07:11:44.374372Z",
     "start_time": "2021-04-15T07:11:44.347354Z"
    }
   },
   "outputs": [
    {
     "data": {
      "text/plain": [
       "array([[14, 61, 98, 87, 52, 39, 78],\n",
       "       [76, 71, 71, 10, 91, 81, 97],\n",
       "       [22, 99, 57, 47, 34,  4, 37],\n",
       "       [45, 87, 54, 71, 46, 68, 25],\n",
       "       [41, 37, 60, 24, 81, 18, 73],\n",
       "       [ 9, 84, 50, 74, 82, 10, 92],\n",
       "       [23, 36, 90, 70, 76, 16, 77]])"
      ]
     },
     "execution_count": 10,
     "metadata": {},
     "output_type": "execute_result"
    }
   ],
   "source": [
    "matrixGenerator(7)"
   ]
  },
  {
   "cell_type": "code",
   "execution_count": 11,
   "metadata": {
    "ExecuteTime": {
     "end_time": "2021-04-15T07:11:44.428374Z",
     "start_time": "2021-04-15T07:11:44.393365Z"
    }
   },
   "outputs": [
    {
     "data": {
      "text/plain": [
       "array([[45, 78, 40],\n",
       "       [ 8, 91, 96],\n",
       "       [40, 45, 53]])"
      ]
     },
     "execution_count": 11,
     "metadata": {},
     "output_type": "execute_result"
    }
   ],
   "source": [
    "matrixGenerator(3)"
   ]
  },
  {
   "cell_type": "markdown",
   "metadata": {},
   "source": [
    "## Exercici 3"
   ]
  },
  {
   "cell_type": "markdown",
   "metadata": {},
   "source": [
    "#### Crea una funció que donada una taula de dues dimensions, et calculi els totals per fila i els totals per columna."
   ]
  },
  {
   "cell_type": "code",
   "execution_count": 12,
   "metadata": {
    "ExecuteTime": {
     "end_time": "2021-04-15T07:11:44.506395Z",
     "start_time": "2021-04-15T07:11:44.448379Z"
    }
   },
   "outputs": [],
   "source": [
    "def dosDMatrixCalc(array):\n",
    "    if len(array.shape) < 2:\n",
    "        print('Error. This function only accepts 2-d matrixes.')\n",
    "    else:\n",
    "        for row in range(len(array)):\n",
    "            print(f'Total sum of row {row}: {array[row].sum()}')\n",
    "        array_transp = array.transpose()\n",
    "        for row in range(len(array_transp)):\n",
    "            print(f'Total sum of column {row}: {array_transp[row].sum()}')"
   ]
  },
  {
   "cell_type": "code",
   "execution_count": 13,
   "metadata": {
    "ExecuteTime": {
     "end_time": "2021-04-15T07:11:44.537401Z",
     "start_time": "2021-04-15T07:11:44.512394Z"
    }
   },
   "outputs": [
    {
     "name": "stdout",
     "output_type": "stream",
     "text": [
      "Error. This function only accepts 2-d matrixes.\n"
     ]
    }
   ],
   "source": [
    "dosDMatrixCalc(arr_1)"
   ]
  },
  {
   "cell_type": "code",
   "execution_count": 14,
   "metadata": {
    "ExecuteTime": {
     "end_time": "2021-04-15T07:11:44.567428Z",
     "start_time": "2021-04-15T07:11:44.543404Z"
    }
   },
   "outputs": [
    {
     "name": "stdout",
     "output_type": "stream",
     "text": [
      "Error. This function only accepts 2-d matrixes.\n"
     ]
    }
   ],
   "source": [
    "dosDMatrixCalc(arr_2)"
   ]
  },
  {
   "cell_type": "code",
   "execution_count": 15,
   "metadata": {
    "ExecuteTime": {
     "end_time": "2021-04-15T07:11:44.598419Z",
     "start_time": "2021-04-15T07:11:44.577412Z"
    }
   },
   "outputs": [
    {
     "name": "stdout",
     "output_type": "stream",
     "text": [
      "Total sum of row 0: 64\n",
      "Total sum of row 1: 94\n",
      "Total sum of row 2: 46\n",
      "Total sum of row 3: 105\n",
      "Total sum of column 0: 107\n",
      "Total sum of column 1: 125\n",
      "Total sum of column 2: 77\n"
     ]
    }
   ],
   "source": [
    "dosDMatrixCalc(arr_3)"
   ]
  },
  {
   "cell_type": "code",
   "execution_count": 16,
   "metadata": {
    "ExecuteTime": {
     "end_time": "2021-04-15T07:11:44.780463Z",
     "start_time": "2021-04-15T07:11:44.605420Z"
    }
   },
   "outputs": [
    {
     "name": "stdout",
     "output_type": "stream",
     "text": [
      "Total sum of row 0: 6\n",
      "Total sum of row 1: 15\n",
      "Total sum of column 0: 5\n",
      "Total sum of column 1: 7\n",
      "Total sum of column 2: 9\n"
     ]
    }
   ],
   "source": [
    "dosDMatrixCalc(np.array([[1,2,3],[4,5,6]]))"
   ]
  },
  {
   "cell_type": "markdown",
   "metadata": {},
   "source": [
    "## Exercici 4"
   ]
  },
  {
   "cell_type": "markdown",
   "metadata": {},
   "source": [
    "#### Implementa manualment una funció que calculi el coeficient de correlació. Informa’t-en sobre els seus usos i interpretació."
   ]
  },
  {
   "cell_type": "markdown",
   "metadata": {},
   "source": [
    "El coeficiente de correlacion entre valores indica cual es el nível de relación entre ellos y puede variar entre -1 y 1.  \n",
    "Si es 1, son perfectamente positiva.  \n",
    "Si es -1, su relación es perfectamente negativa.  \n",
    "SI es 0, no tienen relación."
   ]
  },
  {
   "cell_type": "code",
   "execution_count": 19,
   "metadata": {
    "ExecuteTime": {
     "end_time": "2021-04-15T07:14:53.252973Z",
     "start_time": "2021-04-15T07:14:51.532472Z"
    }
   },
   "outputs": [],
   "source": [
    "import pandas as pd"
   ]
  },
  {
   "cell_type": "code",
   "execution_count": 40,
   "metadata": {
    "ExecuteTime": {
     "end_time": "2021-04-15T07:24:55.044750Z",
     "start_time": "2021-04-15T07:24:55.019745Z"
    }
   },
   "outputs": [],
   "source": [
    "def coefCorr(array):\n",
    "    coef_corr = []\n",
    "    \n",
    "    cov_n = 0\n",
    "    sigma_col_n = 0\n",
    "    sigma_col_n_1 = 0\n",
    "    \n",
    "    for n in range(0, array.shape[1]):\n",
    "        for e in range(0, array.shape[1]):\n",
    "            for f, g in zip(array[::,n], array[::,e]):\n",
    "                \n",
    "                cov_n += (f-np.mean(array[::,n]))*(g-np.mean(array[::,e]))\n",
    "        \n",
    "            for w, j in zip(array[::,n], array[::,e]):\n",
    "                sigma_col_n += (w-np.mean(array[::,n]))**2\n",
    "                sigma_col_n_1 += (j-np.mean(array[::,e]))**2\n",
    "        \n",
    "            std_coln_coln1 = (np.sqrt(sigma_col_n))*(np.sqrt(sigma_col_n_1))\n",
    "        \n",
    "            coef_corr_coln_coln1 = cov_n/std_coln_coln1\n",
    "        \n",
    "            coef_corr.append(np.round(coef_corr_coln_coln1, decimals=4))\n",
    "        \n",
    "            cov_n = 0\n",
    "            sigma_col_n = 0\n",
    "            sigma_col_n_1 = 0\n",
    "    \n",
    "    return np.array(coef_corr).reshape(array.shape[1], array.shape[1])"
   ]
  },
  {
   "cell_type": "markdown",
   "metadata": {},
   "source": [
    "#### Para probar la función voy usar 4 arrays distintos y comparar su resultado con los resultados del modulo pd.corr() en cada uno de ellos para chequear si los valores son iguales."
   ]
  },
  {
   "cell_type": "markdown",
   "metadata": {},
   "source": [
    "**Prueba 1**"
   ]
  },
  {
   "cell_type": "code",
   "execution_count": 39,
   "metadata": {
    "ExecuteTime": {
     "end_time": "2021-04-15T07:20:06.314501Z",
     "start_time": "2021-04-15T07:20:06.284494Z"
    }
   },
   "outputs": [
    {
     "data": {
      "text/html": [
       "<div>\n",
       "<style scoped>\n",
       "    .dataframe tbody tr th:only-of-type {\n",
       "        vertical-align: middle;\n",
       "    }\n",
       "\n",
       "    .dataframe tbody tr th {\n",
       "        vertical-align: top;\n",
       "    }\n",
       "\n",
       "    .dataframe thead th {\n",
       "        text-align: right;\n",
       "    }\n",
       "</style>\n",
       "<table border=\"1\" class=\"dataframe\">\n",
       "  <thead>\n",
       "    <tr style=\"text-align: right;\">\n",
       "      <th></th>\n",
       "      <th>0</th>\n",
       "      <th>1</th>\n",
       "      <th>2</th>\n",
       "    </tr>\n",
       "  </thead>\n",
       "  <tbody>\n",
       "    <tr>\n",
       "      <th>0</th>\n",
       "      <td>1.000000</td>\n",
       "      <td>0.657509</td>\n",
       "      <td>0.683778</td>\n",
       "    </tr>\n",
       "    <tr>\n",
       "      <th>1</th>\n",
       "      <td>0.657509</td>\n",
       "      <td>1.000000</td>\n",
       "      <td>0.961548</td>\n",
       "    </tr>\n",
       "    <tr>\n",
       "      <th>2</th>\n",
       "      <td>0.683778</td>\n",
       "      <td>0.961548</td>\n",
       "      <td>1.000000</td>\n",
       "    </tr>\n",
       "  </tbody>\n",
       "</table>\n",
       "</div>"
      ],
      "text/plain": [
       "          0         1         2\n",
       "0  1.000000  0.657509  0.683778\n",
       "1  0.657509  1.000000  0.961548\n",
       "2  0.683778  0.961548  1.000000"
      ]
     },
     "execution_count": 39,
     "metadata": {},
     "output_type": "execute_result"
    }
   ],
   "source": [
    "pd.DataFrame(arr_3).corr()"
   ]
  },
  {
   "cell_type": "code",
   "execution_count": 44,
   "metadata": {
    "ExecuteTime": {
     "end_time": "2021-04-15T07:25:56.005684Z",
     "start_time": "2021-04-15T07:25:55.980692Z"
    }
   },
   "outputs": [
    {
     "data": {
      "text/plain": [
       "array([[1.    , 0.6575, 0.6838],\n",
       "       [0.6575, 1.    , 0.9615],\n",
       "       [0.6838, 0.9615, 1.    ]])"
      ]
     },
     "execution_count": 44,
     "metadata": {},
     "output_type": "execute_result"
    }
   ],
   "source": [
    "coefCorr(arr_3)"
   ]
  },
  {
   "cell_type": "markdown",
   "metadata": {},
   "source": [
    "**Prueba 2**"
   ]
  },
  {
   "cell_type": "code",
   "execution_count": 22,
   "metadata": {
    "ExecuteTime": {
     "end_time": "2021-04-15T07:14:53.467958Z",
     "start_time": "2021-04-15T07:14:53.405944Z"
    }
   },
   "outputs": [],
   "source": [
    "dados_pax = np.array([[55,163,65], [78,182,34], [49,150,87], [87,190,29]])"
   ]
  },
  {
   "cell_type": "code",
   "execution_count": 54,
   "metadata": {
    "ExecuteTime": {
     "end_time": "2021-04-15T07:42:49.001863Z",
     "start_time": "2021-04-15T07:42:48.975861Z"
    }
   },
   "outputs": [
    {
     "data": {
      "text/html": [
       "<div>\n",
       "<style scoped>\n",
       "    .dataframe tbody tr th:only-of-type {\n",
       "        vertical-align: middle;\n",
       "    }\n",
       "\n",
       "    .dataframe tbody tr th {\n",
       "        vertical-align: top;\n",
       "    }\n",
       "\n",
       "    .dataframe thead th {\n",
       "        text-align: right;\n",
       "    }\n",
       "</style>\n",
       "<table border=\"1\" class=\"dataframe\">\n",
       "  <thead>\n",
       "    <tr style=\"text-align: right;\">\n",
       "      <th></th>\n",
       "      <th>peso</th>\n",
       "      <th>altura</th>\n",
       "      <th>idade</th>\n",
       "    </tr>\n",
       "  </thead>\n",
       "  <tbody>\n",
       "    <tr>\n",
       "      <th>peso</th>\n",
       "      <td>1.000000</td>\n",
       "      <td>0.986839</td>\n",
       "      <td>-0.972603</td>\n",
       "    </tr>\n",
       "    <tr>\n",
       "      <th>altura</th>\n",
       "      <td>0.986839</td>\n",
       "      <td>1.000000</td>\n",
       "      <td>-0.993790</td>\n",
       "    </tr>\n",
       "    <tr>\n",
       "      <th>idade</th>\n",
       "      <td>-0.972603</td>\n",
       "      <td>-0.993790</td>\n",
       "      <td>1.000000</td>\n",
       "    </tr>\n",
       "  </tbody>\n",
       "</table>\n",
       "</div>"
      ],
      "text/plain": [
       "            peso    altura     idade\n",
       "peso    1.000000  0.986839 -0.972603\n",
       "altura  0.986839  1.000000 -0.993790\n",
       "idade  -0.972603 -0.993790  1.000000"
      ]
     },
     "execution_count": 54,
     "metadata": {},
     "output_type": "execute_result"
    }
   ],
   "source": [
    "pd.DataFrame(dados_pax, columns=['peso', 'altura', 'idade']).corr()"
   ]
  },
  {
   "cell_type": "code",
   "execution_count": 55,
   "metadata": {
    "ExecuteTime": {
     "end_time": "2021-04-15T07:43:00.014442Z",
     "start_time": "2021-04-15T07:42:59.991436Z"
    }
   },
   "outputs": [
    {
     "data": {
      "text/plain": [
       "array([[ 1.    ,  0.9868, -0.9726],\n",
       "       [ 0.9868,  1.    , -0.9938],\n",
       "       [-0.9726, -0.9938,  1.    ]])"
      ]
     },
     "execution_count": 55,
     "metadata": {},
     "output_type": "execute_result"
    }
   ],
   "source": [
    "coefCorr(dados_pax)"
   ]
  },
  {
   "cell_type": "markdown",
   "metadata": {},
   "source": [
    "**Prueba 3**"
   ]
  },
  {
   "cell_type": "code",
   "execution_count": 46,
   "metadata": {
    "ExecuteTime": {
     "end_time": "2021-04-15T07:28:15.821132Z",
     "start_time": "2021-04-15T07:28:15.800129Z"
    }
   },
   "outputs": [],
   "source": [
    "posib_lluvia_paraguas = np.array([[1, 0.8], [0.7, 0.65], [0.5, 0.2], [0.2, 0]])"
   ]
  },
  {
   "cell_type": "code",
   "execution_count": 53,
   "metadata": {
    "ExecuteTime": {
     "end_time": "2021-04-15T07:35:11.222305Z",
     "start_time": "2021-04-15T07:35:11.198300Z"
    }
   },
   "outputs": [
    {
     "data": {
      "text/html": [
       "<div>\n",
       "<style scoped>\n",
       "    .dataframe tbody tr th:only-of-type {\n",
       "        vertical-align: middle;\n",
       "    }\n",
       "\n",
       "    .dataframe tbody tr th {\n",
       "        vertical-align: top;\n",
       "    }\n",
       "\n",
       "    .dataframe thead th {\n",
       "        text-align: right;\n",
       "    }\n",
       "</style>\n",
       "<table border=\"1\" class=\"dataframe\">\n",
       "  <thead>\n",
       "    <tr style=\"text-align: right;\">\n",
       "      <th></th>\n",
       "      <th>posibilidad lluvia</th>\n",
       "      <th>personas_con_paraguas</th>\n",
       "    </tr>\n",
       "  </thead>\n",
       "  <tbody>\n",
       "    <tr>\n",
       "      <th>posibilidad lluvia</th>\n",
       "      <td>1.000000</td>\n",
       "      <td>0.963744</td>\n",
       "    </tr>\n",
       "    <tr>\n",
       "      <th>personas_con_paraguas</th>\n",
       "      <td>0.963744</td>\n",
       "      <td>1.000000</td>\n",
       "    </tr>\n",
       "  </tbody>\n",
       "</table>\n",
       "</div>"
      ],
      "text/plain": [
       "                       posibilidad lluvia  personas_con_paraguas\n",
       "posibilidad lluvia               1.000000               0.963744\n",
       "personas_con_paraguas            0.963744               1.000000"
      ]
     },
     "execution_count": 53,
     "metadata": {},
     "output_type": "execute_result"
    }
   ],
   "source": [
    "pd.DataFrame(posib_lluvia_paraguas, columns=['posibilidad lluvia', 'personas_con_paraguas']).corr()"
   ]
  },
  {
   "cell_type": "code",
   "execution_count": 48,
   "metadata": {
    "ExecuteTime": {
     "end_time": "2021-04-15T07:29:06.539966Z",
     "start_time": "2021-04-15T07:29:06.529961Z"
    }
   },
   "outputs": [
    {
     "data": {
      "text/plain": [
       "array([[1.    , 0.9637],\n",
       "       [0.9637, 1.    ]])"
      ]
     },
     "execution_count": 48,
     "metadata": {},
     "output_type": "execute_result"
    }
   ],
   "source": [
    "coefCorr(posib_lluvia_paraguas)"
   ]
  },
  {
   "cell_type": "markdown",
   "metadata": {},
   "source": [
    "**Prueba 4**"
   ]
  },
  {
   "cell_type": "code",
   "execution_count": 49,
   "metadata": {
    "ExecuteTime": {
     "end_time": "2021-04-15T07:32:06.367993Z",
     "start_time": "2021-04-15T07:32:06.354639Z"
    }
   },
   "outputs": [],
   "source": [
    "dados_coche = np.array([[150, 15, 2, 400],[350, 5, 4, 300],[80, 20, 4, 600],[110, 13, 4, 700]])"
   ]
  },
  {
   "cell_type": "code",
   "execution_count": 51,
   "metadata": {
    "ExecuteTime": {
     "end_time": "2021-04-15T07:33:09.844238Z",
     "start_time": "2021-04-15T07:33:09.815231Z"
    }
   },
   "outputs": [
    {
     "data": {
      "text/html": [
       "<div>\n",
       "<style scoped>\n",
       "    .dataframe tbody tr th:only-of-type {\n",
       "        vertical-align: middle;\n",
       "    }\n",
       "\n",
       "    .dataframe tbody tr th {\n",
       "        vertical-align: top;\n",
       "    }\n",
       "\n",
       "    .dataframe thead th {\n",
       "        text-align: right;\n",
       "    }\n",
       "</style>\n",
       "<table border=\"1\" class=\"dataframe\">\n",
       "  <thead>\n",
       "    <tr style=\"text-align: right;\">\n",
       "      <th></th>\n",
       "      <th>potencia</th>\n",
       "      <th>km/l</th>\n",
       "      <th># portas</th>\n",
       "      <th>autonomia</th>\n",
       "    </tr>\n",
       "  </thead>\n",
       "  <tbody>\n",
       "    <tr>\n",
       "      <th>potencia</th>\n",
       "      <td>1.000000</td>\n",
       "      <td>-0.927065</td>\n",
       "      <td>0.123195</td>\n",
       "      <td>-0.824717</td>\n",
       "    </tr>\n",
       "    <tr>\n",
       "      <th>km/l</th>\n",
       "      <td>-0.927065</td>\n",
       "      <td>1.000000</td>\n",
       "      <td>-0.187016</td>\n",
       "      <td>0.614598</td>\n",
       "    </tr>\n",
       "    <tr>\n",
       "      <th># portas</th>\n",
       "      <td>0.123195</td>\n",
       "      <td>-0.187016</td>\n",
       "      <td>1.000000</td>\n",
       "      <td>0.365148</td>\n",
       "    </tr>\n",
       "    <tr>\n",
       "      <th>autonomia</th>\n",
       "      <td>-0.824717</td>\n",
       "      <td>0.614598</td>\n",
       "      <td>0.365148</td>\n",
       "      <td>1.000000</td>\n",
       "    </tr>\n",
       "  </tbody>\n",
       "</table>\n",
       "</div>"
      ],
      "text/plain": [
       "           potencia      km/l  # portas  autonomia\n",
       "potencia   1.000000 -0.927065  0.123195  -0.824717\n",
       "km/l      -0.927065  1.000000 -0.187016   0.614598\n",
       "# portas   0.123195 -0.187016  1.000000   0.365148\n",
       "autonomia -0.824717  0.614598  0.365148   1.000000"
      ]
     },
     "execution_count": 51,
     "metadata": {},
     "output_type": "execute_result"
    }
   ],
   "source": [
    "pd.DataFrame(dados_coche, columns=['potencia','km/l','# portas','autonomia']).corr()"
   ]
  },
  {
   "cell_type": "code",
   "execution_count": 52,
   "metadata": {
    "ExecuteTime": {
     "end_time": "2021-04-15T07:33:44.297477Z",
     "start_time": "2021-04-15T07:33:44.270471Z"
    }
   },
   "outputs": [
    {
     "data": {
      "text/plain": [
       "array([[ 1.    , -0.9271,  0.1232, -0.8247],\n",
       "       [-0.9271,  1.    , -0.187 ,  0.6146],\n",
       "       [ 0.1232, -0.187 ,  1.    ,  0.3651],\n",
       "       [-0.8247,  0.6146,  0.3651,  1.    ]])"
      ]
     },
     "execution_count": 52,
     "metadata": {},
     "output_type": "execute_result"
    }
   ],
   "source": [
    "coefCorr(dados_coche)"
   ]
  }
 ],
 "metadata": {
  "kernelspec": {
   "display_name": "Python 3",
   "language": "python",
   "name": "python3"
  },
  "language_info": {
   "codemirror_mode": {
    "name": "ipython",
    "version": 3
   },
   "file_extension": ".py",
   "mimetype": "text/x-python",
   "name": "python",
   "nbconvert_exporter": "python",
   "pygments_lexer": "ipython3",
   "version": "3.8.5"
  }
 },
 "nbformat": 4,
 "nbformat_minor": 4
}
