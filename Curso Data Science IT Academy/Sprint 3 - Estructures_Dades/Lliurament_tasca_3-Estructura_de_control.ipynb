{
 "cells": [
  {
   "cell_type": "markdown",
   "metadata": {},
   "source": [
    "# Nivell 1"
   ]
  },
  {
   "cell_type": "markdown",
   "metadata": {},
   "source": [
    "## Exercici 1"
   ]
  },
  {
   "cell_type": "markdown",
   "metadata": {},
   "source": [
    "#### L'exercici consisteix a crear un programa que et classifiqui una variable numèrica en funció de l’escala Suspès/Aprovat/Notable/Excel·lent."
   ]
  },
  {
   "cell_type": "code",
   "execution_count": 85,
   "metadata": {
    "ExecuteTime": {
     "end_time": "2021-04-12T08:15:38.051178Z",
     "start_time": "2021-04-12T08:15:38.038177Z"
    }
   },
   "outputs": [],
   "source": [
    "import numpy as np"
   ]
  },
  {
   "cell_type": "code",
   "execution_count": 86,
   "metadata": {
    "ExecuteTime": {
     "end_time": "2021-04-12T08:15:38.067183Z",
     "start_time": "2021-04-12T08:15:38.055183Z"
    }
   },
   "outputs": [],
   "source": [
    "def gradeClassifier(grade):\n",
    "    if grade <= 6:\n",
    "        print(grade, 'Suspès')\n",
    "    elif grade <= 8:\n",
    "        print(grade, 'Aprovat')\n",
    "    elif grade < 10:\n",
    "        print(grade, 'Notable')\n",
    "    else:\n",
    "        print(grade, 'Excel.lent')"
   ]
  },
  {
   "cell_type": "code",
   "execution_count": 87,
   "metadata": {
    "ExecuteTime": {
     "end_time": "2021-04-12T08:15:38.098190Z",
     "start_time": "2021-04-12T08:15:38.071184Z"
    }
   },
   "outputs": [
    {
     "name": "stdout",
     "output_type": "stream",
     "text": [
      "0.0 Suspès\n",
      "0.5 Suspès\n",
      "1.0 Suspès\n",
      "1.5 Suspès\n",
      "2.0 Suspès\n",
      "2.5 Suspès\n",
      "3.0 Suspès\n",
      "3.5 Suspès\n",
      "4.0 Suspès\n",
      "4.5 Suspès\n",
      "5.0 Suspès\n",
      "5.5 Suspès\n",
      "6.0 Suspès\n",
      "6.5 Aprovat\n",
      "7.0 Aprovat\n",
      "7.5 Aprovat\n",
      "8.0 Aprovat\n",
      "8.5 Notable\n",
      "9.0 Notable\n",
      "9.5 Notable\n",
      "10.0 Excel.lent\n"
     ]
    }
   ],
   "source": [
    "for n in np.arange(0, 10.5, 0.5):\n",
    "    gradeClassifier(n)"
   ]
  },
  {
   "cell_type": "markdown",
   "metadata": {
    "ExecuteTime": {
     "end_time": "2021-04-12T07:22:59.855039Z",
     "start_time": "2021-04-12T07:22:59.838035Z"
    }
   },
   "source": [
    "## Exercici 2"
   ]
  },
  {
   "cell_type": "markdown",
   "metadata": {},
   "source": [
    "#### Utilitzant el següent tutorial Programiz: Python Input, Output and Import crea un programa que et pregunti dos números. T’ha de mostrar un missatge dient si el primer és més gran, el segon és més gran o són iguals."
   ]
  },
  {
   "cell_type": "code",
   "execution_count": 125,
   "metadata": {
    "ExecuteTime": {
     "end_time": "2021-04-12T08:24:14.160845Z",
     "start_time": "2021-04-12T08:24:14.151843Z"
    }
   },
   "outputs": [],
   "source": [
    "def comparaNumeros(num1, num2):\n",
    "    if num1 < num2:\n",
    "        print(f'El primero número {num1} es MENOR que el segundo {num2}.')\n",
    "    elif num1 > num2:\n",
    "        print(f'El primero número {num1} es MAYOR que el segundo {num2}.')\n",
    "    else:\n",
    "        print(f'El primero número {num1} es IGUAL que el segundo {num2}.')            "
   ]
  },
  {
   "cell_type": "code",
   "execution_count": 128,
   "metadata": {
    "ExecuteTime": {
     "end_time": "2021-04-12T08:27:16.895679Z",
     "start_time": "2021-04-12T08:26:54.626491Z"
    }
   },
   "outputs": [
    {
     "name": "stdout",
     "output_type": "stream",
     "text": [
      "Introduzca el primero número: 4\n",
      "Introduzca el segundo número: 4\n",
      "\n",
      "El primero número 4 es IGUAL que el segundo 4.\n",
      "Desea salir?[S/N]: 10\n",
      "Introduzca el primero número: 8\n",
      "Introduzca el segundo número: 9\n",
      "\n",
      "El primero número 8 es MENOR que el segundo 9.\n",
      "Desea salir?[S/N]: n\n",
      "Introduzca el primero número: 5\n",
      "Introduzca el segundo número: 1000\n",
      "\n",
      "El primero número 5 es MENOR que el segundo 1000.\n",
      "Desea salir?[S/N]: s\n"
     ]
    }
   ],
   "source": [
    "while True:\n",
    "    num1 = int(input('Introduzca el primero número: '))\n",
    "    num2 = int(input('Introduzca el segundo número: '))\n",
    "    \n",
    "    comparaNumeros(num1, num2)\n",
    "    \n",
    "    s = input('Desea salir?[S/N]: ')\n",
    "    if s.upper() == 'S':\n",
    "        break\n",
    "    else:\n",
    "        continue    "
   ]
  },
  {
   "cell_type": "markdown",
   "metadata": {},
   "source": [
    "## Exercici 3"
   ]
  },
  {
   "cell_type": "markdown",
   "metadata": {},
   "source": [
    "#### Crea un programa que et pregunti el teu nom, i et demani un número. Si el número és 0, hauria de mostrar un missatge d’error. En cas contrari, hauria de mostrar el nom repetit tants cops com indiqui el número. Per exemple, “Joan Joan Joan”."
   ]
  },
  {
   "cell_type": "code",
   "execution_count": 133,
   "metadata": {
    "ExecuteTime": {
     "end_time": "2021-04-12T08:36:33.087007Z",
     "start_time": "2021-04-12T08:36:33.073005Z"
    }
   },
   "outputs": [],
   "source": [
    "def nameRepeat(name, num):\n",
    "    if num == 0:\n",
    "        print('Error. Zero no es valido.')\n",
    "    else:\n",
    "        print(name * num)"
   ]
  },
  {
   "cell_type": "code",
   "execution_count": 138,
   "metadata": {
    "ExecuteTime": {
     "end_time": "2021-04-12T08:40:50.820315Z",
     "start_time": "2021-04-12T08:40:22.370385Z"
    }
   },
   "outputs": [
    {
     "name": "stdout",
     "output_type": "stream",
     "text": [
      "Introduzca tu nombre: l\n",
      "Introduzca un número: 5\n",
      "lllll\n",
      "Desea salir?[S/N]: n\n",
      "Introduzca tu nombre: oriol\n",
      "Introduzca un número: 10\n",
      "orioloriolorioloriolorioloriolorioloriolorioloriol\n",
      "Desea salir?[S/N]: n\n",
      "Introduzca tu nombre: fer\n",
      "Introduzca un número: 0\n",
      "Error. Zero no es valido.\n"
     ]
    }
   ],
   "source": [
    "while True:\n",
    "    name = input('Introduzca tu nombre: ')\n",
    "    num = int(input('Introduzca un número: '))\n",
    "    if num == 0:\n",
    "        print('Error. Zero no es valido.')\n",
    "        break\n",
    "    else:\n",
    "        pass\n",
    "        \n",
    "    nameRepeat(name, num)\n",
    "    \n",
    "    s = input('Desea salir?[S/N]: ')\n",
    "    if s.upper() == 'S':\n",
    "        break\n",
    "    else:\n",
    "        continue"
   ]
  },
  {
   "cell_type": "markdown",
   "metadata": {
    "ExecuteTime": {
     "end_time": "2021-04-12T08:36:35.924544Z",
     "start_time": "2021-04-12T08:36:35.910539Z"
    }
   },
   "source": [
    "## Exercici 4"
   ]
  },
  {
   "cell_type": "markdown",
   "metadata": {},
   "source": [
    "#### Crea un programa que donada una llista qualsevol, et digui si es simètrica o no. Si ho és, que et digui quants elements té."
   ]
  },
  {
   "cell_type": "code",
   "execution_count": 148,
   "metadata": {
    "ExecuteTime": {
     "end_time": "2021-04-12T08:49:07.814700Z",
     "start_time": "2021-04-12T08:49:07.792696Z"
    }
   },
   "outputs": [],
   "source": [
    "def listaSimetrica(lista):\n",
    "    if lista[::] == lista[::-1]:\n",
    "        print(f'Lista simétrica con {len(lista)} elementos.')\n",
    "    else:\n",
    "        print('La lista no es simétrica.')"
   ]
  },
  {
   "cell_type": "code",
   "execution_count": 152,
   "metadata": {
    "ExecuteTime": {
     "end_time": "2021-04-12T08:52:29.579770Z",
     "start_time": "2021-04-12T08:52:29.558764Z"
    }
   },
   "outputs": [
    {
     "name": "stdout",
     "output_type": "stream",
     "text": [
      "Lista simétrica con 6 elementos.\n"
     ]
    }
   ],
   "source": [
    "listaSimetrica([1,2,3,3,2,1])"
   ]
  },
  {
   "cell_type": "code",
   "execution_count": 153,
   "metadata": {
    "ExecuteTime": {
     "end_time": "2021-04-12T08:52:50.335582Z",
     "start_time": "2021-04-12T08:52:50.320579Z"
    }
   },
   "outputs": [
    {
     "name": "stdout",
     "output_type": "stream",
     "text": [
      "La lista no es simétrica.\n"
     ]
    }
   ],
   "source": [
    "listaSimetrica([1,2,3,4])"
   ]
  },
  {
   "cell_type": "code",
   "execution_count": 156,
   "metadata": {
    "ExecuteTime": {
     "end_time": "2021-04-12T08:54:01.290391Z",
     "start_time": "2021-04-12T08:54:01.281386Z"
    }
   },
   "outputs": [
    {
     "name": "stdout",
     "output_type": "stream",
     "text": [
      "Lista simétrica con 10 elementos.\n"
     ]
    }
   ],
   "source": [
    "listaSimetrica([5,7,8,10,11,11,10,8,7,5])"
   ]
  },
  {
   "cell_type": "markdown",
   "metadata": {},
   "source": [
    "## Exercici 5"
   ]
  },
  {
   "cell_type": "markdown",
   "metadata": {},
   "source": [
    "#### Crea un programa que donada una llista, et digui quants números coincideixen amb la seva posició. Per exemple [3,4,2,0,2,3,6] el 2 i el 6 coincideixen."
   ]
  },
  {
   "cell_type": "code",
   "execution_count": 162,
   "metadata": {
    "ExecuteTime": {
     "end_time": "2021-04-12T09:11:34.036690Z",
     "start_time": "2021-04-12T09:11:34.029686Z"
    }
   },
   "outputs": [],
   "source": [
    "def numYPos(lis):\n",
    "    for numb in lis:\n",
    "        if numb == lis.index(numb):\n",
    "            print(f'El número {numb} coincide con su posicion {lis.index(numb)} en la lista!')\n",
    "        else:\n",
    "            print('No coincide.')"
   ]
  },
  {
   "cell_type": "code",
   "execution_count": 163,
   "metadata": {
    "ExecuteTime": {
     "end_time": "2021-04-12T09:11:49.005926Z",
     "start_time": "2021-04-12T09:11:48.991921Z"
    }
   },
   "outputs": [
    {
     "name": "stdout",
     "output_type": "stream",
     "text": [
      "El número 0 coincide con su posicion 0 en la lista!\n",
      "El número 1 coincide con su posicion 1 en la lista!\n",
      "El número 2 coincide con su posicion 2 en la lista!\n"
     ]
    }
   ],
   "source": [
    "numYPos([0,1,2])"
   ]
  },
  {
   "cell_type": "code",
   "execution_count": 164,
   "metadata": {
    "ExecuteTime": {
     "end_time": "2021-04-12T09:12:38.288649Z",
     "start_time": "2021-04-12T09:12:38.280649Z"
    }
   },
   "outputs": [
    {
     "name": "stdout",
     "output_type": "stream",
     "text": [
      "No coincide.\n",
      "No coincide.\n",
      "El número 2 coincide con su posicion 2 en la lista!\n",
      "No coincide.\n",
      "No coincide.\n",
      "No coincide.\n",
      "El número 6 coincide con su posicion 6 en la lista!\n"
     ]
    }
   ],
   "source": [
    "numYPos([1,3,2,3,8,11,6])"
   ]
  }
 ],
 "metadata": {
  "kernelspec": {
   "display_name": "Python 3",
   "language": "python",
   "name": "python3"
  },
  "language_info": {
   "codemirror_mode": {
    "name": "ipython",
    "version": 3
   },
   "file_extension": ".py",
   "mimetype": "text/x-python",
   "name": "python",
   "nbconvert_exporter": "python",
   "pygments_lexer": "ipython3",
   "version": "3.8.5"
  }
 },
 "nbformat": 4,
 "nbformat_minor": 4
}
