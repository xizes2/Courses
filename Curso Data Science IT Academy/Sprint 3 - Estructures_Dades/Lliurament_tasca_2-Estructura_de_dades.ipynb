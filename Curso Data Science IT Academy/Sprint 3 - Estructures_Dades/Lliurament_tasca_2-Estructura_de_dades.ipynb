{
 "cells": [
  {
   "cell_type": "markdown",
   "metadata": {},
   "source": [
    "# Exercici 1"
   ]
  },
  {
   "cell_type": "markdown",
   "metadata": {},
   "source": [
    "#### Crea una llista que agrupi els mesos de l’any en trimestres (1T: Gener, Febrer i Març, 2T: Abril, Maig, Juny...), és a dir, una llista amb 4 llistes dins."
   ]
  },
  {
   "cell_type": "code",
   "execution_count": 5,
   "metadata": {
    "ExecuteTime": {
     "end_time": "2021-04-08T07:25:35.968883Z",
     "start_time": "2021-04-08T07:25:35.957880Z"
    }
   },
   "outputs": [],
   "source": [
    "meses = [['enero', 'febrero', 'marzo'], \n",
    "         ['abril', 'mayo', 'junyo'], \n",
    "         ['julio', 'agosto', 'septiembre'], \n",
    "         ['octubre', 'noviembre', 'diciembre']]"
   ]
  },
  {
   "cell_type": "markdown",
   "metadata": {
    "ExecuteTime": {
     "end_time": "2021-04-08T07:25:38.370285Z",
     "start_time": "2021-04-08T07:25:38.354284Z"
    }
   },
   "source": [
    "# Exercici 2"
   ]
  },
  {
   "cell_type": "markdown",
   "metadata": {},
   "source": [
    "#### Crea un codi que et permeti accedir a:\n",
    "\n",
    "* El segon mes del primer trimestre\n",
    "* Els mesos del primer trimestre\n",
    "* Setembre i octubre"
   ]
  },
  {
   "cell_type": "markdown",
   "metadata": {},
   "source": [
    "**El segon mes del primer trimestre:**"
   ]
  },
  {
   "cell_type": "code",
   "execution_count": 7,
   "metadata": {
    "ExecuteTime": {
     "end_time": "2021-04-08T07:29:01.769889Z",
     "start_time": "2021-04-08T07:29:01.750887Z"
    }
   },
   "outputs": [
    {
     "data": {
      "text/plain": [
       "'febrero'"
      ]
     },
     "execution_count": 7,
     "metadata": {},
     "output_type": "execute_result"
    }
   ],
   "source": [
    "meses[0][1]"
   ]
  },
  {
   "cell_type": "markdown",
   "metadata": {},
   "source": [
    "**Els mesos del primer trimestre**"
   ]
  },
  {
   "cell_type": "code",
   "execution_count": 12,
   "metadata": {
    "ExecuteTime": {
     "end_time": "2021-04-08T07:31:19.879144Z",
     "start_time": "2021-04-08T07:31:19.858137Z"
    }
   },
   "outputs": [
    {
     "name": "stdout",
     "output_type": "stream",
     "text": [
      "enero\n",
      "febrero\n",
      "marzo\n"
     ]
    }
   ],
   "source": [
    "for m in meses[0]:\n",
    "    print(m)"
   ]
  },
  {
   "cell_type": "markdown",
   "metadata": {},
   "source": [
    "**Setembre i Octubre**"
   ]
  },
  {
   "cell_type": "code",
   "execution_count": 11,
   "metadata": {
    "ExecuteTime": {
     "end_time": "2021-04-08T07:30:15.728404Z",
     "start_time": "2021-04-08T07:30:15.717400Z"
    }
   },
   "outputs": [
    {
     "data": {
      "text/plain": [
       "'septiembre'"
      ]
     },
     "execution_count": 11,
     "metadata": {},
     "output_type": "execute_result"
    }
   ],
   "source": [
    "meses[2][2]"
   ]
  },
  {
   "cell_type": "code",
   "execution_count": 13,
   "metadata": {
    "ExecuteTime": {
     "end_time": "2021-04-08T07:33:51.888981Z",
     "start_time": "2021-04-08T07:33:51.867974Z"
    }
   },
   "outputs": [
    {
     "data": {
      "text/plain": [
       "'octubre'"
      ]
     },
     "execution_count": 13,
     "metadata": {},
     "output_type": "execute_result"
    }
   ],
   "source": [
    "meses[3][0]"
   ]
  },
  {
   "cell_type": "markdown",
   "metadata": {},
   "source": [
    "**Extra**"
   ]
  },
  {
   "cell_type": "code",
   "execution_count": 36,
   "metadata": {
    "ExecuteTime": {
     "end_time": "2021-04-08T07:46:46.404200Z",
     "start_time": "2021-04-08T07:46:46.395195Z"
    }
   },
   "outputs": [],
   "source": [
    "def pickMonth(meses=meses):\n",
    "    trimestre = int(input('Escoje el trimestre (0 a 3): '))\n",
    "    posicion_mes = int(input('Escoje el numero del mes (0 a 2): '))\n",
    "    print(f'\\n Es mes escojido es: {meses[trimestre][posicion_mes].upper()}')"
   ]
  },
  {
   "cell_type": "code",
   "execution_count": 37,
   "metadata": {
    "ExecuteTime": {
     "end_time": "2021-04-08T07:46:54.550115Z",
     "start_time": "2021-04-08T07:46:48.142245Z"
    }
   },
   "outputs": [
    {
     "name": "stdout",
     "output_type": "stream",
     "text": [
      "Escoje el trimestre (0 a 3): 3\n",
      "Escoje el numero del mes (0 a 2): 0\n",
      "\n",
      " Es mes escojido es: OCTUBRE\n"
     ]
    }
   ],
   "source": [
    "pickMonth()"
   ]
  },
  {
   "cell_type": "markdown",
   "metadata": {
    "ExecuteTime": {
     "end_time": "2021-04-08T07:42:19.734927Z",
     "start_time": "2021-04-08T07:42:19.723926Z"
    }
   },
   "source": [
    "# Exercici 3"
   ]
  },
  {
   "cell_type": "markdown",
   "metadata": {},
   "source": [
    "#### Crea una llista amb nombres desordenats i respon a les següents preguntes:\n",
    "\n",
    "* Quants números hi ha?\n",
    "* Quantes vegades apareix el número 3\n",
    "* Quantes vegades apareixen els nombres 3 i 4?\n",
    "* Quin és el número més gran?\n",
    "* Quins són els 3 números més petits?\n",
    "* Quin és el rang d’aquesta llista?"
   ]
  },
  {
   "cell_type": "code",
   "execution_count": 40,
   "metadata": {
    "ExecuteTime": {
     "end_time": "2021-04-08T07:55:50.575540Z",
     "start_time": "2021-04-08T07:55:50.565535Z"
    }
   },
   "outputs": [],
   "source": [
    "from numpy import random"
   ]
  },
  {
   "cell_type": "code",
   "execution_count": 46,
   "metadata": {
    "ExecuteTime": {
     "end_time": "2021-04-08T07:59:12.288177Z",
     "start_time": "2021-04-08T07:59:12.260156Z"
    }
   },
   "outputs": [],
   "source": [
    "numbers = random.randint(0, 50, 25)"
   ]
  },
  {
   "cell_type": "markdown",
   "metadata": {},
   "source": [
    "**Quants números hi ha?**"
   ]
  },
  {
   "cell_type": "code",
   "execution_count": 48,
   "metadata": {
    "ExecuteTime": {
     "end_time": "2021-04-08T07:59:22.413913Z",
     "start_time": "2021-04-08T07:59:22.387907Z"
    }
   },
   "outputs": [
    {
     "data": {
      "text/plain": [
       "25"
      ]
     },
     "execution_count": 48,
     "metadata": {},
     "output_type": "execute_result"
    }
   ],
   "source": [
    "len(numbers)"
   ]
  },
  {
   "cell_type": "markdown",
   "metadata": {},
   "source": [
    "**Quantes vegades apareix el número 3**"
   ]
  },
  {
   "cell_type": "code",
   "execution_count": 60,
   "metadata": {
    "ExecuteTime": {
     "end_time": "2021-04-08T08:17:33.483959Z",
     "start_time": "2021-04-08T08:17:33.456952Z"
    }
   },
   "outputs": [
    {
     "data": {
      "text/plain": [
       "False"
      ]
     },
     "execution_count": 60,
     "metadata": {},
     "output_type": "execute_result"
    }
   ],
   "source": [
    "3 in numbers"
   ]
  },
  {
   "cell_type": "markdown",
   "metadata": {},
   "source": [
    "**Quantes vegades apareixen els nombres 3 i 4?**"
   ]
  },
  {
   "cell_type": "code",
   "execution_count": 61,
   "metadata": {
    "ExecuteTime": {
     "end_time": "2021-04-08T08:19:17.191502Z",
     "start_time": "2021-04-08T08:19:17.177512Z"
    }
   },
   "outputs": [
    {
     "data": {
      "text/plain": [
       "False"
      ]
     },
     "execution_count": 61,
     "metadata": {},
     "output_type": "execute_result"
    }
   ],
   "source": [
    "4 in numbers"
   ]
  },
  {
   "cell_type": "markdown",
   "metadata": {},
   "source": [
    "**Quin és el número més gran?**"
   ]
  },
  {
   "cell_type": "code",
   "execution_count": 160,
   "metadata": {
    "ExecuteTime": {
     "end_time": "2021-04-08T10:48:11.969209Z",
     "start_time": "2021-04-08T10:48:11.953956Z"
    }
   },
   "outputs": [
    {
     "data": {
      "text/plain": [
       "48"
      ]
     },
     "execution_count": 160,
     "metadata": {},
     "output_type": "execute_result"
    }
   ],
   "source": [
    "max(numbers)"
   ]
  },
  {
   "cell_type": "markdown",
   "metadata": {},
   "source": [
    "**Quins són els 3 números més petits?**"
   ]
  },
  {
   "cell_type": "code",
   "execution_count": 65,
   "metadata": {
    "ExecuteTime": {
     "end_time": "2021-04-08T08:21:12.346318Z",
     "start_time": "2021-04-08T08:21:12.332318Z"
    }
   },
   "outputs": [],
   "source": [
    "numbers.sort()"
   ]
  },
  {
   "cell_type": "markdown",
   "metadata": {},
   "source": [
    "Repetidos"
   ]
  },
  {
   "cell_type": "code",
   "execution_count": 72,
   "metadata": {
    "ExecuteTime": {
     "end_time": "2021-04-08T08:22:49.158787Z",
     "start_time": "2021-04-08T08:22:49.141783Z"
    }
   },
   "outputs": [
    {
     "data": {
      "text/plain": [
       "array([0, 1, 1])"
      ]
     },
     "execution_count": 72,
     "metadata": {},
     "output_type": "execute_result"
    }
   ],
   "source": [
    "numbers[:3]"
   ]
  },
  {
   "cell_type": "markdown",
   "metadata": {},
   "source": [
    "Sin repetir"
   ]
  },
  {
   "cell_type": "code",
   "execution_count": 90,
   "metadata": {
    "ExecuteTime": {
     "end_time": "2021-04-08T08:58:33.177166Z",
     "start_time": "2021-04-08T08:58:33.158164Z"
    }
   },
   "outputs": [
    {
     "data": {
      "text/plain": [
       "[0, 1, 2]"
      ]
     },
     "execution_count": 90,
     "metadata": {},
     "output_type": "execute_result"
    }
   ],
   "source": [
    "list(set(numbers))[:3]"
   ]
  },
  {
   "cell_type": "markdown",
   "metadata": {
    "ExecuteTime": {
     "end_time": "2021-04-08T08:53:37.917915Z",
     "start_time": "2021-04-08T08:53:37.899891Z"
    }
   },
   "source": [
    "**Quin és el rang d’aquesta llista?**"
   ]
  },
  {
   "cell_type": "code",
   "execution_count": 159,
   "metadata": {
    "ExecuteTime": {
     "end_time": "2021-04-08T10:48:02.063679Z",
     "start_time": "2021-04-08T10:48:02.038543Z"
    }
   },
   "outputs": [
    {
     "data": {
      "text/plain": [
       "48"
      ]
     },
     "execution_count": 159,
     "metadata": {},
     "output_type": "execute_result"
    }
   ],
   "source": [
    "max(numbers)-min(numbers)"
   ]
  },
  {
   "cell_type": "markdown",
   "metadata": {
    "ExecuteTime": {
     "end_time": "2021-04-08T09:01:15.777502Z",
     "start_time": "2021-04-08T09:01:15.559445Z"
    }
   },
   "source": [
    "# Exercici 4"
   ]
  },
  {
   "cell_type": "markdown",
   "metadata": {
    "ExecuteTime": {
     "end_time": "2021-04-08T08:54:09.566334Z",
     "start_time": "2021-04-08T08:54:09.540329Z"
    }
   },
   "source": [
    "#### Crea un diccionari de la següent forma i respon a les preguntes:\n",
    "\n",
    "#### compra = { \"Pomes\" : {\"Qty\": 5, \"€\": 0.42}, \"Peres\" : {\"Qty\": 3, \"€\": 0.66} }\n",
    "\n",
    "* Afegeix alguna fruita més\n",
    "* Quant han costat les peres en total?\n",
    "* Quantes fruites hem comprat en total?\n",
    "* Quina és la fruita més cara?"
   ]
  },
  {
   "cell_type": "markdown",
   "metadata": {},
   "source": [
    "**Afegeix alguna fruita més**"
   ]
  },
  {
   "cell_type": "code",
   "execution_count": 117,
   "metadata": {
    "ExecuteTime": {
     "end_time": "2021-04-08T10:23:36.877653Z",
     "start_time": "2021-04-08T10:23:36.863647Z"
    }
   },
   "outputs": [],
   "source": [
    "compra = {\"Pomes\" : {\"Qty\": 5, \"€\": 0.42}, \"Peres\" : {\"Qty\": 3, \"€\": 0.66}}"
   ]
  },
  {
   "cell_type": "code",
   "execution_count": 118,
   "metadata": {
    "ExecuteTime": {
     "end_time": "2021-04-08T10:23:38.003802Z",
     "start_time": "2021-04-08T10:23:37.983795Z"
    }
   },
   "outputs": [],
   "source": [
    "compra_2 = {\"Naranja\" : {\"Qty\": 12, \"€\": 0.25}, \n",
    "            \"Calabacín\" : {\"Qty\": 3, \"€\": 0.85}, \n",
    "            \"Aguacate\" : {\"Qty\": 2, \"€\": 1.25}}"
   ]
  },
  {
   "cell_type": "code",
   "execution_count": 119,
   "metadata": {
    "ExecuteTime": {
     "end_time": "2021-04-08T10:23:39.112074Z",
     "start_time": "2021-04-08T10:23:39.101071Z"
    }
   },
   "outputs": [],
   "source": [
    "compra.update(compra_2)"
   ]
  },
  {
   "cell_type": "code",
   "execution_count": 120,
   "metadata": {
    "ExecuteTime": {
     "end_time": "2021-04-08T10:23:40.097274Z",
     "start_time": "2021-04-08T10:23:40.084268Z"
    }
   },
   "outputs": [
    {
     "data": {
      "text/plain": [
       "{'Pomes': {'Qty': 5, '€': 0.42},\n",
       " 'Peres': {'Qty': 3, '€': 0.66},\n",
       " 'Naranja': {'Qty': 12, '€': 0.25},\n",
       " 'Calabacín': {'Qty': 3, '€': 0.85},\n",
       " 'Aguacate': {'Qty': 2, '€': 1.25}}"
      ]
     },
     "execution_count": 120,
     "metadata": {},
     "output_type": "execute_result"
    }
   ],
   "source": [
    "compra"
   ]
  },
  {
   "cell_type": "markdown",
   "metadata": {},
   "source": [
    "**Quant han costat les peres en total?**"
   ]
  },
  {
   "cell_type": "code",
   "execution_count": 121,
   "metadata": {
    "ExecuteTime": {
     "end_time": "2021-04-08T10:23:44.649876Z",
     "start_time": "2021-04-08T10:23:44.638872Z"
    }
   },
   "outputs": [
    {
     "data": {
      "text/plain": [
       "1.98"
      ]
     },
     "execution_count": 121,
     "metadata": {},
     "output_type": "execute_result"
    }
   ],
   "source": [
    "compra['Peres']['Qty']*compra['Peres']['€']"
   ]
  },
  {
   "cell_type": "markdown",
   "metadata": {},
   "source": [
    "**Quantes fruites hem comprat en total?**"
   ]
  },
  {
   "cell_type": "code",
   "execution_count": 193,
   "metadata": {
    "ExecuteTime": {
     "end_time": "2021-04-08T11:20:17.985315Z",
     "start_time": "2021-04-08T11:20:17.970232Z"
    }
   },
   "outputs": [
    {
     "name": "stdout",
     "output_type": "stream",
     "text": [
      "Hemos comprado 5 tipos de fruta.\n"
     ]
    }
   ],
   "source": [
    "print(f'Hemos comprado {len(compra.keys())} tipos de fruta.')"
   ]
  },
  {
   "cell_type": "code",
   "execution_count": 205,
   "metadata": {
    "ExecuteTime": {
     "end_time": "2021-04-08T11:24:13.400768Z",
     "start_time": "2021-04-08T11:24:13.380496Z"
    }
   },
   "outputs": [
    {
     "name": "stdout",
     "output_type": "stream",
     "text": [
      "Hemos comprado 25 frutas\n"
     ]
    }
   ],
   "source": [
    "tot_frutas = 0\n",
    "for i in compra.items():\n",
    "    tot_frutas += i[1]['Qty']\n",
    "\n",
    "print(f'Hemos comprado {tot_frutas} frutas')"
   ]
  },
  {
   "cell_type": "markdown",
   "metadata": {},
   "source": [
    "**Quina és la fruita més cara?**"
   ]
  },
  {
   "cell_type": "code",
   "execution_count": 190,
   "metadata": {
    "ExecuteTime": {
     "end_time": "2021-04-08T11:05:59.150071Z",
     "start_time": "2021-04-08T11:05:59.139926Z"
    }
   },
   "outputs": [],
   "source": [
    "def frutaMasCara(dic_frutas):\n",
    "    precios = []\n",
    "    for i in dic_frutas.items():\n",
    "        precios.append(i[1]['€'])\n",
    "    for i in dic_frutas.items():\n",
    "        if i[1]['€'] == max(precios):\n",
    "            print(i[0], i[1]['€'])"
   ]
  },
  {
   "cell_type": "code",
   "execution_count": 191,
   "metadata": {
    "ExecuteTime": {
     "end_time": "2021-04-08T11:06:01.790073Z",
     "start_time": "2021-04-08T11:06:01.779979Z"
    }
   },
   "outputs": [
    {
     "name": "stdout",
     "output_type": "stream",
     "text": [
      "Aguacate 1.25\n"
     ]
    }
   ],
   "source": [
    "frutaMasCara(compra)"
   ]
  }
 ],
 "metadata": {
  "kernelspec": {
   "display_name": "Python 3",
   "language": "python",
   "name": "python3"
  },
  "language_info": {
   "codemirror_mode": {
    "name": "ipython",
    "version": 3
   },
   "file_extension": ".py",
   "mimetype": "text/x-python",
   "name": "python",
   "nbconvert_exporter": "python",
   "pygments_lexer": "ipython3",
   "version": "3.8.5"
  }
 },
 "nbformat": 4,
 "nbformat_minor": 4
}
