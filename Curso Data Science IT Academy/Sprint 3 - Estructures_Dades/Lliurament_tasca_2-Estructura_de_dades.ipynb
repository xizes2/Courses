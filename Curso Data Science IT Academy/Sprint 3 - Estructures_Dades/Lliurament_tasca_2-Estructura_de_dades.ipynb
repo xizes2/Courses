{
 "cells": [
  {
   "cell_type": "markdown",
   "metadata": {},
   "source": [
    "# Exercici 1"
   ]
  },
  {
   "cell_type": "markdown",
   "metadata": {},
   "source": [
    "#### Crea una llista que agrupi els mesos de l’any en trimestres (1T: Gener, Febrer i Març, 2T: Abril, Maig, Juny...), és a dir, una llista amb 4 llistes dins."
   ]
  },
  {
   "cell_type": "code",
   "execution_count": 2,
   "metadata": {
    "ExecuteTime": {
     "end_time": "2021-04-15T07:55:07.311981Z",
     "start_time": "2021-04-15T07:55:07.297978Z"
    }
   },
   "outputs": [],
   "source": [
    "meses = [['enero', 'febrero', 'marzo'], \n",
    "         ['abril', 'mayo', 'junyo'], \n",
    "         ['julio', 'agosto', 'septiembre'], \n",
    "         ['octubre', 'noviembre', 'diciembre']]"
   ]
  },
  {
   "cell_type": "markdown",
   "metadata": {
    "ExecuteTime": {
     "end_time": "2021-04-08T07:25:38.370285Z",
     "start_time": "2021-04-08T07:25:38.354284Z"
    }
   },
   "source": [
    "# Exercici 2"
   ]
  },
  {
   "cell_type": "markdown",
   "metadata": {},
   "source": [
    "#### Crea un codi que et permeti accedir a:\n",
    "\n",
    "* El segon mes del primer trimestre\n",
    "* Els mesos del primer trimestre\n",
    "* Setembre i octubre"
   ]
  },
  {
   "cell_type": "markdown",
   "metadata": {},
   "source": [
    "**El segon mes del primer trimestre:**"
   ]
  },
  {
   "cell_type": "code",
   "execution_count": 3,
   "metadata": {
    "ExecuteTime": {
     "end_time": "2021-04-15T07:55:07.341988Z",
     "start_time": "2021-04-15T07:55:07.316982Z"
    }
   },
   "outputs": [
    {
     "data": {
      "text/plain": [
       "'febrero'"
      ]
     },
     "execution_count": 3,
     "metadata": {},
     "output_type": "execute_result"
    }
   ],
   "source": [
    "meses[0][1]"
   ]
  },
  {
   "cell_type": "markdown",
   "metadata": {},
   "source": [
    "**Els mesos del primer trimestre**"
   ]
  },
  {
   "cell_type": "code",
   "execution_count": 4,
   "metadata": {
    "ExecuteTime": {
     "end_time": "2021-04-15T07:55:07.373994Z",
     "start_time": "2021-04-15T07:55:07.345989Z"
    }
   },
   "outputs": [
    {
     "name": "stdout",
     "output_type": "stream",
     "text": [
      "enero\n",
      "febrero\n",
      "marzo\n"
     ]
    }
   ],
   "source": [
    "for m in meses[0]:\n",
    "    print(m)"
   ]
  },
  {
   "cell_type": "markdown",
   "metadata": {},
   "source": [
    "**Setembre i Octubre**"
   ]
  },
  {
   "cell_type": "code",
   "execution_count": 5,
   "metadata": {
    "ExecuteTime": {
     "end_time": "2021-04-15T07:55:07.406003Z",
     "start_time": "2021-04-15T07:55:07.382999Z"
    }
   },
   "outputs": [
    {
     "data": {
      "text/plain": [
       "'septiembre'"
      ]
     },
     "execution_count": 5,
     "metadata": {},
     "output_type": "execute_result"
    }
   ],
   "source": [
    "meses[2][2]"
   ]
  },
  {
   "cell_type": "code",
   "execution_count": 6,
   "metadata": {
    "ExecuteTime": {
     "end_time": "2021-04-15T07:55:07.437013Z",
     "start_time": "2021-04-15T07:55:07.415006Z"
    }
   },
   "outputs": [
    {
     "data": {
      "text/plain": [
       "'octubre'"
      ]
     },
     "execution_count": 6,
     "metadata": {},
     "output_type": "execute_result"
    }
   ],
   "source": [
    "meses[3][0]"
   ]
  },
  {
   "cell_type": "markdown",
   "metadata": {},
   "source": [
    "**Extra**"
   ]
  },
  {
   "cell_type": "code",
   "execution_count": 7,
   "metadata": {
    "ExecuteTime": {
     "end_time": "2021-04-15T07:55:07.453016Z",
     "start_time": "2021-04-15T07:55:07.444015Z"
    }
   },
   "outputs": [],
   "source": [
    "def pickMonth(meses=meses):\n",
    "    trimestre = int(input('Escoje el trimestre (0 a 3): '))\n",
    "    posicion_mes = int(input('Escoje el numero del mes (0 a 2): '))\n",
    "    print(f'\\n Es mes escojido es: {meses[trimestre][posicion_mes].upper()}')"
   ]
  },
  {
   "cell_type": "code",
   "execution_count": 8,
   "metadata": {
    "ExecuteTime": {
     "end_time": "2021-04-15T07:55:19.775192Z",
     "start_time": "2021-04-15T07:55:07.465020Z"
    }
   },
   "outputs": [
    {
     "name": "stdout",
     "output_type": "stream",
     "text": [
      "Escoje el trimestre (0 a 3): 3\n",
      "Escoje el numero del mes (0 a 2): 2\n",
      "\n",
      " Es mes escojido es: DICIEMBRE\n"
     ]
    }
   ],
   "source": [
    "pickMonth()"
   ]
  },
  {
   "cell_type": "markdown",
   "metadata": {
    "ExecuteTime": {
     "end_time": "2021-04-08T07:42:19.734927Z",
     "start_time": "2021-04-08T07:42:19.723926Z"
    }
   },
   "source": [
    "# Exercici 3"
   ]
  },
  {
   "cell_type": "markdown",
   "metadata": {},
   "source": [
    "#### Crea una llista amb nombres desordenats i respon a les següents preguntes:\n",
    "\n",
    "* Quants números hi ha?\n",
    "* Quantes vegades apareix el número 3\n",
    "* Quantes vegades apareixen els nombres 3 i 4?\n",
    "* Quin és el número més gran?\n",
    "* Quins són els 3 números més petits?\n",
    "* Quin és el rang d’aquesta llista?"
   ]
  },
  {
   "cell_type": "code",
   "execution_count": 9,
   "metadata": {
    "ExecuteTime": {
     "end_time": "2021-04-15T07:55:20.286305Z",
     "start_time": "2021-04-15T07:55:19.778182Z"
    }
   },
   "outputs": [],
   "source": [
    "from numpy import random"
   ]
  },
  {
   "cell_type": "code",
   "execution_count": 32,
   "metadata": {
    "ExecuteTime": {
     "end_time": "2021-04-15T08:00:32.102811Z",
     "start_time": "2021-04-15T08:00:32.090807Z"
    }
   },
   "outputs": [
    {
     "data": {
      "text/plain": [
       "array([42, 30, 10, 31, 43,  7,  9, 31, 31,  9, 16, 12, 32,  2, 29,  8, 44,\n",
       "       18, 12, 27, 21,  8, 48, 35, 14])"
      ]
     },
     "execution_count": 32,
     "metadata": {},
     "output_type": "execute_result"
    }
   ],
   "source": [
    "numbers = random.randint(0, 50, 25)\n",
    "numbers"
   ]
  },
  {
   "cell_type": "markdown",
   "metadata": {},
   "source": [
    "**Quants números hi ha?**"
   ]
  },
  {
   "cell_type": "code",
   "execution_count": 33,
   "metadata": {
    "ExecuteTime": {
     "end_time": "2021-04-15T08:00:34.652201Z",
     "start_time": "2021-04-15T08:00:34.643198Z"
    }
   },
   "outputs": [
    {
     "data": {
      "text/plain": [
       "25"
      ]
     },
     "execution_count": 33,
     "metadata": {},
     "output_type": "execute_result"
    }
   ],
   "source": [
    "len(numbers)"
   ]
  },
  {
   "cell_type": "markdown",
   "metadata": {},
   "source": [
    "**Quantes vegades apareix el número 3**"
   ]
  },
  {
   "cell_type": "code",
   "execution_count": 34,
   "metadata": {
    "ExecuteTime": {
     "end_time": "2021-04-15T08:00:36.648752Z",
     "start_time": "2021-04-15T08:00:36.623748Z"
    }
   },
   "outputs": [
    {
     "data": {
      "text/plain": [
       "0"
      ]
     },
     "execution_count": 34,
     "metadata": {},
     "output_type": "execute_result"
    }
   ],
   "source": [
    "count_three = 0\n",
    "for n in numbers:\n",
    "    if n == 3:\n",
    "        count_three += 1\n",
    "count_three        "
   ]
  },
  {
   "cell_type": "markdown",
   "metadata": {},
   "source": [
    "**Quantes vegades apareixen els nombres 3 i 4?**"
   ]
  },
  {
   "cell_type": "code",
   "execution_count": 36,
   "metadata": {
    "ExecuteTime": {
     "end_time": "2021-04-15T08:06:55.209552Z",
     "start_time": "2021-04-15T08:06:55.191545Z"
    }
   },
   "outputs": [
    {
     "data": {
      "text/plain": [
       "0"
      ]
     },
     "execution_count": 36,
     "metadata": {},
     "output_type": "execute_result"
    }
   ],
   "source": [
    "count_four = 0\n",
    "for n in numbers:\n",
    "    if n == 4:\n",
    "        count_four += 1\n",
    "        \n",
    "count_four + count_three"
   ]
  },
  {
   "cell_type": "markdown",
   "metadata": {},
   "source": [
    "**Quin és el número més gran?**"
   ]
  },
  {
   "cell_type": "code",
   "execution_count": 14,
   "metadata": {
    "ExecuteTime": {
     "end_time": "2021-04-15T07:55:20.490360Z",
     "start_time": "2021-04-15T07:55:20.476357Z"
    }
   },
   "outputs": [
    {
     "data": {
      "text/plain": [
       "48"
      ]
     },
     "execution_count": 14,
     "metadata": {},
     "output_type": "execute_result"
    }
   ],
   "source": [
    "max(numbers)"
   ]
  },
  {
   "cell_type": "markdown",
   "metadata": {},
   "source": [
    "**Quins són els 3 números més petits?**"
   ]
  },
  {
   "cell_type": "code",
   "execution_count": 15,
   "metadata": {
    "ExecuteTime": {
     "end_time": "2021-04-15T07:55:20.522369Z",
     "start_time": "2021-04-15T07:55:20.501362Z"
    }
   },
   "outputs": [],
   "source": [
    "numbers.sort()"
   ]
  },
  {
   "cell_type": "markdown",
   "metadata": {},
   "source": [
    "Repetidos"
   ]
  },
  {
   "cell_type": "code",
   "execution_count": 16,
   "metadata": {
    "ExecuteTime": {
     "end_time": "2021-04-15T07:55:20.583410Z",
     "start_time": "2021-04-15T07:55:20.537373Z"
    }
   },
   "outputs": [
    {
     "data": {
      "text/plain": [
       "array([0, 1, 5])"
      ]
     },
     "execution_count": 16,
     "metadata": {},
     "output_type": "execute_result"
    }
   ],
   "source": [
    "numbers[:3]"
   ]
  },
  {
   "cell_type": "markdown",
   "metadata": {},
   "source": [
    "Sin repetir"
   ]
  },
  {
   "cell_type": "code",
   "execution_count": 17,
   "metadata": {
    "ExecuteTime": {
     "end_time": "2021-04-15T07:55:20.616393Z",
     "start_time": "2021-04-15T07:55:20.595412Z"
    }
   },
   "outputs": [
    {
     "data": {
      "text/plain": [
       "[0, 1, 5]"
      ]
     },
     "execution_count": 17,
     "metadata": {},
     "output_type": "execute_result"
    }
   ],
   "source": [
    "list(set(numbers))[:3]"
   ]
  },
  {
   "cell_type": "markdown",
   "metadata": {
    "ExecuteTime": {
     "end_time": "2021-04-08T08:53:37.917915Z",
     "start_time": "2021-04-08T08:53:37.899891Z"
    }
   },
   "source": [
    "**Quin és el rang d’aquesta llista?**"
   ]
  },
  {
   "cell_type": "code",
   "execution_count": 18,
   "metadata": {
    "ExecuteTime": {
     "end_time": "2021-04-15T07:55:20.646400Z",
     "start_time": "2021-04-15T07:55:20.624395Z"
    }
   },
   "outputs": [
    {
     "data": {
      "text/plain": [
       "48"
      ]
     },
     "execution_count": 18,
     "metadata": {},
     "output_type": "execute_result"
    }
   ],
   "source": [
    "max(numbers)-min(numbers)"
   ]
  },
  {
   "cell_type": "markdown",
   "metadata": {
    "ExecuteTime": {
     "end_time": "2021-04-08T09:01:15.777502Z",
     "start_time": "2021-04-08T09:01:15.559445Z"
    }
   },
   "source": [
    "# Exercici 4"
   ]
  },
  {
   "cell_type": "markdown",
   "metadata": {
    "ExecuteTime": {
     "end_time": "2021-04-08T08:54:09.566334Z",
     "start_time": "2021-04-08T08:54:09.540329Z"
    }
   },
   "source": [
    "#### Crea un diccionari de la següent forma i respon a les preguntes:\n",
    "\n",
    "#### compra = { \"Pomes\" : {\"Qty\": 5, \"€\": 0.42}, \"Peres\" : {\"Qty\": 3, \"€\": 0.66} }\n",
    "\n",
    "* Afegeix alguna fruita més\n",
    "* Quant han costat les peres en total?\n",
    "* Quantes fruites hem comprat en total?\n",
    "* Quina és la fruita més cara?"
   ]
  },
  {
   "cell_type": "markdown",
   "metadata": {},
   "source": [
    "**Afegeix alguna fruita més**"
   ]
  },
  {
   "cell_type": "code",
   "execution_count": 19,
   "metadata": {
    "ExecuteTime": {
     "end_time": "2021-04-15T07:55:20.685410Z",
     "start_time": "2021-04-15T07:55:20.653400Z"
    }
   },
   "outputs": [],
   "source": [
    "compra = {\"Pomes\" : {\"Qty\": 5, \"€\": 0.42}, \"Peres\" : {\"Qty\": 3, \"€\": 0.66}}"
   ]
  },
  {
   "cell_type": "code",
   "execution_count": 20,
   "metadata": {
    "ExecuteTime": {
     "end_time": "2021-04-15T07:55:20.725421Z",
     "start_time": "2021-04-15T07:55:20.698412Z"
    }
   },
   "outputs": [],
   "source": [
    "compra_2 = {\"Naranja\" : {\"Qty\": 12, \"€\": 0.25}, \n",
    "            \"Calabacín\" : {\"Qty\": 3, \"€\": 0.85}, \n",
    "            \"Aguacate\" : {\"Qty\": 2, \"€\": 1.25}}"
   ]
  },
  {
   "cell_type": "code",
   "execution_count": 21,
   "metadata": {
    "ExecuteTime": {
     "end_time": "2021-04-15T07:55:20.756428Z",
     "start_time": "2021-04-15T07:55:20.737422Z"
    }
   },
   "outputs": [],
   "source": [
    "compra.update(compra_2)"
   ]
  },
  {
   "cell_type": "code",
   "execution_count": 22,
   "metadata": {
    "ExecuteTime": {
     "end_time": "2021-04-15T07:55:20.788436Z",
     "start_time": "2021-04-15T07:55:20.762450Z"
    }
   },
   "outputs": [
    {
     "data": {
      "text/plain": [
       "{'Pomes': {'Qty': 5, '€': 0.42},\n",
       " 'Peres': {'Qty': 3, '€': 0.66},\n",
       " 'Naranja': {'Qty': 12, '€': 0.25},\n",
       " 'Calabacín': {'Qty': 3, '€': 0.85},\n",
       " 'Aguacate': {'Qty': 2, '€': 1.25}}"
      ]
     },
     "execution_count": 22,
     "metadata": {},
     "output_type": "execute_result"
    }
   ],
   "source": [
    "compra"
   ]
  },
  {
   "cell_type": "markdown",
   "metadata": {},
   "source": [
    "**Quant han costat les peres en total?**"
   ]
  },
  {
   "cell_type": "code",
   "execution_count": 23,
   "metadata": {
    "ExecuteTime": {
     "end_time": "2021-04-15T07:55:20.820445Z",
     "start_time": "2021-04-15T07:55:20.796437Z"
    }
   },
   "outputs": [
    {
     "data": {
      "text/plain": [
       "1.98"
      ]
     },
     "execution_count": 23,
     "metadata": {},
     "output_type": "execute_result"
    }
   ],
   "source": [
    "compra['Peres']['Qty']*compra['Peres']['€']"
   ]
  },
  {
   "cell_type": "markdown",
   "metadata": {},
   "source": [
    "**Quantes fruites hem comprat en total?**"
   ]
  },
  {
   "cell_type": "code",
   "execution_count": 24,
   "metadata": {
    "ExecuteTime": {
     "end_time": "2021-04-15T07:55:20.884459Z",
     "start_time": "2021-04-15T07:55:20.859451Z"
    }
   },
   "outputs": [
    {
     "name": "stdout",
     "output_type": "stream",
     "text": [
      "Hemos comprado 5 tipos de fruta.\n"
     ]
    }
   ],
   "source": [
    "print(f'Hemos comprado {len(compra.keys())} tipos de fruta.')"
   ]
  },
  {
   "cell_type": "code",
   "execution_count": 25,
   "metadata": {
    "ExecuteTime": {
     "end_time": "2021-04-15T07:55:20.917467Z",
     "start_time": "2021-04-15T07:55:20.892463Z"
    }
   },
   "outputs": [
    {
     "name": "stdout",
     "output_type": "stream",
     "text": [
      "Hemos comprado 25 frutas\n"
     ]
    }
   ],
   "source": [
    "tot_frutas = 0\n",
    "for i in compra.items():\n",
    "    tot_frutas += i[1]['Qty']\n",
    "\n",
    "print(f'Hemos comprado {tot_frutas} frutas')"
   ]
  },
  {
   "cell_type": "markdown",
   "metadata": {},
   "source": [
    "**Quina és la fruita més cara?**"
   ]
  },
  {
   "cell_type": "code",
   "execution_count": 26,
   "metadata": {
    "ExecuteTime": {
     "end_time": "2021-04-15T07:55:20.948476Z",
     "start_time": "2021-04-15T07:55:20.925469Z"
    }
   },
   "outputs": [],
   "source": [
    "def frutaMasCara(dic_frutas):\n",
    "    precios = []\n",
    "    for i in dic_frutas.items():\n",
    "        precios.append(i[1]['€'])\n",
    "    for i in dic_frutas.items():\n",
    "        if i[1]['€'] == max(precios):\n",
    "            print(i[0], i[1]['€'])"
   ]
  },
  {
   "cell_type": "code",
   "execution_count": 27,
   "metadata": {
    "ExecuteTime": {
     "end_time": "2021-04-15T07:55:20.996488Z",
     "start_time": "2021-04-15T07:55:20.969485Z"
    }
   },
   "outputs": [
    {
     "name": "stdout",
     "output_type": "stream",
     "text": [
      "Aguacate 1.25\n"
     ]
    }
   ],
   "source": [
    "frutaMasCara(compra)"
   ]
  }
 ],
 "metadata": {
  "kernelspec": {
   "display_name": "Python 3",
   "language": "python",
   "name": "python3"
  },
  "language_info": {
   "codemirror_mode": {
    "name": "ipython",
    "version": 3
   },
   "file_extension": ".py",
   "mimetype": "text/x-python",
   "name": "python",
   "nbconvert_exporter": "python",
   "pygments_lexer": "ipython3",
   "version": "3.8.5"
  }
 },
 "nbformat": 4,
 "nbformat_minor": 4
}
