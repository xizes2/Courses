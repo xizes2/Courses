{
 "cells": [
  {
   "cell_type": "markdown",
   "metadata": {},
   "source": [
    "# Nivell 1\n",
    "## Exercici 1\n",
    "#### Crea almenys tres models de regressió diferents per intentar predir el millor possible l’endarreriment dels vols (ArrDelay) de DelayedFlights.csv."
   ]
  },
  {
   "cell_type": "code",
   "execution_count": 89,
   "metadata": {
    "ExecuteTime": {
     "end_time": "2021-06-16T18:39:07.599834Z",
     "start_time": "2021-06-16T18:39:07.583830Z"
    }
   },
   "outputs": [],
   "source": [
    "import pandas as pd\n",
    "import numpy as np\n",
    "import matplotlib.pyplot as plt\n",
    "%matplotlib inline"
   ]
  },
  {
   "cell_type": "code",
   "execution_count": 2,
   "metadata": {
    "ExecuteTime": {
     "end_time": "2021-06-15T19:48:26.851087Z",
     "start_time": "2021-06-15T19:48:17.911169Z"
    }
   },
   "outputs": [],
   "source": [
    "df_delay = pd.read_csv('C:/Users/xizes/DelayedFlights.csv')"
   ]
  },
  {
   "cell_type": "code",
   "execution_count": 3,
   "metadata": {
    "ExecuteTime": {
     "end_time": "2021-06-15T19:48:27.057458Z",
     "start_time": "2021-06-15T19:48:26.851087Z"
    }
   },
   "outputs": [
    {
     "data": {
      "text/html": [
       "<div>\n",
       "<style scoped>\n",
       "    .dataframe tbody tr th:only-of-type {\n",
       "        vertical-align: middle;\n",
       "    }\n",
       "\n",
       "    .dataframe tbody tr th {\n",
       "        vertical-align: top;\n",
       "    }\n",
       "\n",
       "    .dataframe thead th {\n",
       "        text-align: right;\n",
       "    }\n",
       "</style>\n",
       "<table border=\"1\" class=\"dataframe\">\n",
       "  <thead>\n",
       "    <tr style=\"text-align: right;\">\n",
       "      <th></th>\n",
       "      <th>Unnamed: 0</th>\n",
       "      <th>Year</th>\n",
       "      <th>Month</th>\n",
       "      <th>DayofMonth</th>\n",
       "      <th>DayOfWeek</th>\n",
       "      <th>DepTime</th>\n",
       "      <th>CRSDepTime</th>\n",
       "      <th>ArrTime</th>\n",
       "      <th>CRSArrTime</th>\n",
       "      <th>UniqueCarrier</th>\n",
       "      <th>FlightNum</th>\n",
       "      <th>TailNum</th>\n",
       "      <th>ActualElapsedTime</th>\n",
       "      <th>CRSElapsedTime</th>\n",
       "      <th>AirTime</th>\n",
       "      <th>ArrDelay</th>\n",
       "      <th>DepDelay</th>\n",
       "      <th>Origin</th>\n",
       "      <th>Dest</th>\n",
       "      <th>Distance</th>\n",
       "      <th>TaxiIn</th>\n",
       "      <th>TaxiOut</th>\n",
       "      <th>Cancelled</th>\n",
       "      <th>CancellationCode</th>\n",
       "      <th>Diverted</th>\n",
       "      <th>CarrierDelay</th>\n",
       "      <th>WeatherDelay</th>\n",
       "      <th>NASDelay</th>\n",
       "      <th>SecurityDelay</th>\n",
       "      <th>LateAircraftDelay</th>\n",
       "    </tr>\n",
       "  </thead>\n",
       "  <tbody>\n",
       "    <tr>\n",
       "      <th>0</th>\n",
       "      <td>0</td>\n",
       "      <td>2008</td>\n",
       "      <td>1</td>\n",
       "      <td>3</td>\n",
       "      <td>4</td>\n",
       "      <td>2003.0</td>\n",
       "      <td>1955</td>\n",
       "      <td>2211.0</td>\n",
       "      <td>2225</td>\n",
       "      <td>WN</td>\n",
       "      <td>335</td>\n",
       "      <td>N712SW</td>\n",
       "      <td>128.0</td>\n",
       "      <td>150.0</td>\n",
       "      <td>116.0</td>\n",
       "      <td>-14.0</td>\n",
       "      <td>8.0</td>\n",
       "      <td>IAD</td>\n",
       "      <td>TPA</td>\n",
       "      <td>810</td>\n",
       "      <td>4.0</td>\n",
       "      <td>8.0</td>\n",
       "      <td>0</td>\n",
       "      <td>N</td>\n",
       "      <td>0</td>\n",
       "      <td>NaN</td>\n",
       "      <td>NaN</td>\n",
       "      <td>NaN</td>\n",
       "      <td>NaN</td>\n",
       "      <td>NaN</td>\n",
       "    </tr>\n",
       "    <tr>\n",
       "      <th>1</th>\n",
       "      <td>1</td>\n",
       "      <td>2008</td>\n",
       "      <td>1</td>\n",
       "      <td>3</td>\n",
       "      <td>4</td>\n",
       "      <td>754.0</td>\n",
       "      <td>735</td>\n",
       "      <td>1002.0</td>\n",
       "      <td>1000</td>\n",
       "      <td>WN</td>\n",
       "      <td>3231</td>\n",
       "      <td>N772SW</td>\n",
       "      <td>128.0</td>\n",
       "      <td>145.0</td>\n",
       "      <td>113.0</td>\n",
       "      <td>2.0</td>\n",
       "      <td>19.0</td>\n",
       "      <td>IAD</td>\n",
       "      <td>TPA</td>\n",
       "      <td>810</td>\n",
       "      <td>5.0</td>\n",
       "      <td>10.0</td>\n",
       "      <td>0</td>\n",
       "      <td>N</td>\n",
       "      <td>0</td>\n",
       "      <td>NaN</td>\n",
       "      <td>NaN</td>\n",
       "      <td>NaN</td>\n",
       "      <td>NaN</td>\n",
       "      <td>NaN</td>\n",
       "    </tr>\n",
       "    <tr>\n",
       "      <th>2</th>\n",
       "      <td>2</td>\n",
       "      <td>2008</td>\n",
       "      <td>1</td>\n",
       "      <td>3</td>\n",
       "      <td>4</td>\n",
       "      <td>628.0</td>\n",
       "      <td>620</td>\n",
       "      <td>804.0</td>\n",
       "      <td>750</td>\n",
       "      <td>WN</td>\n",
       "      <td>448</td>\n",
       "      <td>N428WN</td>\n",
       "      <td>96.0</td>\n",
       "      <td>90.0</td>\n",
       "      <td>76.0</td>\n",
       "      <td>14.0</td>\n",
       "      <td>8.0</td>\n",
       "      <td>IND</td>\n",
       "      <td>BWI</td>\n",
       "      <td>515</td>\n",
       "      <td>3.0</td>\n",
       "      <td>17.0</td>\n",
       "      <td>0</td>\n",
       "      <td>N</td>\n",
       "      <td>0</td>\n",
       "      <td>NaN</td>\n",
       "      <td>NaN</td>\n",
       "      <td>NaN</td>\n",
       "      <td>NaN</td>\n",
       "      <td>NaN</td>\n",
       "    </tr>\n",
       "    <tr>\n",
       "      <th>3</th>\n",
       "      <td>4</td>\n",
       "      <td>2008</td>\n",
       "      <td>1</td>\n",
       "      <td>3</td>\n",
       "      <td>4</td>\n",
       "      <td>1829.0</td>\n",
       "      <td>1755</td>\n",
       "      <td>1959.0</td>\n",
       "      <td>1925</td>\n",
       "      <td>WN</td>\n",
       "      <td>3920</td>\n",
       "      <td>N464WN</td>\n",
       "      <td>90.0</td>\n",
       "      <td>90.0</td>\n",
       "      <td>77.0</td>\n",
       "      <td>34.0</td>\n",
       "      <td>34.0</td>\n",
       "      <td>IND</td>\n",
       "      <td>BWI</td>\n",
       "      <td>515</td>\n",
       "      <td>3.0</td>\n",
       "      <td>10.0</td>\n",
       "      <td>0</td>\n",
       "      <td>N</td>\n",
       "      <td>0</td>\n",
       "      <td>2.0</td>\n",
       "      <td>0.0</td>\n",
       "      <td>0.0</td>\n",
       "      <td>0.0</td>\n",
       "      <td>32.0</td>\n",
       "    </tr>\n",
       "    <tr>\n",
       "      <th>4</th>\n",
       "      <td>5</td>\n",
       "      <td>2008</td>\n",
       "      <td>1</td>\n",
       "      <td>3</td>\n",
       "      <td>4</td>\n",
       "      <td>1940.0</td>\n",
       "      <td>1915</td>\n",
       "      <td>2121.0</td>\n",
       "      <td>2110</td>\n",
       "      <td>WN</td>\n",
       "      <td>378</td>\n",
       "      <td>N726SW</td>\n",
       "      <td>101.0</td>\n",
       "      <td>115.0</td>\n",
       "      <td>87.0</td>\n",
       "      <td>11.0</td>\n",
       "      <td>25.0</td>\n",
       "      <td>IND</td>\n",
       "      <td>JAX</td>\n",
       "      <td>688</td>\n",
       "      <td>4.0</td>\n",
       "      <td>10.0</td>\n",
       "      <td>0</td>\n",
       "      <td>N</td>\n",
       "      <td>0</td>\n",
       "      <td>NaN</td>\n",
       "      <td>NaN</td>\n",
       "      <td>NaN</td>\n",
       "      <td>NaN</td>\n",
       "      <td>NaN</td>\n",
       "    </tr>\n",
       "  </tbody>\n",
       "</table>\n",
       "</div>"
      ],
      "text/plain": [
       "   Unnamed: 0  Year  Month  DayofMonth  DayOfWeek  DepTime  CRSDepTime  \\\n",
       "0           0  2008      1           3          4   2003.0        1955   \n",
       "1           1  2008      1           3          4    754.0         735   \n",
       "2           2  2008      1           3          4    628.0         620   \n",
       "3           4  2008      1           3          4   1829.0        1755   \n",
       "4           5  2008      1           3          4   1940.0        1915   \n",
       "\n",
       "   ArrTime  CRSArrTime UniqueCarrier  FlightNum TailNum  ActualElapsedTime  \\\n",
       "0   2211.0        2225            WN        335  N712SW              128.0   \n",
       "1   1002.0        1000            WN       3231  N772SW              128.0   \n",
       "2    804.0         750            WN        448  N428WN               96.0   \n",
       "3   1959.0        1925            WN       3920  N464WN               90.0   \n",
       "4   2121.0        2110            WN        378  N726SW              101.0   \n",
       "\n",
       "   CRSElapsedTime  AirTime  ArrDelay  DepDelay Origin Dest  Distance  TaxiIn  \\\n",
       "0           150.0    116.0     -14.0       8.0    IAD  TPA       810     4.0   \n",
       "1           145.0    113.0       2.0      19.0    IAD  TPA       810     5.0   \n",
       "2            90.0     76.0      14.0       8.0    IND  BWI       515     3.0   \n",
       "3            90.0     77.0      34.0      34.0    IND  BWI       515     3.0   \n",
       "4           115.0     87.0      11.0      25.0    IND  JAX       688     4.0   \n",
       "\n",
       "   TaxiOut  Cancelled CancellationCode  Diverted  CarrierDelay  WeatherDelay  \\\n",
       "0      8.0          0                N         0           NaN           NaN   \n",
       "1     10.0          0                N         0           NaN           NaN   \n",
       "2     17.0          0                N         0           NaN           NaN   \n",
       "3     10.0          0                N         0           2.0           0.0   \n",
       "4     10.0          0                N         0           NaN           NaN   \n",
       "\n",
       "   NASDelay  SecurityDelay  LateAircraftDelay  \n",
       "0       NaN            NaN                NaN  \n",
       "1       NaN            NaN                NaN  \n",
       "2       NaN            NaN                NaN  \n",
       "3       0.0            0.0               32.0  \n",
       "4       NaN            NaN                NaN  "
      ]
     },
     "execution_count": 3,
     "metadata": {},
     "output_type": "execute_result"
    }
   ],
   "source": [
    "pd.set_option('display.max_columns', None)\n",
    "df_delay.head()"
   ]
  },
  {
   "cell_type": "code",
   "execution_count": 4,
   "metadata": {
    "ExecuteTime": {
     "end_time": "2021-06-15T19:48:27.073462Z",
     "start_time": "2021-06-15T19:48:27.064459Z"
    }
   },
   "outputs": [
    {
     "data": {
      "text/plain": [
       "(1936758, 30)"
      ]
     },
     "execution_count": 4,
     "metadata": {},
     "output_type": "execute_result"
    }
   ],
   "source": [
    "df_delay.shape"
   ]
  },
  {
   "cell_type": "markdown",
   "metadata": {},
   "source": [
    "## Pre-Processing"
   ]
  },
  {
   "cell_type": "markdown",
   "metadata": {},
   "source": [
    "### Try different treatment with NaN values\n",
    "\n",
    "I´ll try 3 different aproaches regarding the treatment of NaN values for each model:\n",
    "1. Simply removing all NaN values from the df.\n",
    "2. Fill all NaN values with 0.\n",
    "3. Fill NaN values with 0 on columns [CarrierDelay, WeatherDelay, NASDelay, SecurityDelay, LateAircraftDelay] and then eliminate all rows containing NaN values."
   ]
  },
  {
   "cell_type": "code",
   "execution_count": 5,
   "metadata": {
    "ExecuteTime": {
     "end_time": "2021-06-15T19:48:28.056041Z",
     "start_time": "2021-06-15T19:48:27.084504Z"
    }
   },
   "outputs": [
    {
     "data": {
      "text/plain": [
       "Unnamed: 0                0\n",
       "Year                      0\n",
       "Month                     0\n",
       "DayofMonth                0\n",
       "DayOfWeek                 0\n",
       "DepTime                   0\n",
       "CRSDepTime                0\n",
       "ArrTime                7110\n",
       "CRSArrTime                0\n",
       "UniqueCarrier             0\n",
       "FlightNum                 0\n",
       "TailNum                   5\n",
       "ActualElapsedTime      8387\n",
       "CRSElapsedTime          198\n",
       "AirTime                8387\n",
       "ArrDelay               8387\n",
       "DepDelay                  0\n",
       "Origin                    0\n",
       "Dest                      0\n",
       "Distance                  0\n",
       "TaxiIn                 7110\n",
       "TaxiOut                 455\n",
       "Cancelled                 0\n",
       "CancellationCode          0\n",
       "Diverted                  0\n",
       "CarrierDelay         689270\n",
       "WeatherDelay         689270\n",
       "NASDelay             689270\n",
       "SecurityDelay        689270\n",
       "LateAircraftDelay    689270\n",
       "dtype: int64"
      ]
     },
     "execution_count": 5,
     "metadata": {},
     "output_type": "execute_result"
    }
   ],
   "source": [
    "#Check original amount of NaN values on df\n",
    "df_delay.isna().sum()"
   ]
  },
  {
   "cell_type": "code",
   "execution_count": 6,
   "metadata": {
    "ExecuteTime": {
     "end_time": "2021-06-15T19:48:32.940247Z",
     "start_time": "2021-06-15T19:48:28.056041Z"
    }
   },
   "outputs": [
    {
     "data": {
      "text/plain": [
       "Unnamed: 0           0.002571\n",
       "Year                      NaN\n",
       "Month               -0.000897\n",
       "DayofMonth           0.004129\n",
       "DayOfWeek            0.006123\n",
       "DepTime              0.127017\n",
       "CRSDepTime           0.044447\n",
       "ArrTime             -0.050948\n",
       "CRSArrTime           0.043078\n",
       "FlightNum            0.061266\n",
       "ActualElapsedTime    0.068130\n",
       "CRSElapsedTime      -0.015676\n",
       "AirTime             -0.000189\n",
       "ArrDelay             1.000000\n",
       "DepDelay             0.952927\n",
       "Distance            -0.029853\n",
       "TaxiIn               0.156277\n",
       "TaxiOut              0.286484\n",
       "Cancelled                 NaN\n",
       "Diverted                  NaN\n",
       "CarrierDelay         0.501773\n",
       "WeatherDelay         0.264624\n",
       "NASDelay             0.387606\n",
       "SecurityDelay       -0.002488\n",
       "LateAircraftDelay    0.478123\n",
       "dtype: float64"
      ]
     },
     "execution_count": 6,
     "metadata": {},
     "output_type": "execute_result"
    }
   ],
   "source": [
    "#Check correlation of target variable (ArrDelay) with other columns on original df\n",
    "df_delay.corrwith(df_delay['ArrDelay'])"
   ]
  },
  {
   "cell_type": "markdown",
   "metadata": {},
   "source": [
    "**1 - Remove all NaN values and run corr again**"
   ]
  },
  {
   "cell_type": "code",
   "execution_count": 7,
   "metadata": {
    "ExecuteTime": {
     "end_time": "2021-06-15T19:48:35.356911Z",
     "start_time": "2021-06-15T19:48:32.953230Z"
    }
   },
   "outputs": [],
   "source": [
    "df_delay_no_nan = df_delay.dropna()"
   ]
  },
  {
   "cell_type": "code",
   "execution_count": 8,
   "metadata": {
    "ExecuteTime": {
     "end_time": "2021-06-15T19:48:35.404927Z",
     "start_time": "2021-06-15T19:48:35.380921Z"
    }
   },
   "outputs": [
    {
     "data": {
      "text/plain": [
       "(1247486, 30)"
      ]
     },
     "execution_count": 8,
     "metadata": {},
     "output_type": "execute_result"
    }
   ],
   "source": [
    "df_delay_no_nan.shape"
   ]
  },
  {
   "cell_type": "code",
   "execution_count": 9,
   "metadata": {
    "ExecuteTime": {
     "end_time": "2021-06-15T19:48:42.104785Z",
     "start_time": "2021-06-15T19:48:35.428929Z"
    }
   },
   "outputs": [
    {
     "data": {
      "text/plain": [
       "Unnamed: 0           0.015138\n",
       "Year                      NaN\n",
       "Month                0.012338\n",
       "DayofMonth           0.009072\n",
       "DayOfWeek            0.011901\n",
       "DepTime              0.093979\n",
       "CRSDepTime           0.017093\n",
       "ArrTime             -0.079235\n",
       "CRSArrTime           0.024998\n",
       "FlightNum            0.035803\n",
       "ActualElapsedTime    0.083738\n",
       "CRSElapsedTime       0.031566\n",
       "AirTime              0.027509\n",
       "ArrDelay             1.000000\n",
       "DepDelay             0.950323\n",
       "Distance             0.014959\n",
       "TaxiIn               0.116314\n",
       "TaxiOut              0.208441\n",
       "Cancelled                 NaN\n",
       "Diverted                  NaN\n",
       "CarrierDelay         0.501777\n",
       "WeatherDelay         0.264604\n",
       "NASDelay             0.387609\n",
       "SecurityDelay       -0.002488\n",
       "LateAircraftDelay    0.478127\n",
       "dtype: float64"
      ]
     },
     "execution_count": 9,
     "metadata": {},
     "output_type": "execute_result"
    }
   ],
   "source": [
    "df_delay_no_nan.corrwith(df_delay['ArrDelay'])"
   ]
  },
  {
   "cell_type": "markdown",
   "metadata": {},
   "source": [
    "**2 - Fill all NaN values with 0 and run corr again**"
   ]
  },
  {
   "cell_type": "code",
   "execution_count": 10,
   "metadata": {
    "ExecuteTime": {
     "end_time": "2021-06-15T19:48:43.334489Z",
     "start_time": "2021-06-15T19:48:42.115688Z"
    }
   },
   "outputs": [],
   "source": [
    "df_delay_fillna = df_delay.fillna(value=0)"
   ]
  },
  {
   "cell_type": "code",
   "execution_count": 11,
   "metadata": {
    "ExecuteTime": {
     "end_time": "2021-06-15T19:48:44.202070Z",
     "start_time": "2021-06-15T19:48:43.334489Z"
    }
   },
   "outputs": [
    {
     "data": {
      "text/plain": [
       "Unnamed: 0           0\n",
       "Year                 0\n",
       "Month                0\n",
       "DayofMonth           0\n",
       "DayOfWeek            0\n",
       "DepTime              0\n",
       "CRSDepTime           0\n",
       "ArrTime              0\n",
       "CRSArrTime           0\n",
       "UniqueCarrier        0\n",
       "FlightNum            0\n",
       "TailNum              0\n",
       "ActualElapsedTime    0\n",
       "CRSElapsedTime       0\n",
       "AirTime              0\n",
       "ArrDelay             0\n",
       "DepDelay             0\n",
       "Origin               0\n",
       "Dest                 0\n",
       "Distance             0\n",
       "TaxiIn               0\n",
       "TaxiOut              0\n",
       "Cancelled            0\n",
       "CancellationCode     0\n",
       "Diverted             0\n",
       "CarrierDelay         0\n",
       "WeatherDelay         0\n",
       "NASDelay             0\n",
       "SecurityDelay        0\n",
       "LateAircraftDelay    0\n",
       "dtype: int64"
      ]
     },
     "execution_count": 11,
     "metadata": {},
     "output_type": "execute_result"
    }
   ],
   "source": [
    "df_delay_fillna.isna().sum()"
   ]
  },
  {
   "cell_type": "code",
   "execution_count": 12,
   "metadata": {
    "ExecuteTime": {
     "end_time": "2021-06-15T19:48:47.393194Z",
     "start_time": "2021-06-15T19:48:44.210075Z"
    }
   },
   "outputs": [
    {
     "data": {
      "text/plain": [
       "Unnamed: 0           0.001867\n",
       "Year                      NaN\n",
       "Month               -0.001585\n",
       "DayofMonth           0.003996\n",
       "DayOfWeek            0.006166\n",
       "DepTime              0.126764\n",
       "CRSDepTime           0.044721\n",
       "ArrTime             -0.042054\n",
       "CRSArrTime           0.042888\n",
       "FlightNum            0.061064\n",
       "ActualElapsedTime    0.073452\n",
       "CRSElapsedTime      -0.016546\n",
       "AirTime              0.004856\n",
       "ArrDelay             1.000000\n",
       "DepDelay             0.946002\n",
       "Distance            -0.030672\n",
       "TaxiIn               0.158685\n",
       "TaxiOut              0.284354\n",
       "Cancelled           -0.013392\n",
       "Diverted            -0.046959\n",
       "CarrierDelay         0.545325\n",
       "WeatherDelay         0.277843\n",
       "NASDelay             0.451218\n",
       "SecurityDelay        0.011269\n",
       "LateAircraftDelay    0.557198\n",
       "dtype: float64"
      ]
     },
     "execution_count": 12,
     "metadata": {},
     "output_type": "execute_result"
    }
   ],
   "source": [
    "df_delay_fillna.corrwith(df_delay_fillna['ArrDelay'])"
   ]
  },
  {
   "cell_type": "markdown",
   "metadata": {},
   "source": [
    "**3 - Fill NaN values with 0 on columns [CarrierDelay, WeatherDelay, NASDelay, SecurityDelay, LateAircraftDelay] and then eliminate all rows containing NaN values**"
   ]
  },
  {
   "cell_type": "code",
   "execution_count": 13,
   "metadata": {
    "ExecuteTime": {
     "end_time": "2021-06-15T19:48:47.922872Z",
     "start_time": "2021-06-15T19:48:47.402199Z"
    }
   },
   "outputs": [],
   "source": [
    "#Create copy of the original df so I can manipulate it separately\n",
    "df_delay_fillna_nonan = df_delay.copy()"
   ]
  },
  {
   "cell_type": "code",
   "execution_count": 14,
   "metadata": {
    "ExecuteTime": {
     "end_time": "2021-06-15T19:48:48.321859Z",
     "start_time": "2021-06-15T19:48:47.928762Z"
    }
   },
   "outputs": [],
   "source": [
    "#Fill NaN values with 0 on selected columns\n",
    "df_delay_fillna_nonan[['CarrierDelay', 'WeatherDelay', 'NASDelay', 'SecurityDelay', 'LateAircraftDelay']] = df_delay_fillna_nonan[['CarrierDelay', 'WeatherDelay', 'NASDelay', 'SecurityDelay', 'LateAircraftDelay']].fillna(value=0)"
   ]
  },
  {
   "cell_type": "code",
   "execution_count": 15,
   "metadata": {
    "ExecuteTime": {
     "end_time": "2021-06-15T19:48:48.336867Z",
     "start_time": "2021-06-15T19:48:48.328863Z"
    },
    "scrolled": true
   },
   "outputs": [],
   "source": [
    "#Check NaN values\n",
    "#df_delay_fillna_nonan.isna().sum()"
   ]
  },
  {
   "cell_type": "code",
   "execution_count": 16,
   "metadata": {
    "ExecuteTime": {
     "end_time": "2021-06-15T19:48:50.050255Z",
     "start_time": "2021-06-15T19:48:48.364873Z"
    }
   },
   "outputs": [],
   "source": [
    "#Drop all rows with NaN values\n",
    "df_delay_fillna_nonan.dropna(inplace=True)"
   ]
  },
  {
   "cell_type": "code",
   "execution_count": 17,
   "metadata": {
    "ExecuteTime": {
     "end_time": "2021-06-15T19:48:50.066308Z",
     "start_time": "2021-06-15T19:48:50.050255Z"
    },
    "scrolled": true
   },
   "outputs": [],
   "source": [
    "#Check NaN values after \n",
    "#df_delay_fillna_nonan.isna().sum()"
   ]
  },
  {
   "cell_type": "code",
   "execution_count": 18,
   "metadata": {
    "ExecuteTime": {
     "end_time": "2021-06-15T19:48:52.115406Z",
     "start_time": "2021-06-15T19:48:50.099319Z"
    }
   },
   "outputs": [
    {
     "data": {
      "text/plain": [
       "Unnamed: 0           0.002572\n",
       "Year                      NaN\n",
       "Month               -0.000896\n",
       "DayofMonth           0.004124\n",
       "DayOfWeek            0.006121\n",
       "DepTime              0.127017\n",
       "CRSDepTime           0.044449\n",
       "ArrTime             -0.050949\n",
       "CRSArrTime           0.043079\n",
       "FlightNum            0.061263\n",
       "ActualElapsedTime    0.068130\n",
       "CRSElapsedTime      -0.015676\n",
       "AirTime             -0.000188\n",
       "ArrDelay             1.000000\n",
       "DepDelay             0.952926\n",
       "Distance            -0.029852\n",
       "TaxiIn               0.156277\n",
       "TaxiOut              0.286482\n",
       "Cancelled                 NaN\n",
       "Diverted                  NaN\n",
       "CarrierDelay         0.545016\n",
       "WeatherDelay         0.277726\n",
       "NASDelay             0.450765\n",
       "SecurityDelay        0.011167\n",
       "LateAircraftDelay    0.556652\n",
       "dtype: float64"
      ]
     },
     "execution_count": 18,
     "metadata": {},
     "output_type": "execute_result"
    }
   ],
   "source": [
    "df_delay_fillna_nonan.corrwith(df_delay_fillna_nonan['ArrDelay'])"
   ]
  },
  {
   "cell_type": "markdown",
   "metadata": {},
   "source": [
    "## Modeling\n",
    "\n",
    "I´ll use 4 different models:\n",
    "* Linear Regression\n",
    "* Decision Tree Regression\n",
    "* Random Forest Regression\n",
    "* Neural Networks Regression"
   ]
  },
  {
   "cell_type": "markdown",
   "metadata": {},
   "source": [
    "### Select features  for modeling and Split dataset.\n",
    "\n",
    "I´ll handpick some features using the criteria below:\n",
    "\n",
    "* Drop column 'Unnamed: 0' because it works only as a unique row id. \n",
    "* Drop column 'Year' because it only has one value (2008).\n",
    "* Drop all categorical columns, and columns with correlation lower than 10% (arbitrary value)."
   ]
  },
  {
   "cell_type": "code",
   "execution_count": 19,
   "metadata": {
    "ExecuteTime": {
     "end_time": "2021-06-15T19:48:56.068393Z",
     "start_time": "2021-06-15T19:48:52.124407Z"
    }
   },
   "outputs": [],
   "source": [
    "from sklearn.model_selection import train_test_split"
   ]
  },
  {
   "cell_type": "markdown",
   "metadata": {},
   "source": [
    "**1 - Select features and Split df_delay_no_nan dataset**"
   ]
  },
  {
   "cell_type": "code",
   "execution_count": 20,
   "metadata": {
    "ExecuteTime": {
     "end_time": "2021-06-15T19:48:56.852035Z",
     "start_time": "2021-06-15T19:48:56.068393Z"
    }
   },
   "outputs": [],
   "source": [
    "#Select features and target \n",
    "X_no_nan = df_delay_no_nan[['DepTime', 'DepDelay', 'TaxiIn', 'TaxiOut', 'CarrierDelay', 'WeatherDelay', 'NASDelay', 'LateAircraftDelay']]\n",
    "y_no_nan = df_delay_no_nan['ArrDelay']\n",
    "\n",
    "#Split the data into train and test sets\n",
    "X_train_no_nan, X_test_no_nan, y_train_no_nan, y_test_no_nan = train_test_split(X_no_nan, y_no_nan, test_size=0.33)"
   ]
  },
  {
   "cell_type": "markdown",
   "metadata": {},
   "source": [
    "**2 - Select features and Split df_delay_fillna dataset** "
   ]
  },
  {
   "cell_type": "code",
   "execution_count": 21,
   "metadata": {
    "ExecuteTime": {
     "end_time": "2021-06-15T19:48:58.216256Z",
     "start_time": "2021-06-15T19:48:56.852035Z"
    }
   },
   "outputs": [],
   "source": [
    "#Select features and target \n",
    "X_fillna = df_delay_fillna[['DepTime', 'DepDelay', 'TaxiIn', 'TaxiOut', 'CarrierDelay', 'WeatherDelay', 'NASDelay', 'LateAircraftDelay']]\n",
    "y_fillna = df_delay_fillna['ArrDelay']\n",
    "\n",
    "#Split the data into train and test sets\n",
    "X_train_fillna, X_test_fillna, y_train_fillna, y_test_fillna = train_test_split(X_fillna, y_fillna, test_size=0.33)"
   ]
  },
  {
   "cell_type": "markdown",
   "metadata": {},
   "source": [
    "**3 - Select features and Split df_delay_fillna_nonan dataset** "
   ]
  },
  {
   "cell_type": "code",
   "execution_count": 22,
   "metadata": {
    "ExecuteTime": {
     "end_time": "2021-06-15T19:48:59.505499Z",
     "start_time": "2021-06-15T19:48:58.216256Z"
    }
   },
   "outputs": [],
   "source": [
    "#Select features and target \n",
    "X_fillna_nonan = df_delay_fillna_nonan[['DepTime', 'DepDelay', 'TaxiIn', 'TaxiOut', 'CarrierDelay', 'WeatherDelay', 'NASDelay', 'LateAircraftDelay']]\n",
    "y_fillna_nonan = df_delay_fillna_nonan['ArrDelay']\n",
    "\n",
    "#Split the data into train and test sets\n",
    "X_train_fillna_nonan, X_test_fillna_nonan, y_train_fillna_nonan, y_test_fillna_nonan = train_test_split(X_fillna_nonan, y_fillna_nonan, test_size=0.33)"
   ]
  },
  {
   "cell_type": "markdown",
   "metadata": {},
   "source": [
    "## Linear Regression"
   ]
  },
  {
   "cell_type": "code",
   "execution_count": 23,
   "metadata": {
    "ExecuteTime": {
     "end_time": "2021-06-15T19:48:59.808507Z",
     "start_time": "2021-06-15T19:48:59.523435Z"
    }
   },
   "outputs": [],
   "source": [
    "from sklearn.linear_model import LinearRegression"
   ]
  },
  {
   "cell_type": "code",
   "execution_count": 24,
   "metadata": {
    "ExecuteTime": {
     "end_time": "2021-06-15T19:48:59.843517Z",
     "start_time": "2021-06-15T19:48:59.821509Z"
    }
   },
   "outputs": [],
   "source": [
    "#Create linear regression object\n",
    "linear_regression = LinearRegression()"
   ]
  },
  {
   "cell_type": "markdown",
   "metadata": {},
   "source": [
    "**1 - Linear Regression with df_delay_no_nan**"
   ]
  },
  {
   "cell_type": "code",
   "execution_count": 25,
   "metadata": {
    "ExecuteTime": {
     "end_time": "2021-06-15T19:49:00.382875Z",
     "start_time": "2021-06-15T19:48:59.848518Z"
    }
   },
   "outputs": [],
   "source": [
    "linear_regression_no_nan = linear_regression.fit(X_train_no_nan, y_train_no_nan)"
   ]
  },
  {
   "cell_type": "markdown",
   "metadata": {},
   "source": [
    "**2 - Linear Regression with df_delay_fillna**"
   ]
  },
  {
   "cell_type": "code",
   "execution_count": 26,
   "metadata": {
    "ExecuteTime": {
     "end_time": "2021-06-15T19:49:01.040749Z",
     "start_time": "2021-06-15T19:49:00.382875Z"
    }
   },
   "outputs": [],
   "source": [
    "linear_regression_fillna = linear_regression.fit(X_train_fillna, y_train_fillna)"
   ]
  },
  {
   "cell_type": "markdown",
   "metadata": {},
   "source": [
    "**3 - Linear Regression with df_delay_fillna_nonan**"
   ]
  },
  {
   "cell_type": "code",
   "execution_count": 27,
   "metadata": {
    "ExecuteTime": {
     "end_time": "2021-06-15T19:49:01.675283Z",
     "start_time": "2021-06-15T19:49:01.043756Z"
    }
   },
   "outputs": [],
   "source": [
    "linear_regression_fillna_nonan = linear_regression.fit(X_train_fillna_nonan, y_train_fillna_nonan)"
   ]
  },
  {
   "cell_type": "markdown",
   "metadata": {},
   "source": [
    "## Decision Tree Regression"
   ]
  },
  {
   "cell_type": "code",
   "execution_count": 28,
   "metadata": {
    "ExecuteTime": {
     "end_time": "2021-06-15T19:49:01.930390Z",
     "start_time": "2021-06-15T19:49:01.675283Z"
    }
   },
   "outputs": [],
   "source": [
    "from sklearn.tree import DecisionTreeRegressor"
   ]
  },
  {
   "cell_type": "code",
   "execution_count": 29,
   "metadata": {
    "ExecuteTime": {
     "end_time": "2021-06-15T19:49:01.946279Z",
     "start_time": "2021-06-15T19:49:01.935274Z"
    }
   },
   "outputs": [],
   "source": [
    "decision_tree_regression = DecisionTreeRegressor()"
   ]
  },
  {
   "cell_type": "markdown",
   "metadata": {},
   "source": [
    "**1 - Decision Tree Regression with df_delay_no_nan**"
   ]
  },
  {
   "cell_type": "code",
   "execution_count": 30,
   "metadata": {
    "ExecuteTime": {
     "end_time": "2021-06-15T19:49:13.183152Z",
     "start_time": "2021-06-15T19:49:01.954279Z"
    }
   },
   "outputs": [],
   "source": [
    "decision_tree_regression_no_nan = decision_tree_regression.fit(X_train_no_nan, y_train_no_nan)"
   ]
  },
  {
   "cell_type": "markdown",
   "metadata": {},
   "source": [
    "**2 - Decision Tree Regression with df_delay_fillna**"
   ]
  },
  {
   "cell_type": "code",
   "execution_count": 31,
   "metadata": {
    "ExecuteTime": {
     "end_time": "2021-06-15T19:49:29.794977Z",
     "start_time": "2021-06-15T19:49:13.183152Z"
    }
   },
   "outputs": [],
   "source": [
    "decision_tree_regression_fillna = decision_tree_regression.fit(X_train_fillna, y_train_fillna)"
   ]
  },
  {
   "cell_type": "markdown",
   "metadata": {},
   "source": [
    "**3 - Decision Tree Regression with df_delay_fillna_nonan**"
   ]
  },
  {
   "cell_type": "code",
   "execution_count": 32,
   "metadata": {
    "ExecuteTime": {
     "end_time": "2021-06-15T19:49:46.320805Z",
     "start_time": "2021-06-15T19:49:29.794977Z"
    }
   },
   "outputs": [],
   "source": [
    "decision_tree_regression_fillna_nonan = decision_tree_regression.fit(X_train_fillna_nonan, y_train_fillna_nonan)"
   ]
  },
  {
   "cell_type": "markdown",
   "metadata": {},
   "source": [
    "## Random Forest Regression"
   ]
  },
  {
   "cell_type": "code",
   "execution_count": 33,
   "metadata": {
    "ExecuteTime": {
     "end_time": "2021-06-15T19:49:46.416509Z",
     "start_time": "2021-06-15T19:49:46.320805Z"
    }
   },
   "outputs": [],
   "source": [
    "from sklearn.ensemble import RandomForestRegressor"
   ]
  },
  {
   "cell_type": "code",
   "execution_count": 34,
   "metadata": {
    "ExecuteTime": {
     "end_time": "2021-06-15T19:49:46.448449Z",
     "start_time": "2021-06-15T19:49:46.430448Z"
    }
   },
   "outputs": [],
   "source": [
    "#We set max_depth=5 in order to have a smaller model, otherwise it can take to much time and memory\n",
    "random_forest_regression = RandomForestRegressor(max_depth=5)"
   ]
  },
  {
   "cell_type": "markdown",
   "metadata": {},
   "source": [
    "**1 - Random Forest Regression with df_delay_no_nan**"
   ]
  },
  {
   "cell_type": "code",
   "execution_count": 35,
   "metadata": {
    "ExecuteTime": {
     "end_time": "2021-06-15T19:54:08.866582Z",
     "start_time": "2021-06-15T19:49:46.460459Z"
    }
   },
   "outputs": [],
   "source": [
    "random_forest_regression_no_nan = random_forest_regression.fit(X_train_no_nan, y_train_no_nan)"
   ]
  },
  {
   "cell_type": "markdown",
   "metadata": {},
   "source": [
    "**2 - Random Forest Regression with df_delay_fillna**"
   ]
  },
  {
   "cell_type": "code",
   "execution_count": 36,
   "metadata": {
    "ExecuteTime": {
     "end_time": "2021-06-15T20:00:25.759310Z",
     "start_time": "2021-06-15T19:54:08.866582Z"
    }
   },
   "outputs": [],
   "source": [
    "random_forest_regression_fillna = random_forest_regression.fit(X_train_fillna, y_train_fillna)"
   ]
  },
  {
   "cell_type": "markdown",
   "metadata": {},
   "source": [
    "**3 - Decision Tree Regression with df_delay_fillna_nonan**"
   ]
  },
  {
   "cell_type": "code",
   "execution_count": 37,
   "metadata": {
    "ExecuteTime": {
     "end_time": "2021-06-15T20:06:37.380476Z",
     "start_time": "2021-06-15T20:00:25.759310Z"
    }
   },
   "outputs": [],
   "source": [
    "decision_tree_regression_fillna_nonan = random_forest_regression.fit(X_train_fillna_nonan, y_train_fillna_nonan)"
   ]
  },
  {
   "cell_type": "markdown",
   "metadata": {},
   "source": [
    "## Neural Networks Regression"
   ]
  },
  {
   "cell_type": "markdown",
   "metadata": {},
   "source": [
    "***For this model, I`ll use a sample of the population since Neural Networks has a lot of iterations and thus it becomes too heavy for the computer to process it.***"
   ]
  },
  {
   "cell_type": "code",
   "execution_count": 38,
   "metadata": {
    "ExecuteTime": {
     "end_time": "2021-06-15T20:06:38.450030Z",
     "start_time": "2021-06-15T20:06:37.380476Z"
    }
   },
   "outputs": [],
   "source": [
    "#Create sample dataframes\n",
    "df_delay_no_nan_sample = df_delay_no_nan.sample(n=100000)\n",
    "df_delay_fillna_sample = df_delay_fillna.sample(n=100000)\n",
    "df_delay_fillna_nonan_sample = df_delay_fillna_nonan.sample(n=100000)"
   ]
  },
  {
   "cell_type": "code",
   "execution_count": 39,
   "metadata": {
    "ExecuteTime": {
     "end_time": "2021-06-15T20:06:38.500929Z",
     "start_time": "2021-06-15T20:06:38.454918Z"
    }
   },
   "outputs": [
    {
     "name": "stdout",
     "output_type": "stream",
     "text": [
      "(100000, 30)\n",
      "(100000, 30)\n",
      "(100000, 30)\n"
     ]
    }
   ],
   "source": [
    "print(df_delay_no_nan_sample.shape)\n",
    "print(df_delay_fillna_sample.shape)\n",
    "print(df_delay_fillna_nonan_sample.shape)"
   ]
  },
  {
   "cell_type": "markdown",
   "metadata": {},
   "source": [
    "**Select features and split sample datasets**"
   ]
  },
  {
   "cell_type": "markdown",
   "metadata": {},
   "source": [
    "**1 - df_delay_no_nan-sample**"
   ]
  },
  {
   "cell_type": "code",
   "execution_count": 40,
   "metadata": {
    "ExecuteTime": {
     "end_time": "2021-06-15T20:06:38.614961Z",
     "start_time": "2021-06-15T20:06:38.509930Z"
    }
   },
   "outputs": [],
   "source": [
    "#Select features and target \n",
    "X_no_nan_sample = df_delay_no_nan_sample[['DepTime', 'DepDelay', 'TaxiIn', 'TaxiOut', 'CarrierDelay', 'WeatherDelay', 'NASDelay', 'LateAircraftDelay']]\n",
    "y_no_nan_sample = df_delay_no_nan_sample['ArrDelay']\n",
    "\n",
    "#Split the data into train and test sets\n",
    "X_train_no_nan_sample, X_test_no_nan_sample, y_train_no_nan_sample, y_test_no_nan_sample = train_test_split(X_no_nan_sample, y_no_nan_sample, test_size=0.33)"
   ]
  },
  {
   "cell_type": "markdown",
   "metadata": {},
   "source": [
    "**2 - df_delay_fillna_sample** "
   ]
  },
  {
   "cell_type": "code",
   "execution_count": 41,
   "metadata": {
    "ExecuteTime": {
     "end_time": "2021-06-15T20:06:38.752990Z",
     "start_time": "2021-06-15T20:06:38.635964Z"
    }
   },
   "outputs": [],
   "source": [
    "#Select features and target \n",
    "X_fillna_sample = df_delay_fillna_sample[['DepTime', 'DepDelay', 'TaxiIn', 'TaxiOut', 'CarrierDelay', 'WeatherDelay', 'NASDelay', 'LateAircraftDelay']]\n",
    "y_fillna_sample = df_delay_fillna_sample['ArrDelay']\n",
    "\n",
    "#Split the data into train and test sets\n",
    "X_train_fillna_sample, X_test_fillna_sample, y_train_fillna_sample, y_test_fillna_sample = train_test_split(X_fillna_sample, y_fillna_sample, test_size=0.33)"
   ]
  },
  {
   "cell_type": "markdown",
   "metadata": {},
   "source": [
    "**3 - df_delay_fillna_nonan_sample** "
   ]
  },
  {
   "cell_type": "code",
   "execution_count": 42,
   "metadata": {
    "ExecuteTime": {
     "end_time": "2021-06-15T20:06:38.881082Z",
     "start_time": "2021-06-15T20:06:38.778999Z"
    }
   },
   "outputs": [],
   "source": [
    "#Select features and target \n",
    "X_fillna_nonan_sample = df_delay_fillna_nonan_sample[['DepTime', 'DepDelay', 'TaxiIn', 'TaxiOut', 'CarrierDelay', 'WeatherDelay', 'NASDelay', 'LateAircraftDelay']]\n",
    "y_fillna_nonan_sample = df_delay_fillna_nonan_sample['ArrDelay']\n",
    "\n",
    "#Split the data into train and test sets\n",
    "X_train_fillna_nonan_sample, X_test_fillna_nonan_sample, y_train_fillna_nonan_sample, y_test_fillna_nonan_sample = train_test_split(X_fillna_nonan_sample, y_fillna_nonan_sample, test_size=0.33)"
   ]
  },
  {
   "cell_type": "markdown",
   "metadata": {},
   "source": [
    "**Create Model**"
   ]
  },
  {
   "cell_type": "code",
   "execution_count": 43,
   "metadata": {
    "ExecuteTime": {
     "end_time": "2021-06-15T20:06:38.936130Z",
     "start_time": "2021-06-15T20:06:38.886027Z"
    }
   },
   "outputs": [],
   "source": [
    "#Import the Multi Layer Perceptron Regressor library \n",
    "from sklearn.neural_network import MLPRegressor"
   ]
  },
  {
   "cell_type": "code",
   "execution_count": 44,
   "metadata": {
    "ExecuteTime": {
     "end_time": "2021-06-15T20:06:38.952134Z",
     "start_time": "2021-06-15T20:06:38.944132Z"
    }
   },
   "outputs": [],
   "source": [
    "#We set hidden_layer_sizes to 3 layers with the same number of features as the datasets\n",
    "neural_networks_regression = MLPRegressor(hidden_layer_sizes=(8,8,8))"
   ]
  },
  {
   "cell_type": "markdown",
   "metadata": {},
   "source": [
    "**1 - Neural Networks Regression with df_delay_no_nan_sample**"
   ]
  },
  {
   "cell_type": "code",
   "execution_count": 45,
   "metadata": {
    "ExecuteTime": {
     "end_time": "2021-06-15T20:07:13.589976Z",
     "start_time": "2021-06-15T20:06:38.959135Z"
    }
   },
   "outputs": [],
   "source": [
    "neural_networks_regression_no_nan_sample = neural_networks_regression.fit(X_train_no_nan_sample, y_train_no_nan_sample)"
   ]
  },
  {
   "cell_type": "markdown",
   "metadata": {},
   "source": [
    "**2 - Neural Networks Regression with df_delay_fillna_sample**"
   ]
  },
  {
   "cell_type": "code",
   "execution_count": 46,
   "metadata": {
    "ExecuteTime": {
     "end_time": "2021-06-15T20:07:43.733165Z",
     "start_time": "2021-06-15T20:07:13.589976Z"
    }
   },
   "outputs": [],
   "source": [
    "neural_networks_regression_fillna_sample = neural_networks_regression.fit(X_train_fillna_sample, y_train_fillna_sample)"
   ]
  },
  {
   "cell_type": "markdown",
   "metadata": {},
   "source": [
    "**3 - Neural Networks Regression with df_delay_fillna_nonan_sample**"
   ]
  },
  {
   "cell_type": "code",
   "execution_count": 47,
   "metadata": {
    "ExecuteTime": {
     "end_time": "2021-06-15T20:08:11.973148Z",
     "start_time": "2021-06-15T20:07:43.733165Z"
    }
   },
   "outputs": [],
   "source": [
    "neural_networks_regression_fillna_nonan_sample = neural_networks_regression.fit(X_train_fillna_nonan_sample, y_train_fillna_nonan_sample)"
   ]
  },
  {
   "cell_type": "markdown",
   "metadata": {},
   "source": [
    "_________________________________"
   ]
  },
  {
   "cell_type": "markdown",
   "metadata": {},
   "source": [
    "## Exercici 2\n",
    "#### Compara’ls en base al MSE i al R2"
   ]
  },
  {
   "cell_type": "code",
   "execution_count": 48,
   "metadata": {
    "ExecuteTime": {
     "end_time": "2021-06-15T20:08:11.989299Z",
     "start_time": "2021-06-15T20:08:11.973148Z"
    }
   },
   "outputs": [],
   "source": [
    "from sklearn.metrics import accuracy_score, classification_report, mean_squared_error, r2_score"
   ]
  },
  {
   "cell_type": "markdown",
   "metadata": {
    "ExecuteTime": {
     "end_time": "2021-06-04T10:25:54.299553Z",
     "start_time": "2021-06-04T10:25:54.230994Z"
    }
   },
   "source": [
    "## Linear Regression"
   ]
  },
  {
   "cell_type": "markdown",
   "metadata": {},
   "source": [
    "**1 - no_nan**"
   ]
  },
  {
   "cell_type": "code",
   "execution_count": 49,
   "metadata": {
    "ExecuteTime": {
     "end_time": "2021-06-15T20:08:12.159686Z",
     "start_time": "2021-06-15T20:08:12.023310Z"
    }
   },
   "outputs": [
    {
     "name": "stdout",
     "output_type": "stream",
     "text": [
      "Linear Regression nonan\n",
      "-----------------------\n",
      "MSE: 5.943422537842758\n",
      "R2: 0.998372803971074\n"
     ]
    }
   ],
   "source": [
    "y_pred_linear_regression_no_nan = linear_regression_no_nan.predict(X_test_no_nan)\n",
    "\n",
    "print('Linear Regression nonan')\n",
    "print('-----------------------')\n",
    "print(f'MSE: {mean_squared_error(y_test_no_nan, y_pred_linear_regression_no_nan)}')\n",
    "print(f'R2: {r2_score(y_test_no_nan, y_pred_linear_regression_no_nan)}')"
   ]
  },
  {
   "cell_type": "markdown",
   "metadata": {},
   "source": [
    "**2 - fillna**"
   ]
  },
  {
   "cell_type": "code",
   "execution_count": 50,
   "metadata": {
    "ExecuteTime": {
     "end_time": "2021-06-15T20:08:12.337747Z",
     "start_time": "2021-06-15T20:08:12.166689Z"
    }
   },
   "outputs": [
    {
     "name": "stdout",
     "output_type": "stream",
     "text": [
      "Linear Regression fillna\n",
      "------------------------\n",
      "MSE: 24.87747311445896\n",
      "R2: 0.9921775119526166\n"
     ]
    }
   ],
   "source": [
    "y_pred_linear_regression_fillna = linear_regression_fillna.predict(X_test_fillna)\n",
    "\n",
    "print('Linear Regression fillna')\n",
    "print('------------------------')\n",
    "print(f'MSE: {mean_squared_error(y_test_fillna, y_pred_linear_regression_fillna)}')\n",
    "print(f'R2: {r2_score(y_test_fillna, y_pred_linear_regression_fillna)}')"
   ]
  },
  {
   "cell_type": "markdown",
   "metadata": {},
   "source": [
    "**3 - fillna_nonan** "
   ]
  },
  {
   "cell_type": "code",
   "execution_count": 51,
   "metadata": {
    "ExecuteTime": {
     "end_time": "2021-06-15T20:08:12.522774Z",
     "start_time": "2021-06-15T20:08:12.348730Z"
    }
   },
   "outputs": [
    {
     "name": "stdout",
     "output_type": "stream",
     "text": [
      "Linear Regression fillna nonan\n",
      "------------------------------\n",
      "MSE: 24.533418492336946\n",
      "R2: 0.992468043706835\n"
     ]
    }
   ],
   "source": [
    "y_pred_linear_regression_fillna_nonan = linear_regression_fillna_nonan.predict(X_test_fillna_nonan)\n",
    "\n",
    "print('Linear Regression fillna nonan')\n",
    "print('------------------------------')\n",
    "print(f'MSE: {mean_squared_error(y_test_fillna_nonan, y_pred_linear_regression_fillna_nonan)}')\n",
    "print(f'R2: {r2_score(y_test_fillna_nonan, y_pred_linear_regression_fillna_nonan)}')"
   ]
  },
  {
   "cell_type": "markdown",
   "metadata": {},
   "source": [
    "## Decision Tree Regression"
   ]
  },
  {
   "cell_type": "markdown",
   "metadata": {},
   "source": [
    "**1 - no_nan**"
   ]
  },
  {
   "cell_type": "code",
   "execution_count": 52,
   "metadata": {
    "ExecuteTime": {
     "end_time": "2021-06-15T20:08:13.017903Z",
     "start_time": "2021-06-15T20:08:12.531775Z"
    }
   },
   "outputs": [
    {
     "name": "stdout",
     "output_type": "stream",
     "text": [
      "Decision Tree Regression nonan\n",
      "------------------------------\n",
      "MSE: 5.148874681211183\n",
      "R2: 0.998590336059508\n"
     ]
    }
   ],
   "source": [
    "y_pred_decisiontree_regression_no_nan = decision_tree_regression_no_nan.predict(X_test_no_nan)\n",
    "\n",
    "print('Decision Tree Regression nonan')\n",
    "print('------------------------------')\n",
    "print(f'MSE: {mean_squared_error(y_test_no_nan, y_pred_decisiontree_regression_no_nan)}')\n",
    "print(f'R2: {r2_score(y_test_no_nan, y_pred_decisiontree_regression_no_nan)}')"
   ]
  },
  {
   "cell_type": "markdown",
   "metadata": {},
   "source": [
    "**2 - fillna**"
   ]
  },
  {
   "cell_type": "code",
   "execution_count": 53,
   "metadata": {
    "ExecuteTime": {
     "end_time": "2021-06-15T20:08:14.103232Z",
     "start_time": "2021-06-15T20:08:13.027902Z"
    }
   },
   "outputs": [
    {
     "name": "stdout",
     "output_type": "stream",
     "text": [
      "Decision Tree Regression fillna\n",
      "-------------------------------\n",
      "MSE: 52.70433114042401\n",
      "R2: 0.983427617487739\n"
     ]
    }
   ],
   "source": [
    "y_pred_decisiontree_regression_fillna = decision_tree_regression_fillna.predict(X_test_fillna)\n",
    "\n",
    "print('Decision Tree Regression fillna')\n",
    "print('-------------------------------')\n",
    "print(f'MSE: {mean_squared_error(y_test_fillna, y_pred_decisiontree_regression_fillna)}')\n",
    "print(f'R2: {r2_score(y_test_fillna, y_pred_decisiontree_regression_fillna)}')"
   ]
  },
  {
   "cell_type": "markdown",
   "metadata": {},
   "source": [
    "**3 - fillna_nonan**"
   ]
  },
  {
   "cell_type": "code",
   "execution_count": 54,
   "metadata": {
    "ExecuteTime": {
     "end_time": "2021-06-15T20:08:20.812023Z",
     "start_time": "2021-06-15T20:08:14.113226Z"
    }
   },
   "outputs": [
    {
     "name": "stdout",
     "output_type": "stream",
     "text": [
      "Decision Tree Regression fillna nonan\n",
      "-------------------------------------\n",
      "MSE: 151.7320277770522\n",
      "R2: 0.953417050222861\n"
     ]
    }
   ],
   "source": [
    "y_pred_decisiontree_regression_fillna_nonan = decision_tree_regression_fillna_nonan.predict(X_test_fillna_nonan)\n",
    "\n",
    "print('Decision Tree Regression fillna nonan')\n",
    "print('-------------------------------------')\n",
    "print(f'MSE: {mean_squared_error(y_test_fillna_nonan, y_pred_decisiontree_regression_fillna_nonan)}')\n",
    "print(f'R2: {r2_score(y_test_fillna_nonan, y_pred_decisiontree_regression_fillna_nonan)}')"
   ]
  },
  {
   "cell_type": "markdown",
   "metadata": {},
   "source": [
    "## Random Forest Regression"
   ]
  },
  {
   "cell_type": "markdown",
   "metadata": {},
   "source": [
    "**1 - no_nan**"
   ]
  },
  {
   "cell_type": "code",
   "execution_count": 55,
   "metadata": {
    "ExecuteTime": {
     "end_time": "2021-06-15T20:08:25.353576Z",
     "start_time": "2021-06-15T20:08:20.834020Z"
    }
   },
   "outputs": [
    {
     "name": "stdout",
     "output_type": "stream",
     "text": [
      "Random Forest Regression nonan\n",
      "------------------------------\n",
      "MSE: 187.53776257575652\n",
      "R2: 0.9486557281441899\n"
     ]
    }
   ],
   "source": [
    "y_pred_randomforest_regression_no_nan = random_forest_regression_no_nan.predict(X_test_no_nan)\n",
    "\n",
    "print('Random Forest Regression nonan')\n",
    "print('------------------------------')\n",
    "print(f'MSE: {mean_squared_error(y_test_no_nan, y_pred_randomforest_regression_no_nan)}')\n",
    "print(f'R2: {r2_score(y_test_no_nan, y_pred_randomforest_regression_no_nan)}')"
   ]
  },
  {
   "cell_type": "markdown",
   "metadata": {},
   "source": [
    "**2 - fillna**"
   ]
  },
  {
   "cell_type": "code",
   "execution_count": 56,
   "metadata": {
    "ExecuteTime": {
     "end_time": "2021-06-15T20:08:31.494883Z",
     "start_time": "2021-06-15T20:08:25.361544Z"
    }
   },
   "outputs": [
    {
     "name": "stdout",
     "output_type": "stream",
     "text": [
      "Random Forest Regression fillna\n",
      "-------------------------------\n",
      "MSE: 187.30474751880197\n",
      "R2: 0.9411037792326097\n"
     ]
    }
   ],
   "source": [
    "y_pred_randomforest_regression_fillna = random_forest_regression_fillna.predict(X_test_fillna)\n",
    "\n",
    "print('Random Forest Regression fillna')\n",
    "print('-------------------------------')\n",
    "print(f'MSE: {mean_squared_error(y_test_fillna, y_pred_randomforest_regression_fillna)}')\n",
    "print(f'R2: {r2_score(y_test_fillna, y_pred_randomforest_regression_fillna)}')"
   ]
  },
  {
   "cell_type": "markdown",
   "metadata": {},
   "source": [
    "**3 - fillna_nonan**"
   ]
  },
  {
   "cell_type": "code",
   "execution_count": 57,
   "metadata": {
    "ExecuteTime": {
     "end_time": "2021-06-15T20:08:37.238025Z",
     "start_time": "2021-06-15T20:08:31.502882Z"
    }
   },
   "outputs": [
    {
     "name": "stdout",
     "output_type": "stream",
     "text": [
      "Random Forest Regression fillna nonan\n",
      "-------------------------------------\n",
      "MSE: 151.7320277770522\n",
      "R2: 0.953417050222861\n"
     ]
    }
   ],
   "source": [
    "y_pred_randomforest_regression_fillna_nonan = random_forest_regression_no_nan.predict(X_test_fillna_nonan)\n",
    "\n",
    "print('Random Forest Regression fillna nonan')\n",
    "print('-------------------------------------')\n",
    "print(f'MSE: {mean_squared_error(y_test_fillna_nonan, y_pred_randomforest_regression_fillna_nonan)}')\n",
    "print(f'R2: {r2_score(y_test_fillna_nonan, y_pred_randomforest_regression_fillna_nonan)}')"
   ]
  },
  {
   "cell_type": "markdown",
   "metadata": {},
   "source": [
    "## Neural Networks Regression"
   ]
  },
  {
   "cell_type": "markdown",
   "metadata": {},
   "source": [
    "**1 - no_nan**"
   ]
  },
  {
   "cell_type": "code",
   "execution_count": 58,
   "metadata": {
    "ExecuteTime": {
     "end_time": "2021-06-15T20:08:37.350055Z",
     "start_time": "2021-06-15T20:08:37.253031Z"
    }
   },
   "outputs": [
    {
     "name": "stdout",
     "output_type": "stream",
     "text": [
      "Neural Networks Regression nonan\n",
      "--------------------------------\n",
      "MSE: 5.618288872780123\n",
      "R2: 0.998392288007539\n"
     ]
    }
   ],
   "source": [
    "y_pred_neuralnet_regression_no_nan = neural_networks_regression_no_nan_sample.predict(X_test_no_nan_sample)\n",
    "\n",
    "print('Neural Networks Regression nonan')\n",
    "print('--------------------------------')\n",
    "print(f'MSE: {mean_squared_error(y_test_no_nan_sample, y_pred_neuralnet_regression_no_nan)}')\n",
    "print(f'R2: {r2_score(y_test_no_nan_sample, y_pred_neuralnet_regression_no_nan)}')"
   ]
  },
  {
   "cell_type": "markdown",
   "metadata": {},
   "source": [
    "**2 - fillna**"
   ]
  },
  {
   "cell_type": "code",
   "execution_count": 59,
   "metadata": {
    "ExecuteTime": {
     "end_time": "2021-06-15T20:08:37.430107Z",
     "start_time": "2021-06-15T20:08:37.358057Z"
    }
   },
   "outputs": [
    {
     "name": "stdout",
     "output_type": "stream",
     "text": [
      "Neural Networks Regression fillna\n",
      "---------------------------------\n",
      "MSE: 25.904590455450887\n",
      "R2: 0.9917338910891843\n"
     ]
    }
   ],
   "source": [
    "y_pred_neuralnet_regression_fillna = neural_networks_regression_fillna_sample.predict(X_test_fillna_sample)\n",
    "\n",
    "print('Neural Networks Regression fillna')\n",
    "print('---------------------------------')\n",
    "print(f'MSE: {mean_squared_error(y_test_fillna_sample, y_pred_neuralnet_regression_fillna)}')\n",
    "print(f'R2: {r2_score(y_test_fillna_sample, y_pred_neuralnet_regression_fillna)}')"
   ]
  },
  {
   "cell_type": "markdown",
   "metadata": {},
   "source": [
    "**3 - fillna_nonan**"
   ]
  },
  {
   "cell_type": "code",
   "execution_count": 60,
   "metadata": {
    "ExecuteTime": {
     "end_time": "2021-06-15T20:08:37.502091Z",
     "start_time": "2021-06-15T20:08:37.438071Z"
    }
   },
   "outputs": [
    {
     "name": "stdout",
     "output_type": "stream",
     "text": [
      "Neural Networks Regression fillna nonan\n",
      "-------------------------------------\n",
      "MSE: 23.511138988777056\n",
      "R2: 0.9921223344195192\n"
     ]
    }
   ],
   "source": [
    "y_pred_neuralnet_regression_fillna_nonan = neural_networks_regression_fillna_nonan_sample.predict(X_test_fillna_nonan_sample)\n",
    "\n",
    "print('Neural Networks Regression fillna nonan')\n",
    "print('-------------------------------------')\n",
    "print(f'MSE: {mean_squared_error(y_test_fillna_nonan_sample, y_pred_neuralnet_regression_fillna_nonan)}')\n",
    "print(f'R2: {r2_score(y_test_fillna_nonan_sample, y_pred_neuralnet_regression_fillna_nonan)}')"
   ]
  },
  {
   "cell_type": "markdown",
   "metadata": {},
   "source": [
    "______________________________"
   ]
  },
  {
   "cell_type": "markdown",
   "metadata": {},
   "source": [
    "## Exercici 3\n",
    "#### Entrena’ls utilitzant els diferents paràmetres que admeten.\n",
    "\n",
    "***(In order to simplify I´ll choose the 3 best models to be further explored in the exercise: Linear Regression, Decision Tree and Neural Networks.)***\n",
    "\n",
    "***(I´ll also use the dataset no_nan, for simplification purpose and because it had the best results.)***"
   ]
  },
  {
   "cell_type": "markdown",
   "metadata": {},
   "source": [
    "**MSE definition** - Mean square error (MSE) is the average of the square of the errors. The larger the number the larger the error. Error in this case means the difference between the observed values y1, y2, y3, … and the predicted ones pred(y1), pred(y2), pred(y3), … We square each difference (pred(yn) – yn)) ** 2 so that negative and positive values do not cancel each other out.\n",
    "\n",
    "**R2_score definition** - R squared is the percentage of variation explained by the correlation between two variables. It varies from 0 to 1 and the bigger the value, the more significative is the correlation between the dependent and non-dependent variables."
   ]
  },
  {
   "cell_type": "markdown",
   "metadata": {},
   "source": [
    "## Linear Regression"
   ]
  },
  {
   "cell_type": "code",
   "execution_count": 61,
   "metadata": {
    "ExecuteTime": {
     "end_time": "2021-06-15T20:08:37.542097Z",
     "start_time": "2021-06-15T20:08:37.516096Z"
    }
   },
   "outputs": [],
   "source": [
    "#Create linear regression object\n",
    "linear_regression_2 = LinearRegression(fit_intercept=False)\n",
    "linear_regression_3 = LinearRegression(normalize=True)\n",
    "linear_regression_4 = LinearRegression(n_jobs=10)\n",
    "linear_regression_5 = LinearRegression(fit_intercept=False, n_jobs=3)"
   ]
  },
  {
   "cell_type": "code",
   "execution_count": 62,
   "metadata": {
    "ExecuteTime": {
     "end_time": "2021-06-15T20:08:39.366965Z",
     "start_time": "2021-06-15T20:08:37.551101Z"
    }
   },
   "outputs": [],
   "source": [
    "#Create different models using different parameters\n",
    "linear_regression_no_nan_2 = linear_regression_2.fit(X_train_no_nan, y_train_no_nan)\n",
    "linear_regression_no_nan_3 = linear_regression_3.fit(X_train_no_nan, y_train_no_nan)\n",
    "linear_regression_no_nan_4 = linear_regression_4.fit(X_train_no_nan, y_train_no_nan)\n",
    "linear_regression_no_nan_5 = linear_regression_5.fit(X_train_no_nan, y_train_no_nan)"
   ]
  },
  {
   "cell_type": "code",
   "execution_count": 63,
   "metadata": {
    "ExecuteTime": {
     "end_time": "2021-06-15T20:08:39.818858Z",
     "start_time": "2021-06-15T20:08:39.386748Z"
    }
   },
   "outputs": [
    {
     "name": "stdout",
     "output_type": "stream",
     "text": [
      "Linear Regression Model 2 - MSE: 4.285526487938849, R2: 0.9988267043713229\n",
      "Linear Regression Model 3 - MSE: 4.28343088022538, R2: 0.9988272781088501\n",
      "Linear Regression Model 4 - MSE: 4.283430880225378, R2: 0.9988272781088501\n",
      "Linear Regression Model 5 - MSE: 4.285526487938849, R2: 0.9988267043713229\n"
     ]
    }
   ],
   "source": [
    "#Calculate the score of each models\n",
    "y_pred_linear_regression_no_nan_2 = linear_regression_no_nan_2.predict(X_test_no_nan)\n",
    "y_pred_linear_regression_no_nan_3 = linear_regression_no_nan_3.predict(X_test_no_nan)\n",
    "y_pred_linear_regression_no_nan_4 = linear_regression_no_nan_4.predict(X_test_no_nan)\n",
    "y_pred_linear_regression_no_nan_5 = linear_regression_no_nan_5.predict(X_test_no_nan)\n",
    "\n",
    "print(f'Linear Regression Model 2 - MSE: {mean_squared_error(y_test_no_nan, y_pred_linear_regression_no_nan_2)}, R2: {r2_score(y_test_no_nan, y_pred_linear_regression_no_nan_2)}')\n",
    "print(f'Linear Regression Model 3 - MSE: {mean_squared_error(y_test_no_nan, y_pred_linear_regression_no_nan_3)}, R2: {r2_score(y_test_no_nan, y_pred_linear_regression_no_nan_3)}')\n",
    "print(f'Linear Regression Model 4 - MSE: {mean_squared_error(y_test_no_nan, y_pred_linear_regression_no_nan_4)}, R2: {r2_score(y_test_no_nan, y_pred_linear_regression_no_nan_4)}')\n",
    "print(f'Linear Regression Model 5 - MSE: {mean_squared_error(y_test_no_nan, y_pred_linear_regression_no_nan_5)}, R2: {r2_score(y_test_no_nan, y_pred_linear_regression_no_nan_5)}')"
   ]
  },
  {
   "cell_type": "markdown",
   "metadata": {},
   "source": [
    "## Decision Tree"
   ]
  },
  {
   "cell_type": "code",
   "execution_count": 64,
   "metadata": {
    "ExecuteTime": {
     "end_time": "2021-06-15T20:08:39.878872Z",
     "start_time": "2021-06-15T20:08:39.835866Z"
    }
   },
   "outputs": [],
   "source": [
    "decision_tree_regression_2 = DecisionTreeRegressor(criterion='friedman_mse')\n",
    "decision_tree_regression_3 = DecisionTreeRegressor(splitter='random')\n",
    "decision_tree_regression_4 = DecisionTreeRegressor(max_features='sqrt')\n",
    "decision_tree_regression_5 = DecisionTreeRegressor(criterion='friedman_mse', max_features='sqrt')"
   ]
  },
  {
   "cell_type": "code",
   "execution_count": 65,
   "metadata": {
    "ExecuteTime": {
     "end_time": "2021-06-15T20:09:11.773382Z",
     "start_time": "2021-06-15T20:08:39.902878Z"
    }
   },
   "outputs": [],
   "source": [
    "decision_tree_regression_no_nan_2 = decision_tree_regression_2.fit(X_train_no_nan, y_train_no_nan)\n",
    "decision_tree_regression_no_nan_3 = decision_tree_regression_3.fit(X_train_no_nan, y_train_no_nan)\n",
    "decision_tree_regression_no_nan_4 = decision_tree_regression_4.fit(X_train_no_nan, y_train_no_nan)\n",
    "decision_tree_regression_no_nan_5 = decision_tree_regression_5.fit(X_train_no_nan, y_train_no_nan)"
   ]
  },
  {
   "cell_type": "code",
   "execution_count": 66,
   "metadata": {
    "ExecuteTime": {
     "end_time": "2021-06-15T20:09:13.577074Z",
     "start_time": "2021-06-15T20:09:11.773382Z"
    }
   },
   "outputs": [
    {
     "name": "stdout",
     "output_type": "stream",
     "text": [
      "Decision Tree Model 2 - MSE: 14.258048295847898, R2: 0.9960964176079494\n",
      "Decision Tree Model 3 - MSE: 12.361946797321162, R2: 0.9966155341286408\n",
      "Decision Tree Model 4 - MSE: 39.36335568937331, R2: 0.9892230620227448\n",
      "Decision Tree Model 5 - MSE: 48.9552294186377, R2: 0.9865969894622224\n"
     ]
    }
   ],
   "source": [
    "y_pred_decisiontree_regression_no_nan_2 = decision_tree_regression_no_nan_2.predict(X_test_no_nan)\n",
    "y_pred_decisiontree_regression_no_nan_3 = decision_tree_regression_no_nan_3.predict(X_test_no_nan)\n",
    "y_pred_decisiontree_regression_no_nan_4 = decision_tree_regression_no_nan_4.predict(X_test_no_nan)\n",
    "y_pred_decisiontree_regression_no_nan_5 = decision_tree_regression_no_nan_5.predict(X_test_no_nan)\n",
    "\n",
    "print(f'Decision Tree Model 2 - MSE: {mean_squared_error(y_test_no_nan, y_pred_decisiontree_regression_no_nan_2)}, R2: {r2_score(y_test_no_nan, y_pred_decisiontree_regression_no_nan_2)}')\n",
    "print(f'Decision Tree Model 3 - MSE: {mean_squared_error(y_test_no_nan, y_pred_decisiontree_regression_no_nan_3)}, R2: {r2_score(y_test_no_nan, y_pred_decisiontree_regression_no_nan_3)}')\n",
    "print(f'Decision Tree Model 4 - MSE: {mean_squared_error(y_test_no_nan, y_pred_decisiontree_regression_no_nan_4)}, R2: {r2_score(y_test_no_nan, y_pred_decisiontree_regression_no_nan_4)}')\n",
    "print(f'Decision Tree Model 5 - MSE: {mean_squared_error(y_test_no_nan, y_pred_decisiontree_regression_no_nan_5)}, R2: {r2_score(y_test_no_nan, y_pred_decisiontree_regression_no_nan_5)}')"
   ]
  },
  {
   "cell_type": "markdown",
   "metadata": {
    "ExecuteTime": {
     "end_time": "2021-06-16T21:45:30.881440Z",
     "start_time": "2021-06-16T21:45:30.866439Z"
    }
   },
   "source": [
    "## Neural Networks Regression"
   ]
  },
  {
   "cell_type": "code",
   "execution_count": 108,
   "metadata": {
    "ExecuteTime": {
     "end_time": "2021-06-16T21:48:17.849236Z",
     "start_time": "2021-06-16T21:48:17.829230Z"
    }
   },
   "outputs": [],
   "source": [
    "#We set hidden_layer_sizes to 3 layers with the same number of features as the datasets\n",
    "neural_networks_regression_2 = MLPRegressor(hidden_layer_sizes=(8,8,8,8))\n",
    "neural_networks_regression_3 = MLPRegressor(activation='logistic')\n",
    "neural_networks_regression_4 = MLPRegressor(solver='lbfgs', max_iter=10000)\n",
    "neural_networks_regression_5 = MLPRegressor(hidden_layer_sizes=(8,8,8), activation='logistic', solver='adam', max_iter=5000)"
   ]
  },
  {
   "cell_type": "code",
   "execution_count": 109,
   "metadata": {
    "ExecuteTime": {
     "end_time": "2021-06-16T21:49:53.999374Z",
     "start_time": "2021-06-16T21:48:28.079404Z"
    }
   },
   "outputs": [
    {
     "name": "stderr",
     "output_type": "stream",
     "text": [
      "C:\\Users\\xizes\\anaconda3\\lib\\site-packages\\sklearn\\neural_network\\_multilayer_perceptron.py:614: ConvergenceWarning: Stochastic Optimizer: Maximum iterations (200) reached and the optimization hasn't converged yet.\n",
      "  warnings.warn(\n"
     ]
    }
   ],
   "source": [
    "neural_networks_regression_no_nan_sample_2 = neural_networks_regression_2.fit(X_train_no_nan_sample, y_train_no_nan_sample)"
   ]
  },
  {
   "cell_type": "code",
   "execution_count": 110,
   "metadata": {
    "ExecuteTime": {
     "end_time": "2021-06-16T21:51:01.745354Z",
     "start_time": "2021-06-16T21:49:54.008264Z"
    }
   },
   "outputs": [],
   "source": [
    "neural_networks_regression_no_nan_sample_3 = neural_networks_regression_3.fit(X_train_no_nan_sample, y_train_no_nan_sample)"
   ]
  },
  {
   "cell_type": "code",
   "execution_count": 111,
   "metadata": {
    "ExecuteTime": {
     "end_time": "2021-06-16T22:44:28.503991Z",
     "start_time": "2021-06-16T21:51:01.745354Z"
    }
   },
   "outputs": [],
   "source": [
    "neural_networks_regression_no_nan_sample_4 = neural_networks_regression_4.fit(X_train_no_nan_sample, y_train_no_nan_sample)"
   ]
  },
  {
   "cell_type": "code",
   "execution_count": 112,
   "metadata": {
    "ExecuteTime": {
     "end_time": "2021-06-16T22:47:41.029901Z",
     "start_time": "2021-06-16T22:44:28.503991Z"
    }
   },
   "outputs": [],
   "source": [
    "neural_networks_regression_no_nan_sample_5 = neural_networks_regression_5.fit(X_train_no_nan_sample, y_train_no_nan_sample)"
   ]
  },
  {
   "cell_type": "code",
   "execution_count": 113,
   "metadata": {
    "ExecuteTime": {
     "end_time": "2021-06-16T23:16:09.464935Z",
     "start_time": "2021-06-16T23:16:09.074837Z"
    }
   },
   "outputs": [
    {
     "name": "stdout",
     "output_type": "stream",
     "text": [
      "Neural Network Model 2 - MSE: 2.578575218823861, R2: 0.9992621229707767\n",
      "Neural Network Model 3 - MSE: 23.80040054016759, R2: 0.9931893517331964\n",
      "Neural Network Model 4 - MSE: 1.161460335962178, R2: 0.99966764013863\n",
      "Neural Network Model 5 - MSE: 65.6254301309098, R2: 0.9812208319257061\n"
     ]
    }
   ],
   "source": [
    "y_pred_neuralnet_regression_no_nan_2 = neural_networks_regression_no_nan_sample_2.predict(X_test_no_nan_sample)\n",
    "y_pred_neuralnet_regression_no_nan_3 = neural_networks_regression_no_nan_sample_3.predict(X_test_no_nan_sample)\n",
    "y_pred_neuralnet_regression_no_nan_4 = neural_networks_regression_no_nan_sample_4.predict(X_test_no_nan_sample)\n",
    "y_pred_neuralnet_regression_no_nan_5 = neural_networks_regression_no_nan_sample_5.predict(X_test_no_nan_sample)\n",
    "\n",
    "print(f'Neural Network Model 2 - MSE: {mean_squared_error(y_test_no_nan_sample, y_pred_neuralnet_regression_no_nan_2)}, R2: {r2_score(y_test_no_nan_sample, y_pred_neuralnet_regression_no_nan_2)}')\n",
    "print(f'Neural Network Model 3 - MSE: {mean_squared_error(y_test_no_nan_sample, y_pred_neuralnet_regression_no_nan_3)}, R2: {r2_score(y_test_no_nan_sample, y_pred_neuralnet_regression_no_nan_3)}')\n",
    "print(f'Neural Network Model 4 - MSE: {mean_squared_error(y_test_no_nan_sample, y_pred_neuralnet_regression_no_nan_4)}, R2: {r2_score(y_test_no_nan_sample, y_pred_neuralnet_regression_no_nan_4)}')\n",
    "print(f'Neural Network Model 5 - MSE: {mean_squared_error(y_test_no_nan_sample, y_pred_neuralnet_regression_no_nan_5)}, R2: {r2_score(y_test_no_nan_sample, y_pred_neuralnet_regression_no_nan_5)}')"
   ]
  },
  {
   "cell_type": "markdown",
   "metadata": {},
   "source": [
    "**Visual Representation of the values predicted by the model and the actual data.**"
   ]
  },
  {
   "cell_type": "code",
   "execution_count": 114,
   "metadata": {
    "ExecuteTime": {
     "end_time": "2021-06-16T23:16:34.163811Z",
     "start_time": "2021-06-16T23:16:33.686387Z"
    }
   },
   "outputs": [
    {
     "name": "stderr",
     "output_type": "stream",
     "text": [
      "<ipython-input-114-78e2a84e14ad>:11: UserWarning: Matplotlib is currently using module://ipykernel.pylab.backend_inline, which is a non-GUI backend, so cannot show the figure.\n",
      "  fig.show()\n"
     ]
    },
    {
     "data": {
      "image/png": "[encoded data removed]",
      "text/plain": [
       "<Figure size 720x432 with 1 Axes>"
      ]
     },
     "metadata": {
      "needs_background": "light"
     },
     "output_type": "display_data"
    }
   ],
   "source": [
    "#Create figure\n",
    "fig, ax = plt.subplots(figsize=(10, 6))\n",
    "\n",
    "#Plot points using test data points (actual data) on x axis and predicted data points on y axis\n",
    "ax.scatter(y_test_no_nan_sample, y_pred_neuralnet_regression_no_nan_2, linewidths=6)\n",
    "\n",
    "#Plot a line showing the actual test data points, so we can compare it to the predicted data points\n",
    "ax.plot([y_test_no_nan_sample.min(), y_test_no_nan_sample.max()], [y_test_no_nan_sample.min(), y_test_no_nan_sample.max()], color='red')\n",
    "\n",
    "plt.title('Neural Network Regression no_nan 2')\n",
    "fig.show()"
   ]
  },
  {
   "cell_type": "code",
   "execution_count": 115,
   "metadata": {
    "ExecuteTime": {
     "end_time": "2021-06-16T23:16:38.511366Z",
     "start_time": "2021-06-16T23:16:38.062697Z"
    }
   },
   "outputs": [
    {
     "name": "stderr",
     "output_type": "stream",
     "text": [
      "<ipython-input-115-d7127d436b0e>:6: UserWarning: Matplotlib is currently using module://ipykernel.pylab.backend_inline, which is a non-GUI backend, so cannot show the figure.\n",
      "  fig.show()\n"
     ]
    },
    {
     "data": {
      "image/png": "[encoded data removed]",
      "text/plain": [
       "<Figure size 720x432 with 1 Axes>"
      ]
     },
     "metadata": {
      "needs_background": "light"
     },
     "output_type": "display_data"
    }
   ],
   "source": [
    "fig, ax = plt.subplots(figsize=(10, 6))\n",
    "ax.scatter(y_test_no_nan_sample, y_pred_neuralnet_regression_no_nan_3, linewidths=6)\n",
    "ax.plot([y_test_no_nan_sample.min(), y_test_no_nan_sample.max()], [y_test_no_nan_sample.min(), y_test_no_nan_sample.max()], color='red')\n",
    "\n",
    "plt.title('Neural Network Regression no_nan 3')\n",
    "fig.show()"
   ]
  },
  {
   "cell_type": "code",
   "execution_count": 116,
   "metadata": {
    "ExecuteTime": {
     "end_time": "2021-06-16T23:16:41.547466Z",
     "start_time": "2021-06-16T23:16:40.366258Z"
    }
   },
   "outputs": [
    {
     "name": "stderr",
     "output_type": "stream",
     "text": [
      "<ipython-input-116-2d49b641fca0>:6: UserWarning: Matplotlib is currently using module://ipykernel.pylab.backend_inline, which is a non-GUI backend, so cannot show the figure.\n",
      "  fig.show()\n"
     ]
    },
    {
     "data": {
      "image/png": "[encoded data removed]",
      "text/plain": [
       "<Figure size 720x432 with 1 Axes>"
      ]
     },
     "metadata": {
      "needs_background": "light"
     },
     "output_type": "display_data"
    }
   ],
   "source": [
    "fig, ax = plt.subplots(figsize=(10, 6))\n",
    "ax.scatter(y_test_no_nan_sample, y_pred_neuralnet_regression_no_nan_4, linewidths=6)\n",
    "ax.plot([y_test_no_nan_sample.min(), y_test_no_nan_sample.max()], [y_test_no_nan_sample.min(), y_test_no_nan_sample.max()], color='red')\n",
    "\n",
    "plt.title('Neural Network Regression no_nan 4')\n",
    "fig.show()"
   ]
  },
  {
   "cell_type": "code",
   "execution_count": 117,
   "metadata": {
    "ExecuteTime": {
     "end_time": "2021-06-16T23:16:50.724312Z",
     "start_time": "2021-06-16T23:16:50.279188Z"
    }
   },
   "outputs": [
    {
     "name": "stderr",
     "output_type": "stream",
     "text": [
      "<ipython-input-117-18f7d0297818>:6: UserWarning: Matplotlib is currently using module://ipykernel.pylab.backend_inline, which is a non-GUI backend, so cannot show the figure.\n",
      "  fig.show()\n"
     ]
    },
    {
     "data": {
      "image/png": "[encoded data removed]",
      "text/plain": [
       "<Figure size 720x432 with 1 Axes>"
      ]
     },
     "metadata": {
      "needs_background": "light"
     },
     "output_type": "display_data"
    }
   ],
   "source": [
    "fig, ax = plt.subplots(figsize=(10, 6))\n",
    "ax.scatter(y_test_no_nan_sample, y_pred_neuralnet_regression_no_nan_5, linewidths=6)\n",
    "ax.plot([y_test_no_nan_sample.min(), y_test_no_nan_sample.max()], [y_test_no_nan_sample.min(), y_test_no_nan_sample.max()], color='red')\n",
    "\n",
    "plt.title('Neural Network Regression no_nan 5')\n",
    "fig.show()"
   ]
  },
  {
   "cell_type": "markdown",
   "metadata": {},
   "source": [
    "## Conclusion:"
   ]
  },
  {
   "cell_type": "markdown",
   "metadata": {},
   "source": [
    "As we can see, the best model is **Neural Networks Model 4**, because we have the smallest MSE and the bigger R2_score. \n",
    "\n",
    "**Visual:**\n",
    "It´s the one that makes the most correct predictions, thus having the smallest difference between the spots predicted and the line traced by the actual data."
   ]
  },
  {
   "cell_type": "markdown",
   "metadata": {},
   "source": [
    "## Exercici 4\n",
    "#### Compara el seu rendiment utilitzant l’aproximació traint/test o utilitzant totes les dades (validació interna)\n",
    "\n",
    "***(In order to simplify the exercise I´ll consider only the Linear Regression and Neural Networks Regression models)***"
   ]
  },
  {
   "cell_type": "markdown",
   "metadata": {},
   "source": [
    "## Linear Regression Full Dataset"
   ]
  },
  {
   "cell_type": "code",
   "execution_count": 118,
   "metadata": {
    "ExecuteTime": {
     "end_time": "2021-06-17T00:09:03.785386Z",
     "start_time": "2021-06-17T00:09:03.105004Z"
    }
   },
   "outputs": [],
   "source": [
    "linear_regression_fulldataset = linear_regression.fit(X_no_nan, y_no_nan)"
   ]
  },
  {
   "cell_type": "code",
   "execution_count": 119,
   "metadata": {
    "ExecuteTime": {
     "end_time": "2021-06-17T00:09:04.671566Z",
     "start_time": "2021-06-17T00:09:04.599551Z"
    }
   },
   "outputs": [],
   "source": [
    "y_pred_linear_regression_fulldataset = linear_regression_fulldataset.predict(X_no_nan)"
   ]
  },
  {
   "cell_type": "code",
   "execution_count": 120,
   "metadata": {
    "ExecuteTime": {
     "end_time": "2021-06-17T00:09:06.720378Z",
     "start_time": "2021-06-17T00:09:06.590343Z"
    }
   },
   "outputs": [
    {
     "name": "stdout",
     "output_type": "stream",
     "text": [
      "Linear Regression nonan Full Dataset\n",
      "-----------------------\n",
      "MSE: 3.970024499434873\n",
      "R2: 0.9989244101134743\n"
     ]
    }
   ],
   "source": [
    "print('Linear Regression nonan Full Dataset')\n",
    "print('-----------------------')\n",
    "print(f'MSE: {mean_squared_error(y_no_nan, y_pred_linear_regression_fulldataset)}')\n",
    "print(f'R2: {r2_score(y_no_nan, y_pred_linear_regression_fulldataset)}')"
   ]
  },
  {
   "cell_type": "markdown",
   "metadata": {},
   "source": [
    "## Neural Networks Regression Full Dataset"
   ]
  },
  {
   "cell_type": "code",
   "execution_count": 81,
   "metadata": {
    "ExecuteTime": {
     "end_time": "2021-06-16T17:40:26.772537Z",
     "start_time": "2021-06-16T17:38:59.603828Z"
    }
   },
   "outputs": [],
   "source": [
    "neural_networks_regression_fulldataset = neural_networks_regression.fit(X_no_nan_sample, y_no_nan_sample)"
   ]
  },
  {
   "cell_type": "code",
   "execution_count": 82,
   "metadata": {
    "ExecuteTime": {
     "end_time": "2021-06-16T17:55:09.469618Z",
     "start_time": "2021-06-16T17:55:09.395599Z"
    }
   },
   "outputs": [],
   "source": [
    "y_pred_neural_networks_regression_fulldataset = neural_networks_regression_fulldataset.predict(X_no_nan_sample)"
   ]
  },
  {
   "cell_type": "code",
   "execution_count": 83,
   "metadata": {
    "ExecuteTime": {
     "end_time": "2021-06-16T17:56:20.057556Z",
     "start_time": "2021-06-16T17:56:20.038548Z"
    }
   },
   "outputs": [
    {
     "name": "stdout",
     "output_type": "stream",
     "text": [
      "Neural Networks Regression nonan Full Dataset\n",
      "-----------------------\n",
      "MSE: 1.387051227541919\n",
      "R2: 0.9996128864573677\n"
     ]
    }
   ],
   "source": [
    "print('Neural Networks Regression nonan Full Dataset')\n",
    "print('-----------------------')\n",
    "print(f'MSE: {mean_squared_error(y_no_nan_sample, y_pred_neural_networks_regression_fulldataset)}')\n",
    "print(f'R2: {r2_score(y_no_nan_sample, y_pred_neural_networks_regression_fulldataset)}')"
   ]
  },
  {
   "cell_type": "markdown",
   "metadata": {},
   "source": [
    "# Nivell 2\n",
    "## Exercici 5\n",
    "#### Realitza algun procés d’enginyeria de variables per millorar-ne la predicció"
   ]
  },
  {
   "cell_type": "code",
   "execution_count": 121,
   "metadata": {
    "ExecuteTime": {
     "end_time": "2021-06-17T00:29:18.426508Z",
     "start_time": "2021-06-17T00:29:18.358472Z"
    }
   },
   "outputs": [
    {
     "data": {
      "text/html": [
       "<div>\n",
       "<style scoped>\n",
       "    .dataframe tbody tr th:only-of-type {\n",
       "        vertical-align: middle;\n",
       "    }\n",
       "\n",
       "    .dataframe tbody tr th {\n",
       "        vertical-align: top;\n",
       "    }\n",
       "\n",
       "    .dataframe thead th {\n",
       "        text-align: right;\n",
       "    }\n",
       "</style>\n",
       "<table border=\"1\" class=\"dataframe\">\n",
       "  <thead>\n",
       "    <tr style=\"text-align: right;\">\n",
       "      <th></th>\n",
       "      <th>Unnamed: 0</th>\n",
       "      <th>Year</th>\n",
       "      <th>Month</th>\n",
       "      <th>DayofMonth</th>\n",
       "      <th>DayOfWeek</th>\n",
       "      <th>DepTime</th>\n",
       "      <th>CRSDepTime</th>\n",
       "      <th>ArrTime</th>\n",
       "      <th>CRSArrTime</th>\n",
       "      <th>UniqueCarrier</th>\n",
       "      <th>FlightNum</th>\n",
       "      <th>TailNum</th>\n",
       "      <th>ActualElapsedTime</th>\n",
       "      <th>CRSElapsedTime</th>\n",
       "      <th>AirTime</th>\n",
       "      <th>ArrDelay</th>\n",
       "      <th>DepDelay</th>\n",
       "      <th>Origin</th>\n",
       "      <th>Dest</th>\n",
       "      <th>Distance</th>\n",
       "      <th>TaxiIn</th>\n",
       "      <th>TaxiOut</th>\n",
       "      <th>Cancelled</th>\n",
       "      <th>CancellationCode</th>\n",
       "      <th>Diverted</th>\n",
       "      <th>CarrierDelay</th>\n",
       "      <th>WeatherDelay</th>\n",
       "      <th>NASDelay</th>\n",
       "      <th>SecurityDelay</th>\n",
       "      <th>LateAircraftDelay</th>\n",
       "    </tr>\n",
       "  </thead>\n",
       "  <tbody>\n",
       "    <tr>\n",
       "      <th>0</th>\n",
       "      <td>0</td>\n",
       "      <td>2008</td>\n",
       "      <td>1</td>\n",
       "      <td>3</td>\n",
       "      <td>4</td>\n",
       "      <td>2003.0</td>\n",
       "      <td>1955</td>\n",
       "      <td>2211.0</td>\n",
       "      <td>2225</td>\n",
       "      <td>WN</td>\n",
       "      <td>335</td>\n",
       "      <td>N712SW</td>\n",
       "      <td>128.0</td>\n",
       "      <td>150.0</td>\n",
       "      <td>116.0</td>\n",
       "      <td>-14.0</td>\n",
       "      <td>8.0</td>\n",
       "      <td>IAD</td>\n",
       "      <td>TPA</td>\n",
       "      <td>810</td>\n",
       "      <td>4.0</td>\n",
       "      <td>8.0</td>\n",
       "      <td>0</td>\n",
       "      <td>N</td>\n",
       "      <td>0</td>\n",
       "      <td>NaN</td>\n",
       "      <td>NaN</td>\n",
       "      <td>NaN</td>\n",
       "      <td>NaN</td>\n",
       "      <td>NaN</td>\n",
       "    </tr>\n",
       "    <tr>\n",
       "      <th>1</th>\n",
       "      <td>1</td>\n",
       "      <td>2008</td>\n",
       "      <td>1</td>\n",
       "      <td>3</td>\n",
       "      <td>4</td>\n",
       "      <td>754.0</td>\n",
       "      <td>735</td>\n",
       "      <td>1002.0</td>\n",
       "      <td>1000</td>\n",
       "      <td>WN</td>\n",
       "      <td>3231</td>\n",
       "      <td>N772SW</td>\n",
       "      <td>128.0</td>\n",
       "      <td>145.0</td>\n",
       "      <td>113.0</td>\n",
       "      <td>2.0</td>\n",
       "      <td>19.0</td>\n",
       "      <td>IAD</td>\n",
       "      <td>TPA</td>\n",
       "      <td>810</td>\n",
       "      <td>5.0</td>\n",
       "      <td>10.0</td>\n",
       "      <td>0</td>\n",
       "      <td>N</td>\n",
       "      <td>0</td>\n",
       "      <td>NaN</td>\n",
       "      <td>NaN</td>\n",
       "      <td>NaN</td>\n",
       "      <td>NaN</td>\n",
       "      <td>NaN</td>\n",
       "    </tr>\n",
       "    <tr>\n",
       "      <th>2</th>\n",
       "      <td>2</td>\n",
       "      <td>2008</td>\n",
       "      <td>1</td>\n",
       "      <td>3</td>\n",
       "      <td>4</td>\n",
       "      <td>628.0</td>\n",
       "      <td>620</td>\n",
       "      <td>804.0</td>\n",
       "      <td>750</td>\n",
       "      <td>WN</td>\n",
       "      <td>448</td>\n",
       "      <td>N428WN</td>\n",
       "      <td>96.0</td>\n",
       "      <td>90.0</td>\n",
       "      <td>76.0</td>\n",
       "      <td>14.0</td>\n",
       "      <td>8.0</td>\n",
       "      <td>IND</td>\n",
       "      <td>BWI</td>\n",
       "      <td>515</td>\n",
       "      <td>3.0</td>\n",
       "      <td>17.0</td>\n",
       "      <td>0</td>\n",
       "      <td>N</td>\n",
       "      <td>0</td>\n",
       "      <td>NaN</td>\n",
       "      <td>NaN</td>\n",
       "      <td>NaN</td>\n",
       "      <td>NaN</td>\n",
       "      <td>NaN</td>\n",
       "    </tr>\n",
       "    <tr>\n",
       "      <th>3</th>\n",
       "      <td>4</td>\n",
       "      <td>2008</td>\n",
       "      <td>1</td>\n",
       "      <td>3</td>\n",
       "      <td>4</td>\n",
       "      <td>1829.0</td>\n",
       "      <td>1755</td>\n",
       "      <td>1959.0</td>\n",
       "      <td>1925</td>\n",
       "      <td>WN</td>\n",
       "      <td>3920</td>\n",
       "      <td>N464WN</td>\n",
       "      <td>90.0</td>\n",
       "      <td>90.0</td>\n",
       "      <td>77.0</td>\n",
       "      <td>34.0</td>\n",
       "      <td>34.0</td>\n",
       "      <td>IND</td>\n",
       "      <td>BWI</td>\n",
       "      <td>515</td>\n",
       "      <td>3.0</td>\n",
       "      <td>10.0</td>\n",
       "      <td>0</td>\n",
       "      <td>N</td>\n",
       "      <td>0</td>\n",
       "      <td>2.0</td>\n",
       "      <td>0.0</td>\n",
       "      <td>0.0</td>\n",
       "      <td>0.0</td>\n",
       "      <td>32.0</td>\n",
       "    </tr>\n",
       "    <tr>\n",
       "      <th>4</th>\n",
       "      <td>5</td>\n",
       "      <td>2008</td>\n",
       "      <td>1</td>\n",
       "      <td>3</td>\n",
       "      <td>4</td>\n",
       "      <td>1940.0</td>\n",
       "      <td>1915</td>\n",
       "      <td>2121.0</td>\n",
       "      <td>2110</td>\n",
       "      <td>WN</td>\n",
       "      <td>378</td>\n",
       "      <td>N726SW</td>\n",
       "      <td>101.0</td>\n",
       "      <td>115.0</td>\n",
       "      <td>87.0</td>\n",
       "      <td>11.0</td>\n",
       "      <td>25.0</td>\n",
       "      <td>IND</td>\n",
       "      <td>JAX</td>\n",
       "      <td>688</td>\n",
       "      <td>4.0</td>\n",
       "      <td>10.0</td>\n",
       "      <td>0</td>\n",
       "      <td>N</td>\n",
       "      <td>0</td>\n",
       "      <td>NaN</td>\n",
       "      <td>NaN</td>\n",
       "      <td>NaN</td>\n",
       "      <td>NaN</td>\n",
       "      <td>NaN</td>\n",
       "    </tr>\n",
       "  </tbody>\n",
       "</table>\n",
       "</div>"
      ],
      "text/plain": [
       "   Unnamed: 0  Year  Month  DayofMonth  DayOfWeek  DepTime  CRSDepTime  \\\n",
       "0           0  2008      1           3          4   2003.0        1955   \n",
       "1           1  2008      1           3          4    754.0         735   \n",
       "2           2  2008      1           3          4    628.0         620   \n",
       "3           4  2008      1           3          4   1829.0        1755   \n",
       "4           5  2008      1           3          4   1940.0        1915   \n",
       "\n",
       "   ArrTime  CRSArrTime UniqueCarrier  FlightNum TailNum  ActualElapsedTime  \\\n",
       "0   2211.0        2225            WN        335  N712SW              128.0   \n",
       "1   1002.0        1000            WN       3231  N772SW              128.0   \n",
       "2    804.0         750            WN        448  N428WN               96.0   \n",
       "3   1959.0        1925            WN       3920  N464WN               90.0   \n",
       "4   2121.0        2110            WN        378  N726SW              101.0   \n",
       "\n",
       "   CRSElapsedTime  AirTime  ArrDelay  DepDelay Origin Dest  Distance  TaxiIn  \\\n",
       "0           150.0    116.0     -14.0       8.0    IAD  TPA       810     4.0   \n",
       "1           145.0    113.0       2.0      19.0    IAD  TPA       810     5.0   \n",
       "2            90.0     76.0      14.0       8.0    IND  BWI       515     3.0   \n",
       "3            90.0     77.0      34.0      34.0    IND  BWI       515     3.0   \n",
       "4           115.0     87.0      11.0      25.0    IND  JAX       688     4.0   \n",
       "\n",
       "   TaxiOut  Cancelled CancellationCode  Diverted  CarrierDelay  WeatherDelay  \\\n",
       "0      8.0          0                N         0           NaN           NaN   \n",
       "1     10.0          0                N         0           NaN           NaN   \n",
       "2     17.0          0                N         0           NaN           NaN   \n",
       "3     10.0          0                N         0           2.0           0.0   \n",
       "4     10.0          0                N         0           NaN           NaN   \n",
       "\n",
       "   NASDelay  SecurityDelay  LateAircraftDelay  \n",
       "0       NaN            NaN                NaN  \n",
       "1       NaN            NaN                NaN  \n",
       "2       NaN            NaN                NaN  \n",
       "3       0.0            0.0               32.0  \n",
       "4       NaN            NaN                NaN  "
      ]
     },
     "execution_count": 121,
     "metadata": {},
     "output_type": "execute_result"
    }
   ],
   "source": [
    "df_delay.head()"
   ]
  },
  {
   "cell_type": "code",
   "execution_count": 125,
   "metadata": {
    "ExecuteTime": {
     "end_time": "2021-06-17T00:46:07.217996Z",
     "start_time": "2021-06-17T00:45:42.318148Z"
    }
   },
   "outputs": [],
   "source": [
    "df_delay_orgn_dest = pd.get_dummies(data=df_delay, columns=['Origin', 'Dest'])"
   ]
  },
  {
   "cell_type": "code",
   "execution_count": 129,
   "metadata": {
    "ExecuteTime": {
     "end_time": "2021-06-17T00:48:15.628700Z",
     "start_time": "2021-06-17T00:48:15.613692Z"
    }
   },
   "outputs": [
    {
     "data": {
      "text/plain": [
       "Index(['Unnamed: 0', 'Year', 'Month', 'DayofMonth', 'DayOfWeek', 'DepTime',\n",
       "       'CRSDepTime', 'ArrTime', 'CRSArrTime', 'UniqueCarrier', 'FlightNum',\n",
       "       'TailNum', 'ActualElapsedTime', 'CRSElapsedTime', 'AirTime', 'ArrDelay',\n",
       "       'DepDelay', 'Origin', 'Dest', 'Distance', 'TaxiIn', 'TaxiOut',\n",
       "       'Cancelled', 'CancellationCode', 'Diverted', 'CarrierDelay',\n",
       "       'WeatherDelay', 'NASDelay', 'SecurityDelay', 'LateAircraftDelay'],\n",
       "      dtype='object')"
      ]
     },
     "execution_count": 129,
     "metadata": {},
     "output_type": "execute_result"
    }
   ],
   "source": [
    "df_delay.columns"
   ]
  },
  {
   "cell_type": "code",
   "execution_count": 131,
   "metadata": {
    "ExecuteTime": {
     "end_time": "2021-06-17T00:54:56.909995Z",
     "start_time": "2021-06-17T00:54:48.867039Z"
    }
   },
   "outputs": [],
   "source": [
    "df_delay_orgn_dest_cols_drop = df_delay_orgn_dest.drop(columns=['Unnamed: 0', 'Year', 'Month', 'DayofMonth', \n",
    "                                                                'DayOfWeek', 'DepTime', 'CRSDepTime', 'ArrTime',\n",
    "                                                                'CRSArrTime', 'UniqueCarrier', 'FlightNum',\n",
    "                                                                'TailNum', 'Cancelled', 'CancellationCode', \n",
    "                                                                'Diverted', 'CarrierDelay', 'WeatherDelay', \n",
    "                                                                'NASDelay', 'SecurityDelay', 'LateAircraftDelay'])"
   ]
  },
  {
   "cell_type": "code",
   "execution_count": 145,
   "metadata": {
    "ExecuteTime": {
     "end_time": "2021-06-17T01:01:20.845390Z",
     "start_time": "2021-06-17T01:01:09.778658Z"
    }
   },
   "outputs": [],
   "source": [
    "df_delay_orgn_dest_cols_drop_sample = df_delay_orgn_dest_cols_drop.sample(n=int(round(df_delay_orgn_dest_cols_drop.shape[0]*0.25, 0)))"
   ]
  },
  {
   "cell_type": "code",
   "execution_count": 146,
   "metadata": {
    "ExecuteTime": {
     "end_time": "2021-06-17T01:01:25.966721Z",
     "start_time": "2021-06-17T01:01:25.957715Z"
    }
   },
   "outputs": [
    {
     "data": {
      "text/plain": [
       "(484190, 615)"
      ]
     },
     "execution_count": 146,
     "metadata": {},
     "output_type": "execute_result"
    }
   ],
   "source": [
    "df_delay_orgn_dest_cols_drop_sample.shape"
   ]
  },
  {
   "cell_type": "markdown",
   "metadata": {},
   "source": [
    "**Remove all Nan**"
   ]
  },
  {
   "cell_type": "code",
   "execution_count": 149,
   "metadata": {
    "ExecuteTime": {
     "end_time": "2021-06-17T01:12:32.063999Z",
     "start_time": "2021-06-17T01:12:26.665095Z"
    }
   },
   "outputs": [],
   "source": [
    "df_delay_orgn_dest_cols_drop_sample_dropna = df_delay_orgn_dest_cols_drop_sample.dropna()"
   ]
  },
  {
   "cell_type": "markdown",
   "metadata": {},
   "source": [
    "**Choose features and Target variables**"
   ]
  },
  {
   "cell_type": "code",
   "execution_count": 156,
   "metadata": {
    "ExecuteTime": {
     "end_time": "2021-06-17T01:16:56.105982Z",
     "start_time": "2021-06-17T01:16:55.453703Z"
    }
   },
   "outputs": [],
   "source": [
    "X_eng = df_delay_orgn_dest_cols_drop_sample_dropna.drop(columns=['ArrDelay'])\n",
    "y_eng = df_delay_orgn_dest_cols_drop_sample_dropna['ArrDelay']"
   ]
  },
  {
   "cell_type": "code",
   "execution_count": 160,
   "metadata": {
    "ExecuteTime": {
     "end_time": "2021-06-17T01:25:35.051114Z",
     "start_time": "2021-06-17T01:25:29.874107Z"
    }
   },
   "outputs": [],
   "source": [
    "X_train_eng, X_test_eng, y_train_eng, y_test_eng = train_test_split(X_eng, y_eng, test_size=0.33)"
   ]
  },
  {
   "cell_type": "markdown",
   "metadata": {},
   "source": [
    "## Linear Regression Engineered Dataset"
   ]
  },
  {
   "cell_type": "code",
   "execution_count": 157,
   "metadata": {
    "ExecuteTime": {
     "end_time": "2021-06-17T01:18:49.604286Z",
     "start_time": "2021-06-17T01:17:02.043631Z"
    }
   },
   "outputs": [],
   "source": [
    "linear_regression_eng = linear_regression.fit(X_eng, y_eng)"
   ]
  },
  {
   "cell_type": "code",
   "execution_count": 158,
   "metadata": {
    "ExecuteTime": {
     "end_time": "2021-06-17T01:19:06.651688Z",
     "start_time": "2021-06-17T01:19:03.375106Z"
    }
   },
   "outputs": [],
   "source": [
    "y_pred_linear_regression_eng = linear_regression_eng.predict(X_eng)"
   ]
  },
  {
   "cell_type": "code",
   "execution_count": 159,
   "metadata": {
    "ExecuteTime": {
     "end_time": "2021-06-17T01:19:52.496025Z",
     "start_time": "2021-06-17T01:19:52.081457Z"
    }
   },
   "outputs": [
    {
     "name": "stdout",
     "output_type": "stream",
     "text": [
      "Linear Regression nonan Engineered Dataset\n",
      "-----------------------\n",
      "MSE: 1.0365848930873737e-05\n",
      "R2: 0.9999999968001172\n"
     ]
    }
   ],
   "source": [
    "print('Linear Regression nonan Engineered Dataset')\n",
    "print('-----------------------')\n",
    "print(f'MSE: {mean_squared_error(y_eng, y_pred_linear_regression_eng)}')\n",
    "print(f'R2: {r2_score(y_eng, y_pred_linear_regression_eng)}')"
   ]
  },
  {
   "cell_type": "markdown",
   "metadata": {},
   "source": [
    "**Train Test approach**"
   ]
  },
  {
   "cell_type": "code",
   "execution_count": 161,
   "metadata": {
    "ExecuteTime": {
     "end_time": "2021-06-17T01:27:15.498616Z",
     "start_time": "2021-06-17T01:26:26.729537Z"
    }
   },
   "outputs": [],
   "source": [
    "linear_regression_eng_train_test = linear_regression.fit(X_train_eng, y_train_eng)"
   ]
  },
  {
   "cell_type": "code",
   "execution_count": 162,
   "metadata": {
    "ExecuteTime": {
     "end_time": "2021-06-17T01:27:35.725860Z",
     "start_time": "2021-06-17T01:27:34.749963Z"
    }
   },
   "outputs": [],
   "source": [
    "y_pred_linear_regression_eng_train_test = linear_regression_eng_train_test.predict(X_test_eng)"
   ]
  },
  {
   "cell_type": "code",
   "execution_count": 164,
   "metadata": {
    "ExecuteTime": {
     "end_time": "2021-06-17T01:28:48.965872Z",
     "start_time": "2021-06-17T01:28:48.939865Z"
    }
   },
   "outputs": [
    {
     "name": "stdout",
     "output_type": "stream",
     "text": [
      "Linear Regression nonan Engineered Dataset Train Test\n",
      "-----------------------\n",
      "MSE: 6.300676657362911e-06\n",
      "R2: 0.9999999980705863\n"
     ]
    }
   ],
   "source": [
    "print('Linear Regression nonan Engineered Dataset Train Test')\n",
    "print('-----------------------')\n",
    "print(f'MSE: {mean_squared_error(y_test_eng, y_pred_linear_regression_eng_train_test)}')\n",
    "print(f'R2: {r2_score(y_test_eng, y_pred_linear_regression_eng_train_test)}')"
   ]
  },
  {
   "cell_type": "markdown",
   "metadata": {},
   "source": [
    "## Neural Networks Regression Engineered Dataset"
   ]
  },
  {
   "cell_type": "code",
   "execution_count": 165,
   "metadata": {
    "ExecuteTime": {
     "end_time": "2021-06-17T02:24:02.970626Z",
     "start_time": "2021-06-17T02:01:20.203620Z"
    }
   },
   "outputs": [],
   "source": [
    "neural_networks_regression_eng = neural_networks_regression.fit(X_eng, y_eng)"
   ]
  },
  {
   "cell_type": "code",
   "execution_count": 166,
   "metadata": {
    "ExecuteTime": {
     "end_time": "2021-06-17T02:24:23.895475Z",
     "start_time": "2021-06-17T02:24:17.736857Z"
    }
   },
   "outputs": [],
   "source": [
    "y_pred_neural_networks_regression_eng = neural_networks_regression_eng.predict(X_eng)"
   ]
  },
  {
   "cell_type": "code",
   "execution_count": 167,
   "metadata": {
    "ExecuteTime": {
     "end_time": "2021-06-17T02:25:12.920693Z",
     "start_time": "2021-06-17T02:25:12.863677Z"
    }
   },
   "outputs": [
    {
     "name": "stdout",
     "output_type": "stream",
     "text": [
      "Neural Networks Regression nonan Engineered\n",
      "-----------------------\n",
      "MSE: 0.001137850702442291\n",
      "R2: 0.9999996487514983\n"
     ]
    }
   ],
   "source": [
    "print('Neural Networks Regression nonan Engineered')\n",
    "print('-----------------------')\n",
    "print(f'MSE: {mean_squared_error(y_eng, y_pred_neural_networks_regression_eng)}')\n",
    "print(f'R2: {r2_score(y_eng, y_pred_neural_networks_regression_eng)}')"
   ]
  },
  {
   "cell_type": "markdown",
   "metadata": {
    "ExecuteTime": {
     "end_time": "2021-06-17T00:57:15.911482Z",
     "start_time": "2021-06-17T00:57:15.827461Z"
    }
   },
   "source": [
    "# Nivell 3\n",
    "## Exercici 6\n",
    "#### No utilitzis la variable DepDelay a l’hora de fer prediccions"
   ]
  },
  {
   "cell_type": "code",
   "execution_count": 170,
   "metadata": {
    "ExecuteTime": {
     "end_time": "2021-06-17T02:41:01.334197Z",
     "start_time": "2021-06-17T02:40:56.944489Z"
    }
   },
   "outputs": [],
   "source": [
    "X_no_nan_noDepDelay = X_no_nan.drop(columns=['DepDelay'])"
   ]
  },
  {
   "cell_type": "markdown",
   "metadata": {},
   "source": [
    "## Linear Regression"
   ]
  },
  {
   "cell_type": "markdown",
   "metadata": {},
   "source": [
    "**Train Test approach**"
   ]
  },
  {
   "cell_type": "code",
   "execution_count": 171,
   "metadata": {
    "ExecuteTime": {
     "end_time": "2021-06-17T02:49:03.072659Z",
     "start_time": "2021-06-17T02:49:02.274546Z"
    }
   },
   "outputs": [],
   "source": [
    "linear_regression_noDepDelay = linear_regression.fit(X_no_nan_noDepDelay, y_no_nan)"
   ]
  },
  {
   "cell_type": "code",
   "execution_count": 172,
   "metadata": {
    "ExecuteTime": {
     "end_time": "2021-06-17T02:50:11.889578Z",
     "start_time": "2021-06-17T02:50:11.727614Z"
    }
   },
   "outputs": [],
   "source": [
    "y_pred_linear_regression_noDepDelay = linear_regression_noDepDelay.predict(X_no_nan_noDepDelay)"
   ]
  },
  {
   "cell_type": "code",
   "execution_count": 173,
   "metadata": {
    "ExecuteTime": {
     "end_time": "2021-06-17T02:51:33.647231Z",
     "start_time": "2021-06-17T02:51:33.513622Z"
    }
   },
   "outputs": [
    {
     "name": "stdout",
     "output_type": "stream",
     "text": [
      "Linear Regression nonan no DepDelay\n",
      "-----------------------\n",
      "MSE: 4.085447210060382\n",
      "R2: 0.9988931388958177\n"
     ]
    }
   ],
   "source": [
    "print('Linear Regression nonan no DepDelay')\n",
    "print('-----------------------')\n",
    "print(f'MSE: {mean_squared_error(y_no_nan, y_pred_linear_regression_noDepDelay)}')\n",
    "print(f'R2: {r2_score(y_no_nan, y_pred_linear_regression_noDepDelay)}')"
   ]
  },
  {
   "cell_type": "markdown",
   "metadata": {
    "ExecuteTime": {
     "end_time": "2021-06-17T02:56:22.408165Z",
     "start_time": "2021-06-17T02:56:22.390166Z"
    }
   },
   "source": [
    "## Neural Networks Regression"
   ]
  },
  {
   "cell_type": "markdown",
   "metadata": {},
   "source": [
    "**Train Test approach**"
   ]
  },
  {
   "cell_type": "code",
   "execution_count": 176,
   "metadata": {
    "ExecuteTime": {
     "end_time": "2021-06-17T14:05:46.789601Z",
     "start_time": "2021-06-17T13:56:20.171313Z"
    }
   },
   "outputs": [],
   "source": [
    "neural_networks_regression_noDepDelay = neural_networks_regression.fit(X_no_nan_noDepDelay, y_no_nan)"
   ]
  },
  {
   "cell_type": "code",
   "execution_count": 177,
   "metadata": {
    "ExecuteTime": {
     "end_time": "2021-06-17T14:09:48.439678Z",
     "start_time": "2021-06-17T14:09:47.772435Z"
    }
   },
   "outputs": [],
   "source": [
    "y_pred_neuralnet_regression_noDepDelay = neural_networks_regression_noDepDelay.predict(X_no_nan_noDepDelay)"
   ]
  },
  {
   "cell_type": "code",
   "execution_count": 178,
   "metadata": {
    "ExecuteTime": {
     "end_time": "2021-06-17T14:11:50.561206Z",
     "start_time": "2021-06-17T14:11:50.436171Z"
    }
   },
   "outputs": [
    {
     "name": "stdout",
     "output_type": "stream",
     "text": [
      "Neural Networks Regression nonan no DepDelay\n",
      "-----------------------\n",
      "MSE: 2.5082907941381842\n",
      "R2: 0.9993204343673384\n"
     ]
    }
   ],
   "source": [
    "print('Neural Networks Regression nonan no DepDelay')\n",
    "print('-----------------------')\n",
    "print(f'MSE: {mean_squared_error(y_no_nan, y_pred_neuralnet_regression_noDepDelay)}')\n",
    "print(f'R2: {r2_score(y_no_nan, y_pred_neuralnet_regression_noDepDelay)}')"
   ]
  }
 ],
 "metadata": {
  "kernelspec": {
   "display_name": "Python 3",
   "language": "python",
   "name": "python3"
  },
  "language_info": {
   "codemirror_mode": {
    "name": "ipython",
    "version": 3
   },
   "file_extension": ".py",
   "mimetype": "text/x-python",
   "name": "python",
   "nbconvert_exporter": "python",
   "pygments_lexer": "ipython3",
   "version": "3.8.5"
  }
 },
 "nbformat": 4,
 "nbformat_minor": 4
}
