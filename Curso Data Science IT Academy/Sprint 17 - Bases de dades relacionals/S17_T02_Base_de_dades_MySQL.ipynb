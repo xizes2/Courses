{
 "cells": [
  {
   "cell_type": "markdown",
   "metadata": {},
   "source": [
    "# Nivell 2"
   ]
  },
  {
   "cell_type": "markdown",
   "metadata": {},
   "source": [
    "## Exercici 2\n",
    "Mostra que pots carregar algunes consultes senzilles a un Pandas Dataframe."
   ]
  },
  {
   "cell_type": "code",
   "execution_count": 5,
   "metadata": {
    "ExecuteTime": {
     "end_time": "2021-09-07T18:16:00.016071Z",
     "start_time": "2021-09-07T18:15:38.772904Z"
    }
   },
   "outputs": [
    {
     "name": "stdout",
     "output_type": "stream",
     "text": [
      "Collecting mysql-connector-python\n",
      "  Downloading mysql_connector_python-8.0.26-cp38-cp38-win_amd64.whl (799 kB)\n",
      "Collecting protobuf>=3.0.0\n",
      "  Downloading protobuf-3.17.3-cp38-cp38-win_amd64.whl (909 kB)\n",
      "Requirement already satisfied: six>=1.9 in c:\\users\\xizes\\anaconda3\\lib\\site-packages (from protobuf>=3.0.0->mysql-connector-python) (1.15.0)\n",
      "Installing collected packages: protobuf, mysql-connector-python\n",
      "Successfully installed mysql-connector-python-8.0.26 protobuf-3.17.3\n"
     ]
    }
   ],
   "source": [
    "!pip install mysql-connector-python\n",
    "import mysql.connector"
   ]
  },
  {
   "cell_type": "code",
   "execution_count": 34,
   "metadata": {
    "ExecuteTime": {
     "end_time": "2021-09-08T06:19:59.265264Z",
     "start_time": "2021-09-08T06:19:59.238259Z"
    }
   },
   "outputs": [],
   "source": [
    "mydb = mysql.connector.connect(\n",
    "  host=\"127.0.0.1\",\n",
    "  user=\"root\",\n",
    "  password=\"\",\n",
    "  database=\"hotel\"\n",
    ")"
   ]
  },
  {
   "cell_type": "code",
   "execution_count": 35,
   "metadata": {
    "ExecuteTime": {
     "end_time": "2021-09-08T06:20:00.419628Z",
     "start_time": "2021-09-08T06:20:00.410624Z"
    }
   },
   "outputs": [
    {
     "name": "stdout",
     "output_type": "stream",
     "text": [
      "<mysql.connector.connection.MySQLConnection object at 0x00000194852BE880>\n"
     ]
    }
   ],
   "source": [
    "print(mydb)"
   ]
  },
  {
   "cell_type": "code",
   "execution_count": 36,
   "metadata": {
    "ExecuteTime": {
     "end_time": "2021-09-08T06:20:01.527900Z",
     "start_time": "2021-09-08T06:20:01.496737Z"
    }
   },
   "outputs": [],
   "source": [
    "mycursor = mydb.cursor()"
   ]
  },
  {
   "cell_type": "code",
   "execution_count": 37,
   "metadata": {
    "ExecuteTime": {
     "end_time": "2021-09-08T06:20:02.614463Z",
     "start_time": "2021-09-08T06:20:02.553443Z"
    }
   },
   "outputs": [
    {
     "data": {
      "text/plain": [
       "[('hotel',),\n",
       " ('information_schema',),\n",
       " ('mysql',),\n",
       " ('performance_schema',),\n",
       " ('phpmyadmin',),\n",
       " ('test',)]"
      ]
     },
     "execution_count": 37,
     "metadata": {},
     "output_type": "execute_result"
    }
   ],
   "source": [
    "mycursor.execute('SHOW DATABASES')\n",
    "mycursor.fetchall()"
   ]
  },
  {
   "cell_type": "code",
   "execution_count": 38,
   "metadata": {
    "ExecuteTime": {
     "end_time": "2021-09-08T06:20:04.078983Z",
     "start_time": "2021-09-08T06:20:04.044977Z"
    }
   },
   "outputs": [],
   "source": [
    "mycursor.execute(\"USE HOTEL\")"
   ]
  },
  {
   "cell_type": "code",
   "execution_count": 39,
   "metadata": {
    "ExecuteTime": {
     "end_time": "2021-09-08T06:20:08.683762Z",
     "start_time": "2021-09-08T06:20:08.659755Z"
    }
   },
   "outputs": [
    {
     "data": {
      "text/plain": [
       "[('clients',), ('employees',), ('employees_departament',), ('rvas',)]"
      ]
     },
     "execution_count": 39,
     "metadata": {},
     "output_type": "execute_result"
    }
   ],
   "source": [
    "mycursor.execute('SHOW TABLES')\n",
    "mycursor.fetchall()"
   ]
  },
  {
   "cell_type": "code",
   "execution_count": 40,
   "metadata": {
    "ExecuteTime": {
     "end_time": "2021-09-08T06:20:10.054492Z",
     "start_time": "2021-09-08T06:20:10.012479Z"
    },
    "collapsed": true
   },
   "outputs": [
    {
     "data": {
      "text/plain": [
       "[(1, 'Julia', '020356', 'j@mail.com'),\n",
       " (2, 'Marco', 'h2145j896', 'm@mail.com'),\n",
       " (3, 'Sana', 'FK256987', 's@mail.com'),\n",
       " (4, 'Octavio', '1258965', 'o@mail.com'),\n",
       " (5, 'Alesandra', '1vfs3546', 'a@mail.com'),\n",
       " (6, 'Julia B.', '134657', 'jb@mail.com'),\n",
       " (7, 'Breno', '65487JH', 'b@mail.com'),\n",
       " (8, 'Miriam', '654987331235', 'mi@mail.com'),\n",
       " (9, 'Julian', '020356', 'ju@mail.com'),\n",
       " (10, 'Marcque', 'h2145j896', '54m@mail.com'),\n",
       " (11, 'Sanu', 'FK256987', '2ws@mail.com'),\n",
       " (12, 'Otavio', '1258965', 'kjo@mail.com'),\n",
       " (13, 'Alexandra', '1vfs3546', 'a321@mail.com'),\n",
       " (14, 'Julia C.', '134657', 'jben@mail.com'),\n",
       " (15, 'Hun', 'vfsd', 'vdf@mail.com'),\n",
       " (16, 'Shana', 'rr4w', 'mhj@mail.com'),\n",
       " (17, 'Tatiana', 'j67i67', 'ntm@mail.com'),\n",
       " (18, 'Goba', 'bkjñkñl', 'y54@mail.com'),\n",
       " (19, 'Walter', 'dfvvdf', 'nghgf@mail.com'),\n",
       " (20, 'Leandro', 'sDFR23', 'ndgf3@mail.com'),\n",
       " (21, 'Putty', 'VDF34', 'bnf34@mail.com'),\n",
       " (22, 'Ai', 'h56yu57', 'ver4@mail.com'),\n",
       " (23, 'Monha', 'gf342', '3214@mail.com'),\n",
       " (24, 'Goby', '546', 'f34@mail.com'),\n",
       " (25, 'Tuti', '89ij78', 'ngh@mail.com'),\n",
       " (26, 'Nina', 'mhjdd', 'dfvdfv@mail.com'),\n",
       " (27, 'Oswaldo', 'gre34f', '23423f4@mail.com'),\n",
       " (28, 'Quiara', 'hty67', 'v3vgf35r@mail.com'),\n",
       " (29, 'Katia', 'bf4etgh', 'f34eg56@mail.com'),\n",
       " (30, 'Miria', '654987331235', 'mi7@mail.com')]"
      ]
     },
     "execution_count": 40,
     "metadata": {},
     "output_type": "execute_result"
    }
   ],
   "source": [
    "mycursor.execute('SELECT * FROM CLIENTS')\n",
    "mycursor.fetchall()"
   ]
  },
  {
   "cell_type": "code",
   "execution_count": 83,
   "metadata": {
    "ExecuteTime": {
     "end_time": "2021-09-08T06:41:19.713556Z",
     "start_time": "2021-09-08T06:41:19.688537Z"
    }
   },
   "outputs": [],
   "source": [
    "mycursor.execute('select * from rvas;')"
   ]
  },
  {
   "cell_type": "code",
   "execution_count": 84,
   "metadata": {
    "ExecuteTime": {
     "end_time": "2021-09-08T06:41:26.256580Z",
     "start_time": "2021-09-08T06:41:26.234579Z"
    }
   },
   "outputs": [],
   "source": [
    "rvas = mycursor.fetchall()"
   ]
  },
  {
   "cell_type": "code",
   "execution_count": null,
   "metadata": {
    "ExecuteTime": {
     "end_time": "2021-09-08T06:44:51.189630Z",
     "start_time": "2021-09-08T06:44:51.159621Z"
    }
   },
   "outputs": [],
   "source": [
    "#SUPPORT CELL - IGNORE\n",
    "\n",
    "#for id in rvas:\n",
    "#    print(id[0])"
   ]
  },
  {
   "cell_type": "code",
   "execution_count": 112,
   "metadata": {
    "ExecuteTime": {
     "end_time": "2021-09-08T06:52:49.222619Z",
     "start_time": "2021-09-08T06:52:49.208592Z"
    }
   },
   "outputs": [],
   "source": [
    "dict_rvas = {mycursor.column_names[0]:[id[0] for id in rvas],\n",
    "             mycursor.column_names[1]:[id[1].day for id in rvas],\n",
    "             mycursor.column_names[2]:[id[2].day for id in rvas],\n",
    "             mycursor.column_names[3]:[id[3] for id in rvas]}"
   ]
  },
  {
   "cell_type": "code",
   "execution_count": 151,
   "metadata": {
    "ExecuteTime": {
     "end_time": "2021-09-08T07:08:29.103788Z",
     "start_time": "2021-09-08T07:08:29.084783Z"
    }
   },
   "outputs": [],
   "source": [
    "#dict_rvas"
   ]
  },
  {
   "cell_type": "code",
   "execution_count": 114,
   "metadata": {
    "ExecuteTime": {
     "end_time": "2021-09-08T06:53:30.774504Z",
     "start_time": "2021-09-08T06:53:28.383218Z"
    }
   },
   "outputs": [],
   "source": [
    "import pandas as pd"
   ]
  },
  {
   "cell_type": "code",
   "execution_count": 119,
   "metadata": {
    "ExecuteTime": {
     "end_time": "2021-09-08T06:54:48.403283Z",
     "start_time": "2021-09-08T06:54:48.393279Z"
    }
   },
   "outputs": [],
   "source": [
    "df_rvas = pd.DataFrame(dict_rvas)"
   ]
  },
  {
   "cell_type": "code",
   "execution_count": 121,
   "metadata": {
    "ExecuteTime": {
     "end_time": "2021-09-08T06:55:26.338885Z",
     "start_time": "2021-09-08T06:55:26.297874Z"
    }
   },
   "outputs": [
    {
     "data": {
      "text/html": [
       "<div>\n",
       "<style scoped>\n",
       "    .dataframe tbody tr th:only-of-type {\n",
       "        vertical-align: middle;\n",
       "    }\n",
       "\n",
       "    .dataframe tbody tr th {\n",
       "        vertical-align: top;\n",
       "    }\n",
       "\n",
       "    .dataframe thead th {\n",
       "        text-align: right;\n",
       "    }\n",
       "</style>\n",
       "<table border=\"1\" class=\"dataframe\">\n",
       "  <thead>\n",
       "    <tr style=\"text-align: right;\">\n",
       "      <th></th>\n",
       "      <th>id</th>\n",
       "      <th>ck_in</th>\n",
       "      <th>ck_out</th>\n",
       "      <th>id_cli</th>\n",
       "    </tr>\n",
       "  </thead>\n",
       "  <tbody>\n",
       "    <tr>\n",
       "      <th>0</th>\n",
       "      <td>1</td>\n",
       "      <td>1</td>\n",
       "      <td>3</td>\n",
       "      <td>1</td>\n",
       "    </tr>\n",
       "    <tr>\n",
       "      <th>1</th>\n",
       "      <td>2</td>\n",
       "      <td>15</td>\n",
       "      <td>21</td>\n",
       "      <td>5</td>\n",
       "    </tr>\n",
       "    <tr>\n",
       "      <th>2</th>\n",
       "      <td>3</td>\n",
       "      <td>13</td>\n",
       "      <td>14</td>\n",
       "      <td>3</td>\n",
       "    </tr>\n",
       "    <tr>\n",
       "      <th>3</th>\n",
       "      <td>4</td>\n",
       "      <td>7</td>\n",
       "      <td>9</td>\n",
       "      <td>7</td>\n",
       "    </tr>\n",
       "    <tr>\n",
       "      <th>4</th>\n",
       "      <td>5</td>\n",
       "      <td>1</td>\n",
       "      <td>5</td>\n",
       "      <td>4</td>\n",
       "    </tr>\n",
       "    <tr>\n",
       "      <th>5</th>\n",
       "      <td>6</td>\n",
       "      <td>2</td>\n",
       "      <td>3</td>\n",
       "      <td>11</td>\n",
       "    </tr>\n",
       "    <tr>\n",
       "      <th>6</th>\n",
       "      <td>7</td>\n",
       "      <td>3</td>\n",
       "      <td>5</td>\n",
       "      <td>2</td>\n",
       "    </tr>\n",
       "    <tr>\n",
       "      <th>7</th>\n",
       "      <td>8</td>\n",
       "      <td>3</td>\n",
       "      <td>9</td>\n",
       "      <td>17</td>\n",
       "    </tr>\n",
       "    <tr>\n",
       "      <th>8</th>\n",
       "      <td>9</td>\n",
       "      <td>4</td>\n",
       "      <td>7</td>\n",
       "      <td>2</td>\n",
       "    </tr>\n",
       "    <tr>\n",
       "      <th>9</th>\n",
       "      <td>10</td>\n",
       "      <td>7</td>\n",
       "      <td>9</td>\n",
       "      <td>3</td>\n",
       "    </tr>\n",
       "    <tr>\n",
       "      <th>10</th>\n",
       "      <td>11</td>\n",
       "      <td>9</td>\n",
       "      <td>10</td>\n",
       "      <td>10</td>\n",
       "    </tr>\n",
       "    <tr>\n",
       "      <th>11</th>\n",
       "      <td>12</td>\n",
       "      <td>8</td>\n",
       "      <td>9</td>\n",
       "      <td>8</td>\n",
       "    </tr>\n",
       "    <tr>\n",
       "      <th>12</th>\n",
       "      <td>13</td>\n",
       "      <td>11</td>\n",
       "      <td>13</td>\n",
       "      <td>13</td>\n",
       "    </tr>\n",
       "    <tr>\n",
       "      <th>13</th>\n",
       "      <td>14</td>\n",
       "      <td>11</td>\n",
       "      <td>14</td>\n",
       "      <td>14</td>\n",
       "    </tr>\n",
       "    <tr>\n",
       "      <th>14</th>\n",
       "      <td>15</td>\n",
       "      <td>11</td>\n",
       "      <td>12</td>\n",
       "      <td>13</td>\n",
       "    </tr>\n",
       "    <tr>\n",
       "      <th>15</th>\n",
       "      <td>16</td>\n",
       "      <td>11</td>\n",
       "      <td>13</td>\n",
       "      <td>19</td>\n",
       "    </tr>\n",
       "    <tr>\n",
       "      <th>16</th>\n",
       "      <td>17</td>\n",
       "      <td>10</td>\n",
       "      <td>11</td>\n",
       "      <td>4</td>\n",
       "    </tr>\n",
       "    <tr>\n",
       "      <th>17</th>\n",
       "      <td>18</td>\n",
       "      <td>5</td>\n",
       "      <td>6</td>\n",
       "      <td>4</td>\n",
       "    </tr>\n",
       "    <tr>\n",
       "      <th>18</th>\n",
       "      <td>19</td>\n",
       "      <td>12</td>\n",
       "      <td>13</td>\n",
       "      <td>12</td>\n",
       "    </tr>\n",
       "    <tr>\n",
       "      <th>19</th>\n",
       "      <td>20</td>\n",
       "      <td>25</td>\n",
       "      <td>28</td>\n",
       "      <td>20</td>\n",
       "    </tr>\n",
       "    <tr>\n",
       "      <th>20</th>\n",
       "      <td>21</td>\n",
       "      <td>14</td>\n",
       "      <td>17</td>\n",
       "      <td>8</td>\n",
       "    </tr>\n",
       "    <tr>\n",
       "      <th>21</th>\n",
       "      <td>22</td>\n",
       "      <td>14</td>\n",
       "      <td>18</td>\n",
       "      <td>3</td>\n",
       "    </tr>\n",
       "    <tr>\n",
       "      <th>22</th>\n",
       "      <td>23</td>\n",
       "      <td>9</td>\n",
       "      <td>13</td>\n",
       "      <td>3</td>\n",
       "    </tr>\n",
       "    <tr>\n",
       "      <th>23</th>\n",
       "      <td>24</td>\n",
       "      <td>12</td>\n",
       "      <td>16</td>\n",
       "      <td>7</td>\n",
       "    </tr>\n",
       "    <tr>\n",
       "      <th>24</th>\n",
       "      <td>25</td>\n",
       "      <td>22</td>\n",
       "      <td>23</td>\n",
       "      <td>9</td>\n",
       "    </tr>\n",
       "    <tr>\n",
       "      <th>25</th>\n",
       "      <td>26</td>\n",
       "      <td>26</td>\n",
       "      <td>27</td>\n",
       "      <td>1</td>\n",
       "    </tr>\n",
       "    <tr>\n",
       "      <th>26</th>\n",
       "      <td>27</td>\n",
       "      <td>29</td>\n",
       "      <td>30</td>\n",
       "      <td>7</td>\n",
       "    </tr>\n",
       "    <tr>\n",
       "      <th>27</th>\n",
       "      <td>28</td>\n",
       "      <td>17</td>\n",
       "      <td>20</td>\n",
       "      <td>13</td>\n",
       "    </tr>\n",
       "    <tr>\n",
       "      <th>28</th>\n",
       "      <td>29</td>\n",
       "      <td>16</td>\n",
       "      <td>14</td>\n",
       "      <td>13</td>\n",
       "    </tr>\n",
       "    <tr>\n",
       "      <th>29</th>\n",
       "      <td>30</td>\n",
       "      <td>19</td>\n",
       "      <td>20</td>\n",
       "      <td>17</td>\n",
       "    </tr>\n",
       "    <tr>\n",
       "      <th>30</th>\n",
       "      <td>31</td>\n",
       "      <td>16</td>\n",
       "      <td>18</td>\n",
       "      <td>8</td>\n",
       "    </tr>\n",
       "    <tr>\n",
       "      <th>31</th>\n",
       "      <td>32</td>\n",
       "      <td>9</td>\n",
       "      <td>10</td>\n",
       "      <td>9</td>\n",
       "    </tr>\n",
       "    <tr>\n",
       "      <th>32</th>\n",
       "      <td>33</td>\n",
       "      <td>13</td>\n",
       "      <td>14</td>\n",
       "      <td>9</td>\n",
       "    </tr>\n",
       "    <tr>\n",
       "      <th>33</th>\n",
       "      <td>34</td>\n",
       "      <td>15</td>\n",
       "      <td>16</td>\n",
       "      <td>4</td>\n",
       "    </tr>\n",
       "  </tbody>\n",
       "</table>\n",
       "</div>"
      ],
      "text/plain": [
       "    id  ck_in  ck_out  id_cli\n",
       "0    1      1       3       1\n",
       "1    2     15      21       5\n",
       "2    3     13      14       3\n",
       "3    4      7       9       7\n",
       "4    5      1       5       4\n",
       "5    6      2       3      11\n",
       "6    7      3       5       2\n",
       "7    8      3       9      17\n",
       "8    9      4       7       2\n",
       "9   10      7       9       3\n",
       "10  11      9      10      10\n",
       "11  12      8       9       8\n",
       "12  13     11      13      13\n",
       "13  14     11      14      14\n",
       "14  15     11      12      13\n",
       "15  16     11      13      19\n",
       "16  17     10      11       4\n",
       "17  18      5       6       4\n",
       "18  19     12      13      12\n",
       "19  20     25      28      20\n",
       "20  21     14      17       8\n",
       "21  22     14      18       3\n",
       "22  23      9      13       3\n",
       "23  24     12      16       7\n",
       "24  25     22      23       9\n",
       "25  26     26      27       1\n",
       "26  27     29      30       7\n",
       "27  28     17      20      13\n",
       "28  29     16      14      13\n",
       "29  30     19      20      17\n",
       "30  31     16      18       8\n",
       "31  32      9      10       9\n",
       "32  33     13      14       9\n",
       "33  34     15      16       4"
      ]
     },
     "execution_count": 121,
     "metadata": {},
     "output_type": "execute_result"
    }
   ],
   "source": [
    "df_rvas"
   ]
  },
  {
   "cell_type": "code",
   "execution_count": 150,
   "metadata": {
    "ExecuteTime": {
     "end_time": "2021-09-08T07:07:44.291300Z",
     "start_time": "2021-09-08T07:07:44.285299Z"
    },
    "scrolled": true
   },
   "outputs": [],
   "source": [
    "#df_rvas['ck_in'].value_counts()"
   ]
  },
  {
   "cell_type": "markdown",
   "metadata": {},
   "source": [
    "# Nivell 3"
   ]
  },
  {
   "cell_type": "markdown",
   "metadata": {},
   "source": [
    "## Exercici 3\n",
    "Genera algun gràfic que resumeixi les dades. "
   ]
  },
  {
   "cell_type": "code",
   "execution_count": 131,
   "metadata": {
    "ExecuteTime": {
     "end_time": "2021-09-08T06:57:56.934973Z",
     "start_time": "2021-09-08T06:57:55.985801Z"
    }
   },
   "outputs": [],
   "source": [
    "import matplotlib.pyplot as plt"
   ]
  },
  {
   "cell_type": "code",
   "execution_count": 149,
   "metadata": {
    "ExecuteTime": {
     "end_time": "2021-09-08T07:07:29.381466Z",
     "start_time": "2021-09-08T07:07:28.863334Z"
    }
   },
   "outputs": [
    {
     "data": {
      "text/plain": [
       "<BarContainer object of 21 artists>"
      ]
     },
     "execution_count": 149,
     "metadata": {},
     "output_type": "execute_result"
    },
    {
     "data": {
      "image/png": "[encoded data removed]",
      "text/plain": [
       "<Figure size 432x288 with 1 Axes>"
      ]
     },
     "metadata": {
      "needs_background": "light"
     },
     "output_type": "display_data"
    }
   ],
   "source": [
    "plt.bar(x=df_rvas['ck_in'].value_counts().index, height=df_rvas['ck_in'].value_counts())"
   ]
  }
 ],
 "metadata": {
  "hide_input": false,
  "kernelspec": {
   "display_name": "Python 3",
   "language": "python",
   "name": "python3"
  },
  "language_info": {
   "codemirror_mode": {
    "name": "ipython",
    "version": 3
   },
   "file_extension": ".py",
   "mimetype": "text/x-python",
   "name": "python",
   "nbconvert_exporter": "python",
   "pygments_lexer": "ipython3",
   "version": "3.8.5"
  }
 },
 "nbformat": 4,
 "nbformat_minor": 4
}
