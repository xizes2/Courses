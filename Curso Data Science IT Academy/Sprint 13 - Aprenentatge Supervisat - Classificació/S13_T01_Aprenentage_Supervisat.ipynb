{
 "cells": [
  {
   "cell_type": "code",
   "execution_count": 97,
   "metadata": {
    "ExecuteTime": {
     "end_time": "2021-07-24T13:51:33.800699Z",
     "start_time": "2021-07-24T13:51:33.771696Z"
    }
   },
   "outputs": [],
   "source": [
    "# Import libraries-----------------------------------------\n",
    "\n",
    "# Dataframe Handling---------------------------------------\n",
    "import pandas as pd\n",
    "import numpy as np\n",
    "\n",
    "# Data visualization---------------------------------------\n",
    "import seaborn as sns\n",
    "\n",
    "# Data Standardization-------------------------------------\n",
    "from sklearn.preprocessing import StandardScaler\n",
    "\n",
    "# ML models------------------------------------------------\n",
    "from sklearn.tree import DecisionTreeClassifier\n",
    "from sklearn.neighbors import KNeighborsClassifier\n",
    "#!pip install xgboost\n",
    "import xgboost as xgb\n",
    "\n",
    "# Evaluation metrics---------------------------------------\n",
    "from sklearn.metrics import accuracy_score, confusion_matrix, precision_score, recall_score, f1_score, classification_report, roc_auc_score\n",
    "\n",
    "# Search the best model------------------------------------\n",
    "from sklearn.model_selection import RandomizedSearchCV\n",
    "\n",
    "# Train Test Split\n",
    "from sklearn.model_selection import train_test_split\n",
    "\n",
    "# SMOTE technique to tackle imbalenced dataset\n",
    "from imblearn.over_sampling import SMOTE"
   ]
  },
  {
   "cell_type": "markdown",
   "metadata": {},
   "source": [
    "# Nivell 1"
   ]
  },
  {
   "cell_type": "markdown",
   "metadata": {},
   "source": [
    "## Exercici 1\n",
    "\n",
    "Crea almenys tres models de classificació diferents per intentar predir el millor possible l’endarreriment dels vols (ArrDelay) de DelayedFlights.csv. Considera si el vol ha arribat tard o no (ArrDelay > 0)."
   ]
  },
  {
   "cell_type": "markdown",
   "metadata": {},
   "source": [
    "### Step 1 - Read, Explore, Treat and Prepare dataframe for modeling"
   ]
  },
  {
   "cell_type": "code",
   "execution_count": 3,
   "metadata": {
    "ExecuteTime": {
     "end_time": "2021-07-22T08:07:02.606281Z",
     "start_time": "2021-07-22T08:06:46.018137Z"
    }
   },
   "outputs": [],
   "source": [
    "df_flighs_delay = pd.read_csv('C:/Users/xizes/DelayedFlights.csv')"
   ]
  },
  {
   "cell_type": "code",
   "execution_count": 4,
   "metadata": {
    "ExecuteTime": {
     "end_time": "2021-07-22T08:07:02.749211Z",
     "start_time": "2021-07-22T08:07:02.606281Z"
    }
   },
   "outputs": [
    {
     "data": {
      "text/html": [
       "<div>\n",
       "<style scoped>\n",
       "    .dataframe tbody tr th:only-of-type {\n",
       "        vertical-align: middle;\n",
       "    }\n",
       "\n",
       "    .dataframe tbody tr th {\n",
       "        vertical-align: top;\n",
       "    }\n",
       "\n",
       "    .dataframe thead th {\n",
       "        text-align: right;\n",
       "    }\n",
       "</style>\n",
       "<table border=\"1\" class=\"dataframe\">\n",
       "  <thead>\n",
       "    <tr style=\"text-align: right;\">\n",
       "      <th></th>\n",
       "      <th>Unnamed: 0</th>\n",
       "      <th>Year</th>\n",
       "      <th>Month</th>\n",
       "      <th>DayofMonth</th>\n",
       "      <th>DayOfWeek</th>\n",
       "      <th>DepTime</th>\n",
       "      <th>CRSDepTime</th>\n",
       "      <th>ArrTime</th>\n",
       "      <th>CRSArrTime</th>\n",
       "      <th>UniqueCarrier</th>\n",
       "      <th>FlightNum</th>\n",
       "      <th>TailNum</th>\n",
       "      <th>ActualElapsedTime</th>\n",
       "      <th>CRSElapsedTime</th>\n",
       "      <th>AirTime</th>\n",
       "      <th>ArrDelay</th>\n",
       "      <th>DepDelay</th>\n",
       "      <th>Origin</th>\n",
       "      <th>Dest</th>\n",
       "      <th>Distance</th>\n",
       "      <th>TaxiIn</th>\n",
       "      <th>TaxiOut</th>\n",
       "      <th>Cancelled</th>\n",
       "      <th>CancellationCode</th>\n",
       "      <th>Diverted</th>\n",
       "      <th>CarrierDelay</th>\n",
       "      <th>WeatherDelay</th>\n",
       "      <th>NASDelay</th>\n",
       "      <th>SecurityDelay</th>\n",
       "      <th>LateAircraftDelay</th>\n",
       "    </tr>\n",
       "  </thead>\n",
       "  <tbody>\n",
       "    <tr>\n",
       "      <th>0</th>\n",
       "      <td>0</td>\n",
       "      <td>2008</td>\n",
       "      <td>1</td>\n",
       "      <td>3</td>\n",
       "      <td>4</td>\n",
       "      <td>2003.0</td>\n",
       "      <td>1955</td>\n",
       "      <td>2211.0</td>\n",
       "      <td>2225</td>\n",
       "      <td>WN</td>\n",
       "      <td>335</td>\n",
       "      <td>N712SW</td>\n",
       "      <td>128.0</td>\n",
       "      <td>150.0</td>\n",
       "      <td>116.0</td>\n",
       "      <td>-14.0</td>\n",
       "      <td>8.0</td>\n",
       "      <td>IAD</td>\n",
       "      <td>TPA</td>\n",
       "      <td>810</td>\n",
       "      <td>4.0</td>\n",
       "      <td>8.0</td>\n",
       "      <td>0</td>\n",
       "      <td>N</td>\n",
       "      <td>0</td>\n",
       "      <td>NaN</td>\n",
       "      <td>NaN</td>\n",
       "      <td>NaN</td>\n",
       "      <td>NaN</td>\n",
       "      <td>NaN</td>\n",
       "    </tr>\n",
       "    <tr>\n",
       "      <th>1</th>\n",
       "      <td>1</td>\n",
       "      <td>2008</td>\n",
       "      <td>1</td>\n",
       "      <td>3</td>\n",
       "      <td>4</td>\n",
       "      <td>754.0</td>\n",
       "      <td>735</td>\n",
       "      <td>1002.0</td>\n",
       "      <td>1000</td>\n",
       "      <td>WN</td>\n",
       "      <td>3231</td>\n",
       "      <td>N772SW</td>\n",
       "      <td>128.0</td>\n",
       "      <td>145.0</td>\n",
       "      <td>113.0</td>\n",
       "      <td>2.0</td>\n",
       "      <td>19.0</td>\n",
       "      <td>IAD</td>\n",
       "      <td>TPA</td>\n",
       "      <td>810</td>\n",
       "      <td>5.0</td>\n",
       "      <td>10.0</td>\n",
       "      <td>0</td>\n",
       "      <td>N</td>\n",
       "      <td>0</td>\n",
       "      <td>NaN</td>\n",
       "      <td>NaN</td>\n",
       "      <td>NaN</td>\n",
       "      <td>NaN</td>\n",
       "      <td>NaN</td>\n",
       "    </tr>\n",
       "    <tr>\n",
       "      <th>2</th>\n",
       "      <td>2</td>\n",
       "      <td>2008</td>\n",
       "      <td>1</td>\n",
       "      <td>3</td>\n",
       "      <td>4</td>\n",
       "      <td>628.0</td>\n",
       "      <td>620</td>\n",
       "      <td>804.0</td>\n",
       "      <td>750</td>\n",
       "      <td>WN</td>\n",
       "      <td>448</td>\n",
       "      <td>N428WN</td>\n",
       "      <td>96.0</td>\n",
       "      <td>90.0</td>\n",
       "      <td>76.0</td>\n",
       "      <td>14.0</td>\n",
       "      <td>8.0</td>\n",
       "      <td>IND</td>\n",
       "      <td>BWI</td>\n",
       "      <td>515</td>\n",
       "      <td>3.0</td>\n",
       "      <td>17.0</td>\n",
       "      <td>0</td>\n",
       "      <td>N</td>\n",
       "      <td>0</td>\n",
       "      <td>NaN</td>\n",
       "      <td>NaN</td>\n",
       "      <td>NaN</td>\n",
       "      <td>NaN</td>\n",
       "      <td>NaN</td>\n",
       "    </tr>\n",
       "    <tr>\n",
       "      <th>3</th>\n",
       "      <td>4</td>\n",
       "      <td>2008</td>\n",
       "      <td>1</td>\n",
       "      <td>3</td>\n",
       "      <td>4</td>\n",
       "      <td>1829.0</td>\n",
       "      <td>1755</td>\n",
       "      <td>1959.0</td>\n",
       "      <td>1925</td>\n",
       "      <td>WN</td>\n",
       "      <td>3920</td>\n",
       "      <td>N464WN</td>\n",
       "      <td>90.0</td>\n",
       "      <td>90.0</td>\n",
       "      <td>77.0</td>\n",
       "      <td>34.0</td>\n",
       "      <td>34.0</td>\n",
       "      <td>IND</td>\n",
       "      <td>BWI</td>\n",
       "      <td>515</td>\n",
       "      <td>3.0</td>\n",
       "      <td>10.0</td>\n",
       "      <td>0</td>\n",
       "      <td>N</td>\n",
       "      <td>0</td>\n",
       "      <td>2.0</td>\n",
       "      <td>0.0</td>\n",
       "      <td>0.0</td>\n",
       "      <td>0.0</td>\n",
       "      <td>32.0</td>\n",
       "    </tr>\n",
       "    <tr>\n",
       "      <th>4</th>\n",
       "      <td>5</td>\n",
       "      <td>2008</td>\n",
       "      <td>1</td>\n",
       "      <td>3</td>\n",
       "      <td>4</td>\n",
       "      <td>1940.0</td>\n",
       "      <td>1915</td>\n",
       "      <td>2121.0</td>\n",
       "      <td>2110</td>\n",
       "      <td>WN</td>\n",
       "      <td>378</td>\n",
       "      <td>N726SW</td>\n",
       "      <td>101.0</td>\n",
       "      <td>115.0</td>\n",
       "      <td>87.0</td>\n",
       "      <td>11.0</td>\n",
       "      <td>25.0</td>\n",
       "      <td>IND</td>\n",
       "      <td>JAX</td>\n",
       "      <td>688</td>\n",
       "      <td>4.0</td>\n",
       "      <td>10.0</td>\n",
       "      <td>0</td>\n",
       "      <td>N</td>\n",
       "      <td>0</td>\n",
       "      <td>NaN</td>\n",
       "      <td>NaN</td>\n",
       "      <td>NaN</td>\n",
       "      <td>NaN</td>\n",
       "      <td>NaN</td>\n",
       "    </tr>\n",
       "  </tbody>\n",
       "</table>\n",
       "</div>"
      ],
      "text/plain": [
       "   Unnamed: 0  Year  Month  DayofMonth  DayOfWeek  DepTime  CRSDepTime  \\\n",
       "0           0  2008      1           3          4   2003.0        1955   \n",
       "1           1  2008      1           3          4    754.0         735   \n",
       "2           2  2008      1           3          4    628.0         620   \n",
       "3           4  2008      1           3          4   1829.0        1755   \n",
       "4           5  2008      1           3          4   1940.0        1915   \n",
       "\n",
       "   ArrTime  CRSArrTime UniqueCarrier  FlightNum TailNum  ActualElapsedTime  \\\n",
       "0   2211.0        2225            WN        335  N712SW              128.0   \n",
       "1   1002.0        1000            WN       3231  N772SW              128.0   \n",
       "2    804.0         750            WN        448  N428WN               96.0   \n",
       "3   1959.0        1925            WN       3920  N464WN               90.0   \n",
       "4   2121.0        2110            WN        378  N726SW              101.0   \n",
       "\n",
       "   CRSElapsedTime  AirTime  ArrDelay  DepDelay Origin Dest  Distance  TaxiIn  \\\n",
       "0           150.0    116.0     -14.0       8.0    IAD  TPA       810     4.0   \n",
       "1           145.0    113.0       2.0      19.0    IAD  TPA       810     5.0   \n",
       "2            90.0     76.0      14.0       8.0    IND  BWI       515     3.0   \n",
       "3            90.0     77.0      34.0      34.0    IND  BWI       515     3.0   \n",
       "4           115.0     87.0      11.0      25.0    IND  JAX       688     4.0   \n",
       "\n",
       "   TaxiOut  Cancelled CancellationCode  Diverted  CarrierDelay  WeatherDelay  \\\n",
       "0      8.0          0                N         0           NaN           NaN   \n",
       "1     10.0          0                N         0           NaN           NaN   \n",
       "2     17.0          0                N         0           NaN           NaN   \n",
       "3     10.0          0                N         0           2.0           0.0   \n",
       "4     10.0          0                N         0           NaN           NaN   \n",
       "\n",
       "   NASDelay  SecurityDelay  LateAircraftDelay  \n",
       "0       NaN            NaN                NaN  \n",
       "1       NaN            NaN                NaN  \n",
       "2       NaN            NaN                NaN  \n",
       "3       0.0            0.0               32.0  \n",
       "4       NaN            NaN                NaN  "
      ]
     },
     "execution_count": 4,
     "metadata": {},
     "output_type": "execute_result"
    }
   ],
   "source": [
    "pd.set_option('display.max_columns', None)\n",
    "df_flighs_delay.head()"
   ]
  },
  {
   "cell_type": "code",
   "execution_count": 5,
   "metadata": {
    "ExecuteTime": {
     "end_time": "2021-07-22T08:07:02.766213Z",
     "start_time": "2021-07-22T08:07:02.756211Z"
    }
   },
   "outputs": [
    {
     "data": {
      "text/plain": [
       "(1936758, 30)"
      ]
     },
     "execution_count": 5,
     "metadata": {},
     "output_type": "execute_result"
    }
   ],
   "source": [
    "df_flighs_delay.shape"
   ]
  },
  {
   "cell_type": "code",
   "execution_count": 6,
   "metadata": {
    "ExecuteTime": {
     "end_time": "2021-07-22T08:07:03.053286Z",
     "start_time": "2021-07-22T08:07:02.773215Z"
    }
   },
   "outputs": [],
   "source": [
    "# Drop columns that won´t be used as features\n",
    "df_flighs_delay_drop = df_flighs_delay.drop(columns=['Unnamed: 0', 'Year', 'Month', 'DayofMonth', 'DayOfWeek', 'DepTime',\n",
    "       'CRSDepTime', 'ArrTime', 'CRSArrTime', 'UniqueCarrier', 'FlightNum',\n",
    "       'TailNum', 'CRSElapsedTime', 'Origin', 'Dest', 'CancellationCode', 'CarrierDelay', 'WeatherDelay', 'NASDelay', 'SecurityDelay', \n",
    "                                                     'LateAircraftDelay'])"
   ]
  },
  {
   "cell_type": "code",
   "execution_count": 7,
   "metadata": {
    "ExecuteTime": {
     "end_time": "2021-07-22T08:07:03.149312Z",
     "start_time": "2021-07-22T08:07:03.060289Z"
    }
   },
   "outputs": [],
   "source": [
    "# Since our problem is a classification one and the df does not have a categorical column indicating delayed or not delayed,\n",
    "#I´ll create that column containg 0 for not delayed and 1 for delayed, based on the ArrDelay column\n",
    "df_flighs_delay_drop['Delayed'] = np.where(df_flighs_delay_drop['ArrDelay'] <= 0, 0, 1)"
   ]
  },
  {
   "cell_type": "code",
   "execution_count": 8,
   "metadata": {
    "ExecuteTime": {
     "end_time": "2021-07-22T08:07:03.245334Z",
     "start_time": "2021-07-22T08:07:03.155313Z"
    }
   },
   "outputs": [
    {
     "data": {
      "text/html": [
       "<div>\n",
       "<style scoped>\n",
       "    .dataframe tbody tr th:only-of-type {\n",
       "        vertical-align: middle;\n",
       "    }\n",
       "\n",
       "    .dataframe tbody tr th {\n",
       "        vertical-align: top;\n",
       "    }\n",
       "\n",
       "    .dataframe thead th {\n",
       "        text-align: right;\n",
       "    }\n",
       "</style>\n",
       "<table border=\"1\" class=\"dataframe\">\n",
       "  <thead>\n",
       "    <tr style=\"text-align: right;\">\n",
       "      <th></th>\n",
       "      <th>ArrDelay</th>\n",
       "      <th>Delayed</th>\n",
       "    </tr>\n",
       "  </thead>\n",
       "  <tbody>\n",
       "    <tr>\n",
       "      <th>0</th>\n",
       "      <td>-14.0</td>\n",
       "      <td>0</td>\n",
       "    </tr>\n",
       "    <tr>\n",
       "      <th>1</th>\n",
       "      <td>2.0</td>\n",
       "      <td>1</td>\n",
       "    </tr>\n",
       "    <tr>\n",
       "      <th>2</th>\n",
       "      <td>14.0</td>\n",
       "      <td>1</td>\n",
       "    </tr>\n",
       "    <tr>\n",
       "      <th>3</th>\n",
       "      <td>34.0</td>\n",
       "      <td>1</td>\n",
       "    </tr>\n",
       "    <tr>\n",
       "      <th>4</th>\n",
       "      <td>11.0</td>\n",
       "      <td>1</td>\n",
       "    </tr>\n",
       "  </tbody>\n",
       "</table>\n",
       "</div>"
      ],
      "text/plain": [
       "   ArrDelay  Delayed\n",
       "0     -14.0        0\n",
       "1       2.0        1\n",
       "2      14.0        1\n",
       "3      34.0        1\n",
       "4      11.0        1"
      ]
     },
     "execution_count": 8,
     "metadata": {},
     "output_type": "execute_result"
    }
   ],
   "source": [
    "df_flighs_delay_drop[['ArrDelay', 'Delayed']].head()"
   ]
  },
  {
   "cell_type": "code",
   "execution_count": 9,
   "metadata": {
    "ExecuteTime": {
     "end_time": "2021-07-22T08:07:04.170571Z",
     "start_time": "2021-07-22T08:07:03.254336Z"
    }
   },
   "outputs": [
    {
     "data": {
      "text/plain": [
       "<AxesSubplot:xlabel='Delayed', ylabel='Delayed'>"
      ]
     },
     "execution_count": 9,
     "metadata": {},
     "output_type": "execute_result"
    },
    {
     "data": {
      "image/png": "[encoded data removed]",
      "text/plain": [
       "<Figure size 432x288 with 1 Axes>"
      ]
     },
     "metadata": {
      "needs_background": "light"
     },
     "output_type": "display_data"
    }
   ],
   "source": [
    "# Plot 'Delayed' class distribution\n",
    "sns.barplot(data=df_flighs_delay_drop, x='Delayed', y=df_flighs_delay_drop['Delayed'].value_counts())"
   ]
  },
  {
   "cell_type": "markdown",
   "metadata": {},
   "source": [
    "As we can see the dataframe is really imbalanced, what will probably mess with our predictions if we don´t treat it. \n",
    "\n",
    "We´ll handle this imbalance on the next exercises, so we can compare the results using the original, imbalanced, dataframe and the dataframe with some kind of treatment."
   ]
  },
  {
   "cell_type": "code",
   "execution_count": 10,
   "metadata": {
    "ExecuteTime": {
     "end_time": "2021-07-22T08:07:04.697700Z",
     "start_time": "2021-07-22T08:07:04.178572Z"
    }
   },
   "outputs": [
    {
     "data": {
      "text/plain": [
       "ActualElapsedTime    8387\n",
       "AirTime              8387\n",
       "ArrDelay             8387\n",
       "DepDelay                0\n",
       "Distance                0\n",
       "TaxiIn               7110\n",
       "TaxiOut               455\n",
       "Cancelled               0\n",
       "Diverted                0\n",
       "Delayed                 0\n",
       "dtype: int64"
      ]
     },
     "execution_count": 10,
     "metadata": {},
     "output_type": "execute_result"
    }
   ],
   "source": [
    "# Check how many NaN\n",
    "df_flighs_delay_drop.isna().sum()"
   ]
  },
  {
   "cell_type": "code",
   "execution_count": 11,
   "metadata": {
    "ExecuteTime": {
     "end_time": "2021-07-22T08:07:05.736964Z",
     "start_time": "2021-07-22T08:07:04.710701Z"
    }
   },
   "outputs": [],
   "source": [
    "# Drop NaN\n",
    "df_flighs_delay_drop_nonan = df_flighs_delay_drop.dropna()"
   ]
  },
  {
   "cell_type": "code",
   "execution_count": 12,
   "metadata": {
    "ExecuteTime": {
     "end_time": "2021-07-22T08:07:06.264098Z",
     "start_time": "2021-07-22T08:07:05.751967Z"
    }
   },
   "outputs": [
    {
     "name": "stderr",
     "output_type": "stream",
     "text": [
      "C:\\Users\\xizes\\anaconda3\\lib\\site-packages\\pandas\\core\\frame.py:4163: SettingWithCopyWarning: \n",
      "A value is trying to be set on a copy of a slice from a DataFrame\n",
      "\n",
      "See the caveats in the documentation: https://pandas.pydata.org/pandas-docs/stable/user_guide/indexing.html#returning-a-view-versus-a-copy\n",
      "  return super().drop(\n"
     ]
    }
   ],
   "source": [
    "# Since our column 'Delayed' is based on the 'ArrDelay', I´ll drop 'ArrDelay' as well\n",
    "df_flighs_delay_drop_nonan.drop(columns=['ArrDelay'], inplace=True)"
   ]
  },
  {
   "cell_type": "code",
   "execution_count": 13,
   "metadata": {
    "ExecuteTime": {
     "end_time": "2021-07-22T08:07:06.280102Z",
     "start_time": "2021-07-22T08:07:06.270098Z"
    }
   },
   "outputs": [
    {
     "data": {
      "text/plain": [
       "(1928371, 9)"
      ]
     },
     "execution_count": 13,
     "metadata": {},
     "output_type": "execute_result"
    }
   ],
   "source": [
    "df_flighs_delay_drop_nonan.shape"
   ]
  },
  {
   "cell_type": "markdown",
   "metadata": {},
   "source": [
    "### Step 2 - Feature selection and data Standardization"
   ]
  },
  {
   "cell_type": "code",
   "execution_count": 14,
   "metadata": {
    "ExecuteTime": {
     "end_time": "2021-07-22T08:07:06.312115Z",
     "start_time": "2021-07-22T08:07:06.287101Z"
    }
   },
   "outputs": [],
   "source": [
    "#df_flighs_delay_drop_nonan.head()"
   ]
  },
  {
   "cell_type": "code",
   "execution_count": 15,
   "metadata": {
    "ExecuteTime": {
     "end_time": "2021-07-22T08:07:06.759227Z",
     "start_time": "2021-07-22T08:07:06.319109Z"
    }
   },
   "outputs": [],
   "source": [
    "# Feature selection\n",
    "X = df_flighs_delay_drop_nonan.drop(columns=['Delayed'])\n",
    "y = df_flighs_delay_drop_nonan['Delayed']"
   ]
  },
  {
   "cell_type": "code",
   "execution_count": 16,
   "metadata": {
    "ExecuteTime": {
     "end_time": "2021-07-22T08:07:06.775235Z",
     "start_time": "2021-07-22T08:07:06.767242Z"
    }
   },
   "outputs": [],
   "source": [
    "# Create StandardScaler object\n",
    "std = StandardScaler()"
   ]
  },
  {
   "cell_type": "code",
   "execution_count": 17,
   "metadata": {
    "ExecuteTime": {
     "end_time": "2021-07-22T08:07:11.866516Z",
     "start_time": "2021-07-22T08:07:06.782228Z"
    }
   },
   "outputs": [],
   "source": [
    "# Standardize features\n",
    "X_std = std.fit_transform(X)"
   ]
  },
  {
   "cell_type": "code",
   "execution_count": 18,
   "metadata": {
    "ExecuteTime": {
     "end_time": "2021-07-22T08:07:11.933532Z",
     "start_time": "2021-07-22T08:07:11.885519Z"
    }
   },
   "outputs": [
    {
     "data": {
      "text/plain": [
       "array([[-0.07363114,  0.11250817, -0.65880113,  0.07850241, -0.53366771,\n",
       "        -0.71408012,  0.        ,  0.        ],\n",
       "       [-0.07363114,  0.06880353, -0.45229036,  0.07850241, -0.34384414,\n",
       "        -0.57430187,  0.        ,  0.        ],\n",
       "       [-0.51770521, -0.4702204 , -0.65880113, -0.4355373 , -0.72349129,\n",
       "        -0.08507799,  0.        ,  0.        ],\n",
       "       [-0.6009691 , -0.45565219, -0.17068477, -0.4355373 , -0.72349129,\n",
       "        -0.57430187,  0.        ,  0.        ],\n",
       "       [-0.44831863, -0.30997004, -0.33964813, -0.13408351, -0.53366771,\n",
       "        -0.57430187,  0.        ,  0.        ]])"
      ]
     },
     "execution_count": 18,
     "metadata": {},
     "output_type": "execute_result"
    }
   ],
   "source": [
    "X_std[:5]"
   ]
  },
  {
   "cell_type": "markdown",
   "metadata": {},
   "source": [
    "### Step 3 - Apply models\n",
    "\n",
    "I´ll select 3 models and apply them on the original features (without standardization) and also on the standardized ones:\n",
    "- Decision Tree Classifier\n",
    "- KNN k-nearest neighbors\n",
    "- XGBoost"
   ]
  },
  {
   "cell_type": "markdown",
   "metadata": {},
   "source": [
    "### 3.1 - Decision Tree Classifier"
   ]
  },
  {
   "cell_type": "code",
   "execution_count": 19,
   "metadata": {
    "ExecuteTime": {
     "end_time": "2021-07-22T08:07:11.969542Z",
     "start_time": "2021-07-22T08:07:11.950539Z"
    }
   },
   "outputs": [],
   "source": [
    "dtree_classifier = DecisionTreeClassifier(max_depth=3, random_state=11)"
   ]
  },
  {
   "cell_type": "markdown",
   "metadata": {},
   "source": [
    "#### 3.1.1 - Non-standardized features"
   ]
  },
  {
   "cell_type": "code",
   "execution_count": 20,
   "metadata": {
    "ExecuteTime": {
     "end_time": "2021-07-22T08:07:27.558485Z",
     "start_time": "2021-07-22T08:07:12.067567Z"
    }
   },
   "outputs": [],
   "source": [
    "dtree_classifier_nonstd = dtree_classifier.fit(X, y)"
   ]
  },
  {
   "cell_type": "code",
   "execution_count": 21,
   "metadata": {
    "ExecuteTime": {
     "end_time": "2021-07-22T08:07:28.693778Z",
     "start_time": "2021-07-22T08:07:27.565485Z"
    }
   },
   "outputs": [],
   "source": [
    "dtree_classifier_nonstd_pred = dtree_classifier_nonstd.predict(X)"
   ]
  },
  {
   "cell_type": "markdown",
   "metadata": {},
   "source": [
    "#### 3.1.2 - Standardized features"
   ]
  },
  {
   "cell_type": "code",
   "execution_count": 22,
   "metadata": {
    "ExecuteTime": {
     "end_time": "2021-07-22T08:07:40.144136Z",
     "start_time": "2021-07-22T08:07:28.723781Z"
    }
   },
   "outputs": [],
   "source": [
    "dtree_classifier_std = dtree_classifier.fit(X_std, y)"
   ]
  },
  {
   "cell_type": "code",
   "execution_count": 23,
   "metadata": {
    "ExecuteTime": {
     "end_time": "2021-07-22T08:07:41.066238Z",
     "start_time": "2021-07-22T08:07:40.144136Z"
    }
   },
   "outputs": [],
   "source": [
    "dtree_classifier_std_pred = dtree_classifier_std.predict(X_std)"
   ]
  },
  {
   "cell_type": "markdown",
   "metadata": {},
   "source": [
    "### 3.2 - KNN k-nearest neighbors"
   ]
  },
  {
   "cell_type": "code",
   "execution_count": 24,
   "metadata": {
    "ExecuteTime": {
     "end_time": "2021-07-22T08:07:41.128737Z",
     "start_time": "2021-07-22T08:07:41.097489Z"
    }
   },
   "outputs": [],
   "source": [
    "knn_classifier = KNeighborsClassifier(n_neighbors=5)"
   ]
  },
  {
   "cell_type": "markdown",
   "metadata": {},
   "source": [
    "#### 3.2.1 - Non-standardized features"
   ]
  },
  {
   "cell_type": "code",
   "execution_count": 25,
   "metadata": {
    "ExecuteTime": {
     "end_time": "2021-07-22T08:09:31.107513Z",
     "start_time": "2021-07-22T08:07:41.128737Z"
    }
   },
   "outputs": [],
   "source": [
    "knn_classifier_nonstd = knn_classifier.fit(X, y)"
   ]
  },
  {
   "cell_type": "code",
   "execution_count": 26,
   "metadata": {
    "ExecuteTime": {
     "end_time": "2021-07-22T08:20:07.505342Z",
     "start_time": "2021-07-22T08:09:31.176531Z"
    }
   },
   "outputs": [],
   "source": [
    "knn_classifier_nonstd_pred = knn_classifier_nonstd.predict(X)"
   ]
  },
  {
   "cell_type": "markdown",
   "metadata": {},
   "source": [
    "#### 3.2.2 - Standardized features"
   ]
  },
  {
   "cell_type": "code",
   "execution_count": 27,
   "metadata": {
    "ExecuteTime": {
     "end_time": "2021-07-22T08:20:07.586632Z",
     "start_time": "2021-07-22T08:20:07.554624Z"
    }
   },
   "outputs": [],
   "source": [
    "#knn_classifier_std = knn_classifier.fit(X_std, y)"
   ]
  },
  {
   "cell_type": "markdown",
   "metadata": {},
   "source": [
    "### 3.3 - XGBoost Classifier"
   ]
  },
  {
   "cell_type": "code",
   "execution_count": 28,
   "metadata": {
    "ExecuteTime": {
     "end_time": "2021-07-22T08:20:07.839699Z",
     "start_time": "2021-07-22T08:20:07.619637Z"
    }
   },
   "outputs": [],
   "source": [
    "xgb_classifier = xgb.XGBClassifier()"
   ]
  },
  {
   "cell_type": "markdown",
   "metadata": {},
   "source": [
    "#### 3.3.1 - Non-standardized features"
   ]
  },
  {
   "cell_type": "code",
   "execution_count": 29,
   "metadata": {
    "ExecuteTime": {
     "end_time": "2021-07-22T08:29:30.761955Z",
     "start_time": "2021-07-22T08:20:07.872705Z"
    }
   },
   "outputs": [
    {
     "name": "stderr",
     "output_type": "stream",
     "text": [
      "C:\\Users\\xizes\\anaconda3\\lib\\site-packages\\xgboost\\sklearn.py:1146: UserWarning: The use of label encoder in XGBClassifier is deprecated and will be removed in a future release. To remove this warning, do the following: 1) Pass option use_label_encoder=False when constructing XGBClassifier object; and 2) Encode your labels (y) as integers starting with 0, i.e. 0, 1, 2, ..., [num_class - 1].\n",
      "  warnings.warn(label_encoder_deprecation_msg, UserWarning)\n"
     ]
    },
    {
     "name": "stdout",
     "output_type": "stream",
     "text": [
      "[10:20:18] WARNING: C:/Users/Administrator/workspace/xgboost-win64_release_1.4.0/src/learner.cc:1095: Starting in XGBoost 1.3.0, the default evaluation metric used with the objective 'binary:logistic' was changed from 'error' to 'logloss'. Explicitly set eval_metric if you'd like to restore the old behavior.\n"
     ]
    }
   ],
   "source": [
    "xgb_classifier_nonstd = xgb_classifier.fit(X, y)"
   ]
  },
  {
   "cell_type": "code",
   "execution_count": 30,
   "metadata": {
    "ExecuteTime": {
     "end_time": "2021-07-22T08:29:41.488137Z",
     "start_time": "2021-07-22T08:29:30.777569Z"
    }
   },
   "outputs": [],
   "source": [
    "xgb_classifier_nonstd_pred = xgb_classifier_nonstd.predict(X)"
   ]
  },
  {
   "cell_type": "markdown",
   "metadata": {},
   "source": [
    "#### 3.3.2 - Standardized features"
   ]
  },
  {
   "cell_type": "code",
   "execution_count": 31,
   "metadata": {
    "ExecuteTime": {
     "end_time": "2021-07-22T08:38:51.904094Z",
     "start_time": "2021-07-22T08:29:41.503768Z"
    }
   },
   "outputs": [
    {
     "name": "stdout",
     "output_type": "stream",
     "text": [
      "[10:29:49] WARNING: C:/Users/Administrator/workspace/xgboost-win64_release_1.4.0/src/learner.cc:1095: Starting in XGBoost 1.3.0, the default evaluation metric used with the objective 'binary:logistic' was changed from 'error' to 'logloss'. Explicitly set eval_metric if you'd like to restore the old behavior.\n"
     ]
    }
   ],
   "source": [
    "xgb_classifier_std = xgb_classifier.fit(X_std, y)"
   ]
  },
  {
   "cell_type": "code",
   "execution_count": 32,
   "metadata": {
    "ExecuteTime": {
     "end_time": "2021-07-22T08:39:01.644593Z",
     "start_time": "2021-07-22T08:38:52.021253Z"
    }
   },
   "outputs": [],
   "source": [
    "xgb_classifier_std_pred = xgb_classifier.predict(X_std)"
   ]
  },
  {
   "cell_type": "markdown",
   "metadata": {},
   "source": [
    "## Exercici 2\n",
    "Compara els models de classificació utilitzant la precisió (accuracy), una matriu de confiança i d’altres mètriques més avançades."
   ]
  },
  {
   "cell_type": "markdown",
   "metadata": {},
   "source": [
    "**RESULTS USING ORIGINAL, UNBALANCED, DATAFRAME**\n",
    "\n",
    "For this exercise we´ll use the classification report (that gives us precision, recall and f1-score) and the confusion matrix."
   ]
  },
  {
   "cell_type": "markdown",
   "metadata": {},
   "source": [
    "Quick review of concepts:\n",
    "\n",
    "### Accuracy  \n",
    "Shows how many of the predictions are correct. \n",
    "\n",
    "***!!Shortcoming!!***  \n",
    "**If we have an unbalanced dataset the model will likely predict only the major class and the accuracy score doesn\\`t allow us to see this.**\n",
    "\n",
    "### Confusion Matrix  \n",
    "The confusion matrix is a really important classification information, because it gives fast and easy insight about class imbalance and the general model behaviour.  \n",
    "\n",
    "A confusion matrix is not a metric to evaluate a model, but it provides insight into the predictions. It shows the correct and incorrect (i.e. true or false) predictions on each class. \n",
    "\n",
    "In case of a binary classification task, a confusion matrix is a 2x2 matrix. If there are three different classes, it is a 3x3 matrix and so on.  \n",
    "\n",
    "Sklearn´s convention of a confusion matrix is as follows:\n",
    "![](confusion_matrix1.png)\n",
    "\n",
    "### Precision  \n",
    "Measures how good our model is when the prediction is positive. The focus of precision is positive predictions. It indicates how many positive predictions are true.\n",
    "\n",
    "### Recall (or True Postive Rate or Sensitivity)  \n",
    "When the actual value is positive, how often the prediction is correct?\n",
    "\n",
    "### AUC (Area Under the Curve)  \n",
    "If you randomly chose one positive and one negative observation, AUC represents the likelihood that your classifier will assign a **higher predicted probability** to the positive observation.  \n",
    "AUC is usefull even when there is high class imbalance.\n"
   ]
  },
  {
   "cell_type": "markdown",
   "metadata": {},
   "source": [
    "### 1 - Decision Tree Classifier"
   ]
  },
  {
   "cell_type": "markdown",
   "metadata": {},
   "source": [
    "#### 1.1 - Non-standardized features"
   ]
  },
  {
   "cell_type": "code",
   "execution_count": 33,
   "metadata": {
    "ExecuteTime": {
     "end_time": "2021-07-22T08:39:09.979827Z",
     "start_time": "2021-07-22T08:39:01.762079Z"
    }
   },
   "outputs": [
    {
     "name": "stdout",
     "output_type": "stream",
     "text": [
      "              precision    recall  f1-score   support\n",
      "\n",
      "           0       0.00      0.00      0.00    204956\n",
      "           1       0.89      1.00      0.94   1723415\n",
      "\n",
      "    accuracy                           0.89   1928371\n",
      "   macro avg       0.45      0.50      0.47   1928371\n",
      "weighted avg       0.80      0.89      0.84   1928371\n",
      "\n"
     ]
    }
   ],
   "source": [
    "print(classification_report(y, dtree_classifier_nonstd_pred, zero_division=0))"
   ]
  },
  {
   "cell_type": "code",
   "execution_count": 34,
   "metadata": {
    "ExecuteTime": {
     "end_time": "2021-07-22T08:39:14.404403Z",
     "start_time": "2021-07-22T08:39:10.041710Z"
    }
   },
   "outputs": [
    {
     "data": {
      "text/plain": [
       "array([[      0,  204956],\n",
       "       [      0, 1723415]], dtype=int64)"
      ]
     },
     "execution_count": 34,
     "metadata": {},
     "output_type": "execute_result"
    }
   ],
   "source": [
    "confusion_matrix(y, dtree_classifier_nonstd_pred)"
   ]
  },
  {
   "cell_type": "code",
   "execution_count": 35,
   "metadata": {
    "ExecuteTime": {
     "end_time": "2021-07-22T08:39:15.761868Z",
     "start_time": "2021-07-22T08:39:14.419405Z"
    }
   },
   "outputs": [
    {
     "data": {
      "text/plain": [
       "0.5"
      ]
     },
     "execution_count": 35,
     "metadata": {},
     "output_type": "execute_result"
    }
   ],
   "source": [
    "roc_auc_score(y, dtree_classifier_nonstd_pred)"
   ]
  },
  {
   "cell_type": "markdown",
   "metadata": {
    "ExecuteTime": {
     "end_time": "2021-07-10T11:12:34.562018Z",
     "start_time": "2021-07-10T11:12:34.551686Z"
    }
   },
   "source": [
    "#### 1.2 - Standardized features"
   ]
  },
  {
   "cell_type": "code",
   "execution_count": 36,
   "metadata": {
    "ExecuteTime": {
     "end_time": "2021-07-22T08:39:23.817326Z",
     "start_time": "2021-07-22T08:39:15.818885Z"
    }
   },
   "outputs": [
    {
     "name": "stdout",
     "output_type": "stream",
     "text": [
      "              precision    recall  f1-score   support\n",
      "\n",
      "           0       0.00      0.00      0.00    204956\n",
      "           1       0.89      1.00      0.94   1723415\n",
      "\n",
      "    accuracy                           0.89   1928371\n",
      "   macro avg       0.45      0.50      0.47   1928371\n",
      "weighted avg       0.80      0.89      0.84   1928371\n",
      "\n"
     ]
    }
   ],
   "source": [
    "print(classification_report(y, dtree_classifier_std_pred, zero_division=0))"
   ]
  },
  {
   "cell_type": "code",
   "execution_count": 37,
   "metadata": {
    "ExecuteTime": {
     "end_time": "2021-07-22T08:39:28.162596Z",
     "start_time": "2021-07-22T08:39:23.832327Z"
    }
   },
   "outputs": [
    {
     "data": {
      "text/plain": [
       "array([[      0,  204956],\n",
       "       [      0, 1723415]], dtype=int64)"
      ]
     },
     "execution_count": 37,
     "metadata": {},
     "output_type": "execute_result"
    }
   ],
   "source": [
    "confusion_matrix(y, dtree_classifier_std_pred)"
   ]
  },
  {
   "cell_type": "markdown",
   "metadata": {},
   "source": [
    "### 2 - KNN k-nearest neighbors"
   ]
  },
  {
   "cell_type": "markdown",
   "metadata": {},
   "source": [
    "#### 2.1 - Non-standardized features"
   ]
  },
  {
   "cell_type": "code",
   "execution_count": null,
   "metadata": {},
   "outputs": [],
   "source": []
  },
  {
   "cell_type": "markdown",
   "metadata": {},
   "source": [
    "#### 2.2 - Non-standardized features"
   ]
  },
  {
   "cell_type": "code",
   "execution_count": 38,
   "metadata": {
    "ExecuteTime": {
     "end_time": "2021-07-22T08:39:37.021263Z",
     "start_time": "2021-07-22T08:39:28.228235Z"
    }
   },
   "outputs": [
    {
     "name": "stdout",
     "output_type": "stream",
     "text": [
      "              precision    recall  f1-score   support\n",
      "\n",
      "           0       0.78      0.61      0.68    204956\n",
      "           1       0.95      0.98      0.97   1723415\n",
      "\n",
      "    accuracy                           0.94   1928371\n",
      "   macro avg       0.87      0.80      0.83   1928371\n",
      "weighted avg       0.94      0.94      0.94   1928371\n",
      "\n"
     ]
    }
   ],
   "source": [
    "print(classification_report(y, knn_classifier_nonstd_pred))"
   ]
  },
  {
   "cell_type": "code",
   "execution_count": 39,
   "metadata": {
    "ExecuteTime": {
     "end_time": "2021-07-22T08:39:41.891120Z",
     "start_time": "2021-07-22T08:39:37.124292Z"
    }
   },
   "outputs": [
    {
     "data": {
      "text/plain": [
       "array([[ 125359,   79597],\n",
       "       [  36316, 1687099]], dtype=int64)"
      ]
     },
     "execution_count": 39,
     "metadata": {},
     "output_type": "execute_result"
    }
   ],
   "source": [
    "confusion_matrix(y, knn_classifier_nonstd_pred)"
   ]
  },
  {
   "cell_type": "code",
   "execution_count": 40,
   "metadata": {
    "ExecuteTime": {
     "end_time": "2021-07-22T08:39:43.444620Z",
     "start_time": "2021-07-22T08:39:41.891120Z"
    }
   },
   "outputs": [
    {
     "data": {
      "text/plain": [
       "0.7952832400314811"
      ]
     },
     "execution_count": 40,
     "metadata": {},
     "output_type": "execute_result"
    }
   ],
   "source": [
    "roc_auc_score(y, knn_classifier_nonstd_pred)"
   ]
  },
  {
   "cell_type": "markdown",
   "metadata": {},
   "source": [
    "### 3 - XGBoost"
   ]
  },
  {
   "cell_type": "markdown",
   "metadata": {},
   "source": [
    "#### 3.1 - Non-standardized features"
   ]
  },
  {
   "cell_type": "code",
   "execution_count": 41,
   "metadata": {
    "ExecuteTime": {
     "end_time": "2021-07-22T08:39:51.991724Z",
     "start_time": "2021-07-22T08:39:43.444620Z"
    }
   },
   "outputs": [
    {
     "name": "stdout",
     "output_type": "stream",
     "text": [
      "              precision    recall  f1-score   support\n",
      "\n",
      "           0       0.71      0.44      0.54    204956\n",
      "           1       0.94      0.98      0.96   1723415\n",
      "\n",
      "    accuracy                           0.92   1928371\n",
      "   macro avg       0.82      0.71      0.75   1928371\n",
      "weighted avg       0.91      0.92      0.91   1928371\n",
      "\n"
     ]
    }
   ],
   "source": [
    "print(classification_report(y, xgb_classifier_nonstd_pred))"
   ]
  },
  {
   "cell_type": "code",
   "execution_count": 42,
   "metadata": {
    "ExecuteTime": {
     "end_time": "2021-07-22T08:39:55.770808Z",
     "start_time": "2021-07-22T08:39:51.991724Z"
    }
   },
   "outputs": [
    {
     "data": {
      "text/plain": [
       "array([[  90812,  114144],\n",
       "       [  37924, 1685491]], dtype=int64)"
      ]
     },
     "execution_count": 42,
     "metadata": {},
     "output_type": "execute_result"
    }
   ],
   "source": [
    "confusion_matrix(y, xgb_classifier_nonstd_pred)"
   ]
  },
  {
   "cell_type": "code",
   "execution_count": 43,
   "metadata": {
    "ExecuteTime": {
     "end_time": "2021-07-22T08:39:57.002606Z",
     "start_time": "2021-07-22T08:39:55.781812Z"
    }
   },
   "outputs": [
    {
     "data": {
      "text/plain": [
       "0.7105376596466072"
      ]
     },
     "execution_count": 43,
     "metadata": {},
     "output_type": "execute_result"
    }
   ],
   "source": [
    "roc_auc_score(y, xgb_classifier_nonstd_pred)"
   ]
  },
  {
   "cell_type": "markdown",
   "metadata": {},
   "source": [
    "#### 3.2 - Standardized features"
   ]
  },
  {
   "cell_type": "code",
   "execution_count": 44,
   "metadata": {
    "ExecuteTime": {
     "end_time": "2021-07-22T08:40:05.847498Z",
     "start_time": "2021-07-22T08:39:57.017613Z"
    }
   },
   "outputs": [
    {
     "name": "stdout",
     "output_type": "stream",
     "text": [
      "              precision    recall  f1-score   support\n",
      "\n",
      "           0       0.71      0.44      0.54    204956\n",
      "           1       0.94      0.98      0.96   1723415\n",
      "\n",
      "    accuracy                           0.92   1928371\n",
      "   macro avg       0.82      0.71      0.75   1928371\n",
      "weighted avg       0.91      0.92      0.91   1928371\n",
      "\n"
     ]
    }
   ],
   "source": [
    "print(classification_report(y, xgb_classifier_std_pred))"
   ]
  },
  {
   "cell_type": "code",
   "execution_count": 45,
   "metadata": {
    "ExecuteTime": {
     "end_time": "2021-07-22T08:40:09.612090Z",
     "start_time": "2021-07-22T08:40:05.862128Z"
    }
   },
   "outputs": [
    {
     "data": {
      "text/plain": [
       "array([[  90812,  114144],\n",
       "       [  37924, 1685491]], dtype=int64)"
      ]
     },
     "execution_count": 45,
     "metadata": {},
     "output_type": "execute_result"
    }
   ],
   "source": [
    "confusion_matrix(y, xgb_classifier_std_pred)"
   ]
  },
  {
   "cell_type": "markdown",
   "metadata": {},
   "source": [
    "**Observations:**  \n",
    "**1) There was no difference between the results using the non-standardized and standardized features.**  \n",
    "**2) The Decision Tree Classifier returned really bad results.**"
   ]
  },
  {
   "cell_type": "markdown",
   "metadata": {
    "ExecuteTime": {
     "end_time": "2021-07-10T11:33:10.887392Z",
     "start_time": "2021-07-10T11:33:10.868387Z"
    }
   },
   "source": [
    "## Exercici 3\n",
    "Entrena’ls utilitzant els diferents paràmetres que admeten."
   ]
  },
  {
   "cell_type": "markdown",
   "metadata": {
    "ExecuteTime": {
     "end_time": "2021-07-10T11:36:07.973699Z",
     "start_time": "2021-07-10T11:36:07.963699Z"
    }
   },
   "source": [
    "**For this exercise I´ll use Randomized Search CV in order to automatize the search for the best model.**"
   ]
  },
  {
   "cell_type": "markdown",
   "metadata": {},
   "source": [
    "###  1 - Decision Tree Classifier"
   ]
  },
  {
   "cell_type": "code",
   "execution_count": 46,
   "metadata": {
    "ExecuteTime": {
     "end_time": "2021-07-22T08:40:10.010205Z",
     "start_time": "2021-07-22T08:40:09.960876Z"
    }
   },
   "outputs": [],
   "source": [
    "classifier_dtree = DecisionTreeClassifier()\n",
    "param_distributions_dtree = dict(criterion=['gini', 'entropy'],\n",
    "                           splitter=['best', 'random'],\n",
    "                           max_depth=[3, 4, 5, 6],\n",
    "                           max_features=[None, 'auto', 'sqrt', 'log2'],\n",
    "                           )"
   ]
  },
  {
   "cell_type": "code",
   "execution_count": 47,
   "metadata": {
    "ExecuteTime": {
     "end_time": "2021-07-22T08:40:10.058216Z",
     "start_time": "2021-07-22T08:40:10.020207Z"
    }
   },
   "outputs": [],
   "source": [
    "classifier_random_dtree = RandomizedSearchCV(estimator=classifier_dtree, \n",
    "                   param_distributions=param_distributions_dtree, \n",
    "                   n_iter=10, \n",
    "                   scoring='accuracy',\n",
    "                   cv=10,\n",
    "                   random_state=11)"
   ]
  },
  {
   "cell_type": "code",
   "execution_count": 48,
   "metadata": {
    "ExecuteTime": {
     "end_time": "2021-07-22T08:48:43.446821Z",
     "start_time": "2021-07-22T08:40:10.064219Z"
    }
   },
   "outputs": [
    {
     "data": {
      "text/plain": [
       "RandomizedSearchCV(cv=10, estimator=DecisionTreeClassifier(),\n",
       "                   param_distributions={'criterion': ['gini', 'entropy'],\n",
       "                                        'max_depth': [3, 4, 5, 6],\n",
       "                                        'max_features': [None, 'auto', 'sqrt',\n",
       "                                                         'log2'],\n",
       "                                        'splitter': ['best', 'random']},\n",
       "                   random_state=11, scoring='accuracy')"
      ]
     },
     "execution_count": 48,
     "metadata": {},
     "output_type": "execute_result"
    }
   ],
   "source": [
    "classifier_random_dtree.fit(X, y)"
   ]
  },
  {
   "cell_type": "code",
   "execution_count": 49,
   "metadata": {
    "ExecuteTime": {
     "end_time": "2021-07-22T08:48:43.558126Z",
     "start_time": "2021-07-22T08:48:43.496111Z"
    }
   },
   "outputs": [
    {
     "name": "stdout",
     "output_type": "stream",
     "text": [
      "DecisionTreeClassifier(max_depth=6, max_features='auto')\n",
      "{'splitter': 'best', 'max_features': 'auto', 'max_depth': 6, 'criterion': 'gini'}\n",
      "0.8963845650786257\n"
     ]
    }
   ],
   "source": [
    "print (classifier_random_dtree.best_estimator_)\n",
    "print (classifier_random_dtree.best_params_)\n",
    "print (classifier_random_dtree.best_score_)"
   ]
  },
  {
   "cell_type": "code",
   "execution_count": 50,
   "metadata": {
    "ExecuteTime": {
     "end_time": "2021-07-22T08:48:44.558287Z",
     "start_time": "2021-07-22T08:48:43.566127Z"
    }
   },
   "outputs": [],
   "source": [
    "classifier_random_dtree_pred = classifier_random_dtree.predict(X)"
   ]
  },
  {
   "cell_type": "code",
   "execution_count": 96,
   "metadata": {
    "ExecuteTime": {
     "end_time": "2021-07-24T13:41:49.208101Z",
     "start_time": "2021-07-24T13:41:38.765170Z"
    }
   },
   "outputs": [
    {
     "name": "stdout",
     "output_type": "stream",
     "text": [
      "              precision    recall  f1-score   support\n",
      "\n",
      "           0       0.57      0.23      0.33    204956\n",
      "           1       0.91      0.98      0.95   1723415\n",
      "\n",
      "    accuracy                           0.90   1928371\n",
      "   macro avg       0.74      0.60      0.64   1928371\n",
      "weighted avg       0.88      0.90      0.88   1928371\n",
      "\n",
      "\n",
      "[[  47123  157833]\n",
      " [  35234 1688181]]\n",
      "\n",
      "0.6047366742838718\n"
     ]
    }
   ],
   "source": [
    "print(classification_report(y, classifier_random_dtree_pred, zero_division=0))\n",
    "print()\n",
    "print(confusion_matrix(y, classifier_random_dtree_pred))\n",
    "print()\n",
    "print(roc_auc_score(y, classifier_random_dtree_pred))"
   ]
  },
  {
   "cell_type": "markdown",
   "metadata": {
    "ExecuteTime": {
     "end_time": "2021-07-13T09:50:28.385014Z",
     "start_time": "2021-07-13T09:50:28.366006Z"
    }
   },
   "source": [
    "As we can see we got better results than the simplified first model we did above."
   ]
  },
  {
   "cell_type": "markdown",
   "metadata": {
    "ExecuteTime": {
     "end_time": "2021-07-13T10:26:57.409974Z",
     "start_time": "2021-07-13T10:26:57.009591Z"
    }
   },
   "source": [
    "### 2 - KNN k-nearest neighbors"
   ]
  },
  {
   "cell_type": "code",
   "execution_count": 61,
   "metadata": {
    "ExecuteTime": {
     "end_time": "2021-07-24T05:29:13.813062Z",
     "start_time": "2021-07-24T05:29:13.238530Z"
    }
   },
   "outputs": [],
   "source": [
    "classifier_knn = KNeighborsClassifier()\n",
    "param_distributions_knn = dict(algorithm=['auto','brute'],\n",
    "                               n_neighbors=[3,5],\n",
    "                               weights=['uniform'])"
   ]
  },
  {
   "cell_type": "code",
   "execution_count": 64,
   "metadata": {
    "ExecuteTime": {
     "end_time": "2021-07-24T05:30:44.971023Z",
     "start_time": "2021-07-24T05:30:44.950019Z"
    }
   },
   "outputs": [],
   "source": [
    "classifier_random_knn = RandomizedSearchCV(estimator=classifier_knn, \n",
    "                                           param_distributions=param_distributions_knn,\n",
    "                                           n_iter=5,\n",
    "                                           scoring='accuracy',\n",
    "                                           cv=2,\n",
    "                                           random_state=11)"
   ]
  },
  {
   "cell_type": "code",
   "execution_count": 69,
   "metadata": {
    "ExecuteTime": {
     "end_time": "2021-07-24T11:46:05.223628Z",
     "start_time": "2021-07-24T11:46:04.897567Z"
    }
   },
   "outputs": [],
   "source": [
    "# Since on all the other iterations my pc couldn´t finish the fitting processs, \n",
    "#even with a diminute params_distributions, I decided to use a sample of the dataset to follow with the exercise.\n",
    "df_flights_sample = df_flighs_delay_drop_nonan.sample(n=100000)\n",
    "\n",
    "X_sample = df_flights_sample.drop(columns=['Delayed'])\n",
    "y_sample = df_flights_sample['Delayed']"
   ]
  },
  {
   "cell_type": "code",
   "execution_count": 70,
   "metadata": {
    "ExecuteTime": {
     "end_time": "2021-07-24T11:57:04.240251Z",
     "start_time": "2021-07-24T11:46:06.816034Z"
    }
   },
   "outputs": [
    {
     "name": "stderr",
     "output_type": "stream",
     "text": [
      "C:\\Users\\xizes\\anaconda3\\lib\\site-packages\\sklearn\\model_selection\\_search.py:285: UserWarning: The total space of parameters 4 is smaller than n_iter=5. Running 4 iterations. For exhaustive searches, use GridSearchCV.\n",
      "  warnings.warn(\n"
     ]
    },
    {
     "data": {
      "text/plain": [
       "RandomizedSearchCV(cv=2, estimator=KNeighborsClassifier(), n_iter=5,\n",
       "                   param_distributions={'algorithm': ['auto', 'brute'],\n",
       "                                        'n_neighbors': [3, 5],\n",
       "                                        'weights': ['uniform']},\n",
       "                   random_state=11, scoring='accuracy')"
      ]
     },
     "execution_count": 70,
     "metadata": {},
     "output_type": "execute_result"
    }
   ],
   "source": [
    "classifier_random_knn.fit(X_sample, y_sample)"
   ]
  },
  {
   "cell_type": "code",
   "execution_count": 71,
   "metadata": {
    "ExecuteTime": {
     "end_time": "2021-07-24T11:59:05.809942Z",
     "start_time": "2021-07-24T11:59:05.717919Z"
    }
   },
   "outputs": [
    {
     "name": "stdout",
     "output_type": "stream",
     "text": [
      "KNeighborsClassifier(algorithm='brute')\n",
      "{'weights': 'uniform', 'n_neighbors': 5, 'algorithm': 'brute'}\n",
      "0.90575\n"
     ]
    }
   ],
   "source": [
    "print (classifier_random_knn.best_estimator_)\n",
    "print (classifier_random_knn.best_params_)\n",
    "print (classifier_random_knn.best_score_)"
   ]
  },
  {
   "cell_type": "code",
   "execution_count": 73,
   "metadata": {
    "ExecuteTime": {
     "end_time": "2021-07-24T12:12:58.568793Z",
     "start_time": "2021-07-24T12:01:41.079071Z"
    }
   },
   "outputs": [],
   "source": [
    "classifier_random_knn_pred = classifier_random_knn.predict(X_sample)"
   ]
  },
  {
   "cell_type": "code",
   "execution_count": 95,
   "metadata": {
    "ExecuteTime": {
     "end_time": "2021-07-24T13:40:53.839654Z",
     "start_time": "2021-07-24T13:40:53.355617Z"
    }
   },
   "outputs": [
    {
     "name": "stdout",
     "output_type": "stream",
     "text": [
      "              precision    recall  f1-score   support\n",
      "\n",
      "           0       0.76      0.56      0.65     10621\n",
      "           1       0.95      0.98      0.96     89379\n",
      "\n",
      "    accuracy                           0.93    100000\n",
      "   macro avg       0.85      0.77      0.80    100000\n",
      "weighted avg       0.93      0.93      0.93    100000\n",
      "\n",
      "\n",
      "[[ 5966  4655]\n",
      " [ 1891 87488]]\n",
      "\n",
      "0.7702801286739765\n"
     ]
    }
   ],
   "source": [
    "print(classification_report(y_sample, classifier_random_knn_pred))\n",
    "print()\n",
    "print(confusion_matrix(y_sample, classifier_random_knn_pred))\n",
    "print()\n",
    "print(roc_auc_score(y_sample, classifier_random_knn_pred))"
   ]
  },
  {
   "cell_type": "markdown",
   "metadata": {},
   "source": [
    "## Exercici 4\n",
    "Compara el seu rendiment utilitzant l’aproximació traint/test o cross-validation."
   ]
  },
  {
   "cell_type": "code",
   "execution_count": 79,
   "metadata": {
    "ExecuteTime": {
     "end_time": "2021-07-24T12:55:18.455655Z",
     "start_time": "2021-07-24T12:55:16.964286Z"
    }
   },
   "outputs": [],
   "source": [
    "X_train, X_test, y_train, y_test = train_test_split(X, y, test_size=0.2)"
   ]
  },
  {
   "cell_type": "markdown",
   "metadata": {},
   "source": [
    "### 1 - Decision Tree Classifier"
   ]
  },
  {
   "cell_type": "code",
   "execution_count": 80,
   "metadata": {
    "ExecuteTime": {
     "end_time": "2021-07-24T12:56:00.950426Z",
     "start_time": "2021-07-24T12:55:36.209151Z"
    }
   },
   "outputs": [
    {
     "data": {
      "text/plain": [
       "DecisionTreeClassifier()"
      ]
     },
     "execution_count": 80,
     "metadata": {},
     "output_type": "execute_result"
    }
   ],
   "source": [
    "classifier_dtree.fit(X_train, y_train)"
   ]
  },
  {
   "cell_type": "code",
   "execution_count": 81,
   "metadata": {
    "ExecuteTime": {
     "end_time": "2021-07-24T12:56:33.088573Z",
     "start_time": "2021-07-24T12:56:32.620472Z"
    }
   },
   "outputs": [],
   "source": [
    "classifier_dtree_pred = classifier_dtree.predict(X_test)"
   ]
  },
  {
   "cell_type": "code",
   "execution_count": 91,
   "metadata": {
    "ExecuteTime": {
     "end_time": "2021-07-24T13:33:24.746656Z",
     "start_time": "2021-07-24T13:33:22.875183Z"
    }
   },
   "outputs": [
    {
     "name": "stdout",
     "output_type": "stream",
     "text": [
      "              precision    recall  f1-score   support\n",
      "\n",
      "           0       0.48      0.51      0.49     40724\n",
      "           1       0.94      0.94      0.94    344951\n",
      "\n",
      "    accuracy                           0.89    385675\n",
      "   macro avg       0.71      0.72      0.72    385675\n",
      "weighted avg       0.89      0.89      0.89    385675\n",
      "\n",
      "\n",
      "[[ 20652  20072]\n",
      " [ 22414 322537]]\n",
      "\n",
      "0.7210718816689048\n"
     ]
    }
   ],
   "source": [
    "print(classification_report(y_test, classifier_dtree_pred))\n",
    "print()\n",
    "print(confusion_matrix(y_test, classifier_dtree_pred))\n",
    "print()\n",
    "print(roc_auc_score(y_test, classifier_dtree_pred))"
   ]
  },
  {
   "cell_type": "markdown",
   "metadata": {},
   "source": [
    "### 2 - KNN k-nearest neighbors"
   ]
  },
  {
   "cell_type": "code",
   "execution_count": 92,
   "metadata": {
    "ExecuteTime": {
     "end_time": "2021-07-24T13:35:39.020222Z",
     "start_time": "2021-07-24T13:35:00.663558Z"
    }
   },
   "outputs": [
    {
     "data": {
      "text/plain": [
       "KNeighborsClassifier()"
      ]
     },
     "execution_count": 92,
     "metadata": {},
     "output_type": "execute_result"
    }
   ],
   "source": [
    "knn_classifier.fit(X_train, y_train)"
   ]
  },
  {
   "cell_type": "code",
   "execution_count": 93,
   "metadata": {
    "ExecuteTime": {
     "end_time": "2021-07-24T13:37:44.093229Z",
     "start_time": "2021-07-24T13:36:24.974743Z"
    }
   },
   "outputs": [],
   "source": [
    "knn_classifier_pred = knn_classifier.predict(X_test)"
   ]
  },
  {
   "cell_type": "code",
   "execution_count": 98,
   "metadata": {
    "ExecuteTime": {
     "end_time": "2021-07-24T13:51:41.107558Z",
     "start_time": "2021-07-24T13:51:38.192817Z"
    }
   },
   "outputs": [
    {
     "name": "stdout",
     "output_type": "stream",
     "text": [
      "              precision    recall  f1-score   support\n",
      "\n",
      "           0       0.63      0.49      0.55     40724\n",
      "           1       0.94      0.97      0.95    344951\n",
      "\n",
      "    accuracy                           0.92    385675\n",
      "   macro avg       0.79      0.73      0.75    385675\n",
      "weighted avg       0.91      0.92      0.91    385675\n",
      "\n",
      "\n",
      "[[ 19863  20861]\n",
      " [ 11644 333307]]\n",
      "\n",
      "0.7269956321619331\n"
     ]
    }
   ],
   "source": [
    "print(classification_report(y_test, knn_classifier_pred))\n",
    "print()\n",
    "print(confusion_matrix(y_test, knn_classifier_pred))\n",
    "print()\n",
    "print(roc_auc_score(y_test, knn_classifier_pred))"
   ]
  },
  {
   "cell_type": "markdown",
   "metadata": {},
   "source": [
    "# Nivell 2"
   ]
  },
  {
   "cell_type": "markdown",
   "metadata": {},
   "source": [
    "## Exercici 5\n",
    "Realitza algun procés d’enginyeria de variables per millorar-ne la predicció"
   ]
  },
  {
   "cell_type": "markdown",
   "metadata": {},
   "source": [
    "**I´ll use the SMOTE technique to adress the imbalance problem of the dataset**"
   ]
  },
  {
   "cell_type": "code",
   "execution_count": 99,
   "metadata": {
    "ExecuteTime": {
     "end_time": "2021-07-24T13:58:35.750645Z",
     "start_time": "2021-07-24T13:58:35.729647Z"
    }
   },
   "outputs": [],
   "source": [
    "sm = SMOTE()"
   ]
  },
  {
   "cell_type": "code",
   "execution_count": 100,
   "metadata": {
    "ExecuteTime": {
     "end_time": "2021-07-24T14:01:08.277944Z",
     "start_time": "2021-07-24T14:00:46.916981Z"
    }
   },
   "outputs": [],
   "source": [
    "X_sm, y_sm = sm.fit_resample(X, y)"
   ]
  },
  {
   "cell_type": "code",
   "execution_count": 104,
   "metadata": {
    "ExecuteTime": {
     "end_time": "2021-07-24T14:03:02.066648Z",
     "start_time": "2021-07-24T14:03:02.048639Z"
    }
   },
   "outputs": [
    {
     "name": "stdout",
     "output_type": "stream",
     "text": [
      "X before SMOTE: (1928371, 8), X after SMOTE: (3446830, 8)\n",
      "y before SMOTE: (1928371,), y after SMOTE: (3446830,)\n"
     ]
    }
   ],
   "source": [
    "# Show X and y shapes before and after resampling\n",
    "print(f'X before SMOTE: {X.shape}, X after SMOTE: {X_sm.shape}')\n",
    "print(f'y before SMOTE: {y.shape}, y after SMOTE: {y_sm.shape}')"
   ]
  },
  {
   "cell_type": "code",
   "execution_count": 110,
   "metadata": {
    "ExecuteTime": {
     "end_time": "2021-07-24T14:06:00.973338Z",
     "start_time": "2021-07-24T14:05:59.172881Z"
    }
   },
   "outputs": [
    {
     "data": {
      "text/plain": [
       "<AxesSubplot:ylabel='Delayed'>"
      ]
     },
     "execution_count": 110,
     "metadata": {},
     "output_type": "execute_result"
    },
    {
     "data": {
      "image/png": "[encoded data removed]",
      "text/plain": [
       "<Figure size 432x288 with 1 Axes>"
      ]
     },
     "metadata": {
      "needs_background": "light"
     },
     "output_type": "display_data"
    }
   ],
   "source": [
    "# Plot class distribution after SMOTE technique\n",
    "sns.barplot(x=y_sm.unique(), y=y_sm.value_counts())"
   ]
  },
  {
   "cell_type": "markdown",
   "metadata": {
    "ExecuteTime": {
     "end_time": "2021-07-24T14:05:46.975790Z",
     "start_time": "2021-07-24T14:05:46.854773Z"
    }
   },
   "source": [
    "As we can see, now our dataset is balanced between the two classes."
   ]
  },
  {
   "cell_type": "markdown",
   "metadata": {},
   "source": [
    "### After SMOTE I´ll repeat Randomized CV with Decision Tree and KNN"
   ]
  },
  {
   "cell_type": "code",
   "execution_count": 113,
   "metadata": {
    "ExecuteTime": {
     "end_time": "2021-07-24T14:10:26.250944Z",
     "start_time": "2021-07-24T14:10:21.906856Z"
    }
   },
   "outputs": [],
   "source": [
    "# Apply train_test after the SMOTE technique\n",
    "#X_sm_train, X_sm_test, y_sm_train, y_sm_test = train_test_split(X_sm, y_sm, test_size=0.2)"
   ]
  },
  {
   "cell_type": "markdown",
   "metadata": {},
   "source": [
    "### 1 - Decision Tree Classifier"
   ]
  },
  {
   "cell_type": "code",
   "execution_count": 127,
   "metadata": {
    "ExecuteTime": {
     "end_time": "2021-07-24T14:52:36.966531Z",
     "start_time": "2021-07-24T14:52:36.957524Z"
    }
   },
   "outputs": [],
   "source": [
    "classifier_random_dtree_smote = RandomizedSearchCV(estimator=classifier_dtree,\n",
    "                                                   param_distributions=param_distributions_dtree,\n",
    "                                                   n_iter=5,\n",
    "                                                   cv=5,\n",
    "                                                   scoring='roc_auc')"
   ]
  },
  {
   "cell_type": "code",
   "execution_count": 128,
   "metadata": {
    "ExecuteTime": {
     "end_time": "2021-07-24T15:01:03.382042Z",
     "start_time": "2021-07-24T14:52:39.049893Z"
    }
   },
   "outputs": [
    {
     "data": {
      "text/plain": [
       "RandomizedSearchCV(cv=5, estimator=DecisionTreeClassifier(), n_iter=5,\n",
       "                   param_distributions={'criterion': ['gini', 'entropy'],\n",
       "                                        'max_depth': [3, 4, 5, 6],\n",
       "                                        'max_features': [None, 'auto', 'sqrt',\n",
       "                                                         'log2'],\n",
       "                                        'splitter': ['best', 'random']},\n",
       "                   scoring='roc_auc')"
      ]
     },
     "execution_count": 128,
     "metadata": {},
     "output_type": "execute_result"
    }
   ],
   "source": [
    "classifier_random_dtree_smote.fit(X_sm, y_sm)"
   ]
  },
  {
   "cell_type": "code",
   "execution_count": 129,
   "metadata": {
    "ExecuteTime": {
     "end_time": "2021-07-24T15:01:03.766138Z",
     "start_time": "2021-07-24T15:01:03.392043Z"
    }
   },
   "outputs": [],
   "source": [
    "#from sklearn.metrics import SCORERS\n",
    "#SCORERS.keys()"
   ]
  },
  {
   "cell_type": "code",
   "execution_count": 139,
   "metadata": {
    "ExecuteTime": {
     "end_time": "2021-07-24T17:09:35.633350Z",
     "start_time": "2021-07-24T17:09:35.543316Z"
    }
   },
   "outputs": [
    {
     "data": {
      "text/plain": [
       "{'splitter': 'best', 'max_features': None, 'max_depth': 3, 'criterion': 'gini'}"
      ]
     },
     "execution_count": 139,
     "metadata": {},
     "output_type": "execute_result"
    }
   ],
   "source": [
    "classifier_random_dtree_smote.best_params_"
   ]
  },
  {
   "cell_type": "code",
   "execution_count": 117,
   "metadata": {
    "ExecuteTime": {
     "end_time": "2021-07-24T14:32:46.306380Z",
     "start_time": "2021-07-24T14:32:44.411897Z"
    }
   },
   "outputs": [],
   "source": [
    "classifier_random_dtree_smote_pred = classifier_random_dtree_smote.predict(X_sm)"
   ]
  },
  {
   "cell_type": "code",
   "execution_count": 140,
   "metadata": {
    "ExecuteTime": {
     "end_time": "2021-07-24T19:05:22.203187Z",
     "start_time": "2021-07-24T19:04:56.231588Z"
    }
   },
   "outputs": [
    {
     "name": "stdout",
     "output_type": "stream",
     "text": [
      "              precision    recall  f1-score   support\n",
      "\n",
      "           0       0.76      0.93      0.84   1723415\n",
      "           1       0.91      0.71      0.80   1723415\n",
      "\n",
      "    accuracy                           0.82   3446830\n",
      "   macro avg       0.84      0.82      0.82   3446830\n",
      "weighted avg       0.84      0.82      0.82   3446830\n",
      "\n",
      "\n",
      "[[1604817  118598]\n",
      " [ 496414 1227001]]\n",
      "\n",
      "0.8215717050159131\n",
      "\n",
      "0.8215717050159131\n"
     ]
    }
   ],
   "source": [
    "print(classification_report(y_sm, classifier_random_dtree_smote_pred))\n",
    "print()\n",
    "print(confusion_matrix(y_sm, classifier_random_dtree_smote_pred))\n",
    "print()\n",
    "print(roc_auc_score(y_sm, classifier_random_dtree_smote_pred))\n",
    "print()\n",
    "print(accuracy_score(y_sm, classifier_random_dtree_smote_pred))"
   ]
  },
  {
   "cell_type": "markdown",
   "metadata": {},
   "source": [
    "### 2 - KNN k-nearest neighbors"
   ]
  },
  {
   "cell_type": "code",
   "execution_count": 142,
   "metadata": {
    "ExecuteTime": {
     "end_time": "2021-07-25T12:32:37.951695Z",
     "start_time": "2021-07-25T12:32:27.514384Z"
    }
   },
   "outputs": [],
   "source": [
    "# Again, I´ll use a sample of the dataset because of processing time\n",
    "X_sm_sample, y_sm_sample = sm.fit_resample(X_sample, y_sample)"
   ]
  },
  {
   "cell_type": "code",
   "execution_count": 143,
   "metadata": {
    "ExecuteTime": {
     "end_time": "2021-07-25T13:30:15.176734Z",
     "start_time": "2021-07-25T12:32:39.447596Z"
    }
   },
   "outputs": [
    {
     "name": "stderr",
     "output_type": "stream",
     "text": [
      "C:\\Users\\xizes\\anaconda3\\lib\\site-packages\\sklearn\\model_selection\\_search.py:285: UserWarning: The total space of parameters 4 is smaller than n_iter=5. Running 4 iterations. For exhaustive searches, use GridSearchCV.\n",
      "  warnings.warn(\n"
     ]
    }
   ],
   "source": [
    "classifier_random_knn_smote = classifier_random_knn.fit(X_sm_sample, y_sm_sample)"
   ]
  },
  {
   "cell_type": "code",
   "execution_count": 144,
   "metadata": {
    "ExecuteTime": {
     "end_time": "2021-07-25T13:54:29.644406Z",
     "start_time": "2021-07-25T13:54:28.857200Z"
    }
   },
   "outputs": [
    {
     "data": {
      "text/plain": [
       "{'weights': 'uniform', 'n_neighbors': 3, 'algorithm': 'brute'}"
      ]
     },
     "execution_count": 144,
     "metadata": {},
     "output_type": "execute_result"
    }
   ],
   "source": [
    "classifier_random_knn_smote.best_params_"
   ]
  },
  {
   "cell_type": "code",
   "execution_count": 145,
   "metadata": {
    "ExecuteTime": {
     "end_time": "2021-07-25T15:15:26.663636Z",
     "start_time": "2021-07-25T13:55:25.312222Z"
    }
   },
   "outputs": [],
   "source": [
    "classifier_random_knn_smote_pred = classifier_random_knn_smote.predict(X_sm_sample)"
   ]
  },
  {
   "cell_type": "code",
   "execution_count": 146,
   "metadata": {
    "ExecuteTime": {
     "end_time": "2021-07-25T15:16:35.191736Z",
     "start_time": "2021-07-25T15:16:32.448509Z"
    }
   },
   "outputs": [
    {
     "name": "stdout",
     "output_type": "stream",
     "text": [
      "              precision    recall  f1-score   support\n",
      "\n",
      "           0       0.93      1.00      0.96     89379\n",
      "           1       1.00      0.92      0.96     89379\n",
      "\n",
      "    accuracy                           0.96    178758\n",
      "   macro avg       0.96      0.96      0.96    178758\n",
      "weighted avg       0.96      0.96      0.96    178758\n",
      "\n",
      "\n",
      "[[89114   265]\n",
      " [ 7111 82268]]\n",
      "\n",
      "0.9587375110484566\n",
      "\n",
      "0.9587375110484566\n"
     ]
    }
   ],
   "source": [
    "print(classification_report(y_sm_sample, classifier_random_knn_smote_pred))\n",
    "print()\n",
    "print(confusion_matrix(y_sm_sample, classifier_random_knn_smote_pred))\n",
    "print()\n",
    "print(roc_auc_score(y_sm_sample, classifier_random_knn_smote_pred))\n",
    "print()\n",
    "print(accuracy_score(y_sm_sample, classifier_random_knn_smote_pred))"
   ]
  },
  {
   "cell_type": "markdown",
   "metadata": {},
   "source": [
    "# Nivell 3"
   ]
  },
  {
   "cell_type": "markdown",
   "metadata": {},
   "source": [
    "## Exercici 6\n",
    "No utilitzis la variable DepDelay a l’hora de fer prediccions"
   ]
  },
  {
   "cell_type": "code",
   "execution_count": 147,
   "metadata": {
    "ExecuteTime": {
     "end_time": "2021-07-25T15:20:46.312797Z",
     "start_time": "2021-07-25T15:19:08.125329Z"
    }
   },
   "outputs": [],
   "source": [
    "# Quit 'DepDelay' column\n",
    "df_flighs_delay_drop_nonan_nodep = df_flighs_delay_drop_nonan.drop(columns=['DepDelay'])\n",
    "\n",
    "# Alternative dataset to be used with KNN algorithym\n",
    "df_flighs_delay_drop_nonan_nodep"
   ]
  },
  {
   "cell_type": "code",
   "execution_count": 148,
   "metadata": {
    "ExecuteTime": {
     "end_time": "2021-07-25T15:23:16.898497Z",
     "start_time": "2021-07-25T15:23:16.200314Z"
    }
   },
   "outputs": [],
   "source": [
    "# Feature selection\n",
    "X = df_flighs_delay_drop_nonan_nodep.drop(columns=['Delayed'])\n",
    "y = df_flighs_delay_drop_nonan_nodep['Delayed']"
   ]
  },
  {
   "cell_type": "markdown",
   "metadata": {},
   "source": [
    "**SMOTE**"
   ]
  },
  {
   "cell_type": "code",
   "execution_count": 150,
   "metadata": {
    "ExecuteTime": {
     "end_time": "2021-07-25T15:31:06.750265Z",
     "start_time": "2021-07-25T15:30:39.607161Z"
    }
   },
   "outputs": [],
   "source": [
    "X_sm, y_sm = sm.fit_resample(X, y)"
   ]
  },
  {
   "cell_type": "markdown",
   "metadata": {},
   "source": [
    "**Train_Test_Split**"
   ]
  },
  {
   "cell_type": "code",
   "execution_count": 154,
   "metadata": {
    "ExecuteTime": {
     "end_time": "2021-07-25T15:33:40.262293Z",
     "start_time": "2021-07-25T15:33:35.556018Z"
    }
   },
   "outputs": [],
   "source": [
    "# I´ll spare 15% of the full dataset, with train test split, before doing Randomized Search CV again.\n",
    "# The idea is to test the trained model on unseen data\n",
    "X_sm_train, X_sm_test, y_sm_train, y_sm_test = train_test_split(X_sm, y_sm, test_size=0.15, random_state=11)"
   ]
  },
  {
   "cell_type": "markdown",
   "metadata": {},
   "source": [
    "### 1 - Decision Tree "
   ]
  },
  {
   "cell_type": "code",
   "execution_count": 155,
   "metadata": {
    "ExecuteTime": {
     "end_time": "2021-07-25T15:56:05.404714Z",
     "start_time": "2021-07-25T15:35:33.185229Z"
    }
   },
   "outputs": [
    {
     "data": {
      "text/plain": [
       "RandomizedSearchCV(cv=10, estimator=DecisionTreeClassifier(),\n",
       "                   param_distributions={'criterion': ['gini', 'entropy'],\n",
       "                                        'max_depth': [3, 4, 5, 6],\n",
       "                                        'max_features': [None, 'auto', 'sqrt',\n",
       "                                                         'log2'],\n",
       "                                        'splitter': ['best', 'random']},\n",
       "                   random_state=11, scoring='accuracy')"
      ]
     },
     "execution_count": 155,
     "metadata": {},
     "output_type": "execute_result"
    }
   ],
   "source": [
    "classifier_random_dtree.fit(X_sm_train, y_sm_train)"
   ]
  },
  {
   "cell_type": "code",
   "execution_count": 156,
   "metadata": {
    "ExecuteTime": {
     "end_time": "2021-07-25T15:56:22.758120Z",
     "start_time": "2021-07-25T15:56:22.408086Z"
    }
   },
   "outputs": [],
   "source": [
    "classifier_random_dtree_pred = classifier_random_dtree.predict(X_sm_test)"
   ]
  },
  {
   "cell_type": "code",
   "execution_count": 158,
   "metadata": {
    "ExecuteTime": {
     "end_time": "2021-07-25T15:57:10.606283Z",
     "start_time": "2021-07-25T15:57:06.680761Z"
    }
   },
   "outputs": [
    {
     "name": "stdout",
     "output_type": "stream",
     "text": [
      "              precision    recall  f1-score   support\n",
      "\n",
      "           0       0.67      0.65      0.66    257944\n",
      "           1       0.66      0.68      0.67    259081\n",
      "\n",
      "    accuracy                           0.67    517025\n",
      "   macro avg       0.67      0.67      0.67    517025\n",
      "weighted avg       0.67      0.67      0.67    517025\n",
      "\n",
      "\n",
      "[[168811  89133]\n",
      " [ 83069 176012]]\n",
      "\n",
      "0.6669093983404873\n",
      "\n",
      "0.6669368018954596\n"
     ]
    }
   ],
   "source": [
    "print(classification_report(y_sm_test, classifier_random_dtree_pred))\n",
    "print()\n",
    "print(confusion_matrix(y_sm_test, classifier_random_dtree_pred))\n",
    "print()\n",
    "print(roc_auc_score(y_sm_test, classifier_random_dtree_pred))\n",
    "print()\n",
    "print(accuracy_score(y_sm_test, classifier_random_dtree_pred))"
   ]
  },
  {
   "cell_type": "markdown",
   "metadata": {},
   "source": [
    "**Since already on the first algorithym we can see that the performance is much worse when we drop 'DepDelay' column I´ll stop here.**"
   ]
  }
 ],
 "metadata": {
  "hide_input": false,
  "kernelspec": {
   "display_name": "Python 3",
   "language": "python",
   "name": "python3"
  },
  "language_info": {
   "codemirror_mode": {
    "name": "ipython",
    "version": 3
   },
   "file_extension": ".py",
   "mimetype": "text/x-python",
   "name": "python",
   "nbconvert_exporter": "python",
   "pygments_lexer": "ipython3",
   "version": "3.8.5"
  }
 },
 "nbformat": 4,
 "nbformat_minor": 4
}
