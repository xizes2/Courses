{
 "cells": [
  {
   "cell_type": "markdown",
   "metadata": {},
   "source": [
    "# Nivell 1\n",
    "## Exercici 1\n",
    "#### Agafa un conjunt de dades de tema esportiu que t'agradi i selecciona un atribut del conjunt de dades. Calcula el p-valor i digues si rebutja la hipòtesi nul·la agafant un alfa de 5%. "
   ]
  },
  {
   "cell_type": "code",
   "execution_count": 1,
   "metadata": {
    "ExecuteTime": {
     "end_time": "2021-05-25T09:36:06.350630Z",
     "start_time": "2021-05-25T09:36:01.187609Z"
    }
   },
   "outputs": [],
   "source": [
    "import pandas as pd\n",
    "import time\n",
    "import datetime\n",
    "from scipy import stats\n",
    "import numpy as np"
   ]
  },
  {
   "cell_type": "markdown",
   "metadata": {},
   "source": [
    "#### Study proposed:\n",
    "Verify if there is any difference, on average, between men and women on bike race finishing times.\n",
    "\n",
    "#### Datasets used:\n",
    "I´ll use 6 sets of data - 3 races, divided by gender. Instead of using just one race to test the hypothesis, I´ll repeat the test 3 times using different races, in order to confirm the result more than once. The datasets are from the UCI Mountain Bike Downhill World Cup, and can be found here: https://www.uci.org/mountain-bike/results.\n",
    "\n",
    "#### Hypothesis:\n",
    "Hypotesis 0: On average, men and women have the same finishing time.  \n",
    "Hypotesis 1: On average, men are faster than women."
   ]
  },
  {
   "cell_type": "code",
   "execution_count": 2,
   "metadata": {
    "ExecuteTime": {
     "end_time": "2021-05-25T09:36:07.523484Z",
     "start_time": "2021-05-25T09:36:06.364156Z"
    }
   },
   "outputs": [],
   "source": [
    "df_men1 = pd.read_excel('C:/Users/xizes/Results.xlsx')\n",
    "df_men2 = pd.read_excel('C:/Users/xizes/Results (2).xlsx')\n",
    "df_men3 = pd.read_excel('C:/Users/xizes/Results (4).xlsx')\n",
    "df_women1 = pd.read_excel('C:/Users/xizes/Results (1).xlsx')\n",
    "df_women2 = pd.read_excel('C:/Users/xizes/Results (3).xlsx')\n",
    "df_women3 = pd.read_excel('C:/Users/xizes/Results (5).xlsx')"
   ]
  },
  {
   "cell_type": "code",
   "execution_count": 3,
   "metadata": {
    "ExecuteTime": {
     "end_time": "2021-05-25T09:36:07.553490Z",
     "start_time": "2021-05-25T09:36:07.532486Z"
    }
   },
   "outputs": [],
   "source": [
    "#Test - IGNORE\n",
    "#c = datetime.datetime.strptime(df_men1['Result'].iloc[0], \"%M:%S.%f\")\n",
    "\n",
    "#Test - IGNORE\n",
    "#c.time().microsecond\n",
    "\n",
    "#Test - IGNORE\n",
    "#Convert all athletes´ finish times into seconds\n",
    "#datetime.timedelta(minutes=c.time().minute, seconds=c.time().second, microseconds=c.time().microsecond).total_seconds()\n",
    "\n",
    "#Test - IGNORE\n",
    "#datetime.timedelta(minutes=datetime.datetime.strptime(df_men3['Result'].iloc[0], \"%H:%M:%S.%f\").time().minute, seconds=datetime.datetime.strptime(df_men3['Result'].iloc[0], \"%H:%M:%S.%f\").time().second, microseconds=datetime.datetime.strptime(df_men3['Result'].iloc[0], \"%H:%M:%S.%f\").time().microsecond).total_seconds()"
   ]
  },
  {
   "cell_type": "code",
   "execution_count": 4,
   "metadata": {
    "ExecuteTime": {
     "end_time": "2021-05-25T09:36:07.725532Z",
     "start_time": "2021-05-25T09:36:07.563494Z"
    }
   },
   "outputs": [],
   "source": [
    "#Drop all rows with NaN on the 'Result' column\n",
    "df_men1.dropna(axis=0, subset=['Result'], inplace=True)\n",
    "df_men2.dropna(axis=0, subset=['Result'], inplace=True)\n",
    "df_men3.dropna(axis=0, subset=['Result'], inplace=True)\n",
    "\n",
    "df_women1.dropna(axis=0, subset=['Result'], inplace=True)\n",
    "df_women2.dropna(axis=0, subset=['Result'], inplace=True)\n",
    "df_women3.dropna(axis=0, subset=['Result'], inplace=True)"
   ]
  },
  {
   "cell_type": "code",
   "execution_count": 8,
   "metadata": {
    "ExecuteTime": {
     "end_time": "2021-05-25T09:36:42.884766Z",
     "start_time": "2021-05-25T09:36:42.862763Z"
    }
   },
   "outputs": [],
   "source": [
    "#Small correction of time format for index 20 on df_women1\n",
    "df_women1['Result'].iloc[20] = '4:21.98'"
   ]
  },
  {
   "cell_type": "code",
   "execution_count": 9,
   "metadata": {
    "ExecuteTime": {
     "end_time": "2021-05-25T09:36:42.993344Z",
     "start_time": "2021-05-25T09:36:42.889768Z"
    },
    "collapsed": true
   },
   "outputs": [
    {
     "data": {
      "text/plain": [
       "0     None\n",
       "1     None\n",
       "2     None\n",
       "3     None\n",
       "4     None\n",
       "5     None\n",
       "6     None\n",
       "7     None\n",
       "8     None\n",
       "9     None\n",
       "10    None\n",
       "11    None\n",
       "12    None\n",
       "13    None\n",
       "14    None\n",
       "Name: Result, dtype: object"
      ]
     },
     "execution_count": 9,
     "metadata": {},
     "output_type": "execute_result"
    }
   ],
   "source": [
    "#Create lists to receive the times (in seconds) of each rider and each race\n",
    "#The function takes the string in column 'Result', transforms it to datetime format, extracts the minutes, seconds and microseconds and sum it all together as seconds (and microseconds)\n",
    "\n",
    "#Men dfs\n",
    "lis_finish_time_secs_men1 = []\n",
    "df_men1['Result'].apply(lambda x: lis_finish_time_secs_men1.append(datetime.timedelta(minutes=datetime.datetime.strptime(x, \"%M:%S.%f\").time().minute, seconds=datetime.datetime.strptime(x, \"%M:%S.%f\").time().second, microseconds=datetime.datetime.strptime(x, \"%M:%S.%f\").time().microsecond).total_seconds()))\n",
    "lis_finish_time_secs_men2 = []\n",
    "df_men2['Result'].apply(lambda x: lis_finish_time_secs_men2.append(datetime.timedelta(minutes=datetime.datetime.strptime(x, \"%H:%M:%S.%f\").time().minute, seconds=datetime.datetime.strptime(x, \"%H:%M:%S.%f\").time().second, microseconds=datetime.datetime.strptime(x, \"%H:%M:%S.%f\").time().microsecond).total_seconds()))\n",
    "lis_finish_time_secs_men3 = []\n",
    "df_men3['Result'].apply(lambda x: lis_finish_time_secs_men3.append(datetime.timedelta(minutes=datetime.datetime.strptime(x, \"%H:%M:%S.%f\").time().minute, seconds=datetime.datetime.strptime(x, \"%H:%M:%S.%f\").time().second, microseconds=datetime.datetime.strptime(x, \"%H:%M:%S.%f\").time().microsecond).total_seconds()))\n",
    "\n",
    "\n",
    "#Women dfs\n",
    "lis_finish_time_secs_women1 = []\n",
    "df_women1['Result'].apply(lambda x: lis_finish_time_secs_women1.append(datetime.timedelta(minutes=datetime.datetime.strptime(x, \"%M:%S.%f\").time().minute, seconds=datetime.datetime.strptime(x, \"%M:%S.%f\").time().second, microseconds=datetime.datetime.strptime(x, \"%M:%S.%f\").time().microsecond).total_seconds()))\n",
    "lis_finish_time_secs_women2 = []\n",
    "df_women2['Result'].apply(lambda x: lis_finish_time_secs_women2.append(datetime.timedelta(minutes=datetime.datetime.strptime(x, \"%H:%M:%S.%f\").time().minute, seconds=datetime.datetime.strptime(x, \"%H:%M:%S.%f\").time().second, microseconds=datetime.datetime.strptime(x, \"%H:%M:%S.%f\").time().microsecond).total_seconds()))\n",
    "lis_finish_time_secs_women3 = []\n",
    "df_women3['Result'].apply(lambda x: lis_finish_time_secs_women3.append(datetime.timedelta(minutes=datetime.datetime.strptime(x, \"%H:%M:%S.%f\").time().minute, seconds=datetime.datetime.strptime(x, \"%H:%M:%S.%f\").time().second, microseconds=datetime.datetime.strptime(x, \"%H:%M:%S.%f\").time().microsecond).total_seconds()))"
   ]
  },
  {
   "cell_type": "code",
   "execution_count": 10,
   "metadata": {
    "ExecuteTime": {
     "end_time": "2021-05-25T09:36:43.025354Z",
     "start_time": "2021-05-25T09:36:43.001346Z"
    }
   },
   "outputs": [
    {
     "name": "stdout",
     "output_type": "stream",
     "text": [
      "First Race, mean time for men: 166.01\n",
      "First Race, mean time for women: 216.26\n",
      "\n",
      "Second Race, mean time for men: 181.86\n",
      "Second Race, mean time for women: 220.91\n",
      "\n",
      "Third Race, mean time for men: 198.97\n",
      "Third Race, mean time for women: 236.97\n"
     ]
    }
   ],
   "source": [
    "#Compare the mean for each sex on each race\n",
    "#(As we have a smaller number of women than man competing on each race, \n",
    "#I have matched the number of racers of men and women using slicing)\n",
    "print(f'First Race, mean time for men: {round(np.array(lis_finish_time_secs_men1[0:len(lis_finish_time_secs_women1)]).mean(),2 )}')\n",
    "print(f'First Race, mean time for women: {round(np.array(lis_finish_time_secs_women1).mean(), 2)}')\n",
    "print()\n",
    "print(f'Second Race, mean time for men: {round(np.array(lis_finish_time_secs_men2[0:len(lis_finish_time_secs_women2)]).mean(), 2)}')\n",
    "print(f'Second Race, mean time for women: {round(np.array(lis_finish_time_secs_women2).mean(), 2)}')\n",
    "print()\n",
    "print(f'Third Race, mean time for men: {round(np.array(lis_finish_time_secs_men3[0:len(lis_finish_time_secs_women3)]).mean(), 2)}')\n",
    "print(f'Third Race, mean time for women: {round(np.array(lis_finish_time_secs_women3).mean(), 2)}')"
   ]
  },
  {
   "cell_type": "markdown",
   "metadata": {},
   "source": [
    "**It seems that we have a pattern of lower mean time for men.**\n",
    "\n",
    "**Let´s now test the hypothesis and see if we can refute the null hypothesis.**"
   ]
  },
  {
   "cell_type": "code",
   "execution_count": 11,
   "metadata": {
    "ExecuteTime": {
     "end_time": "2021-05-25T09:36:43.073362Z",
     "start_time": "2021-05-25T09:36:43.032352Z"
    }
   },
   "outputs": [
    {
     "data": {
      "text/plain": [
       "Ttest_indResult(statistic=-9.44278033294444, pvalue=6.039294919367617e-12)"
      ]
     },
     "execution_count": 11,
     "metadata": {},
     "output_type": "execute_result"
    }
   ],
   "source": [
    "#t-test and p-value for the 1st group: first race - men x women finish times\n",
    "stats.ttest_ind(lis_finish_time_secs_men1[0:len(lis_finish_time_secs_women1)], lis_finish_time_secs_women1)"
   ]
  },
  {
   "cell_type": "code",
   "execution_count": 12,
   "metadata": {
    "ExecuteTime": {
     "end_time": "2021-05-25T09:36:43.105373Z",
     "start_time": "2021-05-25T09:36:43.080365Z"
    }
   },
   "outputs": [
    {
     "data": {
      "text/plain": [
       "Ttest_indResult(statistic=-11.832616007021649, pvalue=7.920006704153505e-13)"
      ]
     },
     "execution_count": 12,
     "metadata": {},
     "output_type": "execute_result"
    }
   ],
   "source": [
    "#t-test and p-value for the 2nd group: second race - men x women finish times\n",
    "stats.ttest_ind(lis_finish_time_secs_men2[0:len(lis_finish_time_secs_women2)], lis_finish_time_secs_women2)"
   ]
  },
  {
   "cell_type": "code",
   "execution_count": 13,
   "metadata": {
    "ExecuteTime": {
     "end_time": "2021-05-25T09:36:43.137380Z",
     "start_time": "2021-05-25T09:36:43.112373Z"
    }
   },
   "outputs": [
    {
     "data": {
      "text/plain": [
       "Ttest_indResult(statistic=-18.814121690992202, pvalue=2.0029104608789813e-17)"
      ]
     },
     "execution_count": 13,
     "metadata": {},
     "output_type": "execute_result"
    }
   ],
   "source": [
    "#t-test and p-value for the 3rd group: third race - men x women finish times\n",
    "stats.ttest_ind(lis_finish_time_secs_men3[0:len(lis_finish_time_secs_women3)], lis_finish_time_secs_women3)"
   ]
  },
  {
   "cell_type": "markdown",
   "metadata": {},
   "source": [
    "### Conclusion:\n",
    "\n",
    "The null hypothesis is ***REFUTED***.\n",
    "\n",
    "In comparing the results between the 3 group sets of data (2 sets by each group (men and women)) we realize the p-value for all of them is really low, much lower than the pre determined alpha value of 5%.\n",
    "\n",
    "That tells us that the lower mean for men are not by chance and there is a causal relation comprehending the sex of the athlete and the time they finish the race."
   ]
  },
  {
   "cell_type": "markdown",
   "metadata": {},
   "source": [
    "# Nivell 2\n",
    "## Exercici 2\n",
    "#### Continua amb el conjunt de dades de tema esportiu que t'agradi i selecciona dos atributs del conjunt de dades. Calcula el p-valor i digues si rebutja la hipòtesi nul·la agafant un alfa de 5%."
   ]
  },
  {
   "cell_type": "markdown",
   "metadata": {},
   "source": [
    "#### Study proposed:\n",
    "Check the average age of the Tour de France participants in 2 different moments in time (1903-1913 and 2009-2019).\n",
    "\n",
    "#### Hypothesis:\n",
    "Hypotesis 0: On average, Tour de France riders have the same age in the 1st decade as on the last decade of the competition.  \n",
    "Hypotesis 1: On average, Tour de France riders have different age in the 1st decade than on the last decade of the competition.\n",
    "\n",
    "#### Datasets used:\n",
    "I´ll use the 'stage_data' Tour de France dataset found on Kaggle."
   ]
  },
  {
   "cell_type": "code",
   "execution_count": 14,
   "metadata": {
    "ExecuteTime": {
     "end_time": "2021-05-25T09:36:43.820604Z",
     "start_time": "2021-05-25T09:36:43.143382Z"
    }
   },
   "outputs": [],
   "source": [
    "df_tour_stages = pd.read_csv('C:/Users/xizes/stage_data.csv')"
   ]
  },
  {
   "cell_type": "code",
   "execution_count": 15,
   "metadata": {
    "ExecuteTime": {
     "end_time": "2021-05-25T09:36:43.930631Z",
     "start_time": "2021-05-25T09:36:43.834609Z"
    }
   },
   "outputs": [
    {
     "data": {
      "text/html": [
       "<div>\n",
       "<style scoped>\n",
       "    .dataframe tbody tr th:only-of-type {\n",
       "        vertical-align: middle;\n",
       "    }\n",
       "\n",
       "    .dataframe tbody tr th {\n",
       "        vertical-align: top;\n",
       "    }\n",
       "\n",
       "    .dataframe thead th {\n",
       "        text-align: right;\n",
       "    }\n",
       "</style>\n",
       "<table border=\"1\" class=\"dataframe\">\n",
       "  <thead>\n",
       "    <tr style=\"text-align: right;\">\n",
       "      <th></th>\n",
       "      <th>edition</th>\n",
       "      <th>year</th>\n",
       "      <th>stage_results_id</th>\n",
       "      <th>rank</th>\n",
       "      <th>time</th>\n",
       "      <th>rider</th>\n",
       "      <th>age</th>\n",
       "      <th>team</th>\n",
       "      <th>points</th>\n",
       "      <th>elapsed</th>\n",
       "      <th>bib_number</th>\n",
       "    </tr>\n",
       "  </thead>\n",
       "  <tbody>\n",
       "    <tr>\n",
       "      <th>0</th>\n",
       "      <td>1</td>\n",
       "      <td>1903</td>\n",
       "      <td>stage-1</td>\n",
       "      <td>1</td>\n",
       "      <td>13S</td>\n",
       "      <td>Garin Maurice</td>\n",
       "      <td>32.0</td>\n",
       "      <td>NaN</td>\n",
       "      <td>100.0</td>\n",
       "      <td>13S</td>\n",
       "      <td>NaN</td>\n",
       "    </tr>\n",
       "    <tr>\n",
       "      <th>1</th>\n",
       "      <td>1</td>\n",
       "      <td>1903</td>\n",
       "      <td>stage-1</td>\n",
       "      <td>2</td>\n",
       "      <td>55S</td>\n",
       "      <td>Pagie Émile</td>\n",
       "      <td>32.0</td>\n",
       "      <td>NaN</td>\n",
       "      <td>70.0</td>\n",
       "      <td>8S</td>\n",
       "      <td>NaN</td>\n",
       "    </tr>\n",
       "    <tr>\n",
       "      <th>2</th>\n",
       "      <td>1</td>\n",
       "      <td>1903</td>\n",
       "      <td>stage-1</td>\n",
       "      <td>3</td>\n",
       "      <td>59S</td>\n",
       "      <td>Georget Léon</td>\n",
       "      <td>23.0</td>\n",
       "      <td>NaN</td>\n",
       "      <td>50.0</td>\n",
       "      <td>12S</td>\n",
       "      <td>NaN</td>\n",
       "    </tr>\n",
       "    <tr>\n",
       "      <th>3</th>\n",
       "      <td>1</td>\n",
       "      <td>1903</td>\n",
       "      <td>stage-1</td>\n",
       "      <td>4</td>\n",
       "      <td>48S</td>\n",
       "      <td>Augereau Fernand</td>\n",
       "      <td>20.0</td>\n",
       "      <td>NaN</td>\n",
       "      <td>40.0</td>\n",
       "      <td>1S</td>\n",
       "      <td>NaN</td>\n",
       "    </tr>\n",
       "    <tr>\n",
       "      <th>4</th>\n",
       "      <td>1</td>\n",
       "      <td>1903</td>\n",
       "      <td>stage-1</td>\n",
       "      <td>5</td>\n",
       "      <td>53S</td>\n",
       "      <td>Fischer Jean</td>\n",
       "      <td>36.0</td>\n",
       "      <td>NaN</td>\n",
       "      <td>32.0</td>\n",
       "      <td>6S</td>\n",
       "      <td>NaN</td>\n",
       "    </tr>\n",
       "  </tbody>\n",
       "</table>\n",
       "</div>"
      ],
      "text/plain": [
       "   edition  year stage_results_id rank time             rider   age  team  \\\n",
       "0        1  1903          stage-1    1  13S     Garin Maurice  32.0   NaN   \n",
       "1        1  1903          stage-1    2  55S       Pagie Émile  32.0   NaN   \n",
       "2        1  1903          stage-1    3  59S      Georget Léon  23.0   NaN   \n",
       "3        1  1903          stage-1    4  48S  Augereau Fernand  20.0   NaN   \n",
       "4        1  1903          stage-1    5  53S      Fischer Jean  36.0   NaN   \n",
       "\n",
       "   points elapsed bib_number  \n",
       "0   100.0     13S        NaN  \n",
       "1    70.0      8S        NaN  \n",
       "2    50.0     12S        NaN  \n",
       "3    40.0      1S        NaN  \n",
       "4    32.0      6S        NaN  "
      ]
     },
     "execution_count": 15,
     "metadata": {},
     "output_type": "execute_result"
    }
   ],
   "source": [
    "df_tour_stages.head()"
   ]
  },
  {
   "cell_type": "code",
   "execution_count": 16,
   "metadata": {
    "ExecuteTime": {
     "end_time": "2021-05-25T09:36:44.104717Z",
     "start_time": "2021-05-25T09:36:43.941635Z"
    }
   },
   "outputs": [],
   "source": [
    "#Create 2 arrays for age of participants: one for the first decade and the other for the last.\n",
    "#I also used 'stage-1' as a filter in order to not repeat the riders.\n",
    "age_first_decade = df_tour_stages[((df_tour_stages['year'] >= 1903) & (df_tour_stages['stage_results_id'] == 'stage-1')) & ((df_tour_stages['year'] <= 1913) & (df_tour_stages['stage_results_id'] == 'stage-1'))]['age']\n",
    "age_last_decade = df_tour_stages[((df_tour_stages['year'] >= 2009) & (df_tour_stages['stage_results_id'] == 'stage-1')) & ((df_tour_stages['year'] <= 2019) & (df_tour_stages['stage_results_id'] == 'stage-1'))]['age']"
   ]
  },
  {
   "cell_type": "code",
   "execution_count": 17,
   "metadata": {
    "ExecuteTime": {
     "end_time": "2021-05-25T09:36:44.121701Z",
     "start_time": "2021-05-25T09:36:44.111677Z"
    }
   },
   "outputs": [],
   "source": [
    "#Test different decades - TEST - IGNORE\n",
    "#test = df_tour_stages[((df_tour_stages['year'] >= 1990) & (df_tour_stages['stage_results_id'] == 'stage-1')) & ((df_tour_stages['year'] <= 2000) & (df_tour_stages['stage_results_id'] == 'stage-1'))]['age']\n",
    "#test.dropna(inplace=True)\n",
    "#print(test.shape)\n",
    "#print(f'mean age: {test.sample(n=500).mean()}')"
   ]
  },
  {
   "cell_type": "code",
   "execution_count": 18,
   "metadata": {
    "ExecuteTime": {
     "end_time": "2021-05-25T09:36:44.152690Z",
     "start_time": "2021-05-25T09:36:44.130683Z"
    },
    "collapsed": true
   },
   "outputs": [
    {
     "name": "stderr",
     "output_type": "stream",
     "text": [
      "<ipython-input-18-7a63302195b1>:1: SettingWithCopyWarning: \n",
      "A value is trying to be set on a copy of a slice from a DataFrame\n",
      "\n",
      "See the caveats in the documentation: https://pandas.pydata.org/pandas-docs/stable/user_guide/indexing.html#returning-a-view-versus-a-copy\n",
      "  age_first_decade.dropna(inplace=True)\n",
      "<ipython-input-18-7a63302195b1>:2: SettingWithCopyWarning: \n",
      "A value is trying to be set on a copy of a slice from a DataFrame\n",
      "\n",
      "See the caveats in the documentation: https://pandas.pydata.org/pandas-docs/stable/user_guide/indexing.html#returning-a-view-versus-a-copy\n",
      "  age_last_decade.dropna(inplace=True)\n"
     ]
    }
   ],
   "source": [
    "age_first_decade.dropna(inplace=True)\n",
    "age_last_decade.dropna(inplace=True)"
   ]
  },
  {
   "cell_type": "code",
   "execution_count": 19,
   "metadata": {
    "ExecuteTime": {
     "end_time": "2021-05-25T09:36:44.184698Z",
     "start_time": "2021-05-25T09:36:44.161690Z"
    }
   },
   "outputs": [
    {
     "name": "stdout",
     "output_type": "stream",
     "text": [
      "(713,)\n",
      "(2115,)\n"
     ]
    }
   ],
   "source": [
    "print(age_first_decade.shape)\n",
    "print(age_last_decade.shape)"
   ]
  },
  {
   "cell_type": "code",
   "execution_count": 20,
   "metadata": {
    "ExecuteTime": {
     "end_time": "2021-05-25T09:36:44.214705Z",
     "start_time": "2021-05-25T09:36:44.193700Z"
    }
   },
   "outputs": [],
   "source": [
    "age_first_decade_sample = age_first_decade.sample(n=500)\n",
    "age_last_decade_sample = age_last_decade.sample(n=500)"
   ]
  },
  {
   "cell_type": "code",
   "execution_count": 21,
   "metadata": {
    "ExecuteTime": {
     "end_time": "2021-05-25T09:36:44.261727Z",
     "start_time": "2021-05-25T09:36:44.242712Z"
    }
   },
   "outputs": [
    {
     "name": "stdout",
     "output_type": "stream",
     "text": [
      "First decade mean age: 25.33\n",
      "Last decade mean age: 29.18\n"
     ]
    }
   ],
   "source": [
    "print(f'First decade mean age: {round(age_first_decade.mean(), 2)}')\n",
    "print(f'Last decade mean age: {round(age_last_decade.mean(), 2)}')"
   ]
  },
  {
   "cell_type": "code",
   "execution_count": 22,
   "metadata": {
    "ExecuteTime": {
     "end_time": "2021-05-25T09:36:44.293725Z",
     "start_time": "2021-05-25T09:36:44.269718Z"
    }
   },
   "outputs": [
    {
     "data": {
      "text/plain": [
       "Ttest_relResult(statistic=-14.384226376621562, pvalue=1.701527871860571e-39)"
      ]
     },
     "execution_count": 22,
     "metadata": {},
     "output_type": "execute_result"
    }
   ],
   "source": [
    "stats.ttest_rel(a=age_first_decade_sample, b=age_last_decade_sample)"
   ]
  },
  {
   "cell_type": "markdown",
   "metadata": {},
   "source": [
    "### Conclusion:\n",
    "\n",
    "The null hypothesis is ***REFUTED***.\n",
    "\n",
    "Comparing the results between the mean age of the first and last decades of Tour de France we realize the p-value is well below 5% (alpha).\n",
    "\n",
    "That tells us that it´s likely that the aging of the athletes that participate on the competition is not by chance, but a steady trend. "
   ]
  },
  {
   "cell_type": "markdown",
   "metadata": {},
   "source": [
    "# Nivell 3\n",
    "## Exercici 3\n",
    "#### Continua amb el conjunt de dades de tema esportiu que t'agradi i selecciona tres atributs del conjunt de dades. Calcula el p-valor i digues si rebutja la hipòtesi nul·la agafant un alfa de 5%."
   ]
  },
  {
   "cell_type": "markdown",
   "metadata": {},
   "source": [
    "#### Study proposed:\n",
    "I´ll repeat the previous exercise, but this time I´ll use 3 sets of data, instead of 2:\n",
    "Check the average age of the Tour de France participants in 3 different moments in time (1903-1913, 1950-1960 and 2009-2019).\n",
    "\n",
    "#### Hypothesis:\n",
    "Hypotesis 0: On average, Tour de France riders have the same age in the 1st decade as on the last decade of the competition.  \n",
    "Hypotesis 1: On average, Tour de France riders have different age in the 1st decade than on the last decade of the competition.\n",
    "\n",
    "#### Datasets used:\n",
    "I´ll use the 'stage_data' Tour de France dataset found on Kaggle."
   ]
  },
  {
   "cell_type": "code",
   "execution_count": 25,
   "metadata": {
    "ExecuteTime": {
     "end_time": "2021-05-25T10:29:21.137033Z",
     "start_time": "2021-05-25T10:29:20.569828Z"
    }
   },
   "outputs": [],
   "source": [
    "df_tour_stages = pd.read_csv('C:/Users/xizes/stage_data.csv')"
   ]
  },
  {
   "cell_type": "code",
   "execution_count": 26,
   "metadata": {
    "ExecuteTime": {
     "end_time": "2021-05-25T10:30:13.731804Z",
     "start_time": "2021-05-25T10:30:13.492743Z"
    }
   },
   "outputs": [],
   "source": [
    "#Create 3 arrays for age of participants: one for the first decade, one for the middle decade and the other for the last.\n",
    "#I also used 'stage-1' as a filter in order to not repeat the riders.\n",
    "age_first_decade = df_tour_stages[((df_tour_stages['year'] >= 1903) & (df_tour_stages['stage_results_id'] == 'stage-1')) & ((df_tour_stages['year'] <= 1913) & (df_tour_stages['stage_results_id'] == 'stage-1'))]['age']\n",
    "age_middle_decade = df_tour_stages[((df_tour_stages['year'] >= 1950) & (df_tour_stages['stage_results_id'] == 'stage-1')) & ((df_tour_stages['year'] <= 1960) & (df_tour_stages['stage_results_id'] == 'stage-1'))]['age']\n",
    "age_last_decade = df_tour_stages[((df_tour_stages['year'] >= 2009) & (df_tour_stages['stage_results_id'] == 'stage-1')) & ((df_tour_stages['year'] <= 2019) & (df_tour_stages['stage_results_id'] == 'stage-1'))]['age']"
   ]
  },
  {
   "cell_type": "code",
   "execution_count": 27,
   "metadata": {
    "ExecuteTime": {
     "end_time": "2021-05-25T10:31:14.109341Z",
     "start_time": "2021-05-25T10:31:14.088335Z"
    },
    "collapsed": true
   },
   "outputs": [
    {
     "name": "stderr",
     "output_type": "stream",
     "text": [
      "<ipython-input-27-219b869838a9>:1: SettingWithCopyWarning: \n",
      "A value is trying to be set on a copy of a slice from a DataFrame\n",
      "\n",
      "See the caveats in the documentation: https://pandas.pydata.org/pandas-docs/stable/user_guide/indexing.html#returning-a-view-versus-a-copy\n",
      "  age_first_decade.dropna(inplace=True)\n",
      "<ipython-input-27-219b869838a9>:2: SettingWithCopyWarning: \n",
      "A value is trying to be set on a copy of a slice from a DataFrame\n",
      "\n",
      "See the caveats in the documentation: https://pandas.pydata.org/pandas-docs/stable/user_guide/indexing.html#returning-a-view-versus-a-copy\n",
      "  age_middle_decade.dropna(inplace=True)\n",
      "<ipython-input-27-219b869838a9>:3: SettingWithCopyWarning: \n",
      "A value is trying to be set on a copy of a slice from a DataFrame\n",
      "\n",
      "See the caveats in the documentation: https://pandas.pydata.org/pandas-docs/stable/user_guide/indexing.html#returning-a-view-versus-a-copy\n",
      "  age_last_decade.dropna(inplace=True)\n"
     ]
    }
   ],
   "source": [
    "age_first_decade.dropna(inplace=True)\n",
    "age_middle_decade.dropna(inplace=True)\n",
    "age_last_decade.dropna(inplace=True)"
   ]
  },
  {
   "cell_type": "code",
   "execution_count": 28,
   "metadata": {
    "ExecuteTime": {
     "end_time": "2021-05-25T10:34:01.105891Z",
     "start_time": "2021-05-25T10:34:01.082887Z"
    }
   },
   "outputs": [
    {
     "name": "stdout",
     "output_type": "stream",
     "text": [
      "(713,)\n",
      "(1071,)\n",
      "(2115,)\n"
     ]
    }
   ],
   "source": [
    "print(age_first_decade.shape)\n",
    "print(age_middle_decade.shape)\n",
    "print(age_last_decade.shape)"
   ]
  },
  {
   "cell_type": "code",
   "execution_count": 29,
   "metadata": {
    "ExecuteTime": {
     "end_time": "2021-05-25T10:32:02.822892Z",
     "start_time": "2021-05-25T10:32:02.814876Z"
    }
   },
   "outputs": [],
   "source": [
    "age_first_decade_sample = age_first_decade.sample(n=500)\n",
    "age_middle_decade_sample = age_middle_decade.sample(n=500)\n",
    "age_last_decade_sample = age_last_decade.sample(n=500)"
   ]
  },
  {
   "cell_type": "code",
   "execution_count": 30,
   "metadata": {
    "ExecuteTime": {
     "end_time": "2021-05-25T10:32:30.756387Z",
     "start_time": "2021-05-25T10:32:30.739392Z"
    }
   },
   "outputs": [
    {
     "name": "stdout",
     "output_type": "stream",
     "text": [
      "First decade mean age: 25.33\n",
      "Middle decade mean age: 26.83\n",
      "Last decade mean age: 29.18\n"
     ]
    }
   ],
   "source": [
    "print(f'First decade mean age: {round(age_first_decade.mean(), 2)}')\n",
    "print(f'Middle decade mean age: {round(age_middle_decade.mean(), 2)}')\n",
    "print(f'Last decade mean age: {round(age_last_decade.mean(), 2)}')"
   ]
  },
  {
   "cell_type": "code",
   "execution_count": 31,
   "metadata": {
    "ExecuteTime": {
     "end_time": "2021-05-25T10:34:01.105891Z",
     "start_time": "2021-05-25T10:34:01.082887Z"
    }
   },
   "outputs": [
    {
     "data": {
      "text/plain": [
       "F_onewayResult(statistic=101.58904196895529, pvalue=4.250587471512955e-42)"
      ]
     },
     "execution_count": 31,
     "metadata": {},
     "output_type": "execute_result"
    }
   ],
   "source": [
    "stats.f_oneway(age_first_decade_sample, age_middle_decade_sample, age_last_decade_sample)"
   ]
  },
  {
   "cell_type": "markdown",
   "metadata": {
    "ExecuteTime": {
     "end_time": "2021-05-25T10:34:20.415001Z",
     "start_time": "2021-05-25T10:34:20.389989Z"
    }
   },
   "source": [
    "### Conclusion:\n",
    "\n",
    "The null hypothesis is ***REFUTED***.\n",
    "\n",
    "Comparing the results between the mean age of the first, middle and last decades of Tour de France we realize the p-value is well below 5% (alpha).\n",
    "\n",
    "That tells us that it´s likely that the aging of the athletes that participate on the competition is not by chance, but a steady trend. "
   ]
  }
 ],
 "metadata": {
  "kernelspec": {
   "display_name": "Python 3",
   "language": "python",
   "name": "python3"
  },
  "language_info": {
   "codemirror_mode": {
    "name": "ipython",
    "version": 3
   },
   "file_extension": ".py",
   "mimetype": "text/x-python",
   "name": "python",
   "nbconvert_exporter": "python",
   "pygments_lexer": "ipython3",
   "version": "3.8.5"
  }
 },
 "nbformat": 4,
 "nbformat_minor": 4
}
