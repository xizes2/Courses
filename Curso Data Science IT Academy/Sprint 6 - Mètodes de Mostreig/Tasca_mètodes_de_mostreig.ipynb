{
 "cells": [
  {
   "cell_type": "markdown",
   "metadata": {},
   "source": [
    "# Nivell 1\n",
    "\n",
    "## Exercici 1\n",
    "\n",
    "#### Agafa un conjunt de dades de tema esportiu que t'agradi. Realitza un mostreig de les dades generant una mostra aleatòria simple i una mostra sistemàtica."
   ]
  },
  {
   "cell_type": "code",
   "execution_count": 1,
   "metadata": {
    "ExecuteTime": {
     "end_time": "2021-05-10T16:27:43.668955Z",
     "start_time": "2021-05-10T16:27:40.414093Z"
    }
   },
   "outputs": [],
   "source": [
    "import pandas as pd"
   ]
  },
  {
   "cell_type": "code",
   "execution_count": 2,
   "metadata": {
    "ExecuteTime": {
     "end_time": "2021-05-10T16:27:43.716969Z",
     "start_time": "2021-05-10T16:27:43.675956Z"
    }
   },
   "outputs": [],
   "source": [
    "df_tour_winners = pd.read_csv('C:/Users/xizes/tdf_winners.csv')"
   ]
  },
  {
   "cell_type": "code",
   "execution_count": 3,
   "metadata": {
    "ExecuteTime": {
     "end_time": "2021-05-10T16:27:43.893547Z",
     "start_time": "2021-05-10T16:27:43.729969Z"
    }
   },
   "outputs": [
    {
     "data": {
      "text/html": [
       "<div>\n",
       "<style scoped>\n",
       "    .dataframe tbody tr th:only-of-type {\n",
       "        vertical-align: middle;\n",
       "    }\n",
       "\n",
       "    .dataframe tbody tr th {\n",
       "        vertical-align: top;\n",
       "    }\n",
       "\n",
       "    .dataframe thead th {\n",
       "        text-align: right;\n",
       "    }\n",
       "</style>\n",
       "<table border=\"1\" class=\"dataframe\">\n",
       "  <thead>\n",
       "    <tr style=\"text-align: right;\">\n",
       "      <th></th>\n",
       "      <th>edition</th>\n",
       "      <th>start_date</th>\n",
       "      <th>winner_name</th>\n",
       "      <th>winner_team</th>\n",
       "      <th>distance</th>\n",
       "      <th>time_overall</th>\n",
       "      <th>time_margin</th>\n",
       "      <th>stage_wins</th>\n",
       "      <th>stages_led</th>\n",
       "      <th>height</th>\n",
       "      <th>weight</th>\n",
       "      <th>age</th>\n",
       "      <th>born</th>\n",
       "      <th>died</th>\n",
       "      <th>full_name</th>\n",
       "      <th>nickname</th>\n",
       "      <th>birth_town</th>\n",
       "      <th>birth_country</th>\n",
       "      <th>nationality</th>\n",
       "    </tr>\n",
       "  </thead>\n",
       "  <tbody>\n",
       "    <tr>\n",
       "      <th>0</th>\n",
       "      <td>1</td>\n",
       "      <td>1903-07-01</td>\n",
       "      <td>Maurice Garin</td>\n",
       "      <td>La Française</td>\n",
       "      <td>2428.0</td>\n",
       "      <td>94.553889</td>\n",
       "      <td>2.989167</td>\n",
       "      <td>3</td>\n",
       "      <td>6</td>\n",
       "      <td>1.62</td>\n",
       "      <td>60.0</td>\n",
       "      <td>32</td>\n",
       "      <td>1871-03-03</td>\n",
       "      <td>1957-02-19</td>\n",
       "      <td>NaN</td>\n",
       "      <td>The Little Chimney-sweep</td>\n",
       "      <td>Arvier</td>\n",
       "      <td>Italy</td>\n",
       "      <td>France</td>\n",
       "    </tr>\n",
       "  </tbody>\n",
       "</table>\n",
       "</div>"
      ],
      "text/plain": [
       "   edition  start_date    winner_name   winner_team  distance  time_overall  \\\n",
       "0        1  1903-07-01  Maurice Garin  La Française    2428.0     94.553889   \n",
       "\n",
       "   time_margin  stage_wins  stages_led  height  weight  age        born  \\\n",
       "0     2.989167           3           6    1.62    60.0   32  1871-03-03   \n",
       "\n",
       "         died full_name                  nickname birth_town birth_country  \\\n",
       "0  1957-02-19       NaN  The Little Chimney-sweep     Arvier         Italy   \n",
       "\n",
       "  nationality  \n",
       "0      France  "
      ]
     },
     "execution_count": 3,
     "metadata": {},
     "output_type": "execute_result"
    }
   ],
   "source": [
    "df_tour_winners.head(1)"
   ]
  },
  {
   "cell_type": "markdown",
   "metadata": {},
   "source": [
    "**Mostra aleatòria simple**"
   ]
  },
  {
   "cell_type": "markdown",
   "metadata": {},
   "source": [
    "Simple random sample of 32 elements from original dataframe."
   ]
  },
  {
   "cell_type": "code",
   "execution_count": 4,
   "metadata": {
    "ExecuteTime": {
     "end_time": "2021-05-10T16:27:43.940556Z",
     "start_time": "2021-05-10T16:27:43.909550Z"
    }
   },
   "outputs": [],
   "source": [
    "df_simple_sample = df_tour_winners.sample(n=32)"
   ]
  },
  {
   "cell_type": "code",
   "execution_count": 5,
   "metadata": {
    "ExecuteTime": {
     "end_time": "2021-05-10T16:27:43.983567Z",
     "start_time": "2021-05-10T16:27:43.964563Z"
    }
   },
   "outputs": [
    {
     "data": {
      "text/plain": [
       "(32, 19)"
      ]
     },
     "execution_count": 5,
     "metadata": {},
     "output_type": "execute_result"
    }
   ],
   "source": [
    "df_simple_sample.shape"
   ]
  },
  {
   "cell_type": "markdown",
   "metadata": {},
   "source": [
    "**Mostra sistemàtica**"
   ]
  },
  {
   "cell_type": "markdown",
   "metadata": {},
   "source": [
    "Sistematic sample using step=3."
   ]
  },
  {
   "cell_type": "code",
   "execution_count": 6,
   "metadata": {
    "ExecuteTime": {
     "end_time": "2021-05-10T16:27:44.013575Z",
     "start_time": "2021-05-10T16:27:43.993570Z"
    }
   },
   "outputs": [],
   "source": [
    "df_sistematic_sample = df_tour_winners.iloc[::3]"
   ]
  },
  {
   "cell_type": "code",
   "execution_count": 7,
   "metadata": {
    "ExecuteTime": {
     "end_time": "2021-05-10T16:27:44.044584Z",
     "start_time": "2021-05-10T16:27:44.020577Z"
    }
   },
   "outputs": [
    {
     "data": {
      "text/plain": [
       "(36, 19)"
      ]
     },
     "execution_count": 7,
     "metadata": {},
     "output_type": "execute_result"
    }
   ],
   "source": [
    "df_sistematic_sample.shape"
   ]
  },
  {
   "cell_type": "markdown",
   "metadata": {
    "ExecuteTime": {
     "end_time": "2021-05-10T08:04:05.713560Z",
     "start_time": "2021-05-10T08:04:05.463497Z"
    }
   },
   "source": [
    "# Nivell 2\n",
    "## Exercici 2\n",
    "#### Continua amb el conjunt de dades de tema esportiu i genera una mostra estratificada i una mostra utilitzant SMOTE (Synthetic Minority Oversampling Technique)."
   ]
  },
  {
   "cell_type": "markdown",
   "metadata": {},
   "source": [
    "**Mostra Estratificada**\n",
    "\n"
   ]
  },
  {
   "cell_type": "code",
   "execution_count": 8,
   "metadata": {
    "ExecuteTime": {
     "end_time": "2021-05-10T16:27:44.137606Z",
     "start_time": "2021-05-10T16:27:44.111600Z"
    },
    "scrolled": false
   },
   "outputs": [],
   "source": [
    "#Divide df into two groups \n",
    "df_strata_1 = df_tour_winners.iloc[::2]\n",
    "df_strata_2 = df_tour_winners.iloc[1::2]"
   ]
  },
  {
   "cell_type": "code",
   "execution_count": 9,
   "metadata": {
    "ExecuteTime": {
     "end_time": "2021-05-10T16:27:44.342660Z",
     "start_time": "2021-05-10T16:27:44.155612Z"
    }
   },
   "outputs": [
    {
     "data": {
      "text/html": [
       "<div>\n",
       "<style scoped>\n",
       "    .dataframe tbody tr th:only-of-type {\n",
       "        vertical-align: middle;\n",
       "    }\n",
       "\n",
       "    .dataframe tbody tr th {\n",
       "        vertical-align: top;\n",
       "    }\n",
       "\n",
       "    .dataframe thead th {\n",
       "        text-align: right;\n",
       "    }\n",
       "</style>\n",
       "<table border=\"1\" class=\"dataframe\">\n",
       "  <thead>\n",
       "    <tr style=\"text-align: right;\">\n",
       "      <th></th>\n",
       "      <th>edition</th>\n",
       "      <th>distance</th>\n",
       "      <th>time_overall</th>\n",
       "      <th>time_margin</th>\n",
       "      <th>stage_wins</th>\n",
       "      <th>stages_led</th>\n",
       "      <th>height</th>\n",
       "      <th>weight</th>\n",
       "      <th>age</th>\n",
       "    </tr>\n",
       "  </thead>\n",
       "  <tbody>\n",
       "    <tr>\n",
       "      <th>count</th>\n",
       "      <td>53.00000</td>\n",
       "      <td>53.000000</td>\n",
       "      <td>49.000000</td>\n",
       "      <td>49.000000</td>\n",
       "      <td>53.000000</td>\n",
       "      <td>53.000000</td>\n",
       "      <td>32.000000</td>\n",
       "      <td>33.000000</td>\n",
       "      <td>53.000000</td>\n",
       "    </tr>\n",
       "    <tr>\n",
       "      <th>mean</th>\n",
       "      <td>53.00000</td>\n",
       "      <td>4209.235849</td>\n",
       "      <td>126.109416</td>\n",
       "      <td>0.284433</td>\n",
       "      <td>2.735849</td>\n",
       "      <td>10.226415</td>\n",
       "      <td>1.779688</td>\n",
       "      <td>69.121212</td>\n",
       "      <td>28.320755</td>\n",
       "    </tr>\n",
       "    <tr>\n",
       "      <th>std</th>\n",
       "      <td>30.88689</td>\n",
       "      <td>713.317228</td>\n",
       "      <td>41.478473</td>\n",
       "      <td>0.542260</td>\n",
       "      <td>1.962641</td>\n",
       "      <td>4.834338</td>\n",
       "      <td>0.057557</td>\n",
       "      <td>6.725686</td>\n",
       "      <td>3.203205</td>\n",
       "    </tr>\n",
       "    <tr>\n",
       "      <th>min</th>\n",
       "      <td>1.00000</td>\n",
       "      <td>2428.000000</td>\n",
       "      <td>82.086667</td>\n",
       "      <td>0.008889</td>\n",
       "      <td>0.000000</td>\n",
       "      <td>1.000000</td>\n",
       "      <td>1.620000</td>\n",
       "      <td>57.000000</td>\n",
       "      <td>22.000000</td>\n",
       "    </tr>\n",
       "    <tr>\n",
       "      <th>25%</th>\n",
       "      <td>27.00000</td>\n",
       "      <td>3660.500000</td>\n",
       "      <td>92.552222</td>\n",
       "      <td>0.050833</td>\n",
       "      <td>1.000000</td>\n",
       "      <td>7.000000</td>\n",
       "      <td>1.740000</td>\n",
       "      <td>65.000000</td>\n",
       "      <td>26.000000</td>\n",
       "    </tr>\n",
       "    <tr>\n",
       "      <th>50%</th>\n",
       "      <td>53.00000</td>\n",
       "      <td>4173.000000</td>\n",
       "      <td>114.531667</td>\n",
       "      <td>0.101667</td>\n",
       "      <td>2.000000</td>\n",
       "      <td>11.000000</td>\n",
       "      <td>1.770000</td>\n",
       "      <td>68.000000</td>\n",
       "      <td>29.000000</td>\n",
       "    </tr>\n",
       "    <tr>\n",
       "      <th>75%</th>\n",
       "      <td>79.00000</td>\n",
       "      <td>4504.000000</td>\n",
       "      <td>141.383333</td>\n",
       "      <td>0.203333</td>\n",
       "      <td>4.000000</td>\n",
       "      <td>14.000000</td>\n",
       "      <td>1.820000</td>\n",
       "      <td>74.000000</td>\n",
       "      <td>30.000000</td>\n",
       "    </tr>\n",
       "    <tr>\n",
       "      <th>max</th>\n",
       "      <td>105.00000</td>\n",
       "      <td>5560.000000</td>\n",
       "      <td>231.120833</td>\n",
       "      <td>2.989167</td>\n",
       "      <td>8.000000</td>\n",
       "      <td>21.000000</td>\n",
       "      <td>1.900000</td>\n",
       "      <td>88.000000</td>\n",
       "      <td>34.000000</td>\n",
       "    </tr>\n",
       "  </tbody>\n",
       "</table>\n",
       "</div>"
      ],
      "text/plain": [
       "         edition     distance  time_overall  time_margin  stage_wins  \\\n",
       "count   53.00000    53.000000     49.000000    49.000000   53.000000   \n",
       "mean    53.00000  4209.235849    126.109416     0.284433    2.735849   \n",
       "std     30.88689   713.317228     41.478473     0.542260    1.962641   \n",
       "min      1.00000  2428.000000     82.086667     0.008889    0.000000   \n",
       "25%     27.00000  3660.500000     92.552222     0.050833    1.000000   \n",
       "50%     53.00000  4173.000000    114.531667     0.101667    2.000000   \n",
       "75%     79.00000  4504.000000    141.383333     0.203333    4.000000   \n",
       "max    105.00000  5560.000000    231.120833     2.989167    8.000000   \n",
       "\n",
       "       stages_led     height     weight        age  \n",
       "count   53.000000  32.000000  33.000000  53.000000  \n",
       "mean    10.226415   1.779688  69.121212  28.320755  \n",
       "std      4.834338   0.057557   6.725686   3.203205  \n",
       "min      1.000000   1.620000  57.000000  22.000000  \n",
       "25%      7.000000   1.740000  65.000000  26.000000  \n",
       "50%     11.000000   1.770000  68.000000  29.000000  \n",
       "75%     14.000000   1.820000  74.000000  30.000000  \n",
       "max     21.000000   1.900000  88.000000  34.000000  "
      ]
     },
     "execution_count": 9,
     "metadata": {},
     "output_type": "execute_result"
    }
   ],
   "source": [
    "#Check the similarity to validate the homogenity of the two groups\n",
    "df_strata_1.describe()"
   ]
  },
  {
   "cell_type": "code",
   "execution_count": 10,
   "metadata": {
    "ExecuteTime": {
     "end_time": "2021-05-10T16:27:44.549712Z",
     "start_time": "2021-05-10T16:27:44.354665Z"
    }
   },
   "outputs": [
    {
     "data": {
      "text/html": [
       "<div>\n",
       "<style scoped>\n",
       "    .dataframe tbody tr th:only-of-type {\n",
       "        vertical-align: middle;\n",
       "    }\n",
       "\n",
       "    .dataframe tbody tr th {\n",
       "        vertical-align: top;\n",
       "    }\n",
       "\n",
       "    .dataframe thead th {\n",
       "        text-align: right;\n",
       "    }\n",
       "</style>\n",
       "<table border=\"1\" class=\"dataframe\">\n",
       "  <thead>\n",
       "    <tr style=\"text-align: right;\">\n",
       "      <th></th>\n",
       "      <th>edition</th>\n",
       "      <th>distance</th>\n",
       "      <th>time_overall</th>\n",
       "      <th>time_margin</th>\n",
       "      <th>stage_wins</th>\n",
       "      <th>stages_led</th>\n",
       "      <th>height</th>\n",
       "      <th>weight</th>\n",
       "      <th>age</th>\n",
       "    </tr>\n",
       "  </thead>\n",
       "  <tbody>\n",
       "    <tr>\n",
       "      <th>count</th>\n",
       "      <td>53.00000</td>\n",
       "      <td>53.000000</td>\n",
       "      <td>49.000000</td>\n",
       "      <td>49.000000</td>\n",
       "      <td>53.000000</td>\n",
       "      <td>53.000000</td>\n",
       "      <td>34.000000</td>\n",
       "      <td>34.000000</td>\n",
       "      <td>53.000000</td>\n",
       "    </tr>\n",
       "    <tr>\n",
       "      <th>mean</th>\n",
       "      <td>54.00000</td>\n",
       "      <td>4214.892453</td>\n",
       "      <td>125.400550</td>\n",
       "      <td>0.251020</td>\n",
       "      <td>2.735849</td>\n",
       "      <td>11.358491</td>\n",
       "      <td>1.777941</td>\n",
       "      <td>69.382353</td>\n",
       "      <td>27.113208</td>\n",
       "    </tr>\n",
       "    <tr>\n",
       "      <th>std</th>\n",
       "      <td>30.88689</td>\n",
       "      <td>701.949681</td>\n",
       "      <td>42.066956</td>\n",
       "      <td>0.404513</td>\n",
       "      <td>1.733726</td>\n",
       "      <td>5.731473</td>\n",
       "      <td>0.057302</td>\n",
       "      <td>6.559817</td>\n",
       "      <td>3.423114</td>\n",
       "    </tr>\n",
       "    <tr>\n",
       "      <th>min</th>\n",
       "      <td>2.00000</td>\n",
       "      <td>2428.000000</td>\n",
       "      <td>82.950000</td>\n",
       "      <td>0.002222</td>\n",
       "      <td>0.000000</td>\n",
       "      <td>1.000000</td>\n",
       "      <td>1.610000</td>\n",
       "      <td>52.000000</td>\n",
       "      <td>19.000000</td>\n",
       "    </tr>\n",
       "    <tr>\n",
       "      <th>25%</th>\n",
       "      <td>28.00000</td>\n",
       "      <td>3635.000000</td>\n",
       "      <td>92.749722</td>\n",
       "      <td>0.033889</td>\n",
       "      <td>1.000000</td>\n",
       "      <td>6.000000</td>\n",
       "      <td>1.750000</td>\n",
       "      <td>64.500000</td>\n",
       "      <td>25.000000</td>\n",
       "    </tr>\n",
       "    <tr>\n",
       "      <th>50%</th>\n",
       "      <td>54.00000</td>\n",
       "      <td>4138.000000</td>\n",
       "      <td>115.461667</td>\n",
       "      <td>0.067778</td>\n",
       "      <td>2.000000</td>\n",
       "      <td>13.000000</td>\n",
       "      <td>1.770000</td>\n",
       "      <td>70.000000</td>\n",
       "      <td>27.000000</td>\n",
       "    </tr>\n",
       "    <tr>\n",
       "      <th>75%</th>\n",
       "      <td>80.00000</td>\n",
       "      <td>4669.000000</td>\n",
       "      <td>142.792222</td>\n",
       "      <td>0.254167</td>\n",
       "      <td>4.000000</td>\n",
       "      <td>15.000000</td>\n",
       "      <td>1.820000</td>\n",
       "      <td>74.750000</td>\n",
       "      <td>29.000000</td>\n",
       "    </tr>\n",
       "    <tr>\n",
       "      <th>max</th>\n",
       "      <td>106.00000</td>\n",
       "      <td>5745.000000</td>\n",
       "      <td>238.740278</td>\n",
       "      <td>2.270556</td>\n",
       "      <td>7.000000</td>\n",
       "      <td>22.000000</td>\n",
       "      <td>1.860000</td>\n",
       "      <td>80.000000</td>\n",
       "      <td>36.000000</td>\n",
       "    </tr>\n",
       "  </tbody>\n",
       "</table>\n",
       "</div>"
      ],
      "text/plain": [
       "         edition     distance  time_overall  time_margin  stage_wins  \\\n",
       "count   53.00000    53.000000     49.000000    49.000000   53.000000   \n",
       "mean    54.00000  4214.892453    125.400550     0.251020    2.735849   \n",
       "std     30.88689   701.949681     42.066956     0.404513    1.733726   \n",
       "min      2.00000  2428.000000     82.950000     0.002222    0.000000   \n",
       "25%     28.00000  3635.000000     92.749722     0.033889    1.000000   \n",
       "50%     54.00000  4138.000000    115.461667     0.067778    2.000000   \n",
       "75%     80.00000  4669.000000    142.792222     0.254167    4.000000   \n",
       "max    106.00000  5745.000000    238.740278     2.270556    7.000000   \n",
       "\n",
       "       stages_led     height     weight        age  \n",
       "count   53.000000  34.000000  34.000000  53.000000  \n",
       "mean    11.358491   1.777941  69.382353  27.113208  \n",
       "std      5.731473   0.057302   6.559817   3.423114  \n",
       "min      1.000000   1.610000  52.000000  19.000000  \n",
       "25%      6.000000   1.750000  64.500000  25.000000  \n",
       "50%     13.000000   1.770000  70.000000  27.000000  \n",
       "75%     15.000000   1.820000  74.750000  29.000000  \n",
       "max     22.000000   1.860000  80.000000  36.000000  "
      ]
     },
     "execution_count": 10,
     "metadata": {},
     "output_type": "execute_result"
    }
   ],
   "source": [
    "df_strata_2.describe()"
   ]
  },
  {
   "cell_type": "code",
   "execution_count": 11,
   "metadata": {
    "ExecuteTime": {
     "end_time": "2021-05-10T16:27:44.578719Z",
     "start_time": "2021-05-10T16:27:44.562715Z"
    }
   },
   "outputs": [],
   "source": [
    "#Extract the sample (10%) from each strata\n",
    "df_stratified_strata_1 = df_strata_1.sample(n=round(len(df_strata_1)*.1))\n",
    "df_stratified_strata_2 = df_strata_2.sample(n=round(len(df_strata_2)*.1))"
   ]
  },
  {
   "cell_type": "code",
   "execution_count": 12,
   "metadata": {
    "ExecuteTime": {
     "end_time": "2021-05-10T16:27:44.628732Z",
     "start_time": "2021-05-10T16:27:44.586721Z"
    }
   },
   "outputs": [
    {
     "name": "stdout",
     "output_type": "stream",
     "text": [
      "Sample from strata 1: 5\n",
      "Sample from strata 2: 5\n"
     ]
    }
   ],
   "source": [
    "print('Sample from strata 1:', df_stratified_strata_1.shape[0])\n",
    "print('Sample from strata 2:', df_stratified_strata_2.shape[0])"
   ]
  },
  {
   "cell_type": "markdown",
   "metadata": {},
   "source": [
    "**SMOTE (Synthetic Minority Oversampling Technique)**\n",
    "\n",
    "One approach to addressing imbalanced datasets is to oversample the minority class. The simplest approach involves duplicating examples in the minority class, although these examples don’t add any new information to the model. Instead, new examples can be synthesized from the existing examples. This is a type of data augmentation for the minority class and is referred to as the Synthetic Minority Oversampling Technique, or SMOTE for short.\n",
    "\n",
    "Source: https://machinelearningmastery.com/smote-oversampling-for-imbalanced-classification/\n"
   ]
  },
  {
   "cell_type": "code",
   "execution_count": 13,
   "metadata": {
    "ExecuteTime": {
     "end_time": "2021-05-10T16:27:44.642735Z",
     "start_time": "2021-05-10T16:27:44.636732Z"
    }
   },
   "outputs": [],
   "source": [
    "#conda install -c conda-forge imbalanced-learn"
   ]
  },
  {
   "cell_type": "code",
   "execution_count": 152,
   "metadata": {
    "ExecuteTime": {
     "end_time": "2021-05-10T17:35:10.147836Z",
     "start_time": "2021-05-10T17:35:10.128814Z"
    }
   },
   "outputs": [],
   "source": [
    "import seaborn as sns\n",
    "import numpy as np\n",
    "from collections import Counter\n",
    "#from sklearn.datasets import make_classification\n",
    "from sklearn.preprocessing import MinMaxScaler\n",
    "from imblearn.over_sampling import SMOTE\n",
    "from sklearn.model_selection import train_test_split\n",
    "from sklearn.ensemble import RandomForestClassifier\n",
    "from sklearn.metrics import accuracy_score, recall_score, confusion_matrix"
   ]
  },
  {
   "cell_type": "code",
   "execution_count": 77,
   "metadata": {
    "ExecuteTime": {
     "end_time": "2021-05-10T17:11:13.628596Z",
     "start_time": "2021-05-10T17:11:13.603586Z"
    }
   },
   "outputs": [
    {
     "name": "stdout",
     "output_type": "stream",
     "text": [
      "<class 'pandas.core.frame.DataFrame'>\n",
      "RangeIndex: 106 entries, 0 to 105\n",
      "Data columns (total 20 columns):\n",
      " #   Column         Non-Null Count  Dtype  \n",
      "---  ------         --------------  -----  \n",
      " 0   edition        106 non-null    int64  \n",
      " 1   start_date     106 non-null    object \n",
      " 2   winner_name    106 non-null    object \n",
      " 3   winner_team    106 non-null    object \n",
      " 4   distance       106 non-null    float64\n",
      " 5   time_overall   106 non-null    float64\n",
      " 6   time_margin    98 non-null     float64\n",
      " 7   stage_wins     106 non-null    int64  \n",
      " 8   stages_led     106 non-null    int64  \n",
      " 9   height         66 non-null     float64\n",
      " 10  weight         67 non-null     float64\n",
      " 11  age            106 non-null    int64  \n",
      " 12  born           106 non-null    object \n",
      " 13  died           56 non-null     object \n",
      " 14  full_name      46 non-null     object \n",
      " 15  nickname       74 non-null     object \n",
      " 16  birth_town     106 non-null    object \n",
      " 17  birth_country  106 non-null    object \n",
      " 18  nationality    106 non-null    object \n",
      " 19  time_over_180  106 non-null    object \n",
      "dtypes: float64(5), int64(4), object(11)\n",
      "memory usage: 16.7+ KB\n"
     ]
    }
   ],
   "source": [
    "df_tour_winners.info()"
   ]
  },
  {
   "cell_type": "code",
   "execution_count": 225,
   "metadata": {
    "ExecuteTime": {
     "end_time": "2021-05-10T22:02:24.717586Z",
     "start_time": "2021-05-10T22:02:24.277476Z"
    }
   },
   "outputs": [
    {
     "data": {
      "text/plain": [
       "<AxesSubplot:xlabel='time_overall', ylabel='age'>"
      ]
     },
     "execution_count": 225,
     "metadata": {},
     "output_type": "execute_result"
    },
    {
     "data": {
      "image/png": "[encoded data removed]",
      "text/plain": [
       "<Figure size 432x288 with 1 Axes>"
      ]
     },
     "metadata": {
      "needs_background": "light"
     },
     "output_type": "display_data"
    }
   ],
   "source": [
    "#Check correlation between time and age\n",
    "sns.scatterplot(x=df_tour_winners['time_overall'],y=df_tour_winners['age'])"
   ]
  },
  {
   "cell_type": "code",
   "execution_count": 34,
   "metadata": {
    "ExecuteTime": {
     "end_time": "2021-05-10T16:36:00.741536Z",
     "start_time": "2021-05-10T16:36:00.734532Z"
    }
   },
   "outputs": [],
   "source": [
    "#Fill nan values in 'time_overall' column with the mean of this column\n",
    "df_tour_winners['time_overall'].fillna(value=df_tour_winners['time_overall'].mean(), inplace=True)"
   ]
  },
  {
   "cell_type": "markdown",
   "metadata": {},
   "source": [
    "### Small explanation\n",
    "\n",
    "1 - I don´t think this is the best dataset to perform the SMOTE technique, because it´s not particularly imbalanced. So What I did was to create an imbalanced condition using the 'time_overall' column and the condition below 180 (equal 0) and above 180 (equal 1) into a new column named 'time_over_180'.\n",
    "\n",
    "2 - I created a new dataframe using the numeric columns 'age', 'stage_wins' and 'time_over_180' (the other numeric columnswere  issing too uch data or weren´t appropriate for the model). I than normalized the X values and split them between train and test. I ran a Random Forest Classifier on these data and tested the results.\n",
    "\n",
    "3 - I did all over again after using the SMOTE technique."
   ]
  },
  {
   "cell_type": "markdown",
   "metadata": {},
   "source": [
    "#### ML without SMOTE"
   ]
  },
  {
   "cell_type": "code",
   "execution_count": 61,
   "metadata": {
    "ExecuteTime": {
     "end_time": "2021-05-10T16:55:38.371982Z",
     "start_time": "2021-05-10T16:55:38.229943Z"
    },
    "collapsed": true
   },
   "outputs": [
    {
     "name": "stderr",
     "output_type": "stream",
     "text": [
      "C:\\Users\\xizes\\anaconda3\\lib\\site-packages\\pandas\\core\\indexing.py:670: SettingWithCopyWarning: \n",
      "A value is trying to be set on a copy of a slice from a DataFrame\n",
      "\n",
      "See the caveats in the documentation: https://pandas.pydata.org/pandas-docs/stable/user_guide/indexing.html#returning-a-view-versus-a-copy\n",
      "  iloc._setitem_with_indexer(indexer, value)\n"
     ]
    }
   ],
   "source": [
    "#Feature engineer overal_time above 180 = 1, below 180 = 0\n",
    "df_tour_winners['time_over_180'] = ''\n",
    "\n",
    "for e, t in enumerate(df_tour_winners['time_overall']):\n",
    "    if t <= 180:\n",
    "        df_tour_winners['time_over_180'].iloc[e] = float(0)\n",
    "    elif t > 180:\n",
    "        df_tour_winners['time_over_180'].iloc[e] = float(1)\n",
    "            "
   ]
  },
  {
   "cell_type": "code",
   "execution_count": 226,
   "metadata": {
    "ExecuteTime": {
     "end_time": "2021-05-10T22:04:01.312939Z",
     "start_time": "2021-05-10T22:04:01.301938Z"
    }
   },
   "outputs": [],
   "source": [
    "df_smote = df_tour_winners[['age', 'stage_wins', 'time_over_180']]"
   ]
  },
  {
   "cell_type": "code",
   "execution_count": 229,
   "metadata": {
    "ExecuteTime": {
     "end_time": "2021-05-10T22:06:38.040059Z",
     "start_time": "2021-05-10T22:06:38.022052Z"
    }
   },
   "outputs": [],
   "source": [
    "#df_smote.head(50)"
   ]
  },
  {
   "cell_type": "code",
   "execution_count": 81,
   "metadata": {
    "ExecuteTime": {
     "end_time": "2021-05-10T17:13:53.721032Z",
     "start_time": "2021-05-10T17:13:53.706027Z"
    }
   },
   "outputs": [],
   "source": [
    "#Iniciate normalizer\n",
    "mms = MinMaxScaler()"
   ]
  },
  {
   "cell_type": "code",
   "execution_count": 231,
   "metadata": {
    "ExecuteTime": {
     "end_time": "2021-05-10T22:11:21.590846Z",
     "start_time": "2021-05-10T22:11:21.570839Z"
    }
   },
   "outputs": [],
   "source": [
    "#Normalize integer values between 0 and 1\n",
    "scaled_data = mms.fit_transform(df_smote[['age', 'stage_wins']])"
   ]
  },
  {
   "cell_type": "code",
   "execution_count": 233,
   "metadata": {
    "ExecuteTime": {
     "end_time": "2021-05-10T22:12:22.076697Z",
     "start_time": "2021-05-10T22:12:22.062695Z"
    }
   },
   "outputs": [],
   "source": [
    "#Create df with scaled values\n",
    "df_smote_scaled = pd.DataFrame(df_smote_mms, columns=['age', 'stage_wins'])"
   ]
  },
  {
   "cell_type": "code",
   "execution_count": 237,
   "metadata": {
    "ExecuteTime": {
     "end_time": "2021-05-10T22:15:04.564036Z",
     "start_time": "2021-05-10T22:15:04.547029Z"
    }
   },
   "outputs": [],
   "source": [
    "#Merge the scaled df with the prediction column 'time_over_180'\n",
    "df_smote_final = pd.concat([df_smote_scaled, df_smote['time_over_180']], axis=1)"
   ]
  },
  {
   "cell_type": "code",
   "execution_count": 190,
   "metadata": {
    "ExecuteTime": {
     "end_time": "2021-05-10T18:23:56.987163Z",
     "start_time": "2021-05-10T18:23:56.974157Z"
    }
   },
   "outputs": [],
   "source": [
    "#Separating features for prediction\n",
    "X = df_smote_final.drop('time_over_180', axis=1).astype(float)\n",
    "y = df_smote_final['time_over_180'].astype(float)"
   ]
  },
  {
   "cell_type": "code",
   "execution_count": 214,
   "metadata": {
    "ExecuteTime": {
     "end_time": "2021-05-10T18:30:26.875840Z",
     "start_time": "2021-05-10T18:30:26.857837Z"
    }
   },
   "outputs": [
    {
     "data": {
      "text/plain": [
       "Counter({0.0: 93, 1.0: 13})"
      ]
     },
     "execution_count": 214,
     "metadata": {},
     "output_type": "execute_result"
    }
   ],
   "source": [
    "#Amount of each feature. Notice the lower presence of value 1 on the dataset. This will be out target on the SMOTE technique.\n",
    "Counter(y)"
   ]
  },
  {
   "cell_type": "code",
   "execution_count": 192,
   "metadata": {
    "ExecuteTime": {
     "end_time": "2021-05-10T18:24:03.922015Z",
     "start_time": "2021-05-10T18:24:03.906006Z"
    }
   },
   "outputs": [],
   "source": [
    "#Train, test split\n",
    "#Approximate the amount of values '1' both in test and train sets using random_state = 6\n",
    "X_train, X_test, y_train, y_test = train_test_split(X, y, test_size=0.3, random_state=6)"
   ]
  },
  {
   "cell_type": "code",
   "execution_count": 240,
   "metadata": {
    "ExecuteTime": {
     "end_time": "2021-05-10T22:30:10.510164Z",
     "start_time": "2021-05-10T22:30:10.492167Z"
    }
   },
   "outputs": [
    {
     "name": "stdout",
     "output_type": "stream",
     "text": [
      "12.16\n",
      "12.5\n"
     ]
    }
   ],
   "source": [
    "#Check the amount of values '1' (percentile) on both datasets\n",
    "print(np.round(y_train.value_counts(normalize=True)[1] * 100, 2))\n",
    "print(np.round(y_test.value_counts(normalize=True)[1] * 100, 2))"
   ]
  },
  {
   "cell_type": "code",
   "execution_count": 241,
   "metadata": {
    "ExecuteTime": {
     "end_time": "2021-05-10T22:31:02.188840Z",
     "start_time": "2021-05-10T22:31:02.180840Z"
    }
   },
   "outputs": [],
   "source": [
    "#Iniciate model\n",
    "model = RandomForestClassifier()"
   ]
  },
  {
   "cell_type": "code",
   "execution_count": 242,
   "metadata": {
    "ExecuteTime": {
     "end_time": "2021-05-10T22:31:04.298153Z",
     "start_time": "2021-05-10T22:31:03.418931Z"
    }
   },
   "outputs": [],
   "source": [
    "#Fit datasets to the model and make predictions\n",
    "model.fit(X_train, y_train)\n",
    "preds = model.predict(X_test)"
   ]
  },
  {
   "cell_type": "code",
   "execution_count": 243,
   "metadata": {
    "ExecuteTime": {
     "end_time": "2021-05-10T22:31:25.378548Z",
     "start_time": "2021-05-10T22:31:25.358542Z"
    }
   },
   "outputs": [
    {
     "data": {
      "text/plain": [
       "0.875"
      ]
     },
     "execution_count": 243,
     "metadata": {},
     "output_type": "execute_result"
    }
   ],
   "source": [
    "#Test the results for accuracy\n",
    "accuracy_score(y_test, preds)"
   ]
  },
  {
   "cell_type": "code",
   "execution_count": 244,
   "metadata": {
    "ExecuteTime": {
     "end_time": "2021-05-10T22:31:50.267082Z",
     "start_time": "2021-05-10T22:31:50.237073Z"
    }
   },
   "outputs": [
    {
     "data": {
      "text/plain": [
       "0.0"
      ]
     },
     "execution_count": 244,
     "metadata": {},
     "output_type": "execute_result"
    }
   ],
   "source": [
    "#Test the results for recall\n",
    "recall_score(y_test, preds)"
   ]
  },
  {
   "cell_type": "code",
   "execution_count": 245,
   "metadata": {
    "ExecuteTime": {
     "end_time": "2021-05-10T22:32:03.368777Z",
     "start_time": "2021-05-10T22:32:03.354771Z"
    }
   },
   "outputs": [
    {
     "data": {
      "text/plain": [
       "array([[28,  0],\n",
       "       [ 4,  0]], dtype=int64)"
      ]
     },
     "execution_count": 245,
     "metadata": {},
     "output_type": "execute_result"
    }
   ],
   "source": [
    "confusion_matrix(y_test, preds)"
   ]
  },
  {
   "cell_type": "markdown",
   "metadata": {},
   "source": [
    "#### ML with SMOTE - same steps as above, only added the SMOTE function"
   ]
  },
  {
   "cell_type": "code",
   "execution_count": 246,
   "metadata": {
    "ExecuteTime": {
     "end_time": "2021-05-10T22:34:12.179081Z",
     "start_time": "2021-05-10T22:34:12.169079Z"
    }
   },
   "outputs": [],
   "source": [
    "#Iniciate SMOTE oversampling\n",
    "oversample = SMOTE(random_state=6)"
   ]
  },
  {
   "cell_type": "code",
   "execution_count": 249,
   "metadata": {
    "ExecuteTime": {
     "end_time": "2021-05-10T22:35:21.903111Z",
     "start_time": "2021-05-10T22:35:21.868095Z"
    }
   },
   "outputs": [],
   "source": [
    "X_rsmpl, y_rsmpl = oversample.fit_resample(X, y)"
   ]
  },
  {
   "cell_type": "code",
   "execution_count": 250,
   "metadata": {
    "ExecuteTime": {
     "end_time": "2021-05-10T22:35:23.333877Z",
     "start_time": "2021-05-10T22:35:23.314869Z"
    }
   },
   "outputs": [
    {
     "data": {
      "text/plain": [
       "Counter({0.0: 93, 1.0: 93})"
      ]
     },
     "execution_count": 250,
     "metadata": {},
     "output_type": "execute_result"
    }
   ],
   "source": [
    "#Now we have the same amount of 0 and 1, after using SMOTE\n",
    "Counter(y_rsmpl)"
   ]
  },
  {
   "cell_type": "code",
   "execution_count": 321,
   "metadata": {
    "ExecuteTime": {
     "end_time": "2021-05-11T14:22:32.700309Z",
     "start_time": "2021-05-11T14:22:32.689306Z"
    }
   },
   "outputs": [],
   "source": [
    "X_train_rsmpl, X_test_rsmpl, y_train_rsmpl, y_test_rsmpl = train_test_split(X_rsmpl, y_rsmpl, test_size=0.3, random_state=6)"
   ]
  },
  {
   "cell_type": "code",
   "execution_count": 254,
   "metadata": {
    "ExecuteTime": {
     "end_time": "2021-05-10T22:37:50.551630Z",
     "start_time": "2021-05-10T22:37:50.523622Z"
    }
   },
   "outputs": [
    {
     "name": "stdout",
     "output_type": "stream",
     "text": [
      "50.77\n",
      "48.21\n"
     ]
    }
   ],
   "source": [
    "print(np.round(y_train_rsmpl.value_counts(normalize=True)[1] * 100, 2))\n",
    "print(np.round(y_test_rsmpl.value_counts(normalize=True)[1] * 100, 2))"
   ]
  },
  {
   "cell_type": "code",
   "execution_count": 344,
   "metadata": {
    "ExecuteTime": {
     "end_time": "2021-05-11T14:23:11.263837Z",
     "start_time": "2021-05-11T14:23:10.973711Z"
    }
   },
   "outputs": [],
   "source": [
    "model.fit(X_train_rsmpl, y_train_rsmpl)\n",
    "preds_rsmpl = model.predict(X_test_rsmpl)"
   ]
  },
  {
   "cell_type": "code",
   "execution_count": 345,
   "metadata": {
    "ExecuteTime": {
     "end_time": "2021-05-11T14:23:11.953493Z",
     "start_time": "2021-05-11T14:23:11.935489Z"
    }
   },
   "outputs": [
    {
     "data": {
      "text/plain": [
       "0.8571428571428571"
      ]
     },
     "execution_count": 345,
     "metadata": {},
     "output_type": "execute_result"
    }
   ],
   "source": [
    "accuracy_score(y_test_rsmpl, preds_rsmpl)"
   ]
  },
  {
   "cell_type": "code",
   "execution_count": 346,
   "metadata": {
    "ExecuteTime": {
     "end_time": "2021-05-11T14:23:12.862511Z",
     "start_time": "2021-05-11T14:23:12.841502Z"
    }
   },
   "outputs": [
    {
     "data": {
      "text/plain": [
       "0.9259259259259259"
      ]
     },
     "execution_count": 346,
     "metadata": {},
     "output_type": "execute_result"
    }
   ],
   "source": [
    "recall_score(y_test_rsmpl, preds_rsmpl)"
   ]
  },
  {
   "cell_type": "code",
   "execution_count": 347,
   "metadata": {
    "ExecuteTime": {
     "end_time": "2021-05-11T14:23:13.765078Z",
     "start_time": "2021-05-11T14:23:13.751076Z"
    }
   },
   "outputs": [
    {
     "data": {
      "text/plain": [
       "array([[23,  6],\n",
       "       [ 2, 25]], dtype=int64)"
      ]
     },
     "execution_count": 347,
     "metadata": {},
     "output_type": "execute_result"
    }
   ],
   "source": [
    "confusion_matrix(y_test_rsmpl, preds_rsmpl)"
   ]
  },
  {
   "cell_type": "markdown",
   "metadata": {},
   "source": [
    "### As we can see, we got better results after using the SMOTE technique."
   ]
  },
  {
   "cell_type": "markdown",
   "metadata": {
    "ExecuteTime": {
     "end_time": "2021-05-10T18:29:41.117497Z",
     "start_time": "2021-05-10T18:29:41.104492Z"
    }
   },
   "source": [
    "# Nivell 3\n",
    "## Exercici 3\n",
    "#### Continua amb el conjunt de dades de tema esportiu i genera una mostra utilitzant el mètode Reservoir sampling."
   ]
  },
  {
   "cell_type": "code",
   "execution_count": 348,
   "metadata": {
    "ExecuteTime": {
     "end_time": "2021-05-12T08:17:31.168341Z",
     "start_time": "2021-05-12T08:17:30.874302Z"
    }
   },
   "outputs": [],
   "source": [
    "import random"
   ]
  },
  {
   "cell_type": "code",
   "execution_count": 400,
   "metadata": {
    "ExecuteTime": {
     "end_time": "2021-05-12T23:12:54.309936Z",
     "start_time": "2021-05-12T23:12:54.297939Z"
    }
   },
   "outputs": [],
   "source": [
    "#Usually reservoir sampling is made using an infinite (or of lenght not known) stream of data,\n",
    "#but in our case I´ll use the same dataframe as before in order to follow the instructions\n",
    "\n",
    "def samplingReservoir(df, k):\n",
    "    #list that will hold the index numbers form the original df taken randomly with the same probability\n",
    "    reservoir = []\n",
    "    \n",
    "    #Loop through the elements of df...\n",
    "    for i, element in enumerate(df.index):\n",
    "        #...add elements until reach the choosen lenght of the sample.\n",
    "        if i+1 <= k:\n",
    "            reservoir.append(element)\n",
    "        #After complete the number of elements, keep cycling through the original df...\n",
    "        else:\n",
    "            #...compare the probability of that element with a random generated number (between 0 and 1)...\n",
    "            probability = k/(i+1)\n",
    "            random_number = random.random()\n",
    "            #...if the random number is smaller than the probability, a random element will be substituted by the current one\n",
    "            if random_number < probability:\n",
    "                # Select item in stream and remove one of the k items already selected\n",
    "                reservoir[random.choice(range(0,k))] = element\n",
    "    return df.iloc[reservoir]\n"
   ]
  },
  {
   "cell_type": "code",
   "execution_count": 401,
   "metadata": {
    "ExecuteTime": {
     "end_time": "2021-05-12T23:12:57.081529Z",
     "start_time": "2021-05-12T23:12:57.071535Z"
    }
   },
   "outputs": [],
   "source": [
    "a = samplingReservoir(df_tour_winners,30)"
   ]
  },
  {
   "cell_type": "code",
   "execution_count": 402,
   "metadata": {
    "ExecuteTime": {
     "end_time": "2021-05-12T23:13:00.267948Z",
     "start_time": "2021-05-12T23:13:00.060919Z"
    }
   },
   "outputs": [
    {
     "data": {
      "text/html": [
       "<div>\n",
       "<style scoped>\n",
       "    .dataframe tbody tr th:only-of-type {\n",
       "        vertical-align: middle;\n",
       "    }\n",
       "\n",
       "    .dataframe tbody tr th {\n",
       "        vertical-align: top;\n",
       "    }\n",
       "\n",
       "    .dataframe thead th {\n",
       "        text-align: right;\n",
       "    }\n",
       "</style>\n",
       "<table border=\"1\" class=\"dataframe\">\n",
       "  <thead>\n",
       "    <tr style=\"text-align: right;\">\n",
       "      <th></th>\n",
       "      <th>edition</th>\n",
       "      <th>start_date</th>\n",
       "      <th>winner_name</th>\n",
       "      <th>winner_team</th>\n",
       "      <th>distance</th>\n",
       "      <th>time_overall</th>\n",
       "      <th>time_margin</th>\n",
       "      <th>stage_wins</th>\n",
       "      <th>stages_led</th>\n",
       "      <th>height</th>\n",
       "      <th>weight</th>\n",
       "      <th>age</th>\n",
       "      <th>born</th>\n",
       "      <th>died</th>\n",
       "      <th>full_name</th>\n",
       "      <th>nickname</th>\n",
       "      <th>birth_town</th>\n",
       "      <th>birth_country</th>\n",
       "      <th>nationality</th>\n",
       "      <th>time_over_180</th>\n",
       "    </tr>\n",
       "  </thead>\n",
       "  <tbody>\n",
       "    <tr>\n",
       "      <th>66</th>\n",
       "      <td>67</td>\n",
       "      <td>1980-06-26</td>\n",
       "      <td>Joop Zoetemelk</td>\n",
       "      <td>TI–Raleigh–Creda</td>\n",
       "      <td>3842.0</td>\n",
       "      <td>109.320556</td>\n",
       "      <td>0.101667</td>\n",
       "      <td>2</td>\n",
       "      <td>10</td>\n",
       "      <td>1.73</td>\n",
       "      <td>68.0</td>\n",
       "      <td>33</td>\n",
       "      <td>1946-12-03</td>\n",
       "      <td>NaN</td>\n",
       "      <td>Hendrik Gerardus Joseph Zoetemelk</td>\n",
       "      <td>Joop</td>\n",
       "      <td>The Hague</td>\n",
       "      <td>Netherlands</td>\n",
       "      <td>Netherlands</td>\n",
       "      <td>0</td>\n",
       "    </tr>\n",
       "    <tr>\n",
       "      <th>35</th>\n",
       "      <td>36</td>\n",
       "      <td>1949-06-30</td>\n",
       "      <td>Fausto Coppi</td>\n",
       "      <td>Italy</td>\n",
       "      <td>4808.0</td>\n",
       "      <td>149.680278</td>\n",
       "      <td>0.169444</td>\n",
       "      <td>3</td>\n",
       "      <td>5</td>\n",
       "      <td>1.77</td>\n",
       "      <td>68.0</td>\n",
       "      <td>29</td>\n",
       "      <td>1919-09-15</td>\n",
       "      <td>1960-01-02</td>\n",
       "      <td>Angelo Fausto Coppi</td>\n",
       "      <td>The Heron,Il Campionissimo\\n(Champion of Champ...</td>\n",
       "      <td>Castellania</td>\n",
       "      <td>Italy</td>\n",
       "      <td>Italy</td>\n",
       "      <td>0</td>\n",
       "    </tr>\n",
       "    <tr>\n",
       "      <th>2</th>\n",
       "      <td>3</td>\n",
       "      <td>1905-07-09</td>\n",
       "      <td>Louis Trousselier</td>\n",
       "      <td>Peugeot–Wolber</td>\n",
       "      <td>2994.0</td>\n",
       "      <td>125.754983</td>\n",
       "      <td>NaN</td>\n",
       "      <td>5</td>\n",
       "      <td>10</td>\n",
       "      <td>NaN</td>\n",
       "      <td>NaN</td>\n",
       "      <td>24</td>\n",
       "      <td>1881-06-29</td>\n",
       "      <td>1939-04-24</td>\n",
       "      <td>NaN</td>\n",
       "      <td>Levaloy / Trou-trou</td>\n",
       "      <td>Paris</td>\n",
       "      <td>France</td>\n",
       "      <td>France</td>\n",
       "      <td>0</td>\n",
       "    </tr>\n",
       "    <tr>\n",
       "      <th>49</th>\n",
       "      <td>50</td>\n",
       "      <td>1963-06-23</td>\n",
       "      <td>Jacques Anquetil</td>\n",
       "      <td>Saint-Raphaël–Gitane–R. Geminiani</td>\n",
       "      <td>4138.0</td>\n",
       "      <td>113.501389</td>\n",
       "      <td>0.050833</td>\n",
       "      <td>4</td>\n",
       "      <td>5</td>\n",
       "      <td>1.76</td>\n",
       "      <td>70.0</td>\n",
       "      <td>29</td>\n",
       "      <td>1934-01-08</td>\n",
       "      <td>1987-11-18</td>\n",
       "      <td>NaN</td>\n",
       "      <td>Monsieur Chrono, Maître Jacques</td>\n",
       "      <td>Mont-Saint-Aignan</td>\n",
       "      <td>France</td>\n",
       "      <td>France</td>\n",
       "      <td>0</td>\n",
       "    </tr>\n",
       "    <tr>\n",
       "      <th>37</th>\n",
       "      <td>38</td>\n",
       "      <td>1951-07-04</td>\n",
       "      <td>Hugo Koblet</td>\n",
       "      <td>Switzerland</td>\n",
       "      <td>4690.0</td>\n",
       "      <td>142.337222</td>\n",
       "      <td>0.372778</td>\n",
       "      <td>5</td>\n",
       "      <td>11</td>\n",
       "      <td>NaN</td>\n",
       "      <td>NaN</td>\n",
       "      <td>26</td>\n",
       "      <td>1925-03-21</td>\n",
       "      <td>1964-11-06</td>\n",
       "      <td>NaN</td>\n",
       "      <td>Beautiful Hugo, Le pédaleur de charme</td>\n",
       "      <td>Zürich</td>\n",
       "      <td>Switzerland</td>\n",
       "      <td>Switzerland</td>\n",
       "      <td>0</td>\n",
       "    </tr>\n",
       "    <tr>\n",
       "      <th>88</th>\n",
       "      <td>89</td>\n",
       "      <td>2002-07-06</td>\n",
       "      <td>Lance Armstrong</td>\n",
       "      <td>U.S. Postal Service</td>\n",
       "      <td>3272.0</td>\n",
       "      <td>82.086667</td>\n",
       "      <td>0.118611</td>\n",
       "      <td>4</td>\n",
       "      <td>11</td>\n",
       "      <td>1.77</td>\n",
       "      <td>75.0</td>\n",
       "      <td>30</td>\n",
       "      <td>1971-09-18</td>\n",
       "      <td>NaN</td>\n",
       "      <td>Lance Edward Armstrong</td>\n",
       "      <td>Le Boss, Big Tex</td>\n",
       "      <td>Plano</td>\n",
       "      <td>USA</td>\n",
       "      <td>United States</td>\n",
       "      <td>0</td>\n",
       "    </tr>\n",
       "    <tr>\n",
       "      <th>55</th>\n",
       "      <td>56</td>\n",
       "      <td>1969-06-28</td>\n",
       "      <td>Eddy Merckx</td>\n",
       "      <td>Faema</td>\n",
       "      <td>4117.0</td>\n",
       "      <td>116.267222</td>\n",
       "      <td>0.288056</td>\n",
       "      <td>6</td>\n",
       "      <td>18</td>\n",
       "      <td>1.82</td>\n",
       "      <td>74.0</td>\n",
       "      <td>24</td>\n",
       "      <td>1945-06-17</td>\n",
       "      <td>NaN</td>\n",
       "      <td>Édouard Louis Joseph Merckx</td>\n",
       "      <td>The Cannibal</td>\n",
       "      <td>Meensel-Kiezegem</td>\n",
       "      <td>Belgium</td>\n",
       "      <td>Belgium</td>\n",
       "      <td>0</td>\n",
       "    </tr>\n",
       "    <tr>\n",
       "      <th>87</th>\n",
       "      <td>88</td>\n",
       "      <td>2001-07-07</td>\n",
       "      <td>Lance Armstrong</td>\n",
       "      <td>U.S. Postal Service</td>\n",
       "      <td>3458.0</td>\n",
       "      <td>86.291111</td>\n",
       "      <td>0.101667</td>\n",
       "      <td>4</td>\n",
       "      <td>8</td>\n",
       "      <td>1.77</td>\n",
       "      <td>75.0</td>\n",
       "      <td>29</td>\n",
       "      <td>1971-09-18</td>\n",
       "      <td>NaN</td>\n",
       "      <td>Lance Edward Armstrong</td>\n",
       "      <td>Le Boss, Big Tex</td>\n",
       "      <td>Plano</td>\n",
       "      <td>USA</td>\n",
       "      <td>United States</td>\n",
       "      <td>0</td>\n",
       "    </tr>\n",
       "    <tr>\n",
       "      <th>44</th>\n",
       "      <td>45</td>\n",
       "      <td>1958-06-26</td>\n",
       "      <td>Charly Gaul</td>\n",
       "      <td>Luxembourg</td>\n",
       "      <td>4319.0</td>\n",
       "      <td>116.984722</td>\n",
       "      <td>0.050833</td>\n",
       "      <td>4</td>\n",
       "      <td>2</td>\n",
       "      <td>1.73</td>\n",
       "      <td>64.0</td>\n",
       "      <td>25</td>\n",
       "      <td>1932-12-08</td>\n",
       "      <td>2005-12-06</td>\n",
       "      <td>NaN</td>\n",
       "      <td>Angel of the Mountains</td>\n",
       "      <td>Pfaffenthal</td>\n",
       "      <td>Luxembourg</td>\n",
       "      <td>Luxembourg</td>\n",
       "      <td>0</td>\n",
       "    </tr>\n",
       "    <tr>\n",
       "      <th>73</th>\n",
       "      <td>74</td>\n",
       "      <td>1987-07-01</td>\n",
       "      <td>Stephen Roche</td>\n",
       "      <td>Carrera Jeans–Vagabond</td>\n",
       "      <td>4231.0</td>\n",
       "      <td>115.461667</td>\n",
       "      <td>0.011111</td>\n",
       "      <td>1</td>\n",
       "      <td>3</td>\n",
       "      <td>1.75</td>\n",
       "      <td>74.0</td>\n",
       "      <td>27</td>\n",
       "      <td>1959-11-28</td>\n",
       "      <td>NaN</td>\n",
       "      <td>NaN</td>\n",
       "      <td>NaN</td>\n",
       "      <td>Dundrum</td>\n",
       "      <td>Ireland</td>\n",
       "      <td>Ireland</td>\n",
       "      <td>0</td>\n",
       "    </tr>\n",
       "    <tr>\n",
       "      <th>10</th>\n",
       "      <td>11</td>\n",
       "      <td>1913-06-29</td>\n",
       "      <td>Philippe Thys</td>\n",
       "      <td>Peugeot–Wolber</td>\n",
       "      <td>5287.0</td>\n",
       "      <td>197.900000</td>\n",
       "      <td>0.135556</td>\n",
       "      <td>1</td>\n",
       "      <td>8</td>\n",
       "      <td>NaN</td>\n",
       "      <td>NaN</td>\n",
       "      <td>23</td>\n",
       "      <td>1889-10-08</td>\n",
       "      <td>1971-01-16</td>\n",
       "      <td>NaN</td>\n",
       "      <td>Le basset (The Basset Hound)</td>\n",
       "      <td>Anderlecht</td>\n",
       "      <td>Belgium</td>\n",
       "      <td>Belgium</td>\n",
       "      <td>1</td>\n",
       "    </tr>\n",
       "    <tr>\n",
       "      <th>65</th>\n",
       "      <td>66</td>\n",
       "      <td>1979-06-27</td>\n",
       "      <td>Bernard Hinault</td>\n",
       "      <td>Renault–Gitane</td>\n",
       "      <td>3765.0</td>\n",
       "      <td>103.113889</td>\n",
       "      <td>0.220278</td>\n",
       "      <td>7</td>\n",
       "      <td>17</td>\n",
       "      <td>1.74</td>\n",
       "      <td>62.0</td>\n",
       "      <td>24</td>\n",
       "      <td>1954-11-14</td>\n",
       "      <td>NaN</td>\n",
       "      <td>NaN</td>\n",
       "      <td>Le Blaireau (The Badger), Le Patron (The Boss)</td>\n",
       "      <td>Yffiniac</td>\n",
       "      <td>France</td>\n",
       "      <td>France</td>\n",
       "      <td>0</td>\n",
       "    </tr>\n",
       "    <tr>\n",
       "      <th>12</th>\n",
       "      <td>13</td>\n",
       "      <td>1919-06-29</td>\n",
       "      <td>Firmin Lambot</td>\n",
       "      <td>La Sportive</td>\n",
       "      <td>5560.0</td>\n",
       "      <td>231.120833</td>\n",
       "      <td>1.715000</td>\n",
       "      <td>1</td>\n",
       "      <td>2</td>\n",
       "      <td>NaN</td>\n",
       "      <td>NaN</td>\n",
       "      <td>33</td>\n",
       "      <td>1886-03-14</td>\n",
       "      <td>1964-01-19</td>\n",
       "      <td>NaN</td>\n",
       "      <td>NaN</td>\n",
       "      <td>Florennes</td>\n",
       "      <td>Belgium</td>\n",
       "      <td>Belgium</td>\n",
       "      <td>1</td>\n",
       "    </tr>\n",
       "    <tr>\n",
       "      <th>13</th>\n",
       "      <td>14</td>\n",
       "      <td>1920-06-27</td>\n",
       "      <td>Philippe Thys</td>\n",
       "      <td>La Sportive</td>\n",
       "      <td>5503.0</td>\n",
       "      <td>228.603611</td>\n",
       "      <td>0.965833</td>\n",
       "      <td>4</td>\n",
       "      <td>14</td>\n",
       "      <td>NaN</td>\n",
       "      <td>NaN</td>\n",
       "      <td>30</td>\n",
       "      <td>1889-10-08</td>\n",
       "      <td>1971-01-16</td>\n",
       "      <td>NaN</td>\n",
       "      <td>Le basset (The Basset Hound)</td>\n",
       "      <td>Anderlecht</td>\n",
       "      <td>Belgium</td>\n",
       "      <td>Belgium</td>\n",
       "      <td>1</td>\n",
       "    </tr>\n",
       "    <tr>\n",
       "      <th>14</th>\n",
       "      <td>15</td>\n",
       "      <td>1921-06-26</td>\n",
       "      <td>Léon Scieur</td>\n",
       "      <td>La Sportive</td>\n",
       "      <td>5485.0</td>\n",
       "      <td>221.840556</td>\n",
       "      <td>0.305000</td>\n",
       "      <td>2</td>\n",
       "      <td>14</td>\n",
       "      <td>NaN</td>\n",
       "      <td>NaN</td>\n",
       "      <td>33</td>\n",
       "      <td>1888-03-18</td>\n",
       "      <td>1969-10-07</td>\n",
       "      <td>NaN</td>\n",
       "      <td>NaN</td>\n",
       "      <td>Florennes</td>\n",
       "      <td>Belgium</td>\n",
       "      <td>Belgium</td>\n",
       "      <td>1</td>\n",
       "    </tr>\n",
       "    <tr>\n",
       "      <th>38</th>\n",
       "      <td>39</td>\n",
       "      <td>1952-06-25</td>\n",
       "      <td>Fausto Coppi</td>\n",
       "      <td>Italy</td>\n",
       "      <td>4898.0</td>\n",
       "      <td>151.955556</td>\n",
       "      <td>0.474444</td>\n",
       "      <td>5</td>\n",
       "      <td>14</td>\n",
       "      <td>1.77</td>\n",
       "      <td>68.0</td>\n",
       "      <td>30</td>\n",
       "      <td>1919-09-15</td>\n",
       "      <td>1960-01-02</td>\n",
       "      <td>Angelo Fausto Coppi</td>\n",
       "      <td>The Heron,Il Campionissimo\\n(Champion of Champ...</td>\n",
       "      <td>Castellania</td>\n",
       "      <td>Italy</td>\n",
       "      <td>Italy</td>\n",
       "      <td>0</td>\n",
       "    </tr>\n",
       "    <tr>\n",
       "      <th>16</th>\n",
       "      <td>17</td>\n",
       "      <td>1923-06-24</td>\n",
       "      <td>Henri Pélissier</td>\n",
       "      <td>Automoto–Hutchinson</td>\n",
       "      <td>5386.0</td>\n",
       "      <td>222.258333</td>\n",
       "      <td>0.508333</td>\n",
       "      <td>3</td>\n",
       "      <td>6</td>\n",
       "      <td>NaN</td>\n",
       "      <td>NaN</td>\n",
       "      <td>34</td>\n",
       "      <td>1889-01-22</td>\n",
       "      <td>1935-05-01</td>\n",
       "      <td>NaN</td>\n",
       "      <td>NaN</td>\n",
       "      <td>Paris</td>\n",
       "      <td>France</td>\n",
       "      <td>France</td>\n",
       "      <td>1</td>\n",
       "    </tr>\n",
       "    <tr>\n",
       "      <th>56</th>\n",
       "      <td>57</td>\n",
       "      <td>1970-06-27</td>\n",
       "      <td>Eddy Merckx</td>\n",
       "      <td>Faemino–Faema</td>\n",
       "      <td>4254.0</td>\n",
       "      <td>119.530278</td>\n",
       "      <td>0.203333</td>\n",
       "      <td>8</td>\n",
       "      <td>20</td>\n",
       "      <td>1.82</td>\n",
       "      <td>74.0</td>\n",
       "      <td>25</td>\n",
       "      <td>1945-06-17</td>\n",
       "      <td>NaN</td>\n",
       "      <td>Édouard Louis Joseph Merckx</td>\n",
       "      <td>The Cannibal</td>\n",
       "      <td>Meensel-Kiezegem</td>\n",
       "      <td>Belgium</td>\n",
       "      <td>Belgium</td>\n",
       "      <td>0</td>\n",
       "    </tr>\n",
       "    <tr>\n",
       "      <th>18</th>\n",
       "      <td>19</td>\n",
       "      <td>1925-06-21</td>\n",
       "      <td>Ottavio Bottecchia</td>\n",
       "      <td>Automoto–Hutchinson</td>\n",
       "      <td>5440.0</td>\n",
       "      <td>219.171667</td>\n",
       "      <td>0.915000</td>\n",
       "      <td>4</td>\n",
       "      <td>13</td>\n",
       "      <td>NaN</td>\n",
       "      <td>NaN</td>\n",
       "      <td>30</td>\n",
       "      <td>1894-08-01</td>\n",
       "      <td>1927-06-15</td>\n",
       "      <td>NaN</td>\n",
       "      <td>NaN</td>\n",
       "      <td>San Martino di Colle Umberto</td>\n",
       "      <td>Italy</td>\n",
       "      <td>Italy</td>\n",
       "      <td>1</td>\n",
       "    </tr>\n",
       "    <tr>\n",
       "      <th>69</th>\n",
       "      <td>70</td>\n",
       "      <td>1983-07-01</td>\n",
       "      <td>Laurent Fignon</td>\n",
       "      <td>Renault–Elf</td>\n",
       "      <td>3809.0</td>\n",
       "      <td>105.131111</td>\n",
       "      <td>0.067778</td>\n",
       "      <td>1</td>\n",
       "      <td>6</td>\n",
       "      <td>1.74</td>\n",
       "      <td>67.0</td>\n",
       "      <td>22</td>\n",
       "      <td>1960-08-12</td>\n",
       "      <td>2010-08-31</td>\n",
       "      <td>Laurent Patrick Fignon</td>\n",
       "      <td>Le Professeur (The Professor)</td>\n",
       "      <td>Paris</td>\n",
       "      <td>France</td>\n",
       "      <td>France</td>\n",
       "      <td>0</td>\n",
       "    </tr>\n",
       "    <tr>\n",
       "      <th>70</th>\n",
       "      <td>71</td>\n",
       "      <td>1984-06-29</td>\n",
       "      <td>Laurent Fignon</td>\n",
       "      <td>Renault–Elf</td>\n",
       "      <td>4021.0</td>\n",
       "      <td>112.061111</td>\n",
       "      <td>0.169444</td>\n",
       "      <td>5</td>\n",
       "      <td>7</td>\n",
       "      <td>1.74</td>\n",
       "      <td>67.0</td>\n",
       "      <td>23</td>\n",
       "      <td>1960-08-12</td>\n",
       "      <td>2010-08-31</td>\n",
       "      <td>Laurent Patrick Fignon</td>\n",
       "      <td>Le Professeur (The Professor)</td>\n",
       "      <td>Paris</td>\n",
       "      <td>France</td>\n",
       "      <td>France</td>\n",
       "      <td>0</td>\n",
       "    </tr>\n",
       "    <tr>\n",
       "      <th>50</th>\n",
       "      <td>51</td>\n",
       "      <td>1964-06-22</td>\n",
       "      <td>Jacques Anquetil</td>\n",
       "      <td>Saint-Raphaël–Gitane–Dunlop</td>\n",
       "      <td>4504.0</td>\n",
       "      <td>127.162222</td>\n",
       "      <td>0.015278</td>\n",
       "      <td>4</td>\n",
       "      <td>6</td>\n",
       "      <td>1.76</td>\n",
       "      <td>70.0</td>\n",
       "      <td>30</td>\n",
       "      <td>1934-01-08</td>\n",
       "      <td>1987-11-18</td>\n",
       "      <td>NaN</td>\n",
       "      <td>Monsieur Chrono, Maître Jacques</td>\n",
       "      <td>Mont-Saint-Aignan</td>\n",
       "      <td>France</td>\n",
       "      <td>France</td>\n",
       "      <td>0</td>\n",
       "    </tr>\n",
       "    <tr>\n",
       "      <th>22</th>\n",
       "      <td>23</td>\n",
       "      <td>1929-06-30</td>\n",
       "      <td>Maurice De Waele</td>\n",
       "      <td>Alcyon–Dunlop</td>\n",
       "      <td>5286.0</td>\n",
       "      <td>186.654167</td>\n",
       "      <td>0.745556</td>\n",
       "      <td>1</td>\n",
       "      <td>16</td>\n",
       "      <td>NaN</td>\n",
       "      <td>NaN</td>\n",
       "      <td>32</td>\n",
       "      <td>1896-12-27</td>\n",
       "      <td>1952-02-14</td>\n",
       "      <td>NaN</td>\n",
       "      <td>NaN</td>\n",
       "      <td>Lovendegem</td>\n",
       "      <td>Belgium</td>\n",
       "      <td>Belgium</td>\n",
       "      <td>1</td>\n",
       "    </tr>\n",
       "    <tr>\n",
       "      <th>100</th>\n",
       "      <td>101</td>\n",
       "      <td>2014-07-05</td>\n",
       "      <td>Vincenzo Nibali</td>\n",
       "      <td>Astana</td>\n",
       "      <td>3660.5</td>\n",
       "      <td>89.985000</td>\n",
       "      <td>0.118611</td>\n",
       "      <td>4</td>\n",
       "      <td>19</td>\n",
       "      <td>1.80</td>\n",
       "      <td>65.0</td>\n",
       "      <td>29</td>\n",
       "      <td>1984-11-14</td>\n",
       "      <td>NaN</td>\n",
       "      <td>NaN</td>\n",
       "      <td>Lo Squalo (The Shark), 'il Roditore' (The Nibb...</td>\n",
       "      <td>Messina</td>\n",
       "      <td>Italy</td>\n",
       "      <td>Italy</td>\n",
       "      <td>0</td>\n",
       "    </tr>\n",
       "    <tr>\n",
       "      <th>24</th>\n",
       "      <td>25</td>\n",
       "      <td>1931-06-30</td>\n",
       "      <td>Antonin Magne</td>\n",
       "      <td>France</td>\n",
       "      <td>5091.0</td>\n",
       "      <td>177.167500</td>\n",
       "      <td>0.203333</td>\n",
       "      <td>1</td>\n",
       "      <td>16</td>\n",
       "      <td>NaN</td>\n",
       "      <td>NaN</td>\n",
       "      <td>27</td>\n",
       "      <td>1904-01-15</td>\n",
       "      <td>1983-09-08</td>\n",
       "      <td>NaN</td>\n",
       "      <td>NaN</td>\n",
       "      <td>Ytrac</td>\n",
       "      <td>France</td>\n",
       "      <td>France</td>\n",
       "      <td>0</td>\n",
       "    </tr>\n",
       "    <tr>\n",
       "      <th>25</th>\n",
       "      <td>26</td>\n",
       "      <td>1932-07-06</td>\n",
       "      <td>André Leducq</td>\n",
       "      <td>France</td>\n",
       "      <td>4479.0</td>\n",
       "      <td>154.196944</td>\n",
       "      <td>0.406667</td>\n",
       "      <td>6</td>\n",
       "      <td>19</td>\n",
       "      <td>NaN</td>\n",
       "      <td>NaN</td>\n",
       "      <td>28</td>\n",
       "      <td>1904-02-27</td>\n",
       "      <td>1980-06-18</td>\n",
       "      <td>NaN</td>\n",
       "      <td>NaN</td>\n",
       "      <td>Saint-Ouen</td>\n",
       "      <td>France</td>\n",
       "      <td>France</td>\n",
       "      <td>0</td>\n",
       "    </tr>\n",
       "    <tr>\n",
       "      <th>101</th>\n",
       "      <td>102</td>\n",
       "      <td>2015-07-04</td>\n",
       "      <td>Chris Froome</td>\n",
       "      <td>Team Sky</td>\n",
       "      <td>3360.3</td>\n",
       "      <td>84.770556</td>\n",
       "      <td>0.016944</td>\n",
       "      <td>1</td>\n",
       "      <td>16</td>\n",
       "      <td>1.86</td>\n",
       "      <td>69.0</td>\n",
       "      <td>30</td>\n",
       "      <td>1985-05-20</td>\n",
       "      <td>NaN</td>\n",
       "      <td>Christopher Clive Froome</td>\n",
       "      <td>Froomey</td>\n",
       "      <td>Nairobi</td>\n",
       "      <td>Kenya</td>\n",
       "      <td>Great Britain</td>\n",
       "      <td>0</td>\n",
       "    </tr>\n",
       "    <tr>\n",
       "      <th>39</th>\n",
       "      <td>40</td>\n",
       "      <td>1953-07-03</td>\n",
       "      <td>Louison Bobet</td>\n",
       "      <td>France</td>\n",
       "      <td>4476.0</td>\n",
       "      <td>129.390278</td>\n",
       "      <td>0.237222</td>\n",
       "      <td>2</td>\n",
       "      <td>5</td>\n",
       "      <td>1.79</td>\n",
       "      <td>75.0</td>\n",
       "      <td>26</td>\n",
       "      <td>1925-03-12</td>\n",
       "      <td>1983-03-13</td>\n",
       "      <td>NaN</td>\n",
       "      <td>Louison, Zonzon</td>\n",
       "      <td>Saint-Méen-le-Grand</td>\n",
       "      <td>France</td>\n",
       "      <td>France</td>\n",
       "      <td>0</td>\n",
       "    </tr>\n",
       "    <tr>\n",
       "      <th>83</th>\n",
       "      <td>84</td>\n",
       "      <td>1997-07-05</td>\n",
       "      <td>Jan Ullrich</td>\n",
       "      <td>Team Telekom</td>\n",
       "      <td>3950.0</td>\n",
       "      <td>100.509722</td>\n",
       "      <td>0.152500</td>\n",
       "      <td>2</td>\n",
       "      <td>12</td>\n",
       "      <td>1.83</td>\n",
       "      <td>73.0</td>\n",
       "      <td>23</td>\n",
       "      <td>1973-12-02</td>\n",
       "      <td>NaN</td>\n",
       "      <td>NaN</td>\n",
       "      <td>Der Kaiser, Der Jan, Der Junge, The Yoyo</td>\n",
       "      <td>Rostock</td>\n",
       "      <td>Germany</td>\n",
       "      <td>Germany</td>\n",
       "      <td>0</td>\n",
       "    </tr>\n",
       "    <tr>\n",
       "      <th>53</th>\n",
       "      <td>54</td>\n",
       "      <td>1967-06-29</td>\n",
       "      <td>Roger Pingeon</td>\n",
       "      <td>Peugeot–BP–Michelin</td>\n",
       "      <td>4779.0</td>\n",
       "      <td>136.897222</td>\n",
       "      <td>0.050833</td>\n",
       "      <td>1</td>\n",
       "      <td>17</td>\n",
       "      <td>1.82</td>\n",
       "      <td>72.0</td>\n",
       "      <td>26</td>\n",
       "      <td>1940-08-28</td>\n",
       "      <td>2017-03-19</td>\n",
       "      <td>NaN</td>\n",
       "      <td>Le grand échassier, Le plombier-zingueur</td>\n",
       "      <td>Hauteville-Lompnes</td>\n",
       "      <td>France</td>\n",
       "      <td>France</td>\n",
       "      <td>0</td>\n",
       "    </tr>\n",
       "  </tbody>\n",
       "</table>\n",
       "</div>"
      ],
      "text/plain": [
       "     edition  start_date         winner_name  \\\n",
       "66        67  1980-06-26      Joop Zoetemelk   \n",
       "35        36  1949-06-30        Fausto Coppi   \n",
       "2          3  1905-07-09   Louis Trousselier   \n",
       "49        50  1963-06-23    Jacques Anquetil   \n",
       "37        38  1951-07-04         Hugo Koblet   \n",
       "88        89  2002-07-06     Lance Armstrong   \n",
       "55        56  1969-06-28         Eddy Merckx   \n",
       "87        88  2001-07-07     Lance Armstrong   \n",
       "44        45  1958-06-26         Charly Gaul   \n",
       "73        74  1987-07-01       Stephen Roche   \n",
       "10        11  1913-06-29       Philippe Thys   \n",
       "65        66  1979-06-27     Bernard Hinault   \n",
       "12        13  1919-06-29       Firmin Lambot   \n",
       "13        14  1920-06-27       Philippe Thys   \n",
       "14        15  1921-06-26         Léon Scieur   \n",
       "38        39  1952-06-25        Fausto Coppi   \n",
       "16        17  1923-06-24     Henri Pélissier   \n",
       "56        57  1970-06-27         Eddy Merckx   \n",
       "18        19  1925-06-21  Ottavio Bottecchia   \n",
       "69        70  1983-07-01      Laurent Fignon   \n",
       "70        71  1984-06-29      Laurent Fignon   \n",
       "50        51  1964-06-22    Jacques Anquetil   \n",
       "22        23  1929-06-30    Maurice De Waele   \n",
       "100      101  2014-07-05     Vincenzo Nibali   \n",
       "24        25  1931-06-30       Antonin Magne   \n",
       "25        26  1932-07-06        André Leducq   \n",
       "101      102  2015-07-04        Chris Froome   \n",
       "39        40  1953-07-03       Louison Bobet   \n",
       "83        84  1997-07-05         Jan Ullrich   \n",
       "53        54  1967-06-29       Roger Pingeon   \n",
       "\n",
       "                           winner_team  distance  time_overall  time_margin  \\\n",
       "66                    TI–Raleigh–Creda    3842.0    109.320556     0.101667   \n",
       "35                               Italy    4808.0    149.680278     0.169444   \n",
       "2                       Peugeot–Wolber    2994.0    125.754983          NaN   \n",
       "49   Saint-Raphaël–Gitane–R. Geminiani    4138.0    113.501389     0.050833   \n",
       "37                         Switzerland    4690.0    142.337222     0.372778   \n",
       "88                 U.S. Postal Service    3272.0     82.086667     0.118611   \n",
       "55                               Faema    4117.0    116.267222     0.288056   \n",
       "87                 U.S. Postal Service    3458.0     86.291111     0.101667   \n",
       "44                          Luxembourg    4319.0    116.984722     0.050833   \n",
       "73              Carrera Jeans–Vagabond    4231.0    115.461667     0.011111   \n",
       "10                      Peugeot–Wolber    5287.0    197.900000     0.135556   \n",
       "65                      Renault–Gitane    3765.0    103.113889     0.220278   \n",
       "12                         La Sportive    5560.0    231.120833     1.715000   \n",
       "13                         La Sportive    5503.0    228.603611     0.965833   \n",
       "14                         La Sportive    5485.0    221.840556     0.305000   \n",
       "38                               Italy    4898.0    151.955556     0.474444   \n",
       "16                 Automoto–Hutchinson    5386.0    222.258333     0.508333   \n",
       "56                       Faemino–Faema    4254.0    119.530278     0.203333   \n",
       "18                 Automoto–Hutchinson    5440.0    219.171667     0.915000   \n",
       "69                         Renault–Elf    3809.0    105.131111     0.067778   \n",
       "70                         Renault–Elf    4021.0    112.061111     0.169444   \n",
       "50         Saint-Raphaël–Gitane–Dunlop    4504.0    127.162222     0.015278   \n",
       "22                       Alcyon–Dunlop    5286.0    186.654167     0.745556   \n",
       "100                             Astana    3660.5     89.985000     0.118611   \n",
       "24                              France    5091.0    177.167500     0.203333   \n",
       "25                              France    4479.0    154.196944     0.406667   \n",
       "101                           Team Sky    3360.3     84.770556     0.016944   \n",
       "39                              France    4476.0    129.390278     0.237222   \n",
       "83                        Team Telekom    3950.0    100.509722     0.152500   \n",
       "53                 Peugeot–BP–Michelin    4779.0    136.897222     0.050833   \n",
       "\n",
       "     stage_wins  stages_led  height  weight  age        born        died  \\\n",
       "66            2          10    1.73    68.0   33  1946-12-03         NaN   \n",
       "35            3           5    1.77    68.0   29  1919-09-15  1960-01-02   \n",
       "2             5          10     NaN     NaN   24  1881-06-29  1939-04-24   \n",
       "49            4           5    1.76    70.0   29  1934-01-08  1987-11-18   \n",
       "37            5          11     NaN     NaN   26  1925-03-21  1964-11-06   \n",
       "88            4          11    1.77    75.0   30  1971-09-18         NaN   \n",
       "55            6          18    1.82    74.0   24  1945-06-17         NaN   \n",
       "87            4           8    1.77    75.0   29  1971-09-18         NaN   \n",
       "44            4           2    1.73    64.0   25  1932-12-08  2005-12-06   \n",
       "73            1           3    1.75    74.0   27  1959-11-28         NaN   \n",
       "10            1           8     NaN     NaN   23  1889-10-08  1971-01-16   \n",
       "65            7          17    1.74    62.0   24  1954-11-14         NaN   \n",
       "12            1           2     NaN     NaN   33  1886-03-14  1964-01-19   \n",
       "13            4          14     NaN     NaN   30  1889-10-08  1971-01-16   \n",
       "14            2          14     NaN     NaN   33  1888-03-18  1969-10-07   \n",
       "38            5          14    1.77    68.0   30  1919-09-15  1960-01-02   \n",
       "16            3           6     NaN     NaN   34  1889-01-22  1935-05-01   \n",
       "56            8          20    1.82    74.0   25  1945-06-17         NaN   \n",
       "18            4          13     NaN     NaN   30  1894-08-01  1927-06-15   \n",
       "69            1           6    1.74    67.0   22  1960-08-12  2010-08-31   \n",
       "70            5           7    1.74    67.0   23  1960-08-12  2010-08-31   \n",
       "50            4           6    1.76    70.0   30  1934-01-08  1987-11-18   \n",
       "22            1          16     NaN     NaN   32  1896-12-27  1952-02-14   \n",
       "100           4          19    1.80    65.0   29  1984-11-14         NaN   \n",
       "24            1          16     NaN     NaN   27  1904-01-15  1983-09-08   \n",
       "25            6          19     NaN     NaN   28  1904-02-27  1980-06-18   \n",
       "101           1          16    1.86    69.0   30  1985-05-20         NaN   \n",
       "39            2           5    1.79    75.0   26  1925-03-12  1983-03-13   \n",
       "83            2          12    1.83    73.0   23  1973-12-02         NaN   \n",
       "53            1          17    1.82    72.0   26  1940-08-28  2017-03-19   \n",
       "\n",
       "                             full_name  \\\n",
       "66   Hendrik Gerardus Joseph Zoetemelk   \n",
       "35                 Angelo Fausto Coppi   \n",
       "2                                  NaN   \n",
       "49                                 NaN   \n",
       "37                                 NaN   \n",
       "88              Lance Edward Armstrong   \n",
       "55         Édouard Louis Joseph Merckx   \n",
       "87              Lance Edward Armstrong   \n",
       "44                                 NaN   \n",
       "73                                 NaN   \n",
       "10                                 NaN   \n",
       "65                                 NaN   \n",
       "12                                 NaN   \n",
       "13                                 NaN   \n",
       "14                                 NaN   \n",
       "38                 Angelo Fausto Coppi   \n",
       "16                                 NaN   \n",
       "56         Édouard Louis Joseph Merckx   \n",
       "18                                 NaN   \n",
       "69              Laurent Patrick Fignon   \n",
       "70              Laurent Patrick Fignon   \n",
       "50                                 NaN   \n",
       "22                                 NaN   \n",
       "100                                NaN   \n",
       "24                                 NaN   \n",
       "25                                 NaN   \n",
       "101           Christopher Clive Froome   \n",
       "39                                 NaN   \n",
       "83                                 NaN   \n",
       "53                                 NaN   \n",
       "\n",
       "                                              nickname  \\\n",
       "66                                                Joop   \n",
       "35   The Heron,Il Campionissimo\\n(Champion of Champ...   \n",
       "2                                  Levaloy / Trou-trou   \n",
       "49                     Monsieur Chrono, Maître Jacques   \n",
       "37               Beautiful Hugo, Le pédaleur de charme   \n",
       "88                                    Le Boss, Big Tex   \n",
       "55                                        The Cannibal   \n",
       "87                                    Le Boss, Big Tex   \n",
       "44                              Angel of the Mountains   \n",
       "73                                                 NaN   \n",
       "10                        Le basset (The Basset Hound)   \n",
       "65      Le Blaireau (The Badger), Le Patron (The Boss)   \n",
       "12                                                 NaN   \n",
       "13                        Le basset (The Basset Hound)   \n",
       "14                                                 NaN   \n",
       "38   The Heron,Il Campionissimo\\n(Champion of Champ...   \n",
       "16                                                 NaN   \n",
       "56                                        The Cannibal   \n",
       "18                                                 NaN   \n",
       "69                       Le Professeur (The Professor)   \n",
       "70                       Le Professeur (The Professor)   \n",
       "50                     Monsieur Chrono, Maître Jacques   \n",
       "22                                                 NaN   \n",
       "100  Lo Squalo (The Shark), 'il Roditore' (The Nibb...   \n",
       "24                                                 NaN   \n",
       "25                                                 NaN   \n",
       "101                                            Froomey   \n",
       "39                                     Louison, Zonzon   \n",
       "83            Der Kaiser, Der Jan, Der Junge, The Yoyo   \n",
       "53            Le grand échassier, Le plombier-zingueur   \n",
       "\n",
       "                       birth_town birth_country     nationality time_over_180  \n",
       "66                      The Hague   Netherlands     Netherlands             0  \n",
       "35                    Castellania         Italy           Italy             0  \n",
       "2                           Paris        France          France             0  \n",
       "49              Mont-Saint-Aignan        France          France             0  \n",
       "37                         Zürich   Switzerland     Switzerland             0  \n",
       "88                          Plano           USA   United States             0  \n",
       "55               Meensel-Kiezegem       Belgium         Belgium             0  \n",
       "87                          Plano           USA   United States             0  \n",
       "44                    Pfaffenthal    Luxembourg      Luxembourg             0  \n",
       "73                        Dundrum       Ireland         Ireland             0  \n",
       "10                     Anderlecht       Belgium         Belgium             1  \n",
       "65                       Yffiniac        France          France             0  \n",
       "12                      Florennes       Belgium         Belgium             1  \n",
       "13                     Anderlecht       Belgium         Belgium             1  \n",
       "14                      Florennes       Belgium         Belgium             1  \n",
       "38                    Castellania         Italy           Italy             0  \n",
       "16                          Paris        France          France             1  \n",
       "56               Meensel-Kiezegem       Belgium         Belgium             0  \n",
       "18   San Martino di Colle Umberto         Italy           Italy             1  \n",
       "69                          Paris        France          France             0  \n",
       "70                          Paris        France          France             0  \n",
       "50              Mont-Saint-Aignan        France          France             0  \n",
       "22                     Lovendegem       Belgium         Belgium             1  \n",
       "100                       Messina         Italy           Italy             0  \n",
       "24                          Ytrac        France          France             0  \n",
       "25                     Saint-Ouen        France          France             0  \n",
       "101                       Nairobi         Kenya   Great Britain             0  \n",
       "39            Saint-Méen-le-Grand        France          France             0  \n",
       "83                        Rostock       Germany         Germany             0  \n",
       "53             Hauteville-Lompnes        France          France             0  "
      ]
     },
     "execution_count": 402,
     "metadata": {},
     "output_type": "execute_result"
    }
   ],
   "source": [
    "a"
   ]
  }
 ],
 "metadata": {
  "kernelspec": {
   "display_name": "Python 3",
   "language": "python",
   "name": "python3"
  },
  "language_info": {
   "codemirror_mode": {
    "name": "ipython",
    "version": 3
   },
   "file_extension": ".py",
   "mimetype": "text/x-python",
   "name": "python",
   "nbconvert_exporter": "python",
   "pygments_lexer": "ipython3",
   "version": "3.8.5"
  }
 },
 "nbformat": 4,
 "nbformat_minor": 4
}
